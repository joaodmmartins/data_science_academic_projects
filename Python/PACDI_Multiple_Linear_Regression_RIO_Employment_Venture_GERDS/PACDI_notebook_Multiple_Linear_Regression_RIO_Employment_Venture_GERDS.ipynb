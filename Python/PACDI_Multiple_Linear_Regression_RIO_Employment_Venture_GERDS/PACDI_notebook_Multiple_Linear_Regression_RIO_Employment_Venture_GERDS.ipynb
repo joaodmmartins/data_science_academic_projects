{
 "cells": [
  {
   "cell_type": "code",
   "execution_count": null,
   "metadata": {
    "cell_id": "00000-ea5f90d4-51d6-40e6-a74f-9f97fbcda587",
    "deepnote_cell_type": "code",
    "deepnote_to_be_reexecuted": false,
    "execution_millis": 1370,
    "execution_start": 1621856283352,
    "source_hash": "a93d3b9c"
   },
   "outputs": [],
   "source": [
    "%matplotlib inline\n",
    "%config InlineBackend.figure_format ='retina'\n",
    "\n",
    "import numpy as np\n",
    "import pandas as pd\n",
    "import matplotlib.pyplot as plt\n",
    "\n",
    "import seaborn as sns\n",
    "\n",
    "from sklearn import linear_model\n",
    "from sklearn.linear_model import LinearRegression\n",
    "from sklearn.model_selection import train_test_split, cross_val_score\n",
    "from sklearn.preprocessing import PolynomialFeatures\n",
    "\n",
    "import statsmodels.api as sm\n",
    "import statsmodels.stats.api as sms\n",
    "import statsmodels.stats.diagnostic as dg\n",
    "from statsmodels.stats.outliers_influence import variance_inflation_factor\n",
    "\n",
    "from scipy.stats import norm\n",
    "\n",
    "import warnings\n",
    "warnings.simplefilter(action='ignore', category=FutureWarning)\n",
    "\n",
    "sns.mpl.rcParams['figure.figsize'] = (15.0, 6.5)\n",
    "pd.set_option('display.max_rows', 1000) # set max rows to show in any dataframe"
   ]
  },
  {
   "cell_type": "markdown",
   "metadata": {
    "cell_id": "00001-cf35f717-6c77-4768-9529-caf54fc204bb",
    "deepnote_cell_type": "markdown",
    "tags": []
   },
   "source": [
    "# Data preparation"
   ]
  },
  {
   "cell_type": "markdown",
   "metadata": {
    "cell_id": "00001-7fa421eb-783c-4081-89d9-701ecb4d34b5",
    "deepnote_cell_type": "markdown"
   },
   "source": [
    "## Get our main Dataset - RIO"
   ]
  },
  {
   "cell_type": "code",
   "execution_count": null,
   "metadata": {
    "cell_id": "00002-c457ef65-5ce5-4d7f-867b-be8e55e78976",
    "deepnote_cell_type": "code",
    "deepnote_to_be_reexecuted": false,
    "execution_millis": 145,
    "execution_start": 1621856284722,
    "source_hash": "77e03ac1"
   },
   "outputs": [],
   "source": [
    "datasets_folder = '.'\n",
    "\n",
    "df_main = pd.read_csv(datasets_folder + '/RIO_VA_FOR_KIS-data.csv')\n",
    "# looks like there are some variables whose purpose is only to describe other variables already in the data frame, so we won't consider them further down the analysis\n",
    "df_main_edit = df_main.drop(['TIME_FORMAT', 'FREQ_DESC', 'TIME_FORMAT_DESC',\n",
    "       'TIME_PERIOD_DESC', 'NACE_R2_DESC', 'NA_ITEM_DESC', 'UNIT_DESC',\n",
    "       'GEO_DESC'], axis=1)\n",
    "# FREQ and NA_ITEM only have one type of observation, respectively: 'A' (meaning annual data) and 'B1G' (meaning gross value-added); we can discard them as well then, since they don't add any more information to what we have already:\n",
    "df_main_edit = df_main_edit.drop(['FREQ', 'NA_ITEM'], axis=1)\n",
    "# 'TIME_PERIOD' as datetime type:\n",
    "df_main_edit['TIME_PERIOD'] = pd.to_datetime(df_main_edit['TIME_PERIOD'], format='%Y') \n",
    "\n",
    "# 'NACE_R2', 'GEO', 'UNIT' as category type:\n",
    "for col in ['NACE_R2', 'GEO', 'UNIT']:\n",
    "    df_main_edit[col] = df_main_edit[col].astype('category')\n",
    "# Eliminating the uneeded observations:\n",
    "df_main_clean = df_main_edit.drop(df_main_edit[df_main_edit['GEO'] == 'EU28'].index)\n",
    "df_main_clean = df_main_clean.drop(df_main_clean[df_main_clean['NACE_R2'] == 'TOTAL_INDICATOR'].index)\n",
    "# Let's eliminate all the observations whose UNIT is CP_MNAC (Current prices, million units of national currency):\n",
    "df_main_clean = df_main_clean.drop(df_main_clean[df_main_clean['UNIT'] == 'CP_MNAC'].index)\n",
    "df_main_pivoted = df_main_clean.pivot(index=['TIME_PERIOD', 'GEO'], columns=['NACE_R2','UNIT'], values='OBS_VALUE')\n",
    "# If we want access to 'TIME_PERIOD' and 'GEO' as before, we must reset the index; otherwise we won't be able to access it's contents\n",
    "df_main_pivoted = df_main_pivoted.reset_index()\n",
    "\n",
    "# Because the common years we have across the data from all datasets ranges from 2008 to 2015, we create a new df_main containing only information regarding these years:\n",
    "df_main_cdated = df_main_pivoted[(df_main_pivoted['TIME_PERIOD'].dt.year >= 2008) & (df_main_pivoted['TIME_PERIOD'].dt.year <= 2015)]\n",
    "\n",
    "df_main_cdated.head()\n"
   ]
  },
  {
   "cell_type": "markdown",
   "metadata": {
    "cell_id": "00003-7332b4cc-df20-4127-b260-0f62d84aa8dc",
    "deepnote_cell_type": "markdown"
   },
   "source": [
    "## Get the Venture dataset"
   ]
  },
  {
   "cell_type": "code",
   "execution_count": null,
   "metadata": {
    "cell_id": "00004-015b8320-a57d-48fd-9a25-5ea1def83cf1",
    "deepnote_cell_type": "code",
    "deepnote_to_be_reexecuted": false,
    "execution_millis": 60,
    "execution_start": 1621856284857,
    "source_hash": "dd202cc0"
   },
   "outputs": [],
   "source": [
    "# Read auxiliary dataset: 'Venture capital investments'\n",
    "df_venture = pd.read_csv(datasets_folder + '/RIO_VENTURE-data.csv')\n",
    "# as what happens with our main dataset, in this one there are also many variables that we can discard before we analyse the data any further:\n",
    "df_venture_edit = df_venture.drop(['FREQ', 'TIME_FORMAT', 'EXPEND', 'UNIT_DESC', 'OBS_STATUS', 'FREQ_DESC', 'TIME_FORMAT_DESC',\n",
    "       'TIME_PERIOD_DESC', 'OBS_STATUS_DESC', 'EXPEND_DESC', 'GEO_DESC'], axis=1)\n",
    "# Let's transform 'TIME_PERIOD' as datetime type:\n",
    "df_venture_edit['TIME_PERIOD'] = pd.to_datetime(df_venture_edit['TIME_PERIOD'], format='%Y') \n",
    "df_venture_pivoted = df_venture_edit.pivot(index=['TIME_PERIOD', 'GEO'], columns=['UNIT'], values='OBS_VALUE')\n",
    "# If we want access to 'TIME_PERIOD' and 'GEO' as before, we must reset the index; otherwise we won't be able to access it's contents\n",
    "df_venture_pivoted = df_venture_pivoted.reset_index()\n",
    "df_venture_cdated = df_venture_pivoted[(df_venture_pivoted['TIME_PERIOD'].dt.year >= 2008) & (df_venture_pivoted['TIME_PERIOD'].dt.year <= 2015)]\n",
    "df_venture_cdated.head()\n"
   ]
  },
  {
   "cell_type": "markdown",
   "metadata": {
    "cell_id": "00005-925bdc6b-5292-4cd4-a6d6-e5bb7ffe3b0b",
    "deepnote_cell_type": "markdown"
   },
   "source": [
    "This data set is the one that has the least countries represented, so we have to match the data on the others based on this one. It means our data will be on these 20 countries."
   ]
  },
  {
   "cell_type": "code",
   "execution_count": null,
   "metadata": {
    "cell_id": "00006-14e0cf2f-d58f-4bd9-956b-6b4b695394eb",
    "deepnote_cell_type": "code",
    "deepnote_to_be_reexecuted": false,
    "execution_millis": 26,
    "execution_start": 1621856284897,
    "source_hash": "56c442c7"
   },
   "outputs": [],
   "source": [
    "df_venture_cdated.GEO.unique().size"
   ]
  },
  {
   "cell_type": "code",
   "execution_count": null,
   "metadata": {
    "cell_id": "00007-77fc8e75-a00a-48d5-ae47-1f0c3433a919",
    "deepnote_cell_type": "code",
    "deepnote_to_be_reexecuted": false,
    "execution_millis": 14,
    "execution_start": 1621856284947,
    "source_hash": "9f71d76d"
   },
   "outputs": [],
   "source": [
    "countries_main = df_venture_cdated.GEO.unique()\n",
    "countries_main"
   ]
  },
  {
   "cell_type": "markdown",
   "metadata": {
    "cell_id": "00008-26caf741-d423-441a-a347-7aaaf0a42c22",
    "deepnote_cell_type": "markdown"
   },
   "source": [
    "Let's change the main dataset in order to keep just these countries:"
   ]
  },
  {
   "cell_type": "code",
   "execution_count": null,
   "metadata": {
    "cell_id": "00009-ad10a182-d35c-4ab8-92f8-66b6d9b3958e",
    "deepnote_cell_type": "code",
    "deepnote_to_be_reexecuted": false,
    "execution_millis": 1,
    "execution_start": 1621856284947,
    "source_hash": "19192bef"
   },
   "outputs": [],
   "source": [
    "df_main_cdated = df_main_cdated[df_main_cdated['GEO'].isin(countries_main)]\n"
   ]
  },
  {
   "cell_type": "markdown",
   "metadata": {
    "cell_id": "00010-048f4b2e-0662-448d-a284-f419f6796c13",
    "deepnote_cell_type": "markdown"
   },
   "source": [
    "## Now join Venture capital Dataset to main dataset:"
   ]
  },
  {
   "cell_type": "code",
   "execution_count": null,
   "metadata": {
    "cell_id": "00011-3b22027b-acf5-4480-a5b1-ed9ed609ed39",
    "deepnote_cell_type": "code",
    "deepnote_to_be_reexecuted": false,
    "execution_millis": 50,
    "execution_start": 1621856284948,
    "source_hash": "f3375a94"
   },
   "outputs": [],
   "source": [
    "joint_dataset = df_main_cdated.merge(df_venture_cdated, how=\"left\", left_on=[\"TIME_PERIOD\", \"GEO\"], right_on=[\"TIME_PERIOD\", \"GEO\"])\n",
    "joint_dataset = joint_dataset.drop(columns=joint_dataset.columns[[2, 3]])\n",
    "col_rename = {}\n",
    "# Rename new columns\n",
    "for col in [11, 12, 13]:\n",
    "    col_rename[joint_dataset.columns[col]] = \"VENTURE_\" + joint_dataset.columns[col]\n",
    "# Rename leveled columns\n",
    "for col in range(2,11):\n",
    "    col_rename[joint_dataset.columns[col]] = joint_dataset.columns[col][0] + \"_\" + joint_dataset.columns[col][1]\n",
    "\n",
    "joint_dataset = joint_dataset.rename(columns=col_rename)\n",
    "joint_dataset.head()"
   ]
  },
  {
   "cell_type": "markdown",
   "metadata": {
    "cell_id": "00012-f5e0bf14-1f4e-40c0-ac23-d3f4f80c77a3",
    "deepnote_cell_type": "markdown"
   },
   "source": [
    "## Get the Employment dataset"
   ]
  },
  {
   "cell_type": "code",
   "execution_count": null,
   "metadata": {
    "cell_id": "00013-a182ced0-f732-4f0a-949c-910c26874693",
    "deepnote_cell_type": "code",
    "deepnote_to_be_reexecuted": false,
    "execution_millis": 53,
    "execution_start": 1621856284986,
    "source_hash": "133be2e1"
   },
   "outputs": [],
   "source": [
    "df_tsc00011 = pd.read_csv(datasets_folder + \"/tsc00011.csv\")\n",
    "df_tsc00011_1= df_tsc00011.drop([\"unit\", \"sex\"], axis=\"columns\")\n",
    "# refactor dataset\n",
    "df_tsc00011_melted = df_tsc00011_1.melt([\"nace_r2\", \"geo\\\\time\"], var_name='year', value_name='value')\n",
    "# clean up value field\n",
    "df_tsc00011_melted[\"value\"] = df_tsc00011_melted[\"value\"].replace(to_replace=\"[\\sbdep]\", value=\"\", regex=True)\n",
    "df_tsc00011_melted[\"value\"] = df_tsc00011_melted[\"value\"].replace(to_replace=\"[,]\", value=\".\", regex=True)\n",
    "# set year column to datetime\n",
    "df_tsc00011_melted['year'] = pd.to_datetime(df_tsc00011_melted['year'], format='%Y') \n",
    "# set value column to numeric\n",
    "df_tsc00011_melted[\"value\"] = pd.to_numeric(df_tsc00011_melted[\"value\"], errors=\"coerce\")\n",
    "# filter for the main country list only\n",
    "countries_tsc00011 = df_tsc00011_melted.loc[df_tsc00011_melted['geo\\\\time'].isin(countries_main)]\n",
    "# Refactor to be able to merge to main dataset\n",
    "tsc00011_ready = countries_tsc00011.pivot_table(index=[\"year\", \"geo\\\\time\"], columns=\"nace_r2\", values=\"value\").reset_index()\n",
    "tsc00011_ready.head()"
   ]
  },
  {
   "cell_type": "markdown",
   "metadata": {
    "cell_id": "00014-5f447929-37de-41f3-9b96-05e043e4f9f1",
    "deepnote_cell_type": "markdown"
   },
   "source": [
    "## Now also join employment dataset to main dataset."
   ]
  },
  {
   "cell_type": "code",
   "execution_count": null,
   "metadata": {
    "cell_id": "00015-c6c66b4a-718e-47db-8dcb-aad80ba93273",
    "deepnote_cell_type": "code",
    "deepnote_to_be_reexecuted": false,
    "execution_millis": 72,
    "execution_start": 1621856285033,
    "source_hash": "3639c587"
   },
   "outputs": [],
   "source": [
    "joint_dataset = joint_dataset.merge(tsc00011_ready, how=\"left\", left_on=[\"TIME_PERIOD\", \"GEO\"], right_on=[\"year\", \"geo\\\\time\"])\n",
    "joint_dataset = joint_dataset.drop(columns=[\"year\", \"geo\\\\time\"])\n",
    "col_rename = {\"C_HTC_MH\":\"EMPLOYMENT_C_HTC_MH\", \"KIS\": \"EMPLOYMENT_KIS\"}\n",
    "joint_dataset = joint_dataset.rename(columns=col_rename)\n",
    "\n",
    "joint_dataset.head()"
   ]
  },
  {
   "cell_type": "markdown",
   "metadata": {
    "cell_id": "00016-3137bc64-7639-4fc7-addb-6cfcd1c81e90",
    "deepnote_cell_type": "markdown"
   },
   "source": [
    "## Now get the GERDS dataset"
   ]
  },
  {
   "cell_type": "code",
   "execution_count": null,
   "metadata": {
    "cell_id": "00017-539e3662-8449-49e7-a199-915dbde6fb6b",
    "deepnote_cell_type": "code",
    "deepnote_to_be_reexecuted": false,
    "execution_millis": 185,
    "execution_start": 1621856285093,
    "source_hash": "c145e716"
   },
   "outputs": [],
   "source": [
    "gerds = pd.read_csv(datasets_folder + \"/ESTAT_rd_e_gerdtot-data.csv\")\n",
    "# Only pick the necessary values - per sector and interesting units\n",
    "gerds_edit = gerds[gerds.UNIT.isin([\"MIO_EUR\", \"EUR_HAB\", \"MIO_PPS_KP05\",\"PC_GDP\"]) & gerds.SECTPERF.isin([\"BES\", \"GOV\", \"HES\", \"PNP\"])] \\\n",
    "    .drop([\"FREQ\", \"TIME_FORMAT\", \"OBS_STATUS\", \"FREQ_DESC\", \"TIME_FORMAT_DESC\", \"TIME_PERIOD_DESC\", \"OBS_STATUS_DESC\", \"SECTPERF_DESC\", \"UNIT_DESC\", \"GEO_DESC\"], axis=\"columns\")\n",
    "# Only keep countries form Main dataset\n",
    "gerds_edit=gerds_edit[gerds_edit[\"GEO\"].isin(countries_main)]\n",
    "# Convert year into datetime\n",
    "# Let's transform 'TIME_PERIOD' as datetime type:\n",
    "gerds_edit['TIME_PERIOD'] = pd.to_datetime(gerds_edit['TIME_PERIOD'], format='%Y')\n",
    "# Only use years 2008 to 2015\n",
    "gerds_edit = gerds_edit[(gerds_edit['TIME_PERIOD'].dt.year >= 2008) & (gerds_edit['TIME_PERIOD'].dt.year <= 2015)]\n",
    "# Refactor to be joinable\n",
    "gerds_joinable = gerds_edit.pivot_table(index=[\"TIME_PERIOD\", \"GEO\"], columns=[\"SECTPERF\", \"UNIT\"], values=\"OBS_VALUE\").reset_index()\n",
    "gerds_joinable.head()\n",
    "\n",
    "# display(gerds_edit.info())\n",
    "# display(gerds_edit.groupby([\"SECTPERF\", \"UNIT\"]).describe())\n",
    "# display(\"missing values per column:\", gerds_edit.isna().sum())\n",
    "# display(gerds_edit[gerds_edit.OBS_VALUE.isna()].groupby([\"GEO\", \"SECTPERF\", \"UNIT\", \"TIME_PERIOD\"]).count())"
   ]
  },
  {
   "cell_type": "markdown",
   "metadata": {
    "cell_id": "00018-39043097-1c56-4949-8c8e-24763a4f0f45",
    "deepnote_cell_type": "markdown"
   },
   "source": [
    "## Now join GERDS to main dataset"
   ]
  },
  {
   "cell_type": "code",
   "execution_count": null,
   "metadata": {
    "cell_id": "00019-3ec0b567-72e3-41b0-8651-845e867ec4af",
    "deepnote_cell_type": "code",
    "deepnote_to_be_reexecuted": false,
    "execution_millis": 139,
    "execution_start": 1621856285271,
    "source_hash": "c00dd0c1"
   },
   "outputs": [],
   "source": [
    "joint_dataset2 = joint_dataset.merge(gerds_joinable, how=\"left\", left_on=[\"TIME_PERIOD\", \"GEO\"], right_on=[\"TIME_PERIOD\", \"GEO\"])\n",
    "col_rename = {}\n",
    "# Rename leveled columns\n",
    "for col in joint_dataset2.columns[-16:]:\n",
    "    col_rename[col] = \"GERDS_\" + col[0] + \"_\" + col[1]\n",
    "col_rename\n",
    "joint_dataset2 = joint_dataset2.rename(columns=col_rename)\n",
    "joint_dataset2.head()"
   ]
  },
  {
   "cell_type": "markdown",
   "metadata": {
    "cell_id": "00020-e7d09beb-1619-40a2-a792-087a2a29b130",
    "deepnote_cell_type": "markdown"
   },
   "source": [
    "## Recheck some basic descriptive statistics, now that we have the final dataset we'll work with"
   ]
  },
  {
   "cell_type": "code",
   "execution_count": null,
   "metadata": {
    "cell_id": "00021-b980f00a-c429-473e-8f98-e1113212284f",
    "deepnote_cell_type": "code",
    "deepnote_to_be_reexecuted": false,
    "execution_millis": 33,
    "execution_start": 1621856285377,
    "source_hash": "1fdfa348"
   },
   "outputs": [],
   "source": [
    "joint_dataset2.shape"
   ]
  },
  {
   "cell_type": "code",
   "execution_count": null,
   "metadata": {
    "cell_id": "00022-71a29e98-ea7a-4417-bb74-dd8d2eda01b0",
    "deepnote_cell_type": "code",
    "deepnote_to_be_reexecuted": false,
    "execution_millis": 35,
    "execution_start": 1621856285381,
    "source_hash": "b84db4ac"
   },
   "outputs": [],
   "source": [
    "joint_dataset2.info()"
   ]
  },
  {
   "cell_type": "code",
   "execution_count": null,
   "metadata": {
    "cell_id": "00023-38e8d47b-047c-4202-9883-de42d2f501df",
    "deepnote_cell_type": "code",
    "deepnote_to_be_reexecuted": false,
    "execution_millis": 328,
    "execution_start": 1621856285393,
    "source_hash": "3f8c142e"
   },
   "outputs": [],
   "source": [
    "joint_dataset2.describe()"
   ]
  },
  {
   "cell_type": "markdown",
   "metadata": {
    "cell_id": "00024-53f118f4-888c-4200-a146-0e4a0ece796c",
    "deepnote_cell_type": "markdown"
   },
   "source": [
    "## Missing Values Analysis and Processing"
   ]
  },
  {
   "cell_type": "code",
   "execution_count": null,
   "metadata": {
    "cell_id": "00025-f2da68b9-e166-408f-9180-f60d568dab42",
    "deepnote_cell_type": "code",
    "deepnote_to_be_reexecuted": false,
    "execution_millis": 170,
    "execution_start": 1621856285551,
    "source_hash": "91a25c0a"
   },
   "outputs": [],
   "source": [
    "# Check how many missing values we have for each variable:\n",
    "print(\"Total of missing values:\")\n",
    "display(joint_dataset2.isnull().sum().sum())\n",
    "print(\"Number of missing values in each variable:\")\n",
    "joint_dataset2.isnull().sum()"
   ]
  },
  {
   "cell_type": "code",
   "execution_count": null,
   "metadata": {
    "cell_id": "00026-ba0587f7-6d72-4e7c-b11f-babc409d5422",
    "deepnote_cell_type": "code",
    "deepnote_to_be_reexecuted": false,
    "execution_millis": 148,
    "execution_start": 1621856285573,
    "source_hash": "633465a8"
   },
   "outputs": [],
   "source": [
    "# In which years and respective country we have missing values in variable C_HTC_PERC_OF_TOTAL:\n",
    "display(joint_dataset2[joint_dataset2['C_HTC_PERC_OF_TOTAL'].isnull()].groupby(['TIME_PERIOD','GEO']).size())"
   ]
  },
  {
   "cell_type": "code",
   "execution_count": null,
   "metadata": {
    "cell_id": "00027-14286f4c-f59c-42f8-aefd-2c94063829aa",
    "deepnote_cell_type": "code",
    "deepnote_to_be_reexecuted": false,
    "execution_millis": 1,
    "execution_start": 1621856285584,
    "source_hash": "d0b0416"
   },
   "outputs": [],
   "source": [
    "# Missing Values for C_HTC_PERC_OF_TOTAL:\n",
    "# Luxembourg, from 2008 to 2015\n",
    "# Ireland, 2015"
   ]
  },
  {
   "cell_type": "code",
   "execution_count": null,
   "metadata": {
    "cell_id": "00028-3d820db4-0e1b-49d1-9600-5af648459029",
    "deepnote_cell_type": "code",
    "deepnote_to_be_reexecuted": false,
    "execution_millis": 124,
    "execution_start": 1621856285597,
    "source_hash": "4c0a52d3"
   },
   "outputs": [],
   "source": [
    "# In which years and respective country we have missing values in variable C_HTC_PERC_OF_MANUF:\n",
    "display(joint_dataset2[joint_dataset2['C_HTC_PERC_OF_MANUF'].isnull()].groupby(['TIME_PERIOD','GEO']).size())"
   ]
  },
  {
   "cell_type": "code",
   "execution_count": null,
   "metadata": {
    "cell_id": "00029-6e8d7de9-3322-4f9b-a118-98e60a89e737",
    "deepnote_cell_type": "code",
    "deepnote_to_be_reexecuted": false,
    "execution_millis": 5,
    "execution_start": 1621856285607,
    "source_hash": "d0b0416"
   },
   "outputs": [],
   "source": [
    "# Missing Values for C_HTC_PERC_OF_TOTAL:\n",
    "# Luxembourg, from 2008 to 2015\n",
    "# Ireland, 2015"
   ]
  },
  {
   "cell_type": "code",
   "execution_count": null,
   "metadata": {
    "cell_id": "00030-08740cb2-b7ce-49a6-8aa8-c551c98192e7",
    "deepnote_cell_type": "code",
    "deepnote_to_be_reexecuted": false,
    "execution_millis": 108,
    "execution_start": 1621856285613,
    "source_hash": "fbbb51a7"
   },
   "outputs": [],
   "source": [
    "# In which years and respective country we have missing values in variable C_HTC_CP_MEUR:\n",
    "display(joint_dataset2[joint_dataset2['C_HTC_CP_MEUR'].isnull()].groupby(['TIME_PERIOD','GEO']).size())"
   ]
  },
  {
   "cell_type": "code",
   "execution_count": null,
   "metadata": {
    "cell_id": "00031-8106eb87-d4b8-4607-8b30-a0456f3cf80f",
    "deepnote_cell_type": "code",
    "deepnote_to_be_reexecuted": false,
    "execution_millis": 5,
    "execution_start": 1621856285628,
    "source_hash": "d0b0416"
   },
   "outputs": [],
   "source": [
    "# Missing Values for C_HTC_PERC_OF_TOTAL:\n",
    "# Luxembourg, from 2008 to 2015\n",
    "# Ireland, 2015"
   ]
  },
  {
   "cell_type": "code",
   "execution_count": null,
   "metadata": {
    "cell_id": "00032-f0f94e32-a86f-4b2d-9f40-1c168205e52b",
    "deepnote_cell_type": "code",
    "deepnote_to_be_reexecuted": false,
    "execution_millis": 6,
    "execution_start": 1621856285638,
    "source_hash": "aba7c2b7"
   },
   "outputs": [],
   "source": [
    "# In which years and respective country we have missing values in variable GERDS_PNP_EUR_HAB:\n",
    "display(joint_dataset2[joint_dataset2['GERDS_PNP_EUR_HAB'].isnull()].groupby(['GEO','TIME_PERIOD']).size())"
   ]
  },
  {
   "cell_type": "code",
   "execution_count": null,
   "metadata": {
    "cell_id": "00033-7018a65b-db12-45cb-8eca-55d96c5abd40",
    "deepnote_cell_type": "code",
    "deepnote_to_be_reexecuted": false,
    "execution_millis": 1,
    "execution_start": 1621856285650,
    "source_hash": "f11df0c4"
   },
   "outputs": [],
   "source": [
    "# Missing Values for GERDS_PNP_EUR_HAB:\n",
    "# 2008: DE, HU, IE, LU, NL\n",
    "# 2009: DE, HU, IE, NL\n",
    "# 2010: DE, HU, IE, NL\n",
    "# 2011: DE, HU, IE, NL\n",
    "# 2012: DE, HR, HU, IE, NL\n",
    "# 2013: DE, HR, HU, IE, LU, NL\n",
    "# 2014: DE, HR, HU, IE, LU, NL\n",
    "# 2015: DE, HR, HU, IE, LU"
   ]
  },
  {
   "cell_type": "code",
   "execution_count": null,
   "metadata": {
    "cell_id": "00034-c6f776a8-6003-42a0-b101-c10ea018d60c",
    "deepnote_cell_type": "code",
    "deepnote_to_be_reexecuted": false,
    "execution_millis": 70,
    "execution_start": 1621856285651,
    "source_hash": "ce166bef"
   },
   "outputs": [],
   "source": [
    "# In which years and respective country we have missing values in variable GERDS_PNP_MIO_EUR:\n",
    "display(joint_dataset2[joint_dataset2['GERDS_PNP_MIO_EUR'].isnull()].groupby(['GEO', 'TIME_PERIOD']).size())"
   ]
  },
  {
   "cell_type": "code",
   "execution_count": null,
   "metadata": {
    "cell_id": "00035-5cc322d6-5c76-4322-bfdd-ec68a19f0a95",
    "deepnote_cell_type": "code",
    "deepnote_to_be_reexecuted": false,
    "execution_millis": 0,
    "execution_start": 1621856285666,
    "source_hash": "13e2003c"
   },
   "outputs": [],
   "source": [
    "# Missing Values for GERDS_PNP_MIO_EUR:\n",
    "# 2008: DE, HU, IE, LU, NL\n",
    "# 2009: DE, HU, IE, NL\n",
    "# 2010: DE, HU, IE, NL\n",
    "# 2011: DE, HU, IE, NL\n",
    "# 2012: DE, HR, HU, IE, NL\n",
    "# 2013: DE, HR, HU, IE, LU, NL\n",
    "# 2014: DE, HR, HU, IE, LU, NL\n",
    "# 2015: DE, HR, HU, IE, LU"
   ]
  },
  {
   "cell_type": "code",
   "execution_count": null,
   "metadata": {
    "cell_id": "00036-3ae273db-57de-45f4-bb9f-d2293906eb12",
    "deepnote_cell_type": "code",
    "deepnote_to_be_reexecuted": false,
    "execution_millis": 50,
    "execution_start": 1621856285671,
    "source_hash": "49e621db"
   },
   "outputs": [],
   "source": [
    "# In which years and respective country we have missing values in variable GERDS_PNP_MIO_PPS_KP05:\n",
    "display(joint_dataset2[joint_dataset2['GERDS_PNP_MIO_PPS_KP05'].isnull()].groupby(['GEO', 'TIME_PERIOD']).size())"
   ]
  },
  {
   "cell_type": "code",
   "execution_count": null,
   "metadata": {
    "cell_id": "00037-7bc11fc5-9fc6-4e50-87af-84b0bf32535e",
    "deepnote_cell_type": "code",
    "deepnote_to_be_reexecuted": false,
    "execution_millis": 4,
    "execution_start": 1621856285682,
    "source_hash": "15f0ca11"
   },
   "outputs": [],
   "source": [
    "# Missing Values for GERDS_PNP_MIO_PPS_KP05:\n",
    "# 2008: DE, HU, IE, LU, NL\n",
    "# 2009: DE, HU, IE, NL\n",
    "# 2010: DE, HU, IE, NL\n",
    "# 2011: DE, HU, IE, NL\n",
    "# 2012: DE, HR, HU, IE, NL\n",
    "# 2013: DE, HR, HU, IE, LU, NL\n",
    "# 2014: DE, HR, HU, IE, LU, NL\n",
    "# 2015: DE, HR, HU, IE, LU"
   ]
  },
  {
   "cell_type": "code",
   "execution_count": null,
   "metadata": {
    "cell_id": "00038-5a5b39b9-ffaa-4ace-a14e-5987e426040f",
    "deepnote_cell_type": "code",
    "deepnote_to_be_reexecuted": false,
    "execution_millis": 29,
    "execution_start": 1621856285692,
    "source_hash": "6dc3e1aa"
   },
   "outputs": [],
   "source": [
    "# In which years and respective country we have missing values in variable GERDS_PNP_PC_GDP:\n",
    "display(joint_dataset2[joint_dataset2['GERDS_PNP_PC_GDP'].isnull()].groupby(['GEO','TIME_PERIOD']).size())"
   ]
  },
  {
   "cell_type": "code",
   "execution_count": null,
   "metadata": {
    "cell_id": "00039-12ef8a9e-7536-4181-b935-a0380521d591",
    "deepnote_cell_type": "code",
    "deepnote_to_be_reexecuted": false,
    "execution_millis": 0,
    "execution_start": 1621856285704,
    "source_hash": "b548fec8"
   },
   "outputs": [],
   "source": [
    "# Missing Values for GERDS_PNP_PC_GDP:\n",
    "# 2008: DE, HU, IE, LU, NL\n",
    "# 2009: DE, HU, IE, NL\n",
    "# 2010: DE, HU, IE, NL\n",
    "# 2011: DE, HU, IE, NL\n",
    "# 2012: DE, HR, HU, IE, NL\n",
    "# 2013: DE, HR, HU, IE, LU, NL\n",
    "# 2014: DE, HR, HU, IE, LU, NL\n",
    "# 2015: DE, HR, HU, IE, LU"
   ]
  },
  {
   "cell_type": "markdown",
   "metadata": {
    "cell_id": "00040-fc310717-282e-46ff-b486-ccc35d262ef9",
    "deepnote_cell_type": "markdown"
   },
   "source": [
    "### Processing Missing Values"
   ]
  },
  {
   "cell_type": "markdown",
   "metadata": {
    "cell_id": "00041-20e51060-d48c-4703-aa5e-d252d203cce2",
    "deepnote_cell_type": "markdown"
   },
   "source": [
    "#### There are two main groups of missing values in the data we have so far:  \n",
    "    a) those related to the value added in High-Tech Manufacturing sectors in Luxembourg and Ireland, in some years;  \n",
    "    b) those related to expenditure data in R&D in the Private Non-Profit Sector in Germany (DE), Croatia (HR), Hungary (HU), Ireland (IE), Luxembourg (LU), and Netherlands (NL) in some years  \n",
    "  \n",
    "#### What will we do about these missing values?  \n",
    "    - In the data about a), with some research we come to the conclusion that Luxembourg indeed has no High-Tech Manufacturing, so we will input all the related values with 0; about Ireland, the information we can get suggests that this country has High-Tech Manufacturing - so, based on this, we decided to input the previous year's values to the year that is missing (ie: high tech data from 2015 == high tech data from 2014)  \n",
    "    - In the data about b) we can assume that the missing values represent the absent of expenditure in Non Profit Private Sector in R&D for those countries/years; in this case too, we will input the missing values with 0"
   ]
  },
  {
   "cell_type": "markdown",
   "metadata": {
    "cell_id": "00042-2e7537c6-78db-483e-b98a-ba47d6688b55",
    "deepnote_cell_type": "markdown"
   },
   "source": [
    "#### Inputing the missing values with data accordingly:"
   ]
  },
  {
   "cell_type": "code",
   "execution_count": null,
   "metadata": {
    "cell_id": "00043-0648017d-9f1e-4d26-804e-4cdd08b9d812",
    "deepnote_cell_type": "code",
    "deepnote_to_be_reexecuted": false,
    "execution_millis": 0,
    "execution_start": 1621856285745,
    "source_hash": "54bddafa"
   },
   "outputs": [],
   "source": [
    "#High Tech in Luxembourg:\n",
    "rows = (joint_dataset2['GEO'] == 'LU')\n",
    "cols = ['C_HTC_PERC_OF_TOTAL', 'C_HTC_PERC_OF_MANUF', 'C_HTC_CP_MEUR']\n",
    "\n",
    "joint_dataset2.loc[rows, cols] = joint_dataset2.loc[rows, cols].fillna(value=0)\n",
    "\n",
    "#High Tech in Ireland:\n",
    "rows = (joint_dataset2['GEO'] == 'IE')\n",
    "cols = ['C_HTC_PERC_OF_TOTAL', 'C_HTC_PERC_OF_MANUF', 'C_HTC_CP_MEUR']\n",
    "ie_previous_year = {'C_HTC_PERC_OF_TOTAL': joint_dataset2.loc[(joint_dataset2['GEO'] == 'IE') & (joint_dataset2['TIME_PERIOD'] == \"2014\"), ['C_HTC_PERC_OF_TOTAL']].iloc[0,0], 'C_HTC_PERC_OF_MANUF': joint_dataset2.loc[(joint_dataset2['GEO'] == 'IE') & (joint_dataset2['TIME_PERIOD'] == \"2014\"), ['C_HTC_PERC_OF_MANUF']].iloc[0,0],'C_HTC_CP_MEUR': joint_dataset2.loc[(joint_dataset2['GEO'] == 'IE') & (joint_dataset2['TIME_PERIOD'] == \"2014\"), ['C_HTC_CP_MEUR']].iloc[0,0]}\n",
    "\n",
    "joint_dataset2.loc[rows, cols] = joint_dataset2.loc[rows, cols].fillna(value=ie_previous_year)"
   ]
  },
  {
   "cell_type": "code",
   "execution_count": null,
   "metadata": {
    "cell_id": "00044-f574a892-d908-4dc3-9c8f-a2466c908846",
    "deepnote_cell_type": "code",
    "deepnote_to_be_reexecuted": false,
    "execution_millis": 49,
    "execution_start": 1621856285746,
    "source_hash": "28c5005c"
   },
   "outputs": [],
   "source": [
    "joint_dataset2.isnull().sum()"
   ]
  },
  {
   "cell_type": "code",
   "execution_count": null,
   "metadata": {
    "cell_id": "00045-847a4b3c-2633-41f4-857b-e75b308b5abd",
    "deepnote_cell_type": "code",
    "deepnote_to_be_reexecuted": false,
    "execution_millis": 1,
    "execution_start": 1621856285746,
    "source_hash": "af215eb5"
   },
   "outputs": [],
   "source": [
    "# Values in Expenditure with R&D in Non-Profit Private Organizations\n",
    "\n",
    "# because all countries/year shall have the same processing, it is pretty straightforward:\n",
    "cols = ['GERDS_PNP_EUR_HAB', 'GERDS_PNP_MIO_EUR', 'GERDS_PNP_MIO_PPS_KP05', 'GERDS_PNP_PC_GDP']\n",
    "\n",
    "joint_dataset2.loc[:, cols] = joint_dataset2.loc[:, cols].fillna(value=0)"
   ]
  },
  {
   "cell_type": "code",
   "execution_count": null,
   "metadata": {
    "cell_id": "00046-d4325440-0fc3-4e05-8e6d-77a2154da1f4",
    "deepnote_cell_type": "code",
    "deepnote_to_be_reexecuted": false,
    "execution_millis": 44,
    "execution_start": 1621856285751,
    "source_hash": "28c5005c"
   },
   "outputs": [],
   "source": [
    "joint_dataset2.isnull().sum()"
   ]
  },
  {
   "cell_type": "markdown",
   "metadata": {
    "cell_id": "00047-457166c8-483a-4987-8d29-18363f50466d",
    "deepnote_cell_type": "markdown"
   },
   "source": [
    "## Distribution analysis, skewness and kurtosis"
   ]
  },
  {
   "cell_type": "code",
   "execution_count": null,
   "metadata": {
    "cell_id": "00048-031997ec-56b3-4fbb-8aac-887042449808",
    "deepnote_cell_type": "code",
    "deepnote_to_be_reexecuted": false,
    "execution_millis": 36,
    "execution_start": 1621856285759,
    "source_hash": "a1727208"
   },
   "outputs": [],
   "source": [
    "joint_dataset2.kurtosis() # kurtosis for each metric variable"
   ]
  },
  {
   "cell_type": "code",
   "execution_count": null,
   "metadata": {
    "cell_id": "00049-00062918-c90f-403c-8c25-1ee9b944da65",
    "deepnote_cell_type": "code",
    "deepnote_to_be_reexecuted": false,
    "execution_millis": 35,
    "execution_start": 1621856285766,
    "source_hash": "3456a6d6"
   },
   "outputs": [],
   "source": [
    "joint_dataset2.skew() # skewness for each metric variable"
   ]
  },
  {
   "cell_type": "code",
   "execution_count": null,
   "metadata": {
    "cell_id": "00050-9ed13893-0b6f-43e7-9358-c0f62b18f3e5",
    "deepnote_cell_type": "code",
    "deepnote_to_be_reexecuted": false,
    "execution_millis": 34,
    "execution_start": 1621856285784,
    "source_hash": "256f5bfe"
   },
   "outputs": [],
   "source": [
    "# filter distributions that have values for skewness out of the Normal range:\n",
    "not_symmetric = joint_dataset2.skew()[(joint_dataset2.skew() > 1) | (joint_dataset2.skew() < -1)]\n",
    "display(not_symmetric)\n",
    "\n",
    "# filter distributions that have values for kurtosis out of the Normal range:\n",
    "peaked_or_flat = joint_dataset2.kurtosis()[(joint_dataset2.kurtosis() > 1) | (joint_dataset2.kurtosis() < -1)]\n",
    "display(peaked_or_flat)"
   ]
  },
  {
   "cell_type": "code",
   "execution_count": null,
   "metadata": {
    "cell_id": "00051-2cb3ec86-b2b2-452b-b65c-a0ed6288be45",
    "deepnote_cell_type": "code",
    "deepnote_to_be_reexecuted": false,
    "execution_millis": 11282,
    "execution_start": 1621856285831,
    "source_hash": "205d7521"
   },
   "outputs": [],
   "source": [
    "# plot every variable distribution\n",
    "\n",
    "for elem in joint_dataset2.columns[2:]:\n",
    "    sns.displot(joint_dataset2[elem], kind=\"kde\")"
   ]
  },
  {
   "cell_type": "code",
   "execution_count": null,
   "metadata": {
    "cell_id": "00052-89843333-3400-48d0-a2c4-b829c7480bc3",
    "deepnote_cell_type": "code",
    "deepnote_to_be_reexecuted": false,
    "execution_millis": 3424,
    "execution_start": 1621856297116,
    "source_hash": "9e7791fb"
   },
   "outputs": [],
   "source": [
    "# filter the variables whose values for both skewness and kurtosis indicate a Normal-like distribution and plot them:\n",
    "normal_skew = joint_dataset2.skew()[(joint_dataset2.skew() < 1) & (joint_dataset2.skew() > -1)]\n",
    "normal_kurt = joint_dataset2.kurtosis()[(joint_dataset2.kurtosis() < 1) & (joint_dataset2.kurtosis() > -1)]\n",
    "print('Variables that have Normal Distribution:\\n')\n",
    "normal = []\n",
    "for elem in normal_skew.index:\n",
    "    if elem in normal_kurt.index:\n",
    "        normal.append(elem)\n",
    "        sns.displot(joint_dataset2[elem], kind=\"kde\")"
   ]
  },
  {
   "cell_type": "markdown",
   "metadata": {
    "cell_id": "00054-6b22c7d7-6f0a-4edb-9779-fe25bea33bec",
    "deepnote_cell_type": "markdown",
    "tags": []
   },
   "source": [
    "# Correlation analysis - the road to feature selection"
   ]
  },
  {
   "cell_type": "markdown",
   "metadata": {
    "cell_id": "00053-408e5dc2-3557-4d02-83a5-c748214b231f",
    "deepnote_cell_type": "markdown"
   },
   "source": [
    "## Correlations between metric variables"
   ]
  },
  {
   "cell_type": "code",
   "execution_count": null,
   "metadata": {
    "cell_id": "00054-8b2a821c-1f65-4781-8fce-badf655b6012",
    "deepnote_cell_type": "code",
    "deepnote_to_be_reexecuted": false,
    "execution_millis": 200,
    "execution_start": 1621856300537,
    "source_hash": "17844c7e"
   },
   "outputs": [],
   "source": [
    "joint_dataset2.corr() # Computes pairwise correlation of columns, excluding NA/null values"
   ]
  },
  {
   "cell_type": "code",
   "execution_count": null,
   "metadata": {
    "cell_id": "00055-a596dd81-89a8-473e-a450-baa9ae06ba10",
    "deepnote_cell_type": "code",
    "deepnote_to_be_reexecuted": false,
    "execution_millis": 202,
    "execution_start": 1621856300691,
    "source_hash": "7c74c644"
   },
   "outputs": [],
   "source": [
    "# What are the highest correlations?\n",
    "for col in joint_dataset2.corr().columns:\n",
    "    display(joint_dataset2.corr()[col][((joint_dataset2.corr()[col] > 0.5) | (joint_dataset2.corr()[col] < -0.5))])"
   ]
  },
  {
   "cell_type": "code",
   "execution_count": null,
   "metadata": {
    "cell_id": "00056-3d52bef3-0eb9-4414-9679-c76942dbc144",
    "deepnote_cell_type": "code",
    "deepnote_to_be_reexecuted": false,
    "execution_millis": 4102,
    "execution_start": 1621856300930,
    "source_hash": "85bf2b2d"
   },
   "outputs": [],
   "source": [
    "# Let's get a visual aid of the values above:\n",
    "corr_matrix = joint_dataset2.corr()\n",
    "high_corr = corr_matrix[(corr_matrix>=0.5) | (corr_matrix<=-0.5)]\n",
    "plt.figure(figsize=(30,13))\n",
    "sns.heatmap(high_corr, annot=True, cmap=\"Reds\")"
   ]
  },
  {
   "cell_type": "markdown",
   "metadata": {
    "cell_id": "00057-b6e79688-5656-4d00-826e-2c76595e7870",
    "deepnote_cell_type": "markdown"
   },
   "source": [
    "## Based on these correlations, there are some variables that we will discard"
   ]
  },
  {
   "cell_type": "code",
   "execution_count": null,
   "metadata": {
    "cell_id": "00058-761c346b-30bd-4e6f-8934-ac88d7f3c112",
    "deepnote_cell_type": "code",
    "deepnote_to_be_reexecuted": false,
    "execution_millis": 387261,
    "execution_start": 1621856305026,
    "source_hash": "eefa9619"
   },
   "outputs": [],
   "source": [
    "# Clear unneeded columns\n",
    "joint_dataset2 = joint_dataset2.drop([\"GERDS_BES_MIO_PPS_KP05\", \"GERDS_GOV_MIO_PPS_KP05\", \"GERDS_HES_MIO_PPS_KP05\", \"GERDS_PNP_MIO_PPS_KP05\", \"GERDS_BES_PC_GDP\", \"GERDS_GOV_PC_GDP\", \"GERDS_HES_PC_GDP\", \"GERDS_PNP_PC_GDP\"], axis=\"columns\")\n",
    "joint_dataset2.shape"
   ]
  },
  {
   "cell_type": "code",
   "execution_count": null,
   "metadata": {
    "cell_id": "00059-35d2176c-6085-40d3-a179-75bd3b6eba92",
    "deepnote_cell_type": "code",
    "deepnote_to_be_reexecuted": false,
    "execution_millis": 2524,
    "execution_start": 1621856305028,
    "source_hash": "9e78bbfa"
   },
   "outputs": [],
   "source": [
    "# Let's get a visual aid of the values above:\n",
    "corr_matrix = joint_dataset2.corr()\n",
    "high_corr = corr_matrix[(corr_matrix>=0.75) | (corr_matrix<=-0.75)]\n",
    "plt.figure(figsize=(30,13))\n",
    "sns.heatmap(high_corr, annot=True, cmap=\"Greens\")"
   ]
  },
  {
   "cell_type": "markdown",
   "metadata": {
    "cell_id": "00060-28375103-fd04-421e-a1e3-dea2a3dd35e5",
    "deepnote_cell_type": "markdown"
   },
   "source": [
    "# Outliers Analysis"
   ]
  },
  {
   "cell_type": "code",
   "execution_count": null,
   "metadata": {
    "cell_id": "00061-a6f8f630-3fde-45e8-b8ac-4a11714f5403",
    "deepnote_cell_type": "code",
    "deepnote_to_be_reexecuted": false,
    "execution_millis": 334,
    "execution_start": 1621856307547,
    "source_hash": "4da806a3"
   },
   "outputs": [],
   "source": [
    "from scipy import stats\n",
    "# discriminate outliers in each variable; we use the threshold of 3 standard deviations away from the mean as the criteria to identify the outliers:\n",
    "for col in joint_dataset2.iloc[:,2:].columns:\n",
    "    display(joint_dataset2[[\"TIME_PERIOD\", \"GEO\", col]][(np.abs(stats.zscore(joint_dataset2[col])) > 3)])"
   ]
  },
  {
   "cell_type": "code",
   "execution_count": null,
   "metadata": {
    "cell_id": "00062-a676313f-95e6-4c62-90e0-32a557c9c294",
    "deepnote_cell_type": "code",
    "deepnote_to_be_reexecuted": false,
    "execution_millis": 409,
    "execution_start": 1621856307892,
    "source_hash": "48e45676"
   },
   "outputs": [],
   "source": [
    "# Scatter plot - C_HTC_M_CP_MEUR\n",
    "\n",
    "d =  joint_dataset2\n",
    "x1 = joint_dataset2[\"C_HTC_M_CP_MEUR\"]\n",
    "y1 = joint_dataset2[\"GEO\"]\n",
    "\n",
    "\n",
    "sns.scatterplot(data=d, x=x1, y= y1)"
   ]
  },
  {
   "cell_type": "code",
   "execution_count": null,
   "metadata": {
    "cell_id": "00063-ac071044-6410-4ea0-a9b8-adc218f35ad8",
    "deepnote_cell_type": "code",
    "deepnote_to_be_reexecuted": false,
    "execution_millis": 35,
    "execution_start": 1621856308304,
    "source_hash": "c158ca8e"
   },
   "outputs": [],
   "source": [
    "# Quartiles of C_HTC_M_CP_MEUR\n",
    "q1 = joint_dataset2['C_HTC_M_CP_MEUR'].quantile(.25)\n",
    "q3 = joint_dataset2['C_HTC_M_CP_MEUR'].quantile(.75)\n",
    "\n",
    "display(q1)\n",
    "display(q3-q1) #IQR\n",
    "display(q3)"
   ]
  },
  {
   "cell_type": "code",
   "execution_count": null,
   "metadata": {
    "cell_id": "00064-2c03a08b-cb04-452b-8a1e-1fa476ce489b",
    "deepnote_cell_type": "code",
    "deepnote_to_be_reexecuted": false,
    "execution_millis": 782,
    "execution_start": 1621856308330,
    "source_hash": "c9a43873"
   },
   "outputs": [],
   "source": [
    "# Scatter plot - KIS_PERC_OF_SERV\n",
    "\n",
    "d =  joint_dataset2\n",
    "x1 = joint_dataset2[\"KIS_PERC_OF_SERV\"]\n",
    "y1 = joint_dataset2[\"GEO\"]\n",
    "\n",
    "\n",
    "sns.scatterplot(data=d, x=x1, y= y1)"
   ]
  },
  {
   "cell_type": "code",
   "execution_count": null,
   "metadata": {
    "cell_id": "00065-9adf135b-66bc-4899-bd1b-183ef99d8fbb",
    "deepnote_cell_type": "code",
    "deepnote_to_be_reexecuted": false,
    "execution_millis": 88,
    "execution_start": 1621856309106,
    "source_hash": "3c0b3b9e"
   },
   "outputs": [],
   "source": [
    "# Quartiles of KIS_PERC_OF_SERV\n",
    "q1 = joint_dataset2['KIS_PERC_OF_SERV'].quantile(.25)\n",
    "q3 = joint_dataset2['KIS_PERC_OF_SERV'].quantile(.75)\n",
    "\n",
    "display(q1)\n",
    "display(q3-q1) #IQR\n",
    "display(q3)"
   ]
  },
  {
   "cell_type": "code",
   "execution_count": null,
   "metadata": {
    "cell_id": "00066-942b21bf-d14c-4436-9f2c-f4e78a58919c",
    "deepnote_cell_type": "code",
    "deepnote_to_be_reexecuted": false,
    "execution_millis": 204,
    "execution_start": 1621856309107,
    "source_hash": "aefaedf0"
   },
   "outputs": [],
   "source": [
    "# Scatter plot - VENTURE_MIO_EUR\n",
    "\n",
    "d =  joint_dataset2\n",
    "x1 = joint_dataset2[\"VENTURE_MIO_EUR\"]\n",
    "y1 = joint_dataset2[\"GEO\"]\n",
    "\n",
    "\n",
    "sns.scatterplot(data=d, x=x1, y= y1)"
   ]
  },
  {
   "cell_type": "code",
   "execution_count": null,
   "metadata": {
    "cell_id": "00067-e579aac0-1139-4185-8b6f-1652d908d3b8",
    "deepnote_cell_type": "code",
    "deepnote_to_be_reexecuted": false,
    "execution_millis": 39,
    "execution_start": 1621856309311,
    "source_hash": "575b7cad"
   },
   "outputs": [],
   "source": [
    "# Quartiles of VENTURE_MIO_EUR\n",
    "q1 = joint_dataset2['VENTURE_MIO_EUR'].quantile(.25)\n",
    "q3 = joint_dataset2['VENTURE_MIO_EUR'].quantile(.75)\n",
    "\n",
    "display(q1)\n",
    "display(q3-q1) #IQR\n",
    "display(q3)"
   ]
  },
  {
   "cell_type": "code",
   "execution_count": null,
   "metadata": {
    "cell_id": "00068-05d34861-791d-45f1-b6a1-e9a27f141e36",
    "deepnote_cell_type": "code",
    "deepnote_to_be_reexecuted": false,
    "execution_millis": 410,
    "execution_start": 1621856309345,
    "source_hash": "b7bd7da7"
   },
   "outputs": [],
   "source": [
    "# Scatter plot - VENTURE_NR_COMP \n",
    "\n",
    "d =  joint_dataset2\n",
    "x1 = joint_dataset2[\"VENTURE_NR_COMP\"]\n",
    "y1 = joint_dataset2[\"GEO\"]\n",
    "\n",
    "\n",
    "sns.scatterplot(data=d, x=x1, y= y1)"
   ]
  },
  {
   "cell_type": "code",
   "execution_count": null,
   "metadata": {
    "cell_id": "00069-fd038a65-f82d-4743-a8e5-8ff19fcaa911",
    "deepnote_cell_type": "code",
    "deepnote_to_be_reexecuted": false,
    "execution_millis": 30,
    "execution_start": 1621856309751,
    "source_hash": "ee87ba7d"
   },
   "outputs": [],
   "source": [
    "# Quartiles of VENTURE_NR_COMP\n",
    "q1 = joint_dataset2['VENTURE_NR_COMP'].quantile(.25)\n",
    "q3 = joint_dataset2['VENTURE_NR_COMP'].quantile(.75)\n",
    "\n",
    "display(q1)\n",
    "display(q3-q1) #IQR\n",
    "display(q3)"
   ]
  },
  {
   "cell_type": "code",
   "execution_count": null,
   "metadata": {
    "cell_id": "00070-78df6468-2615-44ad-a90e-cde4f7facd11",
    "deepnote_cell_type": "code",
    "deepnote_to_be_reexecuted": false,
    "execution_millis": 411,
    "execution_start": 1621856309773,
    "source_hash": "122026fa"
   },
   "outputs": [],
   "source": [
    "# Scatter plot - VENTURE_PC_GDP\n",
    "\n",
    "d =  joint_dataset2\n",
    "x1 = joint_dataset2[\"VENTURE_PC_GDP\"]\n",
    "y1 = joint_dataset2[\"GEO\"]\n",
    "\n",
    "\n",
    "sns.scatterplot(data=d, x=x1, y= y1)"
   ]
  },
  {
   "cell_type": "code",
   "execution_count": null,
   "metadata": {
    "cell_id": "00071-81f7d92b-7326-4fa0-96e1-1a04ae2aa97e",
    "deepnote_cell_type": "code",
    "deepnote_to_be_reexecuted": false,
    "execution_millis": 16,
    "execution_start": 1621856310176,
    "source_hash": "e1e8095e"
   },
   "outputs": [],
   "source": [
    "# Quartiles of VENTURE_PC_GDP\n",
    "q1 = joint_dataset2['VENTURE_PC_GDP'].quantile(.25)\n",
    "q3 = joint_dataset2['VENTURE_PC_GDP'].quantile(.75)\n",
    "\n",
    "display(q1)\n",
    "display(q3-q1) #IQR\n",
    "display(q3)"
   ]
  },
  {
   "cell_type": "code",
   "execution_count": null,
   "metadata": {
    "cell_id": "00072-278fad24-dd28-44c5-8574-f660dfa18f70",
    "deepnote_cell_type": "code",
    "deepnote_to_be_reexecuted": false,
    "execution_millis": 430,
    "execution_start": 1621856310186,
    "source_hash": "da8bdf76"
   },
   "outputs": [],
   "source": [
    "# Scatter plot - GERDS_BES_MIO_EUR\n",
    "\n",
    "d =  joint_dataset2\n",
    "x1 = joint_dataset2[\"GERDS_BES_MIO_EUR\"]\n",
    "y1 = joint_dataset2[\"GEO\"]\n",
    "\n",
    "\n",
    "sns.scatterplot(data=d, x=x1, y= y1)"
   ]
  },
  {
   "cell_type": "code",
   "execution_count": null,
   "metadata": {
    "cell_id": "00073-709e4502-cc41-4dd5-abde-0be5a18d3895",
    "deepnote_cell_type": "code",
    "deepnote_to_be_reexecuted": false,
    "execution_millis": 19,
    "execution_start": 1621856310621,
    "source_hash": "d4036bfa"
   },
   "outputs": [],
   "source": [
    "# Quartiles of GERDS_BES_MIO_EUR\n",
    "q1 = joint_dataset2['GERDS_BES_MIO_EUR'].quantile(.25)\n",
    "q3 = joint_dataset2['GERDS_BES_MIO_EUR'].quantile(.75)\n",
    "\n",
    "display(q1)\n",
    "display(q3-q1) #IQR\n",
    "display(q3)"
   ]
  },
  {
   "cell_type": "code",
   "execution_count": null,
   "metadata": {
    "cell_id": "00074-4bbe9bb2-4b51-4ec1-ba96-2f41a484b289",
    "deepnote_cell_type": "code",
    "deepnote_to_be_reexecuted": false,
    "execution_millis": 446,
    "execution_start": 1621856310664,
    "source_hash": "64a0b2c5"
   },
   "outputs": [],
   "source": [
    "# Scatter plot - GERDS_GOV_EUR_HAB\n",
    "\n",
    "d =  joint_dataset2\n",
    "x1 = joint_dataset2[\"GERDS_GOV_EUR_HAB\"]\n",
    "y1 = joint_dataset2[\"GEO\"]\n",
    "\n",
    "\n",
    "sns.scatterplot(data=d, x=x1, y= y1)"
   ]
  },
  {
   "cell_type": "code",
   "execution_count": null,
   "metadata": {
    "cell_id": "00075-874b5b0b-97ca-4600-b7ac-03ecfc1df2bb",
    "deepnote_cell_type": "code",
    "deepnote_to_be_reexecuted": false,
    "execution_millis": 33,
    "execution_start": 1621856311108,
    "source_hash": "615e4a7c"
   },
   "outputs": [],
   "source": [
    "# Quartiles of GERDS_GOV_EUR_HAB\n",
    "q1 = joint_dataset2['GERDS_GOV_EUR_HAB'].quantile(.25)\n",
    "q3 = joint_dataset2['GERDS_GOV_EUR_HAB'].quantile(.75)\n",
    "\n",
    "display(q1)\n",
    "display(q3-q1) #IQR\n",
    "display(q3)"
   ]
  },
  {
   "cell_type": "code",
   "execution_count": null,
   "metadata": {
    "cell_id": "00076-342a41d6-38c5-4d06-a7d1-3a0840b19b9b",
    "deepnote_cell_type": "code",
    "deepnote_to_be_reexecuted": false,
    "execution_millis": 438,
    "execution_start": 1621856311118,
    "source_hash": "51394c18"
   },
   "outputs": [],
   "source": [
    "# Scatter plot - GERDS_GOV_MIO_EUR\n",
    "\n",
    "d =  joint_dataset2\n",
    "x1 = joint_dataset2[\"GERDS_GOV_MIO_EUR\"]\n",
    "y1 = joint_dataset2[\"GEO\"]\n",
    "\n",
    "\n",
    "sns.scatterplot(data=d, x=x1, y= y1)"
   ]
  },
  {
   "cell_type": "code",
   "execution_count": null,
   "metadata": {
    "cell_id": "00077-1acde4c5-37d4-4058-b998-8951a6a80777",
    "deepnote_cell_type": "code",
    "deepnote_to_be_reexecuted": false,
    "execution_millis": 26,
    "execution_start": 1621856311535,
    "source_hash": "83b1d48"
   },
   "outputs": [],
   "source": [
    "# Quartiles of GERDS_GOV_MIO_EUR\n",
    "q1 = joint_dataset2['GERDS_GOV_MIO_EUR'].quantile(.25)\n",
    "q3 = joint_dataset2['GERDS_GOV_MIO_EUR'].quantile(.75)\n",
    "\n",
    "display(q1)\n",
    "display(q3-q1) #IQR\n",
    "display(q3)"
   ]
  },
  {
   "cell_type": "code",
   "execution_count": null,
   "metadata": {
    "cell_id": "00078-6ffd3a70-e6f8-41a0-9e0d-bfa434425fd9",
    "deepnote_cell_type": "code",
    "deepnote_to_be_reexecuted": false,
    "execution_millis": 420,
    "execution_start": 1621856311546,
    "source_hash": "73d68c5d"
   },
   "outputs": [],
   "source": [
    "# Scatter plot - GERDS_HES_EUR_HAB \n",
    "\n",
    "d =  joint_dataset2\n",
    "x1 = joint_dataset2[\"GERDS_HES_EUR_HAB\"]\n",
    "y1 = joint_dataset2[\"GEO\"]\n",
    "\n",
    "\n",
    "sns.scatterplot(data=d, x=x1, y= y1)"
   ]
  },
  {
   "cell_type": "code",
   "execution_count": null,
   "metadata": {
    "cell_id": "00079-52dc1e1c-4735-4e13-b245-063577a4b868",
    "deepnote_cell_type": "code",
    "deepnote_to_be_reexecuted": false,
    "execution_millis": 28,
    "execution_start": 1621856311960,
    "source_hash": "d5778bf6"
   },
   "outputs": [],
   "source": [
    "# Quartiles of GERDS_HES_EUR_HAB\n",
    "q1 = joint_dataset2['GERDS_HES_EUR_HAB'].quantile(.25)\n",
    "q3 = joint_dataset2['GERDS_HES_EUR_HAB'].quantile(.75)\n",
    "\n",
    "display(q1)\n",
    "display(q3-q1) #IQR\n",
    "display(q3)"
   ]
  },
  {
   "cell_type": "code",
   "execution_count": null,
   "metadata": {
    "cell_id": "00080-a877ed92-8e14-4315-90f9-a1766a083713",
    "deepnote_cell_type": "code",
    "deepnote_to_be_reexecuted": false,
    "execution_millis": 442,
    "execution_start": 1621856311981,
    "source_hash": "233b63a1"
   },
   "outputs": [],
   "source": [
    "# Scatter plot - GERDS_HES_MIO_EUR \n",
    "\n",
    "d =  joint_dataset2\n",
    "x1 = joint_dataset2[\"GERDS_HES_MIO_EUR\"]\n",
    "y1 = joint_dataset2[\"GEO\"]\n",
    "\n",
    "\n",
    "sns.scatterplot(data=d, x=x1, y= y1)"
   ]
  },
  {
   "cell_type": "code",
   "execution_count": null,
   "metadata": {
    "cell_id": "00081-063198c4-ae5e-4d63-b05e-6d0f2dff86b7",
    "deepnote_cell_type": "code",
    "deepnote_to_be_reexecuted": false,
    "execution_millis": 446,
    "execution_start": 1621856312423,
    "source_hash": "48e45676"
   },
   "outputs": [],
   "source": [
    "# Scatter plot - C_HTC_M_CP_MEUR\n",
    "\n",
    "d =  joint_dataset2\n",
    "x1 = joint_dataset2[\"C_HTC_M_CP_MEUR\"]\n",
    "y1 = joint_dataset2[\"GEO\"]\n",
    "\n",
    "\n",
    "sns.scatterplot(data=d, x=x1, y= y1)"
   ]
  },
  {
   "cell_type": "code",
   "execution_count": null,
   "metadata": {
    "cell_id": "00082-3cb2d425-7539-4bec-a920-726284ec9a10",
    "deepnote_cell_type": "code",
    "deepnote_to_be_reexecuted": false,
    "execution_millis": 26,
    "execution_start": 1621856312868,
    "source_hash": "c158ca8e"
   },
   "outputs": [],
   "source": [
    "# Quartiles of C_HTC_M_CP_MEUR\n",
    "q1 = joint_dataset2['C_HTC_M_CP_MEUR'].quantile(.25)\n",
    "q3 = joint_dataset2['C_HTC_M_CP_MEUR'].quantile(.75)\n",
    "\n",
    "display(q1)\n",
    "display(q3-q1) #IQR\n",
    "display(q3)"
   ]
  },
  {
   "cell_type": "code",
   "execution_count": null,
   "metadata": {
    "cell_id": "00083-3b323c87-ba0f-448e-94cf-903ed5035659",
    "deepnote_cell_type": "code",
    "deepnote_to_be_reexecuted": false,
    "execution_millis": 421,
    "execution_start": 1621856312887,
    "source_hash": "c9a43873"
   },
   "outputs": [],
   "source": [
    "# Scatter plot - KIS_PERC_OF_SERV\n",
    "\n",
    "d =  joint_dataset2\n",
    "x1 = joint_dataset2[\"KIS_PERC_OF_SERV\"]\n",
    "y1 = joint_dataset2[\"GEO\"]\n",
    "\n",
    "\n",
    "sns.scatterplot(data=d, x=x1, y= y1)"
   ]
  },
  {
   "cell_type": "code",
   "execution_count": null,
   "metadata": {
    "cell_id": "00084-c0d3ad59-bd74-4f5b-a2b2-04c35c8f6dc9",
    "deepnote_cell_type": "code",
    "deepnote_to_be_reexecuted": false,
    "execution_millis": 28,
    "execution_start": 1621856313305,
    "source_hash": "3c0b3b9e"
   },
   "outputs": [],
   "source": [
    "# Quartiles of KIS_PERC_OF_SERV\n",
    "q1 = joint_dataset2['KIS_PERC_OF_SERV'].quantile(.25)\n",
    "q3 = joint_dataset2['KIS_PERC_OF_SERV'].quantile(.75)\n",
    "\n",
    "display(q1)\n",
    "display(q3-q1) #IQR\n",
    "display(q3)"
   ]
  },
  {
   "cell_type": "code",
   "execution_count": null,
   "metadata": {
    "cell_id": "00085-62892a38-aba8-4f83-82b4-c4cb6c931341",
    "deepnote_cell_type": "code",
    "deepnote_to_be_reexecuted": false,
    "execution_millis": 693,
    "execution_start": 1621856313326,
    "source_hash": "aefaedf0"
   },
   "outputs": [],
   "source": [
    "# Scatter plot - VENTURE_MIO_EUR\n",
    "\n",
    "d =  joint_dataset2\n",
    "x1 = joint_dataset2[\"VENTURE_MIO_EUR\"]\n",
    "y1 = joint_dataset2[\"GEO\"]\n",
    "\n",
    "\n",
    "sns.scatterplot(data=d, x=x1, y= y1)"
   ]
  },
  {
   "cell_type": "code",
   "execution_count": null,
   "metadata": {
    "cell_id": "00086-3fa704ec-d63e-4dfe-884a-3be45ac26b5e",
    "deepnote_cell_type": "code",
    "deepnote_to_be_reexecuted": false,
    "execution_millis": 15,
    "execution_start": 1621856314017,
    "source_hash": "575b7cad"
   },
   "outputs": [],
   "source": [
    "# Quartiles of VENTURE_MIO_EUR\n",
    "q1 = joint_dataset2['VENTURE_MIO_EUR'].quantile(.25)\n",
    "q3 = joint_dataset2['VENTURE_MIO_EUR'].quantile(.75)\n",
    "\n",
    "display(q1)\n",
    "display(q3-q1) #IQR\n",
    "display(q3)"
   ]
  },
  {
   "cell_type": "code",
   "execution_count": null,
   "metadata": {
    "cell_id": "00087-b87a9fea-a050-427e-a0f0-4abc01c9fb4a",
    "deepnote_cell_type": "code",
    "deepnote_to_be_reexecuted": false,
    "execution_millis": 192,
    "execution_start": 1621856314017,
    "source_hash": "b7bd7da7"
   },
   "outputs": [],
   "source": [
    "# Scatter plot - VENTURE_NR_COMP \n",
    "\n",
    "d =  joint_dataset2\n",
    "x1 = joint_dataset2[\"VENTURE_NR_COMP\"]\n",
    "y1 = joint_dataset2[\"GEO\"]\n",
    "\n",
    "\n",
    "sns.scatterplot(data=d, x=x1, y= y1)"
   ]
  },
  {
   "cell_type": "code",
   "execution_count": null,
   "metadata": {
    "cell_id": "00088-b1889998-0f72-454c-98c8-25a045e7dd0d",
    "deepnote_cell_type": "code",
    "deepnote_to_be_reexecuted": false,
    "execution_millis": 38,
    "execution_start": 1621856314171,
    "source_hash": "ee87ba7d"
   },
   "outputs": [],
   "source": [
    "# Quartiles of VENTURE_NR_COMP\n",
    "q1 = joint_dataset2['VENTURE_NR_COMP'].quantile(.25)\n",
    "q3 = joint_dataset2['VENTURE_NR_COMP'].quantile(.75)\n",
    "\n",
    "display(q1)\n",
    "display(q3-q1) #IQR\n",
    "display(q3)"
   ]
  },
  {
   "cell_type": "code",
   "execution_count": null,
   "metadata": {
    "cell_id": "00089-419c9f71-8ea6-42ab-b23c-599a4061d0c8",
    "deepnote_cell_type": "code",
    "deepnote_to_be_reexecuted": false,
    "execution_millis": 523,
    "execution_start": 1621856314192,
    "source_hash": "122026fa"
   },
   "outputs": [],
   "source": [
    "# Scatter plot - VENTURE_PC_GDP\n",
    "\n",
    "d =  joint_dataset2\n",
    "x1 = joint_dataset2[\"VENTURE_PC_GDP\"]\n",
    "y1 = joint_dataset2[\"GEO\"]\n",
    "\n",
    "\n",
    "sns.scatterplot(data=d, x=x1, y= y1)"
   ]
  },
  {
   "cell_type": "code",
   "execution_count": null,
   "metadata": {
    "cell_id": "00090-e28a4aa4-b05c-4298-ac3b-a6d016d2a538",
    "deepnote_cell_type": "code",
    "deepnote_to_be_reexecuted": false,
    "execution_millis": 18,
    "execution_start": 1621856314716,
    "source_hash": "e1e8095e"
   },
   "outputs": [],
   "source": [
    "# Quartiles of VENTURE_PC_GDP\n",
    "q1 = joint_dataset2['VENTURE_PC_GDP'].quantile(.25)\n",
    "q3 = joint_dataset2['VENTURE_PC_GDP'].quantile(.75)\n",
    "\n",
    "display(q1)\n",
    "display(q3-q1) #IQR\n",
    "display(q3)"
   ]
  },
  {
   "cell_type": "code",
   "execution_count": null,
   "metadata": {
    "cell_id": "00091-dacee4ba-089d-40bf-96ec-6f67840d44ca",
    "deepnote_cell_type": "code",
    "deepnote_to_be_reexecuted": false,
    "execution_millis": 431,
    "execution_start": 1621856314740,
    "source_hash": "da8bdf76"
   },
   "outputs": [],
   "source": [
    "# Scatter plot - GERDS_BES_MIO_EUR\n",
    "\n",
    "d =  joint_dataset2\n",
    "x1 = joint_dataset2[\"GERDS_BES_MIO_EUR\"]\n",
    "y1 = joint_dataset2[\"GEO\"]\n",
    "\n",
    "\n",
    "sns.scatterplot(data=d, x=x1, y= y1)"
   ]
  },
  {
   "cell_type": "code",
   "execution_count": null,
   "metadata": {
    "cell_id": "00092-7b03da29-b1de-4e90-8d84-6f902a12c046",
    "deepnote_cell_type": "code",
    "deepnote_to_be_reexecuted": false,
    "execution_millis": 21,
    "execution_start": 1621856315155,
    "source_hash": "d4036bfa"
   },
   "outputs": [],
   "source": [
    "# Quartiles of GERDS_BES_MIO_EUR\n",
    "q1 = joint_dataset2['GERDS_BES_MIO_EUR'].quantile(.25)\n",
    "q3 = joint_dataset2['GERDS_BES_MIO_EUR'].quantile(.75)\n",
    "\n",
    "display(q1)\n",
    "display(q3-q1) #IQR\n",
    "display(q3)"
   ]
  },
  {
   "cell_type": "code",
   "execution_count": null,
   "metadata": {
    "cell_id": "00093-cb540189-a13c-4b85-8b74-9d77c6303dd5",
    "deepnote_cell_type": "code",
    "deepnote_to_be_reexecuted": false,
    "execution_millis": 426,
    "execution_start": 1621856315165,
    "source_hash": "64a0b2c5"
   },
   "outputs": [],
   "source": [
    "# Scatter plot - GERDS_GOV_EUR_HAB\n",
    "\n",
    "d =  joint_dataset2\n",
    "x1 = joint_dataset2[\"GERDS_GOV_EUR_HAB\"]\n",
    "y1 = joint_dataset2[\"GEO\"]\n",
    "\n",
    "\n",
    "sns.scatterplot(data=d, x=x1, y= y1)"
   ]
  },
  {
   "cell_type": "code",
   "execution_count": null,
   "metadata": {
    "cell_id": "00094-fc8cd226-98be-4b2f-9248-a4b7ea7da038",
    "deepnote_cell_type": "code",
    "deepnote_to_be_reexecuted": false,
    "execution_millis": 16,
    "execution_start": 1621856315600,
    "source_hash": "615e4a7c"
   },
   "outputs": [],
   "source": [
    "# Quartiles of GERDS_GOV_EUR_HAB\n",
    "q1 = joint_dataset2['GERDS_GOV_EUR_HAB'].quantile(.25)\n",
    "q3 = joint_dataset2['GERDS_GOV_EUR_HAB'].quantile(.75)\n",
    "\n",
    "display(q1)\n",
    "display(q3-q1) #IQR\n",
    "display(q3)"
   ]
  },
  {
   "cell_type": "code",
   "execution_count": null,
   "metadata": {
    "cell_id": "00095-66535500-8c15-4b47-bcdd-876f89567c06",
    "deepnote_cell_type": "code",
    "deepnote_to_be_reexecuted": false,
    "execution_millis": 413,
    "execution_start": 1621856315610,
    "source_hash": "51394c18"
   },
   "outputs": [],
   "source": [
    "# Scatter plot - GERDS_GOV_MIO_EUR\n",
    "\n",
    "d =  joint_dataset2\n",
    "x1 = joint_dataset2[\"GERDS_GOV_MIO_EUR\"]\n",
    "y1 = joint_dataset2[\"GEO\"]\n",
    "\n",
    "\n",
    "sns.scatterplot(data=d, x=x1, y= y1)"
   ]
  },
  {
   "cell_type": "code",
   "execution_count": null,
   "metadata": {
    "cell_id": "00096-4493f285-c05b-41c6-b327-9eeaeb23b813",
    "deepnote_cell_type": "code",
    "deepnote_to_be_reexecuted": false,
    "execution_millis": 19,
    "execution_start": 1621856316026,
    "source_hash": "83b1d48"
   },
   "outputs": [],
   "source": [
    "# Quartiles of GERDS_GOV_MIO_EUR\n",
    "q1 = joint_dataset2['GERDS_GOV_MIO_EUR'].quantile(.25)\n",
    "q3 = joint_dataset2['GERDS_GOV_MIO_EUR'].quantile(.75)\n",
    "\n",
    "display(q1)\n",
    "display(q3-q1) #IQR\n",
    "display(q3)"
   ]
  },
  {
   "cell_type": "code",
   "execution_count": null,
   "metadata": {
    "cell_id": "00097-9b1b7706-4f94-47aa-b254-27980be02683",
    "deepnote_cell_type": "code",
    "deepnote_to_be_reexecuted": false,
    "execution_millis": 403,
    "execution_start": 1621856316040,
    "source_hash": "73d68c5d"
   },
   "outputs": [],
   "source": [
    "# Scatter plot - GERDS_HES_EUR_HAB \n",
    "\n",
    "d =  joint_dataset2\n",
    "x1 = joint_dataset2[\"GERDS_HES_EUR_HAB\"]\n",
    "y1 = joint_dataset2[\"GEO\"]\n",
    "\n",
    "\n",
    "sns.scatterplot(data=d, x=x1, y= y1)"
   ]
  },
  {
   "cell_type": "code",
   "execution_count": null,
   "metadata": {
    "cell_id": "00098-56b5640c-af13-4203-a986-1b8dfa174b27",
    "deepnote_cell_type": "code",
    "deepnote_to_be_reexecuted": false,
    "execution_millis": 34,
    "execution_start": 1621856316451,
    "source_hash": "d5778bf6"
   },
   "outputs": [],
   "source": [
    "# Quartiles of GERDS_HES_EUR_HAB\n",
    "q1 = joint_dataset2['GERDS_HES_EUR_HAB'].quantile(.25)\n",
    "q3 = joint_dataset2['GERDS_HES_EUR_HAB'].quantile(.75)\n",
    "\n",
    "display(q1)\n",
    "display(q3-q1) #IQR\n",
    "display(q3)"
   ]
  },
  {
   "cell_type": "code",
   "execution_count": null,
   "metadata": {
    "cell_id": "00099-020a2a1d-9a7c-47a2-9dd6-bfc104d2d7e2",
    "deepnote_cell_type": "code",
    "deepnote_to_be_reexecuted": false,
    "execution_millis": 471,
    "execution_start": 1621856316468,
    "source_hash": "233b63a1"
   },
   "outputs": [],
   "source": [
    "# Scatter plot - GERDS_HES_MIO_EUR \n",
    "\n",
    "d =  joint_dataset2\n",
    "x1 = joint_dataset2[\"GERDS_HES_MIO_EUR\"]\n",
    "y1 = joint_dataset2[\"GEO\"]\n",
    "\n",
    "\n",
    "sns.scatterplot(data=d, x=x1, y= y1)"
   ]
  },
  {
   "cell_type": "markdown",
   "metadata": {
    "cell_id": "00100-9f709925-aec2-477b-a36f-f4c88a280ed1",
    "deepnote_cell_type": "markdown"
   },
   "source": [
    "# Modeling and Evaluation"
   ]
  },
  {
   "cell_type": "markdown",
   "metadata": {
    "cell_id": "00101-b017f458-210a-4b15-b872-c48f2791e892",
    "deepnote_cell_type": "markdown"
   },
   "source": [
    "In this phase we want to accomplish the following:\n",
    "- Variables Normalization\n",
    "- Feature Selection\n",
    "- Split or dataset into train and test datasets (80% - 20%)\n",
    "- Create different Regression Models with the following characteristics:\n",
    "    - Targets: a measure of the Value-Added in High-Tech Manufacturing, a measure of the Value-Added in Medium-High-Tech Manufacturing, a measure of the Value-Added in Knowledge Intensive Services\n",
    "    - Features: a selection of features based on different strategies - Select K-Best technique, Multicollinearity and significance for our regresison models.\n",
    "- Evaluate models that at least fulfill the assumption of residual independence."
   ]
  },
  {
   "cell_type": "markdown",
   "metadata": {
    "cell_id": "00102-1504263c-9517-4c09-bc80-15b27c0f6876",
    "deepnote_cell_type": "markdown"
   },
   "source": [
    "## Variables Normalization"
   ]
  },
  {
   "cell_type": "markdown",
   "metadata": {
    "cell_id": "00103-b6c9966d-c166-480a-8bab-44dc4be02d9d",
    "deepnote_cell_type": "markdown"
   },
   "source": [
    "Because we want all the different metric variables to have the same base importance when creating the different models, and because they represent different magnitudes (percentages, number of companies, currency amounts), we must first normalize them, ie, apply a transformation based on each minimum and maximum - minmaxscaler. \n",
    "\n",
    "We decided not to normalize percentage based variables, since they already are normalized on a scale from 0 to 100%. On the other hand, we normalize all variables pertaining to amount of currency (million Euro or Euro per habitant) or quantities."
   ]
  },
  {
   "cell_type": "code",
   "execution_count": null,
   "metadata": {
    "cell_id": "00104-4fe2b254-2d58-4fe0-8ff1-084f4f7e2d45",
    "deepnote_cell_type": "code",
    "deepnote_to_be_reexecuted": false,
    "execution_millis": 17,
    "execution_start": 1621856316943,
    "source_hash": "d8396897"
   },
   "outputs": [],
   "source": [
    "joint_dataset2.columns[2:]"
   ]
  },
  {
   "cell_type": "code",
   "execution_count": null,
   "metadata": {
    "cell_id": "00105-135151ac-dcc4-45a6-a588-a8ef52bc201f",
    "deepnote_cell_type": "code",
    "deepnote_to_be_reexecuted": false,
    "execution_millis": 102,
    "execution_start": 1621856316951,
    "source_hash": "32f9aa5"
   },
   "outputs": [],
   "source": [
    "from sklearn.preprocessing import MinMaxScaler\n",
    "\n",
    "scaled_names = ['C_HTC_CP_MEUR', 'C_HTC_M_CP_MEUR',\n",
    "       'KIS_CP_MEUR', 'VENTURE_MIO_EUR', 'VENTURE_NR_COMP', \n",
    "       'GERDS_BES_EUR_HAB', 'GERDS_BES_MIO_EUR', \n",
    "       'GERDS_GOV_EUR_HAB', 'GERDS_GOV_MIO_EUR',\n",
    "       'GERDS_HES_EUR_HAB', 'GERDS_HES_MIO_EUR', \n",
    "       'GERDS_PNP_EUR_HAB', 'GERDS_PNP_MIO_EUR']\n",
    "mm_scaler = MinMaxScaler()\n",
    "df_joint_norm = joint_dataset2.copy()\n",
    "df_joint_norm[scaled_names] = pd.DataFrame(mm_scaler.fit_transform(joint_dataset2[scaled_names]))\n",
    "\n",
    "display(df_joint_norm.head())"
   ]
  },
  {
   "cell_type": "code",
   "execution_count": null,
   "metadata": {
    "cell_id": "00106-f46c4d6d-6435-41fd-bc85-2dbd65f8d517",
    "deepnote_cell_type": "code",
    "deepnote_to_be_reexecuted": false,
    "execution_millis": 19,
    "execution_start": 1621856317039,
    "source_hash": "53c3578f"
   },
   "outputs": [],
   "source": [
    "df_joint_norm.columns"
   ]
  },
  {
   "cell_type": "markdown",
   "metadata": {
    "cell_id": "00107-75b330c9-bf88-4702-bba2-787982c28e8d",
    "deepnote_cell_type": "markdown"
   },
   "source": [
    "## Feature Selection"
   ]
  },
  {
   "cell_type": "markdown",
   "metadata": {
    "cell_id": "00108-c2c61588-165a-449e-ba71-8c313e5f8a57",
    "deepnote_cell_type": "markdown"
   },
   "source": [
    "Given the number of features per target variable, we decided to apply a method of reducing the number of features we will be using for our models.\n",
    "\n",
    "We decided on using scikit learn's [^SelectKBest] method, for its simplicity and suitability for our use case. Given that we are going to be performing regressions, we use it with the [^f_regression] score function. This score function performs univariate linear regression tests, meaning it computes the correlation between each regressor and its target and derives a p-value from it. \n",
    "\n",
    "We perform the selection for each target variable, keeping only significant variables - p-value of 5% or less.\n",
    "\n",
    "\n",
    "[^SelectKBest]: [sklearn.feature_selection.SelectKBes at scikit learn's website](https://scikit-learn.org/stable/modules/generated/sklearn.feature_selection.SelectKBest.html)  \n",
    "[^f_regression]: [sklearn.feature_selection.f_regression at scikit learn's website](https://scikit-learn.org/stable/modules/generated/sklearn.feature_selection.f_regression.html#sklearn.feature_selection.f_regression)"
   ]
  },
  {
   "cell_type": "code",
   "execution_count": null,
   "metadata": {
    "cell_id": "00109-a979d0b7-97f5-4044-8cd2-e8cd5ee57f6a",
    "deepnote_cell_type": "code",
    "deepnote_to_be_reexecuted": false,
    "execution_millis": 240,
    "execution_start": 1621856317046,
    "source_hash": "9e7ba77"
   },
   "outputs": [],
   "source": [
    "# Feature selection method: SelectKBest\n",
    "\n",
    "# Score function:\n",
    "# For regression: f_regression, mutual_info_regression\n",
    "# For classification: chi2, f_classif, mutual_info_classif\n",
    "\n",
    "########################################################################################\n",
    "feature_cols = ['VENTURE_MIO_EUR', 'VENTURE_NR_COMP', 'VENTURE_PC_GDP', \n",
    "    'EMPLOYMENT_C_HTC_MH', 'EMPLOYMENT_KIS', \n",
    "    'GERDS_BES_EUR_HAB', 'GERDS_BES_MIO_EUR', \n",
    "    'GERDS_GOV_EUR_HAB', 'GERDS_GOV_MIO_EUR', \n",
    "    'GERDS_HES_EUR_HAB', 'GERDS_HES_MIO_EUR', \n",
    "    'GERDS_PNP_EUR_HAB', 'GERDS_PNP_MIO_EUR']\n",
    "target_cols = [\"C_HTC_PERC_OF_MANUF\", \"C_HTC_CP_MEUR\", \"C_HTC_M_PERC_OF_MANUF\", \"C_HTC_M_CP_MEUR\", \"KIS_PERC_OF_SERV\", \"KIS_CP_MEUR\"]\n",
    "\n",
    "# Import SelectKBest, f_regression (score function for regression)\n",
    "from sklearn.feature_selection import SelectKBest, f_regression\n",
    "# f_regression - F-value between label/feature for regression tasks.\n",
    " \n",
    "interestingFeatures = {}\n",
    "\n",
    "for trg in target_cols:\n",
    "    featureSel = SelectKBest(score_func=f_regression, k=13)\n",
    "    fit = featureSel.fit(joint_dataset2[feature_cols], joint_dataset2[trg])\n",
    "\n",
    "    res = pd.concat([pd.DataFrame({trg: df_joint_norm[feature_cols].columns}), pd.DataFrame({\"f-score\":fit.scores_}), pd.DataFrame({\"p-value\":fit.pvalues_})], axis=\"columns\")\n",
    "    interestingFeatures[trg] = res[res[\"p-value\"] <= 0.05][trg].values\n",
    "    # for country in countries_main:\n",
    "    #    fit = featureSel.fit(df_joint_norm[df_joint_norm[\"GEO\"] == country][feature_cols], df_joint_norm[df_joint_norm[\"GEO\"] == country][trg])\n",
    "    #    res = pd.concat([res, pd.DataFrame({country + \" f-score\":fit.scores_})], axis=\"columns\")\n",
    "\n",
    "    display(res.sort_values(\"f-score\", ascending=False))\n",
    "\n",
    "display(interestingFeatures)"
   ]
  },
  {
   "cell_type": "code",
   "execution_count": null,
   "metadata": {
    "cell_id": "00110-6d38b857-39e9-42da-810b-014c38b04957",
    "deepnote_cell_type": "visualization",
    "deepnote_to_be_reexecuted": false,
    "execution_millis": 0,
    "execution_start": 1621856317311,
    "source_hash": "b623e53d"
   },
   "outputs": [],
   "source": []
  },
  {
   "cell_type": "code",
   "execution_count": null,
   "metadata": {
    "cell_id": "00110-eaf52235-166e-4f55-b3e8-6dd955669400",
    "deepnote_cell_type": "visualization",
    "deepnote_to_be_reexecuted": false,
    "execution_millis": 0,
    "execution_start": 1621856317311,
    "source_hash": "b623e53d"
   },
   "outputs": [],
   "source": []
  },
  {
   "cell_type": "code",
   "execution_count": null,
   "metadata": {
    "cell_id": "00110-f8eaa6b2-be4a-411c-a122-0dc1bf8a5511",
    "deepnote_cell_type": "code",
    "deepnote_to_be_reexecuted": false,
    "execution_millis": 26,
    "execution_start": 1621856317312,
    "source_hash": "8083a7fc"
   },
   "outputs": [],
   "source": [
    "df_joint_norm.isna().sum()"
   ]
  },
  {
   "cell_type": "markdown",
   "metadata": {
    "cell_id": "00111-872ce9d2-ed49-4f79-9f64-d10d13927431",
    "deepnote_cell_type": "markdown"
   },
   "source": [
    "### Split data set into train (80%) & test (20%) groups:\n"
   ]
  },
  {
   "cell_type": "code",
   "execution_count": null,
   "metadata": {
    "cell_id": "00112-4ffc6825-bd7f-421d-98e9-a38b7d3630ac",
    "deepnote_cell_type": "code",
    "deepnote_to_be_reexecuted": false,
    "execution_millis": 8,
    "execution_start": 1621856317315,
    "source_hash": "42c1177d"
   },
   "outputs": [],
   "source": [
    "from sklearn.model_selection import train_test_split\n",
    "\n",
    "feature_cols2 = [\"GEO\", \"TIME_PERIOD\"]\n",
    "feature_cols2.extend(feature_cols)\n",
    "x_train, x_test, y_train, y_test = train_test_split(df_joint_norm[feature_cols2], df_joint_norm[target_cols], stratify=df_joint_norm[\"GEO\"],test_size=0.20, random_state=42)"
   ]
  },
  {
   "cell_type": "markdown",
   "metadata": {
    "cell_id": "00113-164acc24-64f8-4612-aca7-7502d21027f3",
    "deepnote_cell_type": "markdown"
   },
   "source": [
    "## Regression Model - Ordinary Least Squares (OLS)"
   ]
  },
  {
   "cell_type": "code",
   "execution_count": null,
   "metadata": {
    "cell_id": "00114-08f3298c-f90e-485a-9f6b-e93e9fe1e528",
    "deepnote_cell_type": "code",
    "deepnote_to_be_reexecuted": false,
    "execution_millis": 361,
    "execution_start": 1621865653506,
    "source_hash": "80beb89a"
   },
   "outputs": [],
   "source": [
    "# sns.mpl.rcParams['figure.figsize'] = (15.0, 6.5)\n",
    "np.random.seed(42)\n",
    "\n",
    "bpnames = ['Lagrange multiplier statistic', 'p-value', 'f-value', 'f p-value']\n",
    "\n",
    "def linearity_test(model, y, targetvar):\n",
    "    '''\n",
    "    Function for visually inspecting the assumption of linearity in a linear regression model.\n",
    "    It plots observed vs. predicted values and residuals vs. predicted values.\n",
    "    \n",
    "    Args:\n",
    "    * model - fitted OLS model from statsmodels\n",
    "    * y - observed values\n",
    "    * targetvar - name of the target variable\n",
    "    '''\n",
    "    fitted_vals = model.predict()\n",
    "    resids = model.resid\n",
    "\n",
    "    fig, ax = plt.subplots(1,2)\n",
    "    \n",
    "    sns.regplot(x=fitted_vals, y=y, lowess=True, ax=ax[0], line_kws={'color': 'red'})\n",
    "    ax[0].set_title(targetvar + ' Observed vs. Predicted', fontsize=16)\n",
    "    ax[0].set(xlabel='Predicted', ylabel='Observed')\n",
    "\n",
    "    sns.regplot(x=fitted_vals, y=resids, lowess=True, ax=ax[1], line_kws={'color': 'red'})\n",
    "    ax[1].set_title(targetvar + ' Residuals vs. Predicted', fontsize=16)\n",
    "    ax[1].set(xlabel='Predicted', ylabel='Residuals')\n",
    "\n",
    "\n",
    "def check_homoscedasticity(model):\n",
    "    testres = sms.het_breuschpagan(model.resid, model.model.exog)\n",
    "    display(pd.DataFrame(testres, \n",
    "                           columns=['value'],\n",
    "                           index=bpnames).style.set_caption(\"Breusch-Pagan Lagrange Multiplier test for heteroscedasticity\"))\n",
    "    display(\"   Assumption 2 - Homoscedasticity of residuals --> {}\".format(testres[1]>= 0.05))\n",
    "\n",
    "\n",
    "def check_residuals_independence(model):\n",
    "    #perform Breusch-Godfrey test at order p = 3\n",
    "    testres= dg.acorr_breusch_godfrey(model, nlags=3)\n",
    "    display(pd.DataFrame(testres, \n",
    "                           columns=['value'],\n",
    "                           index=bpnames).style.set_caption(\"Breusch-Godfrey Lagrange Multiplier tests for residual autocorrelation\"))    \n",
    "    display(\"    Assumption 3 - Independence of residuals --> {}\".format(testres[1]>= 0.05))\n",
    "    \n",
    "\n",
    "def check_residuals_normaldist(model):\n",
    "    plt.subplots(1,2)\n",
    "    \n",
    "    plt.subplot(1,2,1)\n",
    "    plt.title(model.model.endog_names + \" Normal distribution of residuals\")\n",
    "    sns.distplot(model.resid , fit=norm)\n",
    "    plt.xlabel('Residuals')    \n",
    "\n",
    "    plt.subplot(1,2,2)\n",
    "    stats.probplot(model.resid, plot=plt)\n",
    "    \n",
    "    # Jarque-Bera - \"expectation 4 - normal distribution of residuals\"\n",
    "    testres = sms.jarque_bera(model.resid)\n",
    "    display(pd.DataFrame(testres, columns=['value'], index=['Jarque-Bera', 'Chi^2 two-tail prob.', 'Skew', 'Kurtosis']).style.set_caption(\"Jarque-Bera test of normality\"))    \n",
    "    display(\"    Assumption 4 -normal distribution of residuals --> {}\".format(testres[1]>= 0.05))\n",
    "\n",
    "\n",
    "def check_VIF(X): \n",
    "    vif = [variance_inflation_factor(X.values, i) for i in range(X.shape[1])]\n",
    "    display(pd.DataFrame({'vif': vif[1:]}, index=X.columns[1:]).T.style.set_caption(\"VIF (variance inflation factor) multicollinearity test\"))\n",
    "    \n",
    "    \n",
    "def check_assumptions(trg_name, features_list, x_data, y_data): # editei JM\n",
    "    display(\"============ TARGET: \" + trg_name)\n",
    "    X_constant = sm.add_constant(x_data[features_list[trg_name]])\n",
    "    lin_reg = sm.OLS(y_data[trg_name],X_constant).fit()\n",
    "    display(lin_reg.summary())\n",
    "    display(\"Assumption 1 - mean of residuals is zero: {} --> {}\".format(lin_reg.resid.mean(), round(lin_reg.resid.mean(),1) == 0.0))\n",
    "    check_homoscedasticity(lin_reg)\n",
    "    check_residuals_independence(lin_reg)\n",
    "    check_residuals_normaldist(lin_reg)\n",
    "    check_VIF(X_constant)\n",
    "    linearity_test(lin_reg, y_data[trg_name], trg_name)  \n",
    "\n",
    "\n",
    "def cross_validation_linear(trg_name, features_list, x_data, y_data, k_fold=10, score='r2'): # as standard, compute 10-fold cross validation\n",
    "    scores = cross_val_score(LinearRegression(), x_data[features_list[trg_name]], y_data[trg_name],cv=k_fold, scoring=score)\n",
    "    print(\"Model {} Score: \".format(score), round(scores.mean(), 2))\n",
    "    scores = cross_val_score(LinearRegression(), x_data[features_list[trg_name]], y_data[trg_name],cv=k_fold, scoring=\"neg_mean_absolute_error\")\n",
    "    print(\"Model MAE Score: \", abs(round(scores.mean(), 2)))\n",
    "    scores = cross_val_score(LinearRegression(), x_data[features_list[trg_name]], y_data[trg_name],cv=k_fold, scoring=\"neg_mean_squared_error\")\n",
    "    print(\"Model MSE Score: \", abs(round(scores.mean(), 2)))\n",
    "\n",
    "\n",
    "def cross_validation_poly(trg_name, features_list, x_data, y_data, k_fold=10, score='r2'): # as standard, compute 10-fold cross validation\n",
    "    poly = PolynomialFeatures(degree = 2) \n",
    "    x_poly = poly.fit_transform(x_data[features_list[trg_name]]) \n",
    "    scores = cross_val_score(LinearRegression(), x_poly, y_data[trg_name],cv=k_fold, scoring=score)\n",
    "    print(\"Model {} Score: \".format(score), round(scores.mean(), 2))\n",
    "    scores = cross_val_score(LinearRegression(), x_poly, y_data[trg_name],cv=k_fold, scoring=\"neg_mean_absolute_error\")\n",
    "    print(\"Model MAE Score: \", abs(round(scores.mean(), 2)))\n",
    "    scores = cross_val_score(LinearRegression(), x_poly, y_data[trg_name],cv=k_fold, scoring=\"neg_mean_squared_error\")\n",
    "    print(\"Model MSE Score: \", abs(round(scores.mean(), 2)))\n",
    "\n",
    "def cross_validation_log(trg_name, features_list, x_data, y_data, k_fold=10, score='r2'): # as standard, compute 10-fold cross validation\n",
    "    scores = cross_val_score(LinearRegression(), x_data[features_list[trg_name]], np.log(y_data[trg_name]),cv=k_fold, scoring=score)\n",
    "    print(\"Model {} Score: \".format(score), round(scores.mean(), 2))\n",
    "    scores = cross_val_score(LinearRegression(), x_data[features_list[trg_name]], np.log(y_data[trg_name]),cv=k_fold, scoring=\"neg_mean_absolute_error\")\n",
    "    print(\"Model MAE Score: \", abs(round(scores.mean(), 2)))\n",
    "    scores = cross_val_score(LinearRegression(), x_data[features_list[trg_name]], np.log(y_data[trg_name]),cv=k_fold, scoring=\"neg_mean_squared_error\")\n",
    "    print(\"Model MSE Score: \", abs(round(scores.mean(), 2)))\n",
    "\n",
    "def model_evaluation(trg_name, features_list, degree=1, log=False): # as standard, compute 10-fold cross validation\n",
    "    poly = PolynomialFeatures(degree = degree) \n",
    "    x_poly_train = poly.fit_transform(x_train[features_list[trg_name]]) \n",
    "    x_poly_test = poly.fit_transform(x_test[features_list[trg_name]]) \n",
    "\n",
    "    if log:\n",
    "        new_y_train = np.log(y_train[trg_name][y_train[trg_name]>0])\n",
    "        new_y_test = np.log(y_test[trg_name][y_test[trg_name]>0])\n",
    "        x_poly_train = x_poly_train[y_train[trg_name]>0]\n",
    "        x_poly_test = x_poly_test[y_test[trg_name]>0]\n",
    "    else:\n",
    "        new_y_train = y_train[trg_name]\n",
    "        new_y_test = y_test[trg_name]\n",
    "\n",
    "    # create and train model\n",
    "    model = LinearRegression()\n",
    "    model.fit(x_poly_train, new_y_train)\n",
    "    # predict\n",
    "    y_pred = model.predict(x_poly_test)\n",
    "    mse = np.mean((y_pred - new_y_test)**2)\n",
    "    mae = np.mean(abs((y_pred - new_y_test)))\n",
    "    rsquare= model.score(x_poly_test, new_y_test)\n",
    "    display(\"MSE = {}\".format(mse))\n",
    "    display(\"MAE = {}\".format(mae))\n",
    "    display(\"R² = {}\".format(rsquare))\n",
    "    \n",
    "    if log:\n",
    "        y_pred=np.exp(y_pred)\n",
    "        new_y_test=np.exp(new_y_test)\n",
    "\n",
    "\n",
    "    resids = np.abs(new_y_test-y_pred)\n",
    "    resids.name = resids.name+\"_ABS_ERROR\"\n",
    "    display(\"=== TOP 5 prediction errors:\", x_test.loc[resids.sort_values().tail().index][[\"GEO\", \"TIME_PERIOD\"]].join(resids.sort_values().tail(), how=\"inner\"))\n",
    "\n",
    "    fig, ax = plt.subplots(1,2)\n",
    "    sns.regplot(x=y_pred, y=new_y_test, lowess=True, ax=ax[0], line_kws={'color': 'red'})\n",
    "    ax[0].set_title(trg_name + ' Observed vs. Predicted', fontsize=16)\n",
    "    ax[0].set(xlabel='Predicted', ylabel='Observed')\n",
    "\n",
    "    plt.plot(range(new_y_test.size), new_y_test, color=\"red\")\n",
    "    plt.plot(y_pred, color=\"blue\")\n",
    "    plt.xlabel(\"Observation\")\n",
    "    plt.ylabel(trg_name)\n",
    "    plt.legend([\"observed\", \"predicted\"], loc=\"upper right\")\n",
    "    \n",
    "targets = [\"C_HTC_PERC_OF_MANUF\", \"C_HTC_CP_MEUR\", \"C_HTC_M_PERC_OF_MANUF\", \"C_HTC_M_CP_MEUR\", \"KIS_PERC_OF_SERV\", \"KIS_CP_MEUR\"]\n"
   ]
  },
  {
   "cell_type": "code",
   "execution_count": null,
   "metadata": {
    "cell_id": "00115-205ff055-7c37-4a65-812c-a1aa9ccd0231",
    "deepnote_cell_type": "code",
    "deepnote_to_be_reexecuted": false,
    "execution_millis": 1,
    "execution_start": 1621856318022,
    "source_hash": "6a536519"
   },
   "outputs": [],
   "source": [
    "# Lasso specific:\n",
    "class model_wrapper:\n",
    "    def __init__(self, model, resids, y, target_name):\n",
    "        self.model = model\n",
    "        self.model.exog = y\n",
    "        self.model.endog_names = target_name\n",
    "        self.resid = resids\n",
    "    def predict(self):\n",
    "        return self.model.exog\n",
    "\n",
    "def AIC_BIC(X, y, residuals):\n",
    "    n = y.size\n",
    "    k = X.columns.size + 1 # add intercept\n",
    "    # print(\"n={}; k={}\".format(n, k))\n",
    "\n",
    "    #log likelihood\n",
    "    ll = -(n * 1/2) * (1 + np.log(2 * np.pi)) - (n / 2) * np.log(residuals.dot(residuals) / n)\n",
    "\n",
    "    # AIC + BIC\n",
    "    AIC = (-2 * ll) + (2 * k)\n",
    "    BIC = (-2 * ll) + (k * np.log(n))\n",
    "\n",
    "    return AIC, BIC\n",
    "\n",
    "def lasso_linearity_test(y, fitted_vals, residuals, targetvar):\n",
    "    fig, ax = plt.subplots(1,2)\n",
    "    \n",
    "    sns.regplot(x=fitted_vals, y=y, lowess=True, ax=ax[0], line_kws={'color': 'red'})\n",
    "    ax[0].set_title(targetvar + ' Observed vs. Predicted', fontsize=16)\n",
    "    ax[0].set(xlabel='Predicted', ylabel='Observed')\n",
    "\n",
    "    sns.regplot(x=fitted_vals, y=residuals, lowess=True, ax=ax[1], line_kws={'color': 'red'})\n",
    "    ax[1].set_title(targetvar + ' Residuals vs. Predicted', fontsize=16)\n",
    "    ax[1].set(xlabel='Predicted', ylabel='Residuals')\n",
    "\n",
    "clf = linear_model.Lasso(alpha=0.1)\n",
    "\n",
    "def lasso_regression_current_target():\n",
    "    display(\"============ TARGET: \" + target)\n",
    "\n",
    "    my_y = y_train.copy()\n",
    "    my_y=my_y.drop(my_y.columns.difference([target]), 1)\n",
    "\n",
    "    lin_reg = clf.fit(x_train[feature_cols], my_y)\n",
    "    display(pd.DataFrame([np.insert(lin_reg.coef_,0,lin_reg.intercept_)], columns=[\"intercept\"]+feature_cols))\n",
    "    display(\"R² = {}\".format(clf.score(x_train[feature_cols], my_y)))\n",
    "\n",
    "    y_pred = lin_reg.predict(x_train[feature_cols])\n",
    "\n",
    "    resids = y_train[target]-y_pred\n",
    "    AICBIC = AIC_BIC(x_train[feature_cols], my_y, resids)\n",
    "    display(pd.DataFrame({\"AIC\": [AICBIC[0]], \"BIC\": [AICBIC[1]]}))\n",
    "    lasso_linearity_test(my_y, y_pred, resids, target)\n",
    "    display(\"    Expectation 1 - mean of residuals is zero: {} --> {}\".format(resids.mean(), round(resids.mean(),1) == 0.0))\n",
    "    check_homoscedasticity(model_wrapper(lin_reg, resids, x_train[feature_cols], target))\n",
    "    check_residuals_independence(model_wrapper(lin_reg, resids, x_train[feature_cols], target))\n",
    "    check_residuals_normaldist(model_wrapper(lin_reg, resids, x_train[feature_cols], target))\n",
    "    "
   ]
  },
  {
   "cell_type": "markdown",
   "metadata": {
    "cell_id": "00116-4860a500-e12e-4788-b411-12152a3687b9",
    "deepnote_cell_type": "markdown"
   },
   "source": [
    "### Stepwise feature elimination\n",
    "\n",
    "Given the still high number of features per target variable and the fact that some of them are correlated and create problems of multicollinearity for our models, we decided on eliminating features. For that, we decided on performing stepwise elimination using two methods:\n",
    "- Eliminate non-significant features by building a Multivariate Linear Regression model and - at each step - eliminate the most non-significant variable (the variable with the highest p-value, above 0.05).\n",
    "- Eliminate variables that are highly correlated to other variables in the model and are considered to create multicollinearity problems. At each step we check the VIF (variance inflation factor) of all the variables still considered for the target variable, we eliminate the variable with the highest vif, as long as it is above five. This way we make sure from highly correlated variables at least one significant one is kept in the model.\n"
   ]
  },
  {
   "cell_type": "code",
   "execution_count": null,
   "metadata": {
    "cell_id": "00117-78a66b76-8088-4c66-893e-bdf49b46f351",
    "deepnote_cell_type": "code",
    "deepnote_to_be_reexecuted": false,
    "execution_millis": 133,
    "execution_start": 1621856318023,
    "source_hash": "50d5844f"
   },
   "outputs": [],
   "source": [
    "# stepwise feature elimination using Multivariate linear regression p-values\n",
    "for trg_name in target_cols:\n",
    "    while True:\n",
    "        X_constant = sm.add_constant(x_train[interestingFeatures[trg_name]])\n",
    "        lin_reg = sm.OLS(y_train[trg_name], X_constant).fit()\n",
    "        pvals = round(lin_reg.pvalues[1:],3)\n",
    "        if pvals.size == 0 or pvals.sort_values(ascending=False)[0] <= 0.05:\n",
    "            break\n",
    "        else:\n",
    "            interestingFeatures[trg_name] = interestingFeatures[trg_name][interestingFeatures[trg_name] != pvals.sort_values(ascending=False).index[0]]\n",
    "            # display(pvals.sort_values(ascending=False)[0], pvals.sort_values(ascending=False).index[0])\n",
    " \n",
    "# stepwise feature elimination based on VIF\n",
    "for trg_name in target_cols:\n",
    "    while True:\n",
    "        X_constant = sm.add_constant(x_train[interestingFeatures[trg_name]])\n",
    "        #display(interestingFeatures[trg_name], X_constant.shape[1])\n",
    "        vif =  [variance_inflation_factor(X_constant.values, i) for i in range(X_constant.shape[1])]\n",
    "        vif = vif[1:]\n",
    "        vif = pd.Series(vif)\n",
    "        vif = vif[vif > 5]\n",
    "        #display(vif)\n",
    "        #display(vif.sort_values(ascending=False))\n",
    "        #display(vif.sort_values(ascending=False).index[0])\n",
    "        if vif.size == 0:\n",
    "            break\n",
    "        else:\n",
    "            #display(vif)\n",
    "            #display(interestingFeatures[trg_name], vif.sort_values(ascending=False).index[0])        \n",
    "            interestingFeatures[trg_name] = np.delete(interestingFeatures[trg_name], vif.sort_values(ascending=False).index[0])\n",
    " \n",
    "display(interestingFeatures)"
   ]
  },
  {
   "cell_type": "markdown",
   "metadata": {
    "cell_id": "00118-c3d54c8b-d24d-49ec-944a-3f426890765b",
    "deepnote_cell_type": "markdown"
   },
   "source": [
    "## Modeling and validation target variable 1: C_HTC_PERC_OF_MANUF \n",
    "\n",
    " High Tech industry - added value as percentage of manufacturing"
   ]
  },
  {
   "cell_type": "markdown",
   "metadata": {
    "cell_id": "00119-62f22cbc-ec6d-4c75-a589-5cfe7b213589",
    "deepnote_cell_type": "markdown"
   },
   "source": [
    "### Model 1\n",
    "With this model we are picking only the variables selected with the SelectKBest method before and also only the signigficant ones that don't cause multicollinearity problems.\n"
   ]
  },
  {
   "cell_type": "code",
   "execution_count": null,
   "metadata": {
    "cell_id": "00120-11f5a01f-7ecf-4302-afc0-1236a2d638a3",
    "deepnote_cell_type": "code",
    "deepnote_to_be_reexecuted": false,
    "execution_millis": 4741,
    "execution_start": 1621856318150,
    "source_hash": "b7c7bca7"
   },
   "outputs": [],
   "source": [
    "target = \"C_HTC_PERC_OF_MANUF\"\n",
    "\n",
    "sns.pairplot(df_joint_norm[[target] + interestingFeatures[target].tolist()])\n",
    "check_assumptions(target, interestingFeatures, x_train, y_train)\n"
   ]
  },
  {
   "cell_type": "markdown",
   "metadata": {
    "cell_id": "00121-f4aa82b5-2a4f-4d8c-998e-f79ed81f5fe3",
    "deepnote_cell_type": "markdown"
   },
   "source": [
    "\n",
    "Recap of Model 1 for target `C_HTC_PERC_OF_MANUF` - High Tech industry - added value as percentage of manufacturing:\n",
    "\n",
    "- Adj. R-squared:\t0.323\n",
    "  \n",
    "- AIC:\t922.9\n",
    "  \n",
    "- Assumptions not met: \n",
    "\n",
    "  2 - Homoscedasticity of residuals; \n",
    "  4 – Normal distribution of residuals; \n",
    "\n",
    "Strategies to apply to next model:  \n",
    "    - We will try a polynomial model to improve our model.     "
   ]
  },
  {
   "cell_type": "markdown",
   "metadata": {
    "cell_id": "00122-dfb9f507-bdf8-47ee-869d-4e6a55a903d4",
    "deepnote_cell_type": "markdown"
   },
   "source": [
    "### Target Variable 1 Cross-Validation With Model 1 and 10-fold method:"
   ]
  },
  {
   "cell_type": "code",
   "execution_count": null,
   "metadata": {
    "cell_id": "00123-e07f0e4c-6790-41ef-a314-5c0a84c22e10",
    "deepnote_cell_type": "code",
    "deepnote_to_be_reexecuted": false,
    "execution_millis": 128,
    "execution_start": 1621856322882,
    "source_hash": "16055419"
   },
   "outputs": [],
   "source": [
    "cross_validation_linear(target, interestingFeatures, x_train, y_train, k_fold=10)"
   ]
  },
  {
   "cell_type": "code",
   "execution_count": null,
   "metadata": {
    "cell_id": "00124-4897528a-f359-4481-aa67-4046f3335434",
    "deepnote_cell_type": "code",
    "deepnote_to_be_reexecuted": false,
    "execution_millis": 874,
    "execution_start": 1621856323046,
    "source_hash": "2f4ed493"
   },
   "outputs": [],
   "source": [
    "model_evaluation(\"C_HTC_PERC_OF_MANUF\", interestingFeatures)"
   ]
  },
  {
   "cell_type": "markdown",
   "metadata": {
    "cell_id": "00125-1fef4c21-b345-4bc4-9fd6-fa8bf4e07bd6",
    "deepnote_cell_type": "markdown"
   },
   "source": [
    "### Model 2 - Try the polynomial feature transformation\n",
    "\n"
   ]
  },
  {
   "cell_type": "code",
   "execution_count": null,
   "metadata": {
    "cell_id": "00126-2d1f7578-a34a-4a58-a515-19472d6459d6",
    "deepnote_cell_type": "code",
    "deepnote_to_be_reexecuted": false,
    "execution_millis": 1236,
    "execution_start": 1621856323646,
    "source_hash": "6d84e747"
   },
   "outputs": [],
   "source": [
    "from sklearn.preprocessing import PolynomialFeatures \n",
    "poly = PolynomialFeatures(degree = 2) \n",
    "target = \"C_HTC_PERC_OF_MANUF\"\n",
    "display(\"============ TARGET: \" + target)\n",
    "\n",
    "# C_HTC_PERC_OF_MANUF Using polinomial features\n",
    "X_poly = poly.fit_transform(x_train[interestingFeatures[target]])  \n",
    "poly.fit(X_poly, y_train[target]) \n",
    "X_poly = sm.add_constant(X_poly)\n",
    "results = sm.OLS(y_train[target], X_poly).fit()\n",
    "display(results.summary())\n",
    "display(\"    Expectation 1 - mean of residuals is zero: {} --> {}\".format(results.resid.mean(), round(results.resid.mean(),1) == 0.0))\n",
    "check_homoscedasticity(results)\n",
    "check_residuals_independence(results)\n",
    "check_residuals_normaldist(results)\n",
    "vif = [variance_inflation_factor(X_poly, i) for i in range(X_poly.shape[1])]\n",
    "display(pd.DataFrame({'vif': vif[1:]}).T.style.set_caption(\"VIF (variance inflation factor) multicollinearity test\"))\n",
    "linearity_test(results, y_train[target], target)\n",
    "#display(poly.get_feature_names(x_train[interestingFeatures[target]].columns))"
   ]
  },
  {
   "cell_type": "markdown",
   "metadata": {
    "cell_id": "00127-3bc57fb6-dfd7-4117-afd8-e20d52593b3f",
    "deepnote_cell_type": "markdown"
   },
   "source": [
    "#### Model 2 round-up:  \n",
    "\n",
    "Recap of target `C_HTC_PERC_OF_MANUF` - High Tech industry - added value as percentage of manufacturing:\n",
    "\n",
    "- Adj. R-squared:\t0.389 (better then 0.323 in model 1)\n",
    "  \n",
    "- AIC:\t915.5 (slightly worst then the model 1's 922.9)\n",
    "  \n",
    "- Assumptions not met stay the same: \n",
    "\n",
    "  2 - Homoscedasticity of residuals; \n",
    "  4 – Normal distribution of residuals; \n",
    "  \n",
    "  \n",
    "Strategies to apply to next model:  \n",
    "    - We will try a non linear transformation."
   ]
  },
  {
   "cell_type": "markdown",
   "metadata": {
    "cell_id": "00128-cf2713d3-1e91-4260-aa2a-670a21ae0ca1",
    "deepnote_cell_type": "markdown"
   },
   "source": [
    "Testing Cross-validation of the model:"
   ]
  },
  {
   "cell_type": "code",
   "execution_count": null,
   "metadata": {
    "cell_id": "00129-a0032bee-0bf9-43d8-a138-8e26dee1422d",
    "deepnote_cell_type": "code",
    "deepnote_to_be_reexecuted": false,
    "execution_millis": 54,
    "execution_start": 1621856324889,
    "source_hash": "db28803"
   },
   "outputs": [],
   "source": [
    "cross_validation_poly(target, interestingFeatures, x_train, y_train, k_fold=10)"
   ]
  },
  {
   "cell_type": "code",
   "execution_count": null,
   "metadata": {
    "cell_id": "00130-188d650e-4934-48ed-85fe-8539751e5f46",
    "deepnote_cell_type": "code",
    "deepnote_to_be_reexecuted": false,
    "execution_millis": 638,
    "execution_start": 1621856324937,
    "source_hash": "244a48c"
   },
   "outputs": [],
   "source": [
    "model_evaluation(\"C_HTC_PERC_OF_MANUF\", interestingFeatures, degree=2)"
   ]
  },
  {
   "cell_type": "markdown",
   "metadata": {
    "cell_id": "00131-c612ae59-7842-4769-9658-d9e523f7b8fc",
    "deepnote_cell_type": "markdown"
   },
   "source": [
    "### Model 3 - non-linear transformation\n",
    "\n",
    "Since we will use log of the target variable, let's check any existing  zeros."
   ]
  },
  {
   "cell_type": "code",
   "execution_count": null,
   "metadata": {
    "cell_id": "00132-a31987f1-e80e-4ade-a670-9e5295871e6d",
    "deepnote_cell_type": "code",
    "deepnote_to_be_reexecuted": false,
    "execution_millis": 28,
    "execution_start": 1621856325618,
    "source_hash": "24067dd8"
   },
   "outputs": [],
   "source": [
    "# Check zeros in our target variable\n",
    "display(joint_dataset2[ [\"TIME_PERIOD\", \"GEO\",target] + interestingFeatures[target].tolist() ][joint_dataset2[target]<=0])"
   ]
  },
  {
   "cell_type": "markdown",
   "metadata": {
    "cell_id": "00133-3c98af02-9423-48c0-803a-5ebb5a2e5610",
    "deepnote_cell_type": "markdown"
   },
   "source": [
    "Seems like LU (Luxemburg) has all zeros for these target variables, so we will exclude it before moving on with the new model."
   ]
  },
  {
   "cell_type": "markdown",
   "metadata": {
    "cell_id": "00134-c10c4cf3-f29b-4bc6-98aa-1cf5ba7158a4",
    "deepnote_cell_type": "markdown"
   },
   "source": [
    "Zeros in our current training set:"
   ]
  },
  {
   "cell_type": "code",
   "execution_count": null,
   "metadata": {
    "cell_id": "00135-d5525488-ff22-4140-b95a-06735d144e77",
    "deepnote_cell_type": "code",
    "deepnote_to_be_reexecuted": false,
    "execution_millis": 14,
    "execution_start": 1621856325662,
    "source_hash": "d1ea39d5"
   },
   "outputs": [],
   "source": [
    "# Check zeros in our target variable\n",
    "display(x_train[ [\"TIME_PERIOD\", \"GEO\"] + interestingFeatures[target].tolist() ][y_train[target]<=0])"
   ]
  },
  {
   "cell_type": "code",
   "execution_count": null,
   "metadata": {
    "cell_id": "00136-6a7ae622-8fb8-4e0f-8d76-6843198c919a",
    "deepnote_cell_type": "code",
    "deepnote_to_be_reexecuted": false,
    "execution_millis": 1544,
    "execution_start": 1621856325671,
    "source_hash": "fbb247eb"
   },
   "outputs": [],
   "source": [
    "# remove zeros (all from LU, as seen above)\n",
    "df = pd.merge(y_train[y_train[target]!=0], x_train[interestingFeatures[target]][y_train[target]!=0], left_index=True, right_index=True)\n",
    "formula=\"np.log({})\".format(target) + \" ~ \" + \" + \".join(interestingFeatures[target])\n",
    "print(\"formula: \", formula)\n",
    "lin_reg = sm.OLS.from_formula(formula, df).fit()\n",
    "display(lin_reg.summary())\n",
    "display(\"    Expectation 1 - mean of residuals is zero: {} --> {}\".format(lin_reg.resid.mean(), round(lin_reg.resid.mean(),1) == 0.0))\n",
    "check_homoscedasticity(lin_reg)\n",
    "check_residuals_independence(lin_reg)\n",
    "check_residuals_normaldist(lin_reg)\n",
    "check_VIF(df[interestingFeatures[target]])\n",
    "linearity_test(lin_reg, df[target], target)    \n"
   ]
  },
  {
   "cell_type": "markdown",
   "metadata": {
    "cell_id": "00137-2dd8c7c8-28e1-4c57-85da-81cf1a0279f7",
    "deepnote_cell_type": "markdown"
   },
   "source": [
    "#### Model 3 round-up:  \n",
    "\n",
    "Recap of target `C_HTC_PERC_OF_MANUF` - High Tech industry - added value as percentage of manufacturing:\n",
    "\n",
    "- Adj. R-squared:\t0.416  (better then 0.389 in model 2 and  0.323 in model 1)\n",
    "  \n",
    "- AIC:\t184.1 (much worse then 922.9 in model 1 and 915.5 in model 2)\n",
    "  \n",
    "- Assumptions not met stay the same: \n",
    "\n",
    "  2 - Homoscedasticity of residuals; \n",
    "  4 – Normal distribution of residuals; \n",
    "  \n",
    "Model 2 is the best up to now.\n",
    "\n",
    "Strategies to apply to next model:  \n",
    "    - Lasso regresison"
   ]
  },
  {
   "cell_type": "code",
   "execution_count": null,
   "metadata": {
    "cell_id": "00138-23210452-0b99-461f-bdd1-c48e5b19c133",
    "deepnote_cell_type": "code",
    "deepnote_to_be_reexecuted": false,
    "execution_millis": 138,
    "execution_start": 1621856327239,
    "source_hash": "d9335395"
   },
   "outputs": [],
   "source": [
    "cross_validation_log(target, interestingFeatures, x_train[interestingFeatures[target]][y_train[target]!=0], y_train[y_train[target]!=0], k_fold=10)"
   ]
  },
  {
   "cell_type": "code",
   "execution_count": null,
   "metadata": {
    "cell_id": "00139-a7f47653-fbe4-4c97-8d20-2d7d60c6414b",
    "deepnote_cell_type": "code",
    "deepnote_to_be_reexecuted": false,
    "execution_millis": 631,
    "execution_start": 1621856327381,
    "source_hash": "1784d08d"
   },
   "outputs": [],
   "source": [
    "model_evaluation(\"C_HTC_PERC_OF_MANUF\", interestingFeatures, log=True)"
   ]
  },
  {
   "cell_type": "markdown",
   "metadata": {
    "cell_id": "00140-39617b93-b48f-4400-a4ed-7dab3c1e538c",
    "deepnote_cell_type": "markdown"
   },
   "source": [
    "### Model 4 - Lasso regression"
   ]
  },
  {
   "cell_type": "code",
   "execution_count": null,
   "metadata": {
    "cell_id": "00141-b6937c77-73f1-4e4a-a740-31389bf5e70e",
    "deepnote_cell_type": "code",
    "deepnote_to_be_reexecuted": false,
    "execution_millis": 1343,
    "execution_start": 1621856328010,
    "source_hash": "7edce1e6"
   },
   "outputs": [],
   "source": [
    "lasso_regression_current_target()"
   ]
  },
  {
   "cell_type": "markdown",
   "metadata": {
    "cell_id": "00142-f6ad98c1-3204-40a0-923b-3d51ca040aed",
    "deepnote_cell_type": "markdown"
   },
   "source": [
    "#### Model 4 round-up:  \n",
    "\n",
    "Recap of target `C_HTC_PERC_OF_MANUF` - High Tech industry - added value as percentage of manufacturing:\n",
    "\n",
    "- Adj. R-squared:\t0.359  (worst then model 3's 0.416 and 0.389 in model 2)\n",
    "  \n",
    "- AIC:\tnot comparable (much worse then 847.8 in model 1 and 843.0 in model 2)\n",
    "  \n",
    "- Assumptions not met stay the same: \n",
    "\n",
    "  2 - Homoscedasticity of residuals; \n",
    "  3 - Independence of residuals;\n",
    "  4 – Normal distribution of residuals; \n",
    "  \n",
    "Model 2 is the best up to now."
   ]
  },
  {
   "cell_type": "markdown",
   "metadata": {
    "cell_id": "00143-1534ebbc-b184-4161-b705-08f833550f38",
    "deepnote_cell_type": "markdown"
   },
   "source": [
    "## Modeling and validation target variable 2: C_HTC_CP_MEUR\n",
    "\n",
    "High tech added value in million Euro"
   ]
  },
  {
   "cell_type": "markdown",
   "metadata": {
    "cell_id": "00144-968b1969-ce92-4670-bda8-15e372be3780",
    "deepnote_cell_type": "markdown"
   },
   "source": [
    "### Model 1\n",
    "With this model we are picking only the variables selected with the SelectKBest method before.\n"
   ]
  },
  {
   "cell_type": "code",
   "execution_count": null,
   "metadata": {
    "cell_id": "00145-a1320d82-a13d-47c9-9c74-5edd44add4e8",
    "deepnote_cell_type": "code",
    "deepnote_to_be_reexecuted": false,
    "execution_millis": 8468,
    "execution_start": 1621856329351,
    "source_hash": "2269dcec"
   },
   "outputs": [],
   "source": [
    "target = \"C_HTC_CP_MEUR\"\n",
    "\n",
    "sns.pairplot(df_joint_norm[[target] + interestingFeatures[target].tolist()])\n",
    "check_assumptions(target, interestingFeatures, x_train, y_train)"
   ]
  },
  {
   "cell_type": "markdown",
   "metadata": {
    "cell_id": "00146-eb01ddc0-d165-4bea-a384-066fcb849639",
    "deepnote_cell_type": "markdown"
   },
   "source": [
    "Recap target `C_HTC_CP_MEUR` - High tech added value in million Euro:\n",
    "\n",
    "- Adj. R-squared:\t0.888\n",
    "  \n",
    "- AIC:\t-318.7 \n",
    "  \n",
    "- Assumptions not met: \n",
    "  \n",
    "  2 - Homoscedasticity of residuals; \n",
    "  4 – Normal distribution of residuals; \n",
    "\n",
    "  Strategies for next model :\n",
    "    - Apply polynomial feature transformation\n",
    "   "
   ]
  },
  {
   "cell_type": "code",
   "execution_count": null,
   "metadata": {
    "cell_id": "00147-2d0b3834-2c12-470c-a67c-3fdc5f639bde",
    "deepnote_cell_type": "code",
    "deepnote_to_be_reexecuted": false,
    "execution_millis": 131,
    "execution_start": 1621856337811,
    "source_hash": "16055419"
   },
   "outputs": [],
   "source": [
    "cross_validation_linear(target, interestingFeatures, x_train, y_train, k_fold=10)"
   ]
  },
  {
   "cell_type": "code",
   "execution_count": null,
   "metadata": {
    "cell_id": "00148-2b52877d-e4cf-402a-978d-444a89b5a724",
    "deepnote_cell_type": "code",
    "deepnote_to_be_reexecuted": false,
    "execution_millis": 863,
    "execution_start": 1621856337963,
    "source_hash": "8c17e16b"
   },
   "outputs": [],
   "source": [
    "model_evaluation(\"C_HTC_CP_MEUR\", interestingFeatures)"
   ]
  },
  {
   "cell_type": "markdown",
   "metadata": {
    "cell_id": "00149-1ac54007-8fc6-4d2e-be4d-40f25cc04ce2",
    "deepnote_cell_type": "markdown"
   },
   "source": [
    "### Model 2 - Try the polynomial feature transformation\n",
    "\n"
   ]
  },
  {
   "cell_type": "code",
   "execution_count": null,
   "metadata": {
    "cell_id": "00150-3db8c0c0-4805-4fa7-a6f5-aacb3f5319c8",
    "deepnote_cell_type": "code",
    "deepnote_to_be_reexecuted": false,
    "execution_millis": 1333,
    "execution_start": 1621856338829,
    "source_hash": "db06733e"
   },
   "outputs": [],
   "source": [
    "from sklearn.preprocessing import PolynomialFeatures \n",
    "poly = PolynomialFeatures(degree = 2) \n",
    "\n",
    "display(\"============ TARGET: \" + target)\n",
    "\n",
    "# C_HTC_PERC_OF_MANUF Using polinomial features\n",
    "X_poly = poly.fit_transform(x_train[interestingFeatures[target]])  \n",
    "poly.fit(X_poly, y_train[target]) \n",
    "X_poly = sm.add_constant(X_poly)\n",
    "results = sm.OLS(y_train[target], X_poly).fit()\n",
    "display(results.summary())\n",
    "display(\"    Expectation 1 - mean of residuals is zero: {} --> {}\".format(results.resid.mean(), round(results.resid.mean(),1) == 0.0))\n",
    "check_homoscedasticity(results)\n",
    "check_residuals_independence(results)\n",
    "check_residuals_normaldist(results)\n",
    "vif = [variance_inflation_factor(X_poly, i) for i in range(X_poly.shape[1])]\n",
    "display(pd.DataFrame({'vif': vif[1:]}).T.style.set_caption(\"VIF (variance inflation factor) multicollinearity test\"))\n",
    "linearity_test(results, y_train[target], target)\n"
   ]
  },
  {
   "cell_type": "markdown",
   "metadata": {
    "cell_id": "00151-891571d9-54d9-4551-a09b-408629ee2354",
    "deepnote_cell_type": "markdown"
   },
   "source": [
    "Recap target `C_HTC_CP_MEUR` - High tech added value in million Euro:\n",
    "\n",
    "- Adj. R-squared:\t0.970 (better then 0.888 in Model 1 but maybe pointing at overfitting?)\n",
    "  \n",
    "- AIC:\t-473.4 (much worse then -318.7)\n",
    "  \n",
    "- Assumptions not met: \n",
    "  \n",
    "  2 - Homoscedasticity of residuals; \n",
    "  4 – Normal distribution of residuals; \n",
    "\n",
    "  \n",
    "Strategies to apply to next model:  \n",
    "    - We will try a non linear transformation."
   ]
  },
  {
   "cell_type": "code",
   "execution_count": null,
   "metadata": {
    "cell_id": "00152-66afa41c-a94c-4693-b268-869711daf16a",
    "deepnote_cell_type": "code",
    "deepnote_to_be_reexecuted": false,
    "execution_millis": 62,
    "execution_start": 1621856340155,
    "source_hash": "db28803"
   },
   "outputs": [],
   "source": [
    "cross_validation_poly(target, interestingFeatures, x_train, y_train, k_fold=10)"
   ]
  },
  {
   "cell_type": "code",
   "execution_count": null,
   "metadata": {
    "cell_id": "00153-05058e15-7a73-4b12-b8c9-f9b040a91022",
    "deepnote_cell_type": "code",
    "deepnote_to_be_reexecuted": false,
    "execution_millis": 669,
    "execution_start": 1621856340208,
    "source_hash": "3fb6af24"
   },
   "outputs": [],
   "source": [
    "model_evaluation(\"C_HTC_CP_MEUR\", interestingFeatures, degree=2)"
   ]
  },
  {
   "cell_type": "markdown",
   "metadata": {
    "cell_id": "00154-cbbebf8b-a517-419a-ac6e-580c0032798a",
    "deepnote_cell_type": "markdown"
   },
   "source": [
    "### Model 3 - non-linear transformation\n",
    "\n",
    "Since we will use log of the target variable, let's check any existing  zeros."
   ]
  },
  {
   "cell_type": "code",
   "execution_count": null,
   "metadata": {
    "cell_id": "00155-92591be6-cabe-46a1-ab88-5fde6dd6a3d8",
    "deepnote_cell_type": "code",
    "deepnote_to_be_reexecuted": false,
    "execution_millis": 48,
    "execution_start": 1621856340899,
    "source_hash": "8279a1c1"
   },
   "outputs": [],
   "source": [
    "# Check zeros in our target variable\n",
    "display(joint_dataset2[ [\"TIME_PERIOD\", \"GEO\", target] + interestingFeatures[target].tolist() ][joint_dataset2[target]<=0])"
   ]
  },
  {
   "cell_type": "markdown",
   "metadata": {
    "cell_id": "00156-96995c83-8550-47ee-92bc-fab7a0d57561",
    "deepnote_cell_type": "markdown"
   },
   "source": [
    "Seems like LU (Luxemburg) has all zeros for these target variables, so we will exclude it before moving on with the new model."
   ]
  },
  {
   "cell_type": "code",
   "execution_count": null,
   "metadata": {
    "cell_id": "00157-327f477b-6519-415b-891f-7d0b1beacca3",
    "deepnote_cell_type": "code",
    "deepnote_to_be_reexecuted": false,
    "execution_millis": 1251,
    "execution_start": 1621856340937,
    "source_hash": "fbb247eb"
   },
   "outputs": [],
   "source": [
    "# remove zeros (all from LU, as seen above)\n",
    "df = pd.merge(y_train[y_train[target]!=0], x_train[interestingFeatures[target]][y_train[target]!=0], left_index=True, right_index=True)\n",
    "formula=\"np.log({})\".format(target) + \" ~ \" + \" + \".join(interestingFeatures[target])\n",
    "print(\"formula: \", formula)\n",
    "lin_reg = sm.OLS.from_formula(formula, df).fit()\n",
    "display(lin_reg.summary())\n",
    "display(\"    Expectation 1 - mean of residuals is zero: {} --> {}\".format(lin_reg.resid.mean(), round(lin_reg.resid.mean(),1) == 0.0))\n",
    "check_homoscedasticity(lin_reg)\n",
    "check_residuals_independence(lin_reg)\n",
    "check_residuals_normaldist(lin_reg)\n",
    "check_VIF(df[interestingFeatures[target]])\n",
    "linearity_test(lin_reg, df[target], target)    \n"
   ]
  },
  {
   "cell_type": "markdown",
   "metadata": {
    "cell_id": "00158-d9610418-81bb-477a-aac0-7250ff65ca69",
    "deepnote_cell_type": "markdown"
   },
   "source": [
    "#### Model 3 round-up:  \n",
    "\n",
    "Target `C_HTC_CP_MEUR` - High tech added value in million Euro\n",
    "\n",
    "- Features: \n",
    "  - \"EMPLOYMENT_C_HTC_MH\" - Employment in High Tech and Medium High Tech industries\n",
    "  - \"EMPLOYMENT_KIS\" - Employment in Knowledge Intensive Services;\n",
    "  - \"GERDS_BES_EUR_HAB\" - Gross private expenditure in Research and Development, in Euro per habitant;\n",
    "  - \"GERDS_BES_MIO_EUR\" - Gross private expenditure in Research and Development, in million Euro.\n",
    "  - \"GERDS_GOV_EUR_HAB\" - Gross government expenditure in Research and Development, in Euro per habitant;\n",
    " \n",
    "- Adj. R-squared:\t0.641\t(much worse then the Model 2 0.970)\n",
    "  \n",
    "- AIC:\t287.6 (much better then Model 2's -473.4)\n",
    "  \n",
    "- Assumptions not met are reduced to: \n",
    "  \n",
    "  2 - Homoscedasticity of residuals; \n",
    "\n",
    "We were able to improve the normal distribution of residuals.\n",
    " \n",
    "Strategies to apply to next model, in order to try to fix the assumptions that are not met:  \n",
    "    - Try a Lasso regression.  \n",
    "  "
   ]
  },
  {
   "cell_type": "code",
   "execution_count": null,
   "metadata": {
    "cell_id": "00159-3be258d3-de0a-49ef-a7ea-b37a2170a93c",
    "deepnote_cell_type": "code",
    "deepnote_to_be_reexecuted": false,
    "execution_millis": 137,
    "execution_start": 1621856342183,
    "source_hash": "d9335395"
   },
   "outputs": [],
   "source": [
    "cross_validation_log(target, interestingFeatures, x_train[interestingFeatures[target]][y_train[target]!=0], y_train[y_train[target]!=0], k_fold=10)"
   ]
  },
  {
   "cell_type": "code",
   "execution_count": null,
   "metadata": {
    "cell_id": "00160-2e1345dd-dec0-48f1-aa17-c6da3e9f0463",
    "deepnote_cell_type": "code",
    "deepnote_to_be_reexecuted": false,
    "execution_millis": 689,
    "execution_start": 1621856342324,
    "source_hash": "196c377"
   },
   "outputs": [],
   "source": [
    "model_evaluation(\"C_HTC_CP_MEUR\", interestingFeatures, log=True)"
   ]
  },
  {
   "cell_type": "markdown",
   "metadata": {
    "cell_id": "00161-442d7065-7e28-4f44-9a79-fbbbb737fcb6",
    "deepnote_cell_type": "markdown"
   },
   "source": [
    "### Model 4 - Lasso regression"
   ]
  },
  {
   "cell_type": "code",
   "execution_count": null,
   "metadata": {
    "cell_id": "00162-0baa83c4-de6c-4254-bc97-9ed8869e53b2",
    "deepnote_cell_type": "code",
    "deepnote_to_be_reexecuted": false,
    "execution_millis": 1334,
    "execution_start": 1621856343013,
    "source_hash": "7edce1e6"
   },
   "outputs": [],
   "source": [
    "lasso_regression_current_target()"
   ]
  },
  {
   "cell_type": "markdown",
   "metadata": {
    "cell_id": "00163-be4ec632-8a25-4757-a61f-84704db5f0dc",
    "deepnote_cell_type": "markdown"
   },
   "source": [
    "Model 4 is not a good model."
   ]
  },
  {
   "cell_type": "markdown",
   "metadata": {
    "cell_id": "00164-5c20caf6-a5e0-4b83-98ba-08a52d3713fc",
    "deepnote_cell_type": "markdown"
   },
   "source": [
    "## Modeling and validation target variable 3: C_HTC_M_PERC_OF_MANUF\n"
   ]
  },
  {
   "cell_type": "markdown",
   "metadata": {
    "cell_id": "00165-e8680dce-4822-40b9-9656-b8c8e2d17754",
    "deepnote_cell_type": "markdown"
   },
   "source": [
    "### Model 1:\n"
   ]
  },
  {
   "cell_type": "code",
   "execution_count": null,
   "metadata": {
    "cell_id": "00166-965b4021-c0b4-4140-bad9-a2df6e1aa0b5",
    "deepnote_cell_type": "code",
    "deepnote_to_be_reexecuted": false,
    "execution_millis": 1304,
    "execution_start": 1621856344342,
    "source_hash": "42335ad5"
   },
   "outputs": [],
   "source": [
    "x_trg3_mod1 = x_train.copy()\n",
    "y_trg3_mod1 = y_train.copy()\n",
    "check_assumptions('C_HTC_M_PERC_OF_MANUF', interestingFeatures, x_trg3_mod1, y_trg3_mod1)"
   ]
  },
  {
   "cell_type": "markdown",
   "metadata": {
    "cell_id": "00167-2e661228-a66c-4d1d-974b-3fb0de3d2b81",
    "deepnote_cell_type": "markdown"
   },
   "source": [
    "#### Model 1 round-up:\n",
    "\n",
    " - Target: C_HTC_M_PERC_OF_MANUF\n",
    "\n",
    " - Features: VENTURE_PC_GDP,\tEMPLOYMENT_C_HTC_MH,\tGERDS_HES_EUR_HAB,\tGERDS_HES_MIO_EUR\n",
    " \n",
    " - Adj. R-Squared: 0.681\n",
    " \n",
    " - AIC: 836.9\n",
    "\n",
    " - Assumptions not met: 4 – Normal distribution of residuals"
   ]
  },
  {
   "cell_type": "markdown",
   "metadata": {
    "cell_id": "00168-056a3e5a-0a7c-482b-80ae-025a2bebe67c",
    "deepnote_cell_type": "markdown"
   },
   "source": [
    "### Target Variable 3 Cross-Validation With Model 1 and 10-fold method:"
   ]
  },
  {
   "cell_type": "code",
   "execution_count": null,
   "metadata": {
    "cell_id": "00169-4415c8fc-656a-46f8-ae45-882249cc1f22",
    "deepnote_cell_type": "code",
    "deepnote_to_be_reexecuted": false,
    "execution_millis": 127,
    "execution_start": 1621856345641,
    "source_hash": "d5d4d450",
    "tags": []
   },
   "outputs": [],
   "source": [
    "cross_validation_linear('C_HTC_M_PERC_OF_MANUF', interestingFeatures, x_trg3_mod1, y_trg3_mod1, k_fold=10)"
   ]
  },
  {
   "cell_type": "code",
   "execution_count": null,
   "metadata": {
    "cell_id": "00170-d41211d6-01e2-47e9-bf38-984cb2752c68",
    "deepnote_cell_type": "code",
    "deepnote_to_be_reexecuted": false,
    "execution_millis": 833,
    "execution_start": 1621856345763,
    "source_hash": "c4fdd8d6"
   },
   "outputs": [],
   "source": [
    "model_evaluation(\"C_HTC_M_PERC_OF_MANUF\", interestingFeatures)"
   ]
  },
  {
   "cell_type": "markdown",
   "metadata": {
    "cell_id": "00171-10cc1801-1fc9-40ee-84e6-0d26e93414f5",
    "deepnote_cell_type": "markdown"
   },
   "source": [
    "### Model 2:"
   ]
  },
  {
   "cell_type": "code",
   "execution_count": null,
   "metadata": {
    "cell_id": "00172-af6845b9-21be-440b-95a3-b2ddde83e9bd",
    "deepnote_cell_type": "code",
    "deepnote_to_be_reexecuted": false,
    "execution_millis": 1340,
    "execution_start": 1621856346594,
    "source_hash": "385fcc19"
   },
   "outputs": [],
   "source": [
    "x = x_trg3_mod1[interestingFeatures['C_HTC_M_PERC_OF_MANUF']].copy()\n",
    "y = y_trg3_mod1['C_HTC_M_PERC_OF_MANUF'].copy()\n",
    "\n",
    "# features transformation in order to try to grasp the non-linearity (2 degree polynomial):\n",
    "poly = PolynomialFeatures(degree = 2) \n",
    "x_poly = poly.fit_transform(x) \n",
    "poly.fit(x_poly, y) \n",
    "x_poly = sm.add_constant(x_poly)\n",
    "\n",
    "\n",
    "# check_assumptions:\n",
    "display(\"============ TARGET: 'C_HTC_M_PERC_OF_MANUF' \")\n",
    "X_constant = x_poly\n",
    "lin_reg = sm.OLS(y,X_constant).fit()\n",
    "display(lin_reg.summary())\n",
    "display(\"Expectation 1 - mean of residuals is zero: {} --> {}\".format(lin_reg.resid.mean(), round(lin_reg.resid.mean(),1) == 0.0))\n",
    "check_homoscedasticity(lin_reg)\n",
    "check_residuals_independence(lin_reg)\n",
    "check_residuals_normaldist(lin_reg)\n",
    "linearity_test(lin_reg, y, 'C_HTC_M_PERC_OF_MANUF') \n",
    "check_VIF(pd.DataFrame(X_constant))"
   ]
  },
  {
   "cell_type": "markdown",
   "metadata": {
    "cell_id": "00173-b137873c-202d-4648-b801-f0c16834e8cf",
    "deepnote_cell_type": "markdown"
   },
   "source": [
    "#### Model 2 round-up:\n",
    "\n",
    " - Target: C_HTC_M_PERC_OF_MANUF\n",
    "\n",
    " - Features: VENTURE_PC_GDP, EMPLOYMENT_C_HTC_MH, GERDS_HES_EUR_HAB, GERDS_HES_MIO_EUR\n",
    " \n",
    " - Adj. R-Squared: 0.751\n",
    " \n",
    " - AIC: 814.1\n",
    "\n",
    " - Assumptions not met: 2 - Homoscedasticity of residuals; 4 – Normal distribution of residuals\n",
    "\n",
    " "
   ]
  },
  {
   "cell_type": "code",
   "execution_count": null,
   "metadata": {
    "cell_id": "00174-389726ef-92ea-4ad5-8e69-b432f1c92138",
    "deepnote_cell_type": "code",
    "deepnote_to_be_reexecuted": false,
    "execution_millis": 58,
    "execution_start": 1621856347929,
    "source_hash": "cdd27dc"
   },
   "outputs": [],
   "source": [
    "cross_validation_poly('C_HTC_M_PERC_OF_MANUF', interestingFeatures, x_trg3_mod1, y_trg3_mod1, k_fold=10)"
   ]
  },
  {
   "cell_type": "code",
   "execution_count": null,
   "metadata": {
    "cell_id": "00175-2506b30b-174d-4846-8d21-ae8cd7f83711",
    "deepnote_cell_type": "code",
    "deepnote_to_be_reexecuted": false,
    "execution_millis": 973,
    "execution_start": 1621856347982,
    "source_hash": "92afd449"
   },
   "outputs": [],
   "source": [
    "model_evaluation(\"C_HTC_M_PERC_OF_MANUF\", interestingFeatures, degree=2)"
   ]
  },
  {
   "cell_type": "markdown",
   "metadata": {
    "cell_id": "00176-d7d37966-9195-400a-b27c-a4493495d00c",
    "deepnote_cell_type": "markdown"
   },
   "source": [
    "### Model 3: Lasso"
   ]
  },
  {
   "cell_type": "code",
   "execution_count": null,
   "metadata": {
    "cell_id": "00177-ebbf3286-90c7-4d60-a9ea-8531a43ccbeb",
    "deepnote_cell_type": "code",
    "deepnote_to_be_reexecuted": false,
    "execution_millis": 1353,
    "execution_start": 1621856348582,
    "source_hash": "5fc850a3"
   },
   "outputs": [],
   "source": [
    "target = 'C_HTC_M_PERC_OF_MANUF'\n",
    "lasso_regression_current_target()"
   ]
  },
  {
   "cell_type": "markdown",
   "metadata": {
    "cell_id": "00178-102fa789-56f1-4d18-bd78-2d69de134890",
    "deepnote_cell_type": "markdown"
   },
   "source": [
    "## Modeling and validation target variable 4: C_HTC_M_CP_MEUR\n"
   ]
  },
  {
   "cell_type": "markdown",
   "metadata": {
    "cell_id": "00179-e9fcab19-a2ed-41ea-9066-0fe07199a92f",
    "deepnote_cell_type": "markdown"
   },
   "source": [
    "Let's create a regression model with C_HTC_M_CP_MEUR as the target variable we want to predict."
   ]
  },
  {
   "cell_type": "markdown",
   "metadata": {
    "cell_id": "00180-f3a2d2c0-d65f-4879-9ffd-892bca409032",
    "deepnote_cell_type": "markdown"
   },
   "source": [
    "### Model 1:"
   ]
  },
  {
   "cell_type": "code",
   "execution_count": null,
   "metadata": {
    "cell_id": "00181-ae07cba6-b556-45f5-8b8c-eb08892517bc",
    "deepnote_cell_type": "code",
    "deepnote_to_be_reexecuted": false,
    "execution_millis": 1310,
    "execution_start": 1621856349930,
    "source_hash": "c4747e84"
   },
   "outputs": [],
   "source": [
    "x_trg4_mod1 = x_train.copy()\n",
    "y_trg4_mod1 = y_train.copy()\n",
    "check_assumptions('C_HTC_M_CP_MEUR', interestingFeatures, x_trg4_mod1, y_trg4_mod1)"
   ]
  },
  {
   "cell_type": "markdown",
   "metadata": {
    "cell_id": "00182-03759f1f-1f59-4e49-9caa-1e366994763a",
    "deepnote_cell_type": "markdown"
   },
   "source": [
    "#### Model 1 round-up:  \n",
    "  \n",
    "- Target: C_HTC_M_CP_MEUR  \n",
    "  \n",
    "- Features: VENTURE_MIO_EUR,\tEMPLOYMENT_C_HTC_MH,\tGERDS_BES_EUR_HAB,\tGERDS_BES_MIO_EUR,\tGERDS_GOV_EUR_HAB,\tGERDS_PNP_MIO_EUR \n",
    "  \n",
    "- Adj. R-Squared: 0.949 \n",
    "  \n",
    "- AIC: -449.5\n",
    "  \n",
    "- Assumptions not met: 2 - Homoscedasticity of residuals; 3 - Independence of residuals; 4 – Normal distribution of residuals; 5 – Variables have no coliniarity\n",
    "   "
   ]
  },
  {
   "cell_type": "markdown",
   "metadata": {
    "cell_id": "00183-0e7fb2b9-e467-43d0-a4f3-c1d66c87b569",
    "deepnote_cell_type": "markdown"
   },
   "source": [
    "### Target Variable 4 Cross-Validation With Model 1 and 10-fold method:"
   ]
  },
  {
   "cell_type": "code",
   "execution_count": null,
   "metadata": {
    "cell_id": "00184-2064ab25-fed8-4c15-a656-bf70e7b37bfb",
    "deepnote_cell_type": "code",
    "deepnote_to_be_reexecuted": false,
    "execution_millis": 148,
    "execution_start": 1621856351236,
    "source_hash": "1c90a09b",
    "tags": []
   },
   "outputs": [],
   "source": [
    "cross_validation_linear('C_HTC_M_CP_MEUR', interestingFeatures, x_trg4_mod1, y_trg4_mod1, k_fold=10, score='r2')"
   ]
  },
  {
   "cell_type": "code",
   "execution_count": null,
   "metadata": {
    "cell_id": "00185-6f1f8944-1050-4a29-b635-08e4ad74c798",
    "deepnote_cell_type": "code",
    "deepnote_to_be_reexecuted": false,
    "execution_millis": 642,
    "execution_start": 1621856351379,
    "source_hash": "f97ec3df"
   },
   "outputs": [],
   "source": [
    "model_evaluation(\"C_HTC_M_CP_MEUR\", interestingFeatures)"
   ]
  },
  {
   "cell_type": "markdown",
   "metadata": {
    "cell_id": "00186-fc4181f3-d9a8-49b0-bbc9-dfe4925f46b5",
    "deepnote_cell_type": "markdown"
   },
   "source": [
    "### Model 2:"
   ]
  },
  {
   "cell_type": "code",
   "execution_count": null,
   "metadata": {
    "cell_id": "00187-b9cd1e63-d3d8-4812-9c73-fd3526bd5364",
    "deepnote_cell_type": "code",
    "deepnote_to_be_reexecuted": false,
    "execution_millis": 1504,
    "execution_start": 1621856352026,
    "source_hash": "6c258da4"
   },
   "outputs": [],
   "source": [
    "x = x_trg4_mod1[interestingFeatures['C_HTC_M_CP_MEUR']].copy()\n",
    "y = y_trg4_mod1['C_HTC_M_CP_MEUR'].copy()\n",
    "\n",
    "# features transformation in order to try to grasp the non-linearity (2 degree polynomial):\n",
    "poly = PolynomialFeatures(degree = 2) \n",
    "x_poly = poly.fit_transform(x) \n",
    "poly.fit(x_poly, y) \n",
    "x_poly = sm.add_constant(x_poly)\n",
    "\n",
    "# check_assumptions('C_HTC_M_PERC_OF_MANUF', interestingFeatures, x_poly, y)\n",
    "\n",
    "# check_assumptions:\n",
    "display(\"============ TARGET: 'C_HTC_M_CP_MEUR' \")\n",
    "X_constant = x_poly\n",
    "lin_reg = sm.OLS(y,X_constant).fit()\n",
    "display(lin_reg.summary())\n",
    "display(\"Expectation 1 - mean of residuals is zero: {} --> {}\".format(lin_reg.resid.mean(), round(lin_reg.resid.mean(),1) == 0.0))\n",
    "check_homoscedasticity(lin_reg)\n",
    "check_residuals_independence(lin_reg)\n",
    "check_residuals_normaldist(lin_reg)\n",
    "linearity_test(lin_reg, y, 'C_HTC_M_CP_MEUR') \n",
    "check_VIF(pd.DataFrame(X_constant))"
   ]
  },
  {
   "cell_type": "markdown",
   "metadata": {
    "cell_id": "00188-77d65563-7004-471a-81f0-ce52327fed2a",
    "deepnote_cell_type": "markdown"
   },
   "source": [
    "#### Model 2 round-up:  \n",
    "  \n",
    "- Target: C_HTC_M_CP_MEUR  \n",
    "  \n",
    "- Features: VENTURE_MIO_EUR, EMPLOYMENT_C_HTC_MH, GERDS_BES_EUR_HAB, GERDS_BES_MIO_EUR, GERDS_GOV_EUR_HAB, GERDS_PNP_MIO_EUR\n",
    "  \n",
    "- Adj. R-Squared: 0.995\n",
    "  \n",
    "- AIC: -732.9\n",
    "  \n",
    "- Assumptions not met: 2 - Homoscedasticity of residuals; 4 – Normal distribution of residuals\n",
    "   \n"
   ]
  },
  {
   "cell_type": "code",
   "execution_count": null,
   "metadata": {
    "cell_id": "00189-afdf8d98-b43e-4996-956c-99d50044632d",
    "deepnote_cell_type": "code",
    "deepnote_to_be_reexecuted": false,
    "execution_millis": 411,
    "execution_start": 1621856353527,
    "source_hash": "dbbdda34"
   },
   "outputs": [],
   "source": [
    "cross_validation_poly('C_HTC_M_CP_MEUR', interestingFeatures, x_trg4_mod1, y_trg4_mod1, k_fold=10, score='r2')"
   ]
  },
  {
   "cell_type": "code",
   "execution_count": null,
   "metadata": {
    "cell_id": "00190-e6c59572-4ed6-472d-b829-038d99354f73",
    "deepnote_cell_type": "code",
    "deepnote_to_be_reexecuted": false,
    "execution_millis": 629,
    "execution_start": 1621856353599,
    "source_hash": "e9d58c1b"
   },
   "outputs": [],
   "source": [
    "model_evaluation(\"C_HTC_M_CP_MEUR\", interestingFeatures, degree=2)"
   ]
  },
  {
   "cell_type": "markdown",
   "metadata": {
    "cell_id": "00191-ccac4d09-4c8d-4708-80bb-bb5b130da415",
    "deepnote_cell_type": "markdown"
   },
   "source": [
    "Way too many independent variables; most likely to overfit."
   ]
  },
  {
   "cell_type": "markdown",
   "metadata": {
    "cell_id": "00192-76959897-5e9d-4773-b2a7-e20c096ae5f8",
    "deepnote_cell_type": "markdown"
   },
   "source": [
    "### Model 3: Lasso"
   ]
  },
  {
   "cell_type": "code",
   "execution_count": null,
   "metadata": {
    "cell_id": "00193-0be075ce-3f60-4bf3-abf0-99283447bd53",
    "deepnote_cell_type": "code",
    "deepnote_to_be_reexecuted": false,
    "execution_millis": 1379,
    "execution_start": 1621856354226,
    "source_hash": "49ff5e7c"
   },
   "outputs": [],
   "source": [
    "target = 'C_HTC_M_CP_MEUR'\n",
    "lasso_regression_current_target()"
   ]
  },
  {
   "cell_type": "markdown",
   "metadata": {
    "cell_id": "00194-b8a7f0a6-ce29-42e4-b467-30e4e3755c6b",
    "deepnote_cell_type": "markdown"
   },
   "source": [
    "## Modeling and validation target variable 5: KIS_PERC_OF_SERV"
   ]
  },
  {
   "cell_type": "code",
   "execution_count": null,
   "metadata": {
    "cell_id": "00195-1c89aa46-3702-416f-bf2b-8cf3a8d79057",
    "deepnote_cell_type": "code",
    "deepnote_to_be_reexecuted": false,
    "execution_millis": 1287,
    "execution_start": 1621856355603,
    "source_hash": "c4487352"
   },
   "outputs": [],
   "source": [
    "x_trg5_mod1 = x_train.copy()\n",
    "y_trg5_mod1 = y_train.copy()\n",
    "check_assumptions('KIS_PERC_OF_SERV', interestingFeatures, x_trg5_mod1, y_trg5_mod1)"
   ]
  },
  {
   "cell_type": "markdown",
   "metadata": {
    "cell_id": "00196-87d7c227-7e8f-4101-b8c2-0abed8ea7a61",
    "deepnote_cell_type": "markdown"
   },
   "source": [
    "#### Model 1 round-up:  \n",
    "  \n",
    "- Target: KIS_PERC_OF_SERV  \n",
    "  \n",
    "- Features: VENTURE_PC_GDP,\tEMPLOYMENT_KIS,\tGERDS_HES_EUR_HAB\n",
    "  \n",
    "- Adj. R-Squared: 0.639\n",
    "  \n",
    "- AIC: 771.8 \n",
    "  \n",
    "- Assumptions not met: 2 - Homoscedasticity of residuals; 4 -normal distribution of residuals\n",
    "   "
   ]
  },
  {
   "cell_type": "code",
   "execution_count": null,
   "metadata": {
    "cell_id": "00197-1222449b-0902-4a78-97eb-f0c8608dd1bc",
    "deepnote_cell_type": "code",
    "deepnote_to_be_reexecuted": false,
    "execution_millis": 144,
    "execution_start": 1621856356880,
    "source_hash": "67dc4201"
   },
   "outputs": [],
   "source": [
    "cross_validation_linear('KIS_PERC_OF_SERV', interestingFeatures, x_trg5_mod1, y_trg5_mod1)"
   ]
  },
  {
   "cell_type": "code",
   "execution_count": null,
   "metadata": {
    "cell_id": "00198-474a08ef-be63-4dc0-943e-848099917b0b",
    "deepnote_cell_type": "code",
    "deepnote_to_be_reexecuted": false,
    "execution_millis": 674,
    "execution_start": 1621856357030,
    "source_hash": "4350b21b"
   },
   "outputs": [],
   "source": [
    "model_evaluation(\"KIS_PERC_OF_SERV\", interestingFeatures)"
   ]
  },
  {
   "cell_type": "markdown",
   "metadata": {
    "cell_id": "00199-098c6cdc-6c6e-449a-9fc9-ccf3ebdb0de9",
    "deepnote_cell_type": "markdown"
   },
   "source": [
    "### Model 2:"
   ]
  },
  {
   "cell_type": "code",
   "execution_count": null,
   "metadata": {
    "cell_id": "00200-67aec2ad-36b6-4fc5-b8c4-6280bdad2b18",
    "deepnote_cell_type": "code",
    "deepnote_to_be_reexecuted": false,
    "execution_millis": 1334,
    "execution_start": 1621856357713,
    "source_hash": "435c14e3"
   },
   "outputs": [],
   "source": [
    "x = x_trg5_mod1[interestingFeatures['KIS_PERC_OF_SERV']].copy()\n",
    "y = y_trg5_mod1['KIS_PERC_OF_SERV'].copy()\n",
    "\n",
    "# features transformation in order to try to grasp the non-linearity (2 degree polynomial):\n",
    "poly = PolynomialFeatures(degree = 2) \n",
    "x_poly = poly.fit_transform(x) \n",
    "poly.fit(x_poly, y) \n",
    "x_poly = sm.add_constant(x_poly)\n",
    "\n",
    "# check_assumptions('C_HTC_M_PERC_OF_MANUF', interestingFeatures, x_poly, y)\n",
    "\n",
    "# check_assumptions:\n",
    "display(\"============ TARGET: 'KIS_PERC_OF_SERV' \")\n",
    "X_constant = x_poly\n",
    "lin_reg = sm.OLS(y,X_constant).fit()\n",
    "display(lin_reg.summary())\n",
    "display(\"Expectation 1 - mean of residuals is zero: {} --> {}\".format(lin_reg.resid.mean(), round(lin_reg.resid.mean(),1) == 0.0))\n",
    "check_homoscedasticity(lin_reg)\n",
    "check_residuals_independence(lin_reg)\n",
    "check_residuals_normaldist(lin_reg)\n",
    "linearity_test(lin_reg, y, 'KIS_PERC_OF_SERV') \n",
    "check_VIF(pd.DataFrame(X_constant))"
   ]
  },
  {
   "cell_type": "markdown",
   "metadata": {
    "cell_id": "00201-03c86c54-e394-49e7-b938-14d89f122b09",
    "deepnote_cell_type": "markdown"
   },
   "source": [
    "#### Model 2 round-up:  \n",
    "  \n",
    "- Target: KIS_PERC_OF_SERV  \n",
    "  \n",
    "- Features: VENTURE_PC_GDP,\tEMPLOYMENT_KIS,\tGERDS_HES_EUR_HAB\n",
    "  \n",
    "- Adj. R-Squared: 0.738\n",
    "  \n",
    "- AIC: 736.3\n",
    "  \n",
    "- Assumptions not met: 2 - Homoscedasticity of residuals; 4 -normal distribution of residuals"
   ]
  },
  {
   "cell_type": "code",
   "execution_count": null,
   "metadata": {
    "cell_id": "00202-af323cd7-6025-4d7e-bf16-3a664f2e941b",
    "deepnote_cell_type": "code",
    "deepnote_to_be_reexecuted": false,
    "execution_millis": 37,
    "execution_start": 1621856359040,
    "source_hash": "9359362b"
   },
   "outputs": [],
   "source": [
    "cross_validation_poly('KIS_PERC_OF_SERV', interestingFeatures, x_trg5_mod1, y_trg5_mod1)"
   ]
  },
  {
   "cell_type": "code",
   "execution_count": null,
   "metadata": {
    "cell_id": "00203-a14a8f42-170c-444d-a475-fec93d81631d",
    "deepnote_cell_type": "code",
    "deepnote_to_be_reexecuted": false,
    "execution_millis": 671,
    "execution_start": 1621856359053,
    "source_hash": "32d566f1"
   },
   "outputs": [],
   "source": [
    "model_evaluation(\"KIS_PERC_OF_SERV\", interestingFeatures, degree=2)"
   ]
  },
  {
   "cell_type": "markdown",
   "metadata": {
    "cell_id": "00204-f75a8691-b1a8-4a20-ab7e-24cbe461683d",
    "deepnote_cell_type": "markdown"
   },
   "source": [
    "### Model 3: Lasso"
   ]
  },
  {
   "cell_type": "code",
   "execution_count": null,
   "metadata": {
    "cell_id": "00205-768c1166-4cd2-4f37-9642-f78d90ed8624",
    "deepnote_cell_type": "code",
    "deepnote_to_be_reexecuted": false,
    "execution_millis": 1528,
    "execution_start": 1621856359723,
    "source_hash": "2b96ac53"
   },
   "outputs": [],
   "source": [
    "target = 'KIS_PERC_OF_SERV'\n",
    "lasso_regression_current_target()"
   ]
  },
  {
   "cell_type": "markdown",
   "metadata": {
    "cell_id": "00206-b49db7b0-0d77-451d-a456-8b3ee510d355",
    "deepnote_cell_type": "markdown"
   },
   "source": [
    "## Modeling and validation target variable 6: KIS_CP_MEUR"
   ]
  },
  {
   "cell_type": "markdown",
   "metadata": {
    "cell_id": "00207-c62ce282-cbd3-4076-a351-bcfa5a9cb76e",
    "deepnote_cell_type": "markdown"
   },
   "source": [
    "### Model 1"
   ]
  },
  {
   "cell_type": "code",
   "execution_count": null,
   "metadata": {
    "cell_id": "00208-1da97777-f53f-402c-bcf2-0230354cdd89",
    "deepnote_cell_type": "code",
    "deepnote_to_be_reexecuted": false,
    "execution_millis": 1265,
    "execution_start": 1621856361249,
    "source_hash": "13304662"
   },
   "outputs": [],
   "source": [
    "x_trg6_mod1 = x_train.copy()\n",
    "y_trg6_mod1 = y_train.copy()\n",
    "check_assumptions('KIS_CP_MEUR', interestingFeatures, x_trg6_mod1, y_trg6_mod1)"
   ]
  },
  {
   "cell_type": "markdown",
   "metadata": {
    "cell_id": "00209-0163bd94-a3c4-43d7-bbbb-388d242c4a5e",
    "deepnote_cell_type": "markdown"
   },
   "source": [
    "#### Model 1 round-up:  \n",
    "  \n",
    "- Target: KIS_CP_MEUR  \n",
    "  \n",
    "- Features: \tVENTURE_MIO_EUR,\tEMPLOYMENT_C_HTC_MH,\tEMPLOYMENT_KIS,\tGERDS_GOV_MIO_EUR,\tGERDS_PNP_EUR_HAB,\tGERDS_PNP_MIO_EUR\n",
    "  \n",
    "- Adj. R-Squared: 0.958 \n",
    "  \n",
    "- AIC: -369.0\n",
    "  \n",
    "- Assumptions not met: 2 - Homoscedasticity of residuals; 4 – Normal distribution of residuals\n"
   ]
  },
  {
   "cell_type": "code",
   "execution_count": null,
   "metadata": {
    "cell_id": "00210-924dc1bf-997a-4176-9c84-37d69f4eaade",
    "deepnote_cell_type": "code",
    "deepnote_to_be_reexecuted": false,
    "execution_millis": 138,
    "execution_start": 1621856362528,
    "source_hash": "45cba344"
   },
   "outputs": [],
   "source": [
    "cross_validation_linear('KIS_CP_MEUR', interestingFeatures, x_trg6_mod1, y_trg6_mod1)"
   ]
  },
  {
   "cell_type": "code",
   "execution_count": null,
   "metadata": {
    "cell_id": "00211-7db9fd6a-9079-4cd0-88b4-e538bd5295a0",
    "deepnote_cell_type": "code",
    "deepnote_to_be_reexecuted": false,
    "execution_millis": 612,
    "execution_start": 1621856362669,
    "source_hash": "5cd7c4c7"
   },
   "outputs": [],
   "source": [
    "model_evaluation(\"KIS_CP_MEUR\", interestingFeatures)"
   ]
  },
  {
   "cell_type": "markdown",
   "metadata": {
    "cell_id": "00212-9a65d07e-3ccc-4742-9ad3-d0f20b37f078",
    "deepnote_cell_type": "markdown"
   },
   "source": [
    "### Model 2:"
   ]
  },
  {
   "cell_type": "code",
   "execution_count": null,
   "metadata": {
    "cell_id": "00213-e8db1f06-31e7-4dc5-aea1-5bf16a25141f",
    "deepnote_cell_type": "code",
    "deepnote_to_be_reexecuted": false,
    "execution_millis": 1314,
    "execution_start": 1621856363279,
    "source_hash": "90959eb0"
   },
   "outputs": [],
   "source": [
    "x = x_trg6_mod1[interestingFeatures['KIS_CP_MEUR']].copy()\n",
    "y = y_trg6_mod1['KIS_CP_MEUR'].copy()\n",
    "\n",
    "# features transformation in order to try to grasp the non-linearity (2 degree polynomial):\n",
    "poly = PolynomialFeatures(degree = 2) \n",
    "x_poly = poly.fit_transform(x) \n",
    "poly.fit(x_poly, y) \n",
    "x_poly = sm.add_constant(x_poly)\n",
    "\n",
    "# check_assumptions('C_HTC_M_PERC_OF_MANUF', interestingFeatures, x_poly, y)\n",
    "\n",
    "# check_assumptions:\n",
    "display(\"============ TARGET: 'KIS_CP_MEUR' \")\n",
    "X_constant = x_poly\n",
    "lin_reg = sm.OLS(y,X_constant).fit()\n",
    "display(lin_reg.summary())\n",
    "display(\"Expectation 1 - mean of residuals is zero: {} --> {}\".format(lin_reg.resid.mean(), round(lin_reg.resid.mean(),1) == 0.0))\n",
    "check_homoscedasticity(lin_reg)\n",
    "check_residuals_independence(lin_reg)\n",
    "check_residuals_normaldist(lin_reg)\n",
    "linearity_test(lin_reg, y, 'KIS_CP_MEUR') \n",
    "check_VIF(pd.DataFrame(X_constant))"
   ]
  },
  {
   "cell_type": "markdown",
   "metadata": {
    "cell_id": "00214-b5bc0d30-00e2-4b07-953b-193261ee9bb2",
    "deepnote_cell_type": "markdown"
   },
   "source": [
    "#### Model 2 round-up:  \n",
    "  \n",
    "- Target: KIS_CP_MEUR  \n",
    "  \n",
    "- Features: 'EMPLOYMENT_C_HTC_MH', 'GERDS_GOV_EUR_HAB', 'GERDS_PNP_EUR_HAB'\n",
    "  \n",
    "- Adj. R-Squared: 0.996\n",
    "  \n",
    "- AIC: -644.4\n",
    "  \n",
    "- Assumptions not met: 2 - Homoscedasticity of residuals; 4 -normal distribution of residuals\n"
   ]
  },
  {
   "cell_type": "code",
   "execution_count": null,
   "metadata": {
    "cell_id": "00215-6b4d2cef-3954-42b6-979b-8a28c06d8039",
    "deepnote_cell_type": "code",
    "deepnote_to_be_reexecuted": false,
    "execution_millis": 167,
    "execution_start": 1621856364591,
    "source_hash": "7d7e76e8"
   },
   "outputs": [],
   "source": [
    "cross_validation_poly('KIS_CP_MEUR', interestingFeatures, x_trg6_mod1, y_trg6_mod1)"
   ]
  },
  {
   "cell_type": "code",
   "execution_count": null,
   "metadata": {
    "cell_id": "00216-2298221d-f077-48ab-8fbd-d99ffe21ce7a",
    "deepnote_cell_type": "code",
    "deepnote_to_be_reexecuted": false,
    "execution_millis": 608,
    "execution_start": 1621856364678,
    "source_hash": "27d7b0f4"
   },
   "outputs": [],
   "source": [
    "model_evaluation(\"KIS_CP_MEUR\", interestingFeatures, degree=2)"
   ]
  },
  {
   "cell_type": "markdown",
   "metadata": {
    "cell_id": "00217-e7ee61b6-411d-431a-9ae6-7cce3cf443fb",
    "deepnote_cell_type": "markdown"
   },
   "source": [
    "### Model 3: Lasso"
   ]
  },
  {
   "cell_type": "code",
   "execution_count": null,
   "metadata": {
    "cell_id": "00218-0234e872-66b3-4c76-9164-9b44146291d5",
    "deepnote_cell_type": "code",
    "deepnote_to_be_reexecuted": false,
    "execution_millis": 1344,
    "execution_start": 1621856365284,
    "source_hash": "564bdd2"
   },
   "outputs": [],
   "source": [
    "target = 'KIS_CP_MEUR'\n",
    "lasso_regression_current_target()"
   ]
  },
  {
   "cell_type": "code",
   "execution_count": null,
   "metadata": {
    "cell_id": "00223-debb33e1-aa0d-4192-88af-6929b1d9a53c",
    "deepnote_cell_type": "code",
    "deepnote_to_be_reexecuted": false,
    "execution_millis": 3327533,
    "execution_start": 1621856366626,
    "source_hash": "b4019fca",
    "tags": []
   },
   "outputs": [],
   "source": [
    "interestingFeatures"
   ]
  },
  {
   "cell_type": "code",
   "execution_count": null,
   "metadata": {
    "cell_id": "00224-ac13d268-96e1-4a23-9074-7b369c7eee4b",
    "deepnote_cell_type": "code",
    "deepnote_to_be_reexecuted": false,
    "execution_millis": 0,
    "execution_start": 1621856366629,
    "source_hash": "b623e53d",
    "tags": []
   },
   "outputs": [],
   "source": []
  },
  {
   "cell_type": "markdown",
   "metadata": {
    "created_in_deepnote_cell": true,
    "deepnote_cell_type": "markdown",
    "tags": []
   },
   "source": [
    "<a style='text-decoration:none;line-height:16px;display:flex;color:#5B5B62;padding:10px;justify-content:end;' href='https://deepnote.com?utm_source=created-in-deepnote-cell&projectId=3698198a-96cb-4caf-9444-9c67ff73b730' target=\"_blank\">\n",
    "<img alt='Created in deepnote.com' style='display:inline;max-height:16px;margin:0px;margin-right:7.5px;' src='data:image/svg+xml;base64,PD94bWwgdmVyc2lvbj0iMS4wIiBlbmNvZGluZz0iVVRGLTgiPz4KPHN2ZyB3aWR0aD0iODBweCIgaGVpZ2h0PSI4MHB4IiB2aWV3Qm94PSIwIDAgODAgODAiIHZlcnNpb249IjEuMSIgeG1sbnM9Imh0dHA6Ly93d3cudzMub3JnLzIwMDAvc3ZnIiB4bWxuczp4bGluaz0iaHR0cDovL3d3dy53My5vcmcvMTk5OS94bGluayI+CiAgICA8IS0tIEdlbmVyYXRvcjogU2tldGNoIDU0LjEgKDc2NDkwKSAtIGh0dHBzOi8vc2tldGNoYXBwLmNvbSAtLT4KICAgIDx0aXRsZT5Hcm91cCAzPC90aXRsZT4KICAgIDxkZXNjPkNyZWF0ZWQgd2l0aCBTa2V0Y2guPC9kZXNjPgogICAgPGcgaWQ9IkxhbmRpbmciIHN0cm9rZT0ibm9uZSIgc3Ryb2tlLXdpZHRoPSIxIiBmaWxsPSJub25lIiBmaWxsLXJ1bGU9ImV2ZW5vZGQiPgogICAgICAgIDxnIGlkPSJBcnRib2FyZCIgdHJhbnNmb3JtPSJ0cmFuc2xhdGUoLTEyMzUuMDAwMDAwLCAtNzkuMDAwMDAwKSI+CiAgICAgICAgICAgIDxnIGlkPSJHcm91cC0zIiB0cmFuc2Zvcm09InRyYW5zbGF0ZSgxMjM1LjAwMDAwMCwgNzkuMDAwMDAwKSI+CiAgICAgICAgICAgICAgICA8cG9seWdvbiBpZD0iUGF0aC0yMCIgZmlsbD0iIzAyNjVCNCIgcG9pbnRzPSIyLjM3NjIzNzYyIDgwIDM4LjA0NzY2NjcgODAgNTcuODIxNzgyMiA3My44MDU3NTkyIDU3LjgyMTc4MjIgMzIuNzU5MjczOSAzOS4xNDAyMjc4IDMxLjY4MzE2ODMiPjwvcG9seWdvbj4KICAgICAgICAgICAgICAgIDxwYXRoIGQ9Ik0zNS4wMDc3MTgsODAgQzQyLjkwNjIwMDcsNzYuNDU0OTM1OCA0Ny41NjQ5MTY3LDcxLjU0MjI2NzEgNDguOTgzODY2LDY1LjI2MTk5MzkgQzUxLjExMjI4OTksNTUuODQxNTg0MiA0MS42NzcxNzk1LDQ5LjIxMjIyODQgMjUuNjIzOTg0Niw0OS4yMTIyMjg0IEMyNS40ODQ5Mjg5LDQ5LjEyNjg0NDggMjkuODI2MTI5Niw0My4yODM4MjQ4IDM4LjY0NzU4NjksMzEuNjgzMTY4MyBMNzIuODcxMjg3MSwzMi41NTQ0MjUgTDY1LjI4MDk3Myw2Ny42NzYzNDIxIEw1MS4xMTIyODk5LDc3LjM3NjE0NCBMMzUuMDA3NzE4LDgwIFoiIGlkPSJQYXRoLTIyIiBmaWxsPSIjMDAyODY4Ij48L3BhdGg+CiAgICAgICAgICAgICAgICA8cGF0aCBkPSJNMCwzNy43MzA0NDA1IEwyNy4xMTQ1MzcsMC4yNTcxMTE0MzYgQzYyLjM3MTUxMjMsLTEuOTkwNzE3MDEgODAsMTAuNTAwMzkyNyA4MCwzNy43MzA0NDA1IEM4MCw2NC45NjA0ODgyIDY0Ljc3NjUwMzgsNzkuMDUwMzQxNCAzNC4zMjk1MTEzLDgwIEM0Ny4wNTUzNDg5LDc3LjU2NzA4MDggNTMuNDE4MjY3Nyw3MC4zMTM2MTAzIDUzLjQxODI2NzcsNTguMjM5NTg4NSBDNTMuNDE4MjY3Nyw0MC4xMjg1NTU3IDM2LjMwMzk1NDQsMzcuNzMwNDQwNSAyNS4yMjc0MTcsMzcuNzMwNDQwNSBDMTcuODQzMDU4NiwzNy43MzA0NDA1IDkuNDMzOTE5NjYsMzcuNzMwNDQwNSAwLDM3LjczMDQ0MDUgWiIgaWQ9IlBhdGgtMTkiIGZpbGw9IiMzNzkzRUYiPjwvcGF0aD4KICAgICAgICAgICAgPC9nPgogICAgICAgIDwvZz4KICAgIDwvZz4KPC9zdmc+' > </img>\n",
    "Created in <span style='font-weight:600;margin-left:4px;'>Deepnote</span></a>"
   ]
  }
 ],
 "metadata": {
  "deepnote": {},
  "deepnote_execution_queue": [],
  "deepnote_notebook_id": "bafab752-f79d-42f1-a164-1cb31d641c35",
  "kernelspec": {
   "display_name": "Python 3.8.5 64-bit",
   "language": "python",
   "name": "python385jvsc74a57bd031f2aee4e71d21fbe5cf8b01ff0e069b9275f58929596ceb00d14d90e3e16cd6"
  },
  "language_info": {
   "codemirror_mode": {
    "name": "ipython",
    "version": 3
   },
   "file_extension": ".py",
   "mimetype": "text/x-python",
   "name": "python",
   "nbconvert_exporter": "python",
   "pygments_lexer": "ipython3",
   "version": "3.8.10"
  }
 },
 "nbformat": 4,
 "nbformat_minor": 2
}
