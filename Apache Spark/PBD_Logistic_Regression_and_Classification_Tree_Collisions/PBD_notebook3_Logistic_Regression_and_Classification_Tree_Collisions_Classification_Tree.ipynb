{
 "cells": [
  {
   "cell_type": "markdown",
   "id": "religious-enemy",
   "metadata": {},
   "source": [
    "# Group Assignment PBD PL1 - Multinomial Logistic Regression & Decision Tree Classifier\n",
    "## Book 3 of 3: Decision Tree Classifier\n"
   ]
  },
  {
   "cell_type": "markdown",
   "id": "rising-morris",
   "metadata": {},
   "source": [
    "Authors:\n",
    "\n",
    "Catarina Castanheira Nº 92478\n",
    "\n",
    "João Martins Nº 93259\n",
    "\n",
    "Joel Paula Nº 93392\n"
   ]
  },
  {
   "cell_type": "markdown",
   "id": "religious-reproduction",
   "metadata": {},
   "source": [
    "\n",
    "Imports we will need for our work."
   ]
  },
  {
   "cell_type": "code",
   "execution_count": 1,
   "id": "timely-mainstream",
   "metadata": {},
   "outputs": [],
   "source": [
    "from pyspark.ml.feature import VectorAssembler, OneHotEncoder, StringIndexer\n",
    "from pyspark.ml.classification import DecisionTreeClassifier\n",
    "# from pyspark.mllib.evaluation import MulticlassMetrics\n",
    "from pyspark.ml import Pipeline"
   ]
  },
  {
   "cell_type": "markdown",
   "id": "partial-indie",
   "metadata": {},
   "source": [
    "Functions we will use for every model."
   ]
  },
  {
   "cell_type": "code",
   "execution_count": 2,
   "id": "important-handle",
   "metadata": {},
   "outputs": [],
   "source": [
    "import pandas as pd\n",
    "def showPerformanceOnTest(df_pred, default_prop, ln_count=0):\n",
    "    if ln_count == 0:\n",
    "        ln_count = df_pred.count()\n",
    "    df_tmp = df_pred.filter('prediction == collision_severity_index')\n",
    "    acc = df_tmp.count() \n",
    "    acc = acc / ln_count\n",
    "    print(\"Accuracy:\", acc)\n",
    "    \n",
    "#    #Confusion Matrix /!\\ crashes Spark when large dataset!\n",
    "#    preds_and_labels = df_preds.select(['prediction','collision_severity_index']).withColumnRenamed('collision_severity_index','label').orderBy('prediction')\n",
    "#    metrics = MulticlassMetrics(preds_and_labels.rdd.map(tuple))\n",
    "#    conf_matrix = metrics.confusionMatrix().toArray()\n",
    "#    acc = sum(conf_matrix.diagonal())/conf_matrix.sum()\n",
    "#    print(\"Accuracy:\", acc)\n",
    "#    conf_matrix = pd.DataFrame(conf_matrix)\n",
    "#    print(\"Confusion matrix:\\n\", conf_matrix)\n",
    "\n",
    "    # Huberty Index\n",
    "    hix = (acc - default_prop)/(1 - default_prop)\n",
    "    print(\"Huberty Index:\", hix)\n",
    "    return acc\n"
   ]
  },
  {
   "cell_type": "code",
   "execution_count": 3,
   "id": "through-heating",
   "metadata": {},
   "outputs": [],
   "source": [
    "spark.conf.set(\"spark.sql.repl.eagerEval.enabled\",True) # pretty print tables"
   ]
  },
  {
   "cell_type": "markdown",
   "id": "experimental-charles",
   "metadata": {},
   "source": [
    "Read small dataset from parquet file."
   ]
  },
  {
   "cell_type": "code",
   "execution_count": 4,
   "id": "civilian-pharmacology",
   "metadata": {},
   "outputs": [],
   "source": [
    "df = spark.read.format(\"parquet\").load(\"collisions_clean\")"
   ]
  },
  {
   "cell_type": "code",
   "execution_count": 5,
   "id": "lonely-module",
   "metadata": {},
   "outputs": [
    {
     "name": "stdout",
     "output_type": "stream",
     "text": [
      "root\n",
      " |-- jurisdiction: string (nullable = true)\n",
      " |-- chp_shift: string (nullable = true)\n",
      " |-- population: string (nullable = true)\n",
      " |-- county_city_location: string (nullable = true)\n",
      " |-- special_condition: string (nullable = true)\n",
      " |-- beat_type: string (nullable = true)\n",
      " |-- chp_beat_type: string (nullable = true)\n",
      " |-- city_division_lapd: string (nullable = true)\n",
      " |-- chp_beat_class: string (nullable = true)\n",
      " |-- beat_number: string (nullable = true)\n",
      " |-- primary_road: string (nullable = true)\n",
      " |-- secondary_road: string (nullable = true)\n",
      " |-- distance: double (nullable = true)\n",
      " |-- direction: string (nullable = true)\n",
      " |-- intersection: long (nullable = true)\n",
      " |-- weather_1: string (nullable = true)\n",
      " |-- weather_2: string (nullable = true)\n",
      " |-- state_highway_indicator: long (nullable = true)\n",
      " |-- caltrans_county: string (nullable = true)\n",
      " |-- caltrans_district: string (nullable = true)\n",
      " |-- state_route: string (nullable = true)\n",
      " |-- route_suffix: string (nullable = true)\n",
      " |-- postmile_prefix: string (nullable = true)\n",
      " |-- postmile: string (nullable = true)\n",
      " |-- location_type: string (nullable = true)\n",
      " |-- ramp_intersection: string (nullable = true)\n",
      " |-- side_of_highway: string (nullable = true)\n",
      " |-- tow_away: long (nullable = true)\n",
      " |-- collision_severity: string (nullable = true)\n",
      " |-- killed_victims: long (nullable = true)\n",
      " |-- injured_victims: long (nullable = true)\n",
      " |-- party_count: long (nullable = true)\n",
      " |-- primary_collision_factor: string (nullable = true)\n",
      " |-- pcf_violation_code: string (nullable = true)\n",
      " |-- pcf_violation_category: string (nullable = true)\n",
      " |-- pcf_violation: string (nullable = true)\n",
      " |-- pcf_violation_subsection: string (nullable = true)\n",
      " |-- hit_and_run: string (nullable = true)\n",
      " |-- type_of_collision: string (nullable = true)\n",
      " |-- motor_vehicle_involved_with: string (nullable = true)\n",
      " |-- pedestrian_action: string (nullable = true)\n",
      " |-- road_surface: string (nullable = true)\n",
      " |-- road_condition_1: string (nullable = true)\n",
      " |-- road_condition_2: string (nullable = true)\n",
      " |-- lighting: string (nullable = true)\n",
      " |-- control_device: string (nullable = true)\n",
      " |-- chp_road_type: string (nullable = true)\n",
      " |-- pedestrian_collision: long (nullable = true)\n",
      " |-- bicycle_collision: long (nullable = true)\n",
      " |-- motorcycle_collision: long (nullable = true)\n",
      " |-- truck_collision: long (nullable = true)\n",
      " |-- alcohol_involved: long (nullable = true)\n",
      " |-- statewide_vehicle_type_at_fault: string (nullable = true)\n",
      " |-- chp_vehicle_type_at_fault: string (nullable = true)\n",
      " |-- severe_injury_count: long (nullable = true)\n",
      " |-- other_visible_injury_count: long (nullable = true)\n",
      " |-- complaint_of_pain_injury_count: long (nullable = true)\n",
      " |-- pedestrian_killed_count: long (nullable = true)\n",
      " |-- pedestrian_injured_count: long (nullable = true)\n",
      " |-- bicyclist_killed_count: long (nullable = true)\n",
      " |-- bicyclist_injured_count: long (nullable = true)\n",
      " |-- motorcyclist_killed_count: long (nullable = true)\n",
      " |-- motorcyclist_injured_count: long (nullable = true)\n",
      " |-- collision_date: string (nullable = true)\n",
      " |-- collision_time: string (nullable = true)\n",
      "\n"
     ]
    }
   ],
   "source": [
    "df.printSchema()"
   ]
  },
  {
   "cell_type": "code",
   "execution_count": 6,
   "id": "bizarre-census",
   "metadata": {},
   "outputs": [
    {
     "data": {
      "text/html": [
       "<table border='1'>\n",
       "<tr><th>jurisdiction</th><th>chp_shift</th><th>population</th><th>county_city_location</th><th>special_condition</th><th>beat_type</th><th>chp_beat_type</th><th>city_division_lapd</th><th>chp_beat_class</th><th>beat_number</th><th>primary_road</th><th>secondary_road</th><th>distance</th><th>direction</th><th>intersection</th><th>weather_1</th><th>weather_2</th><th>state_highway_indicator</th><th>caltrans_county</th><th>caltrans_district</th><th>state_route</th><th>route_suffix</th><th>postmile_prefix</th><th>postmile</th><th>location_type</th><th>ramp_intersection</th><th>side_of_highway</th><th>tow_away</th><th>collision_severity</th><th>killed_victims</th><th>injured_victims</th><th>party_count</th><th>primary_collision_factor</th><th>pcf_violation_code</th><th>pcf_violation_category</th><th>pcf_violation</th><th>pcf_violation_subsection</th><th>hit_and_run</th><th>type_of_collision</th><th>motor_vehicle_involved_with</th><th>pedestrian_action</th><th>road_surface</th><th>road_condition_1</th><th>road_condition_2</th><th>lighting</th><th>control_device</th><th>chp_road_type</th><th>pedestrian_collision</th><th>bicycle_collision</th><th>motorcycle_collision</th><th>truck_collision</th><th>alcohol_involved</th><th>statewide_vehicle_type_at_fault</th><th>chp_vehicle_type_at_fault</th><th>severe_injury_count</th><th>other_visible_injury_count</th><th>complaint_of_pain_injury_count</th><th>pedestrian_killed_count</th><th>pedestrian_injured_count</th><th>bicyclist_killed_count</th><th>bicyclist_injured_count</th><th>motorcyclist_killed_count</th><th>motorcyclist_injured_count</th><th>collision_date</th><th>collision_time</th></tr>\n",
       "<tr><td>9495</td><td>1</td><td>9</td><td>1600</td><td>0</td><td>1</td><td>interstate</td><td>Not Stated</td><td>chp other</td><td>004</td><td>RT 5</td><td>RT 41</td><td>2640.0</td><td>south</td><td>0</td><td>cloudy</td><td>Not Stated</td><td>1</td><td>KIN</td><td>6</td><td>5</td><td>Not Stated</td><td>Not Stated</td><td>16.07</td><td>highway</td><td>Not Stated</td><td>northbound</td><td>1</td><td>property damage only</td><td>0</td><td>0</td><td>2</td><td>vehicle code viol...</td><td>Not Stated</td><td>improper turning</td><td>22107</td><td>Not Stated</td><td>not hit and run</td><td>sideswipe</td><td>other motor vehicle</td><td>no pedestrian inv...</td><td>dry</td><td>normal</td><td>Not Stated</td><td>daylight</td><td>none</td><td>1</td><td>0</td><td>0</td><td>0</td><td>1</td><td>0</td><td>passenger car</td><td>07</td><td>0</td><td>0</td><td>0</td><td>0</td><td>0</td><td>0</td><td>0</td><td>0</td><td>0</td><td>2008-01-07</td><td>11:04:00</td></tr>\n",
       "<tr><td>9265</td><td>1</td><td>9</td><td>3900</td><td>1</td><td>3</td><td>county road area</td><td>Not Stated</td><td>chp other</td><td>010</td><td>KAISER RD</td><td>MARIPOSA RD</td><td>1584.0</td><td>north</td><td>0</td><td>clear</td><td>Not Stated</td><td>0</td><td>Not Stated</td><td>Not Stated</td><td>Not Stated</td><td>Not Stated</td><td>Not Stated</td><td>Not Stated</td><td>Not Stated</td><td>Not Stated</td><td>Not Stated</td><td>0</td><td>property damage only</td><td>0</td><td>0</td><td>1</td><td>other than driver</td><td>Not Stated</td><td>other than driver...</td><td>Not Stated</td><td>Not Stated</td><td>not hit and run</td><td>hit object</td><td>other object</td><td>no pedestrian inv...</td><td>wet</td><td>other</td><td>Not Stated</td><td>dark with no stre...</td><td>none</td><td>0</td><td>0</td><td>0</td><td>0</td><td>0</td><td>0</td><td>Not Stated</td><td>Not Stated</td><td>0</td><td>0</td><td>0</td><td>0</td><td>0</td><td>0</td><td>0</td><td>0</td><td>0</td><td>2008-01-07</td><td>06:50:00</td></tr>\n",
       "<tr><td>4807</td><td>5</td><td>6</td><td>4807</td><td>0</td><td>0</td><td>not chp</td><td>Not Stated</td><td>not chp</td><td>006</td><td>MISSISSIPPI ST</td><td>SACRAMENTO ST</td><td>114.0</td><td>east</td><td>0</td><td>clear</td><td>Not Stated</td><td>0</td><td>Not Stated</td><td>Not Stated</td><td>Not Stated</td><td>Not Stated</td><td>Not Stated</td><td>Not Stated</td><td>Not Stated</td><td>Not Stated</td><td>Not Stated</td><td>0</td><td>property damage only</td><td>0</td><td>0</td><td>2</td><td>vehicle code viol...</td><td>Not Stated</td><td>dui</td><td>23152</td><td>A</td><td>not hit and run</td><td>sideswipe</td><td>parked motor vehicle</td><td>no pedestrian inv...</td><td>dry</td><td>normal</td><td>Not Stated</td><td>dark with street ...</td><td>none</td><td>0</td><td>0</td><td>0</td><td>0</td><td>0</td><td>0</td><td>Not Stated</td><td>Not Stated</td><td>0</td><td>0</td><td>0</td><td>0</td><td>0</td><td>0</td><td>0</td><td>0</td><td>0</td><td>2008-01-15</td><td>23:30:00</td></tr>\n",
       "<tr><td>9725</td><td>2</td><td>9</td><td>4300</td><td>0</td><td>1</td><td>state route</td><td>Not Stated</td><td>chp primary</td><td>160</td><td>RT 152</td><td>FERGUSON RD</td><td>280.0</td><td>west</td><td>0</td><td>Not Stated</td><td>Not Stated</td><td>1</td><td>SCL</td><td>4</td><td>152</td><td>Not Stated</td><td>Not Stated</td><td>12.76</td><td>highway</td><td>Not Stated</td><td>westbound</td><td>0</td><td>property damage only</td><td>0</td><td>0</td><td>2</td><td>vehicle code viol...</td><td>Not Stated</td><td>improper turning</td><td>22107</td><td>Not Stated</td><td>not hit and run</td><td>broadside</td><td>other motor vehicle</td><td>no pedestrian inv...</td><td>Not Stated</td><td>Not Stated</td><td>Not Stated</td><td>Not Stated</td><td>functioning</td><td>0</td><td>0</td><td>0</td><td>0</td><td>1</td><td>0</td><td>Not Stated</td><td>Not Stated</td><td>0</td><td>0</td><td>0</td><td>0</td><td>0</td><td>0</td><td>0</td><td>0</td><td>0</td><td>2008-01-04</td><td>14:45:00</td></tr>\n",
       "<tr><td>3000</td><td>5</td><td>4</td><td>3021</td><td>0</td><td>0</td><td>not chp</td><td>Not Stated</td><td>not chp</td><td>023</td><td>BEACH BL</td><td>CHAPMAN</td><td>0.0</td><td>Not Stated</td><td>1</td><td>clear</td><td>Not Stated</td><td>1</td><td>ORA</td><td>12</td><td>39</td><td>Not Stated</td><td>Not Stated</td><td>9.671</td><td>intersection</td><td>5</td><td>northbound</td><td>1</td><td>pain</td><td>0</td><td>2</td><td>2</td><td>vehicle code viol...</td><td>Not Stated</td><td>traffic signals a...</td><td>21453</td><td>A</td><td>not hit and run</td><td>Not Stated</td><td>other motor vehicle</td><td>no pedestrian inv...</td><td>dry</td><td>normal</td><td>Not Stated</td><td>daylight</td><td>functioning</td><td>0</td><td>0</td><td>0</td><td>0</td><td>0</td><td>0</td><td>passenger car</td><td>01</td><td>0</td><td>0</td><td>2</td><td>0</td><td>0</td><td>0</td><td>0</td><td>0</td><td>0</td><td>2008-01-01</td><td>12:40:00</td></tr>\n",
       "<tr><td>9450</td><td>1</td><td>9</td><td>2000</td><td>0</td><td>1</td><td>state route</td><td>Not Stated</td><td>chp other</td><td>012</td><td>RT 99</td><td>AVENUE 24 1/2</td><td>550.0</td><td>north</td><td>0</td><td>cloudy</td><td>Not Stated</td><td>1</td><td>MAD</td><td>6</td><td>99</td><td>Not Stated</td><td>Not Stated</td><td>24.53</td><td>highway</td><td>Not Stated</td><td>northbound</td><td>1</td><td>property damage only</td><td>0</td><td>0</td><td>1</td><td>other than driver</td><td>Not Stated</td><td>other than driver...</td><td>Not Stated</td><td>Not Stated</td><td>not hit and run</td><td>hit object</td><td>other object</td><td>no pedestrian inv...</td><td>wet</td><td>normal</td><td>Not Stated</td><td>daylight</td><td>none</td><td>1</td><td>0</td><td>0</td><td>0</td><td>0</td><td>0</td><td>Not Stated</td><td>Not Stated</td><td>0</td><td>0</td><td>0</td><td>0</td><td>0</td><td>0</td><td>0</td><td>0</td><td>0</td><td>2008-01-04</td><td>09:21:00</td></tr>\n",
       "<tr><td>9580</td><td>1</td><td>7</td><td>1942</td><td>0</td><td>1</td><td>us highway</td><td>Not Stated</td><td>chp other</td><td>102</td><td>RT 101</td><td>HASKELL AV</td><td>215.0</td><td>north</td><td>0</td><td>clear</td><td>Not Stated</td><td>1</td><td>LA</td><td>7</td><td>101</td><td>Not Stated</td><td>Not Stated</td><td>17.535</td><td>ramp</td><td>3</td><td>northbound</td><td>1</td><td>pain</td><td>0</td><td>1</td><td>1</td><td>vehicle code viol...</td><td>Not Stated</td><td>speeding</td><td>22350</td><td>Not Stated</td><td>not hit and run</td><td>hit object</td><td>fixed object</td><td>no pedestrian inv...</td><td>dry</td><td>normal</td><td>Not Stated</td><td>daylight</td><td>none</td><td>1</td><td>0</td><td>0</td><td>0</td><td>0</td><td>0</td><td>pickup or panel t...</td><td>22</td><td>0</td><td>0</td><td>1</td><td>0</td><td>0</td><td>0</td><td>0</td><td>0</td><td>0</td><td>2008-01-02</td><td>12:35:00</td></tr>\n",
       "<tr><td>9865</td><td>4</td><td>9</td><td>3600</td><td>0</td><td>1</td><td>state route</td><td>Not Stated</td><td>chp primary</td><td>011</td><td>RT 18</td><td>PINE AV</td><td>528.0</td><td>south</td><td>0</td><td>clear</td><td>Not Stated</td><td>1</td><td>SBD</td><td>8</td><td>18</td><td>Not Stated</td><td>Not Stated</td><td>22.73</td><td>highway</td><td>Not Stated</td><td>northbound</td><td>0</td><td>property damage only</td><td>0</td><td>0</td><td>2</td><td>vehicle code viol...</td><td>Not Stated</td><td>unsafe starting o...</td><td>22106</td><td>Not Stated</td><td>misdemeanor</td><td>other</td><td>parked motor vehicle</td><td>no pedestrian inv...</td><td>dry</td><td>normal</td><td>Not Stated</td><td>dark with no stre...</td><td>none</td><td>0</td><td>0</td><td>0</td><td>0</td><td>0</td><td>0</td><td>Not Stated</td><td>Not Stated</td><td>0</td><td>0</td><td>0</td><td>0</td><td>0</td><td>0</td><td>0</td><td>0</td><td>0</td><td>2008-01-01</td><td>Not Stated</td></tr>\n",
       "<tr><td>9335</td><td>1</td><td>7</td><td>3801</td><td>0</td><td>1</td><td>interstate</td><td>Not Stated</td><td>chp other</td><td>022</td><td>RT 280</td><td>GENEVA AV</td><td>500.0</td><td>south</td><td>0</td><td>raining</td><td>Not Stated</td><td>1</td><td>SF</td><td>4</td><td>280</td><td>Not Stated</td><td>R</td><td>1.47</td><td>highway</td><td>Not Stated</td><td>northbound</td><td>1</td><td>pain</td><td>0</td><td>2</td><td>4</td><td>vehicle code viol...</td><td>Not Stated</td><td>speeding</td><td>22350</td><td>Not Stated</td><td>not hit and run</td><td>sideswipe</td><td>other motor vehicle</td><td>no pedestrian inv...</td><td>wet</td><td>normal</td><td>Not Stated</td><td>daylight</td><td>none</td><td>1</td><td>0</td><td>0</td><td>0</td><td>0</td><td>0</td><td>passenger car</td><td>01</td><td>0</td><td>0</td><td>2</td><td>0</td><td>0</td><td>0</td><td>0</td><td>0</td><td>0</td><td>2008-01-04</td><td>10:20:00</td></tr>\n",
       "<tr><td>9266</td><td>1</td><td>9</td><td>3900</td><td>0</td><td>1</td><td>interstate</td><td>Not Stated</td><td>chp other</td><td>014</td><td>RT 205</td><td>MOUNTAIN HOUSE PKWY</td><td>2640.0</td><td>west</td><td>0</td><td>cloudy</td><td>raining</td><td>1</td><td>SJ</td><td>10</td><td>205</td><td>Not Stated</td><td>Not Stated</td><td>0.88</td><td>highway</td><td>Not Stated</td><td>eastbound</td><td>0</td><td>property damage only</td><td>0</td><td>0</td><td>1</td><td>vehicle code viol...</td><td>Not Stated</td><td>speeding</td><td>22350</td><td>Not Stated</td><td>not hit and run</td><td>hit object</td><td>fixed object</td><td>no pedestrian inv...</td><td>wet</td><td>normal</td><td>Not Stated</td><td>daylight</td><td>none</td><td>1</td><td>0</td><td>0</td><td>0</td><td>0</td><td>0</td><td>pickup or panel t...</td><td>22</td><td>0</td><td>0</td><td>0</td><td>0</td><td>0</td><td>0</td><td>0</td><td>0</td><td>0</td><td>2008-01-04</td><td>12:05:00</td></tr>\n",
       "<tr><td>9420</td><td>2</td><td>9</td><td>1500</td><td>0</td><td>3</td><td>county road area</td><td>Not Stated</td><td>chp other</td><td>040</td><td>ROUND MOUNTAIN RD</td><td>CHINA GRADE LOOP</td><td>4752.0</td><td>east</td><td>0</td><td>cloudy</td><td>Not Stated</td><td>0</td><td>Not Stated</td><td>Not Stated</td><td>Not Stated</td><td>Not Stated</td><td>Not Stated</td><td>Not Stated</td><td>Not Stated</td><td>Not Stated</td><td>Not Stated</td><td>1</td><td>property damage only</td><td>0</td><td>0</td><td>1</td><td>vehicle code viol...</td><td>Not Stated</td><td>improper turning</td><td>22107</td><td>Not Stated</td><td>not hit and run</td><td>hit object</td><td>fixed object</td><td>no pedestrian inv...</td><td>wet</td><td>normal</td><td>Not Stated</td><td>dark with no stre...</td><td>none</td><td>0</td><td>0</td><td>0</td><td>0</td><td>0</td><td>0</td><td>passenger car</td><td>01</td><td>0</td><td>0</td><td>0</td><td>0</td><td>0</td><td>0</td><td>0</td><td>0</td><td>0</td><td>2008-01-04</td><td>20:55:00</td></tr>\n",
       "<tr><td>3401</td><td>5</td><td>5</td><td>3401</td><td>0</td><td>0</td><td>not chp</td><td>Not Stated</td><td>not chp</td><td>004</td><td>CLARKSVILLE RD</td><td>WALDEN DR</td><td>18.0</td><td>north</td><td>0</td><td>clear</td><td>Not Stated</td><td>0</td><td>Not Stated</td><td>Not Stated</td><td>Not Stated</td><td>Not Stated</td><td>Not Stated</td><td>Not Stated</td><td>Not Stated</td><td>Not Stated</td><td>Not Stated</td><td>1</td><td>property damage only</td><td>0</td><td>0</td><td>1</td><td>vehicle code viol...</td><td>Not Stated</td><td>improper turning</td><td>22107</td><td>Not Stated</td><td>not hit and run</td><td>hit object</td><td>fixed object</td><td>no pedestrian inv...</td><td>dry</td><td>normal</td><td>Not Stated</td><td>daylight</td><td>none</td><td>0</td><td>0</td><td>0</td><td>0</td><td>0</td><td>0</td><td>passenger car</td><td>01</td><td>0</td><td>0</td><td>0</td><td>0</td><td>0</td><td>0</td><td>0</td><td>0</td><td>0</td><td>2008-01-06</td><td>12:31:00</td></tr>\n",
       "<tr><td>9540</td><td>1</td><td>7</td><td>1942</td><td>0</td><td>1</td><td>interstate</td><td>Not Stated</td><td>chp primary</td><td>503</td><td>RT 5</td><td>RT 14</td><td>1200.0</td><td>south</td><td>0</td><td>clear</td><td>Not Stated</td><td>1</td><td>LA</td><td>7</td><td>5</td><td>Not Stated</td><td>R</td><td>45.35</td><td>highway</td><td>Not Stated</td><td>southbound</td><td>0</td><td>property damage only</td><td>0</td><td>0</td><td>2</td><td>vehicle code viol...</td><td>Not Stated</td><td>following too clo...</td><td>21703</td><td>Not Stated</td><td>not hit and run</td><td>rear end</td><td>other motor vehicle</td><td>no pedestrian inv...</td><td>wet</td><td>normal</td><td>Not Stated</td><td>daylight</td><td>none</td><td>1</td><td>0</td><td>0</td><td>0</td><td>0</td><td>0</td><td>passenger car</td><td>01</td><td>0</td><td>0</td><td>0</td><td>0</td><td>0</td><td>0</td><td>0</td><td>0</td><td>0</td><td>2008-01-07</td><td>06:40:00</td></tr>\n",
       "<tr><td>9245</td><td>2</td><td>9</td><td>0900</td><td>0</td><td>2</td><td>county road line</td><td>Not Stated</td><td>chp other</td><td>011</td><td>GREEN VALLEY RD</td><td>LOTUS RD</td><td>2640.0</td><td>east</td><td>0</td><td>cloudy</td><td>raining</td><td>0</td><td>Not Stated</td><td>Not Stated</td><td>Not Stated</td><td>Not Stated</td><td>Not Stated</td><td>Not Stated</td><td>Not Stated</td><td>Not Stated</td><td>Not Stated</td><td>1</td><td>pain</td><td>0</td><td>1</td><td>1</td><td>vehicle code viol...</td><td>Not Stated</td><td>speeding</td><td>22350</td><td>Not Stated</td><td>not hit and run</td><td>overturned</td><td>non-collision</td><td>no pedestrian inv...</td><td>wet</td><td>normal</td><td>Not Stated</td><td>dark with no stre...</td><td>none</td><td>0</td><td>0</td><td>0</td><td>0</td><td>0</td><td>0</td><td>pickup or panel t...</td><td>22</td><td>0</td><td>0</td><td>1</td><td>0</td><td>0</td><td>0</td><td>0</td><td>0</td><td>0</td><td>2008-01-04</td><td>21:00:00</td></tr>\n",
       "<tr><td>107</td><td>5</td><td>5</td><td>0107</td><td>0</td><td>0</td><td>not chp</td><td>Not Stated</td><td>not chp</td><td>M63</td><td>INDUSTRIAL WY</td><td>PRESTON AV</td><td>0.0</td><td>Not Stated</td><td>1</td><td>cloudy</td><td>raining</td><td>0</td><td>Not Stated</td><td>Not Stated</td><td>Not Stated</td><td>Not Stated</td><td>Not Stated</td><td>Not Stated</td><td>Not Stated</td><td>Not Stated</td><td>Not Stated</td><td>0</td><td>property damage only</td><td>0</td><td>0</td><td>2</td><td>vehicle code viol...</td><td>Not Stated</td><td>speeding</td><td>22350</td><td>Not Stated</td><td>not hit and run</td><td>sideswipe</td><td>other motor vehicle</td><td>no pedestrian inv...</td><td>wet</td><td>normal</td><td>Not Stated</td><td>daylight</td><td>none</td><td>0</td><td>0</td><td>0</td><td>0</td><td>0</td><td>0</td><td>passenger car</td><td>01</td><td>0</td><td>0</td><td>0</td><td>0</td><td>0</td><td>0</td><td>0</td><td>0</td><td>0</td><td>2008-01-03</td><td>15:21:00</td></tr>\n",
       "<tr><td>9420</td><td>1</td><td>6</td><td>1502</td><td>1</td><td>4</td><td>safety services p...</td><td>Not Stated</td><td>chp other</td><td>901</td><td>OLIVE DR</td><td>CALLOWAY DR</td><td>60.0</td><td>east</td><td>0</td><td>clear</td><td>Not Stated</td><td>0</td><td>Not Stated</td><td>Not Stated</td><td>Not Stated</td><td>Not Stated</td><td>Not Stated</td><td>Not Stated</td><td>Not Stated</td><td>Not Stated</td><td>Not Stated</td><td>0</td><td>property damage only</td><td>0</td><td>0</td><td>2</td><td>vehicle code viol...</td><td>Not Stated</td><td>speeding</td><td>22350</td><td>Not Stated</td><td>not hit and run</td><td>sideswipe</td><td>other motor vehicle</td><td>no pedestrian inv...</td><td>dry</td><td>normal</td><td>Not Stated</td><td>daylight</td><td>functioning</td><td>0</td><td>0</td><td>0</td><td>0</td><td>0</td><td>0</td><td>schoolbus</td><td>13</td><td>0</td><td>0</td><td>0</td><td>0</td><td>0</td><td>0</td><td>0</td><td>0</td><td>0</td><td>2008-01-16</td><td>13:40:00</td></tr>\n",
       "<tr><td>9340</td><td>1</td><td>7</td><td>4313</td><td>0</td><td>1</td><td>interstate</td><td>Not Stated</td><td>chp other</td><td>281</td><td>RT 280</td><td>3RD ST</td><td>473.0</td><td>south</td><td>0</td><td>cloudy</td><td>raining</td><td>1</td><td>SCL</td><td>4</td><td>280</td><td>Not Stated</td><td>R</td><td>1.7</td><td>highway</td><td>Not Stated</td><td>northbound</td><td>1</td><td>other injury</td><td>0</td><td>3</td><td>3</td><td>vehicle code viol...</td><td>Not Stated</td><td>improper turning</td><td>22107</td><td>Not Stated</td><td>not hit and run</td><td>rear end</td><td>other motor vehicle</td><td>no pedestrian inv...</td><td>wet</td><td>normal</td><td>Not Stated</td><td>daylight</td><td>none</td><td>1</td><td>0</td><td>0</td><td>0</td><td>0</td><td>0</td><td>passenger car</td><td>01</td><td>0</td><td>1</td><td>2</td><td>0</td><td>0</td><td>0</td><td>0</td><td>0</td><td>0</td><td>2008-01-05</td><td>13:04:00</td></tr>\n",
       "<tr><td>9340</td><td>2</td><td>7</td><td>4313</td><td>0</td><td>1</td><td>us highway</td><td>Not Stated</td><td>chp other</td><td>110</td><td>RT 101</td><td>MCKEE RD</td><td>2000.0</td><td>north</td><td>0</td><td>cloudy</td><td>raining</td><td>1</td><td>SCL</td><td>4</td><td>101</td><td>Not Stated</td><td>Not Stated</td><td>36.52</td><td>highway</td><td>Not Stated</td><td>southbound</td><td>0</td><td>property damage only</td><td>0</td><td>0</td><td>2</td><td>vehicle code viol...</td><td>Not Stated</td><td>speeding</td><td>22350</td><td>Not Stated</td><td>not hit and run</td><td>rear end</td><td>other motor vehicle</td><td>no pedestrian inv...</td><td>wet</td><td>normal</td><td>Not Stated</td><td>daylight</td><td>none</td><td>1</td><td>0</td><td>0</td><td>0</td><td>0</td><td>0</td><td>passenger car</td><td>01</td><td>0</td><td>0</td><td>0</td><td>0</td><td>0</td><td>0</td><td>0</td><td>0</td><td>0</td><td>2008-01-05</td><td>14:15:00</td></tr>\n",
       "<tr><td>9345</td><td>1</td><td>4</td><td>0108</td><td>0</td><td>1</td><td>state route</td><td>Not Stated</td><td>chp primary</td><td>184</td><td>RT 84</td><td>SAN MATEO COUNTY ...</td><td>200.0</td><td>north</td><td>0</td><td>cloudy</td><td>wind</td><td>1</td><td>ALA</td><td>4</td><td>84</td><td>Not Stated</td><td>R</td><td>0.04</td><td>highway</td><td>Not Stated</td><td>southbound</td><td>1</td><td>property damage only</td><td>0</td><td>0</td><td>3</td><td>vehicle code viol...</td><td>Not Stated</td><td>unsafe lane change</td><td>21658</td><td>A</td><td>not hit and run</td><td>sideswipe</td><td>other motor vehicle</td><td>no pedestrian inv...</td><td>dry</td><td>normal</td><td>Not Stated</td><td>daylight</td><td>none</td><td>4</td><td>0</td><td>0</td><td>0</td><td>0</td><td>0</td><td>passenger car</td><td>01</td><td>0</td><td>0</td><td>0</td><td>0</td><td>0</td><td>0</td><td>0</td><td>0</td><td>0</td><td>2008-01-08</td><td>09:55:00</td></tr>\n",
       "<tr><td>5600</td><td>5</td><td>6</td><td>5607</td><td>0</td><td>0</td><td>not chp</td><td>Not Stated</td><td>not chp</td><td>Not Stated</td><td>OLSEN RD</td><td>SUNSET HILLS BL</td><td>75.0</td><td>west</td><td>0</td><td>raining</td><td>Not Stated</td><td>0</td><td>Not Stated</td><td>Not Stated</td><td>Not Stated</td><td>Not Stated</td><td>Not Stated</td><td>Not Stated</td><td>Not Stated</td><td>Not Stated</td><td>Not Stated</td><td>1</td><td>property damage only</td><td>0</td><td>0</td><td>1</td><td>vehicle code viol...</td><td>Not Stated</td><td>speeding</td><td>22350</td><td>Not Stated</td><td>not hit and run</td><td>hit object</td><td>fixed object</td><td>no pedestrian inv...</td><td>wet</td><td>normal</td><td>Not Stated</td><td>daylight</td><td>functioning</td><td>0</td><td>0</td><td>0</td><td>0</td><td>0</td><td>0</td><td>passenger car</td><td>01</td><td>0</td><td>0</td><td>0</td><td>0</td><td>0</td><td>0</td><td>0</td><td>0</td><td>0</td><td>2008-01-04</td><td>15:07:00</td></tr>\n",
       "</table>\n",
       "only showing top 20 rows\n"
      ],
      "text/plain": [
       "+------------+---------+----------+--------------------+-----------------+---------+--------------------+------------------+--------------+-----------+-----------------+--------------------+--------+----------+------------+----------+----------+-----------------------+---------------+-----------------+-----------+------------+---------------+----------+-------------+-----------------+---------------+--------+--------------------+--------------+---------------+-----------+------------------------+------------------+----------------------+-------------+------------------------+---------------+-----------------+---------------------------+--------------------+------------+----------------+----------------+--------------------+--------------+-------------+--------------------+-----------------+--------------------+---------------+----------------+-------------------------------+-------------------------+-------------------+--------------------------+------------------------------+-----------------------+------------------------+----------------------+-----------------------+-------------------------+--------------------------+--------------+--------------+\n",
       "|jurisdiction|chp_shift|population|county_city_location|special_condition|beat_type|       chp_beat_type|city_division_lapd|chp_beat_class|beat_number|     primary_road|      secondary_road|distance| direction|intersection| weather_1| weather_2|state_highway_indicator|caltrans_county|caltrans_district|state_route|route_suffix|postmile_prefix|  postmile|location_type|ramp_intersection|side_of_highway|tow_away|  collision_severity|killed_victims|injured_victims|party_count|primary_collision_factor|pcf_violation_code|pcf_violation_category|pcf_violation|pcf_violation_subsection|    hit_and_run|type_of_collision|motor_vehicle_involved_with|   pedestrian_action|road_surface|road_condition_1|road_condition_2|            lighting|control_device|chp_road_type|pedestrian_collision|bicycle_collision|motorcycle_collision|truck_collision|alcohol_involved|statewide_vehicle_type_at_fault|chp_vehicle_type_at_fault|severe_injury_count|other_visible_injury_count|complaint_of_pain_injury_count|pedestrian_killed_count|pedestrian_injured_count|bicyclist_killed_count|bicyclist_injured_count|motorcyclist_killed_count|motorcyclist_injured_count|collision_date|collision_time|\n",
       "+------------+---------+----------+--------------------+-----------------+---------+--------------------+------------------+--------------+-----------+-----------------+--------------------+--------+----------+------------+----------+----------+-----------------------+---------------+-----------------+-----------+------------+---------------+----------+-------------+-----------------+---------------+--------+--------------------+--------------+---------------+-----------+------------------------+------------------+----------------------+-------------+------------------------+---------------+-----------------+---------------------------+--------------------+------------+----------------+----------------+--------------------+--------------+-------------+--------------------+-----------------+--------------------+---------------+----------------+-------------------------------+-------------------------+-------------------+--------------------------+------------------------------+-----------------------+------------------------+----------------------+-----------------------+-------------------------+--------------------------+--------------+--------------+\n",
       "|        9495|        1|         9|                1600|                0|        1|          interstate|        Not Stated|     chp other|        004|             RT 5|               RT 41|  2640.0|     south|           0|    cloudy|Not Stated|                      1|            KIN|                6|          5|  Not Stated|     Not Stated|     16.07|      highway|       Not Stated|     northbound|       1|property damage only|             0|              0|          2|    vehicle code viol...|        Not Stated|      improper turning|        22107|              Not Stated|not hit and run|        sideswipe|        other motor vehicle|no pedestrian inv...|         dry|          normal|      Not Stated|            daylight|          none|            1|                   0|                0|                   0|              1|               0|                  passenger car|                       07|                  0|                         0|                             0|                      0|                       0|                     0|                      0|                        0|                         0|    2008-01-07|      11:04:00|\n",
       "|        9265|        1|         9|                3900|                1|        3|    county road area|        Not Stated|     chp other|        010|        KAISER RD|         MARIPOSA RD|  1584.0|     north|           0|     clear|Not Stated|                      0|     Not Stated|       Not Stated| Not Stated|  Not Stated|     Not Stated|Not Stated|   Not Stated|       Not Stated|     Not Stated|       0|property damage only|             0|              0|          1|       other than driver|        Not Stated|  other than driver...|   Not Stated|              Not Stated|not hit and run|       hit object|               other object|no pedestrian inv...|         wet|           other|      Not Stated|dark with no stre...|          none|            0|                   0|                0|                   0|              0|               0|                     Not Stated|               Not Stated|                  0|                         0|                             0|                      0|                       0|                     0|                      0|                        0|                         0|    2008-01-07|      06:50:00|\n",
       "|        4807|        5|         6|                4807|                0|        0|             not chp|        Not Stated|       not chp|        006|   MISSISSIPPI ST|       SACRAMENTO ST|   114.0|      east|           0|     clear|Not Stated|                      0|     Not Stated|       Not Stated| Not Stated|  Not Stated|     Not Stated|Not Stated|   Not Stated|       Not Stated|     Not Stated|       0|property damage only|             0|              0|          2|    vehicle code viol...|        Not Stated|                   dui|        23152|                       A|not hit and run|        sideswipe|       parked motor vehicle|no pedestrian inv...|         dry|          normal|      Not Stated|dark with street ...|          none|            0|                   0|                0|                   0|              0|               0|                     Not Stated|               Not Stated|                  0|                         0|                             0|                      0|                       0|                     0|                      0|                        0|                         0|    2008-01-15|      23:30:00|\n",
       "|        9725|        2|         9|                4300|                0|        1|         state route|        Not Stated|   chp primary|        160|           RT 152|         FERGUSON RD|   280.0|      west|           0|Not Stated|Not Stated|                      1|            SCL|                4|        152|  Not Stated|     Not Stated|     12.76|      highway|       Not Stated|      westbound|       0|property damage only|             0|              0|          2|    vehicle code viol...|        Not Stated|      improper turning|        22107|              Not Stated|not hit and run|        broadside|        other motor vehicle|no pedestrian inv...|  Not Stated|      Not Stated|      Not Stated|          Not Stated|   functioning|            0|                   0|                0|                   0|              1|               0|                     Not Stated|               Not Stated|                  0|                         0|                             0|                      0|                       0|                     0|                      0|                        0|                         0|    2008-01-04|      14:45:00|\n",
       "|        3000|        5|         4|                3021|                0|        0|             not chp|        Not Stated|       not chp|        023|         BEACH BL|             CHAPMAN|     0.0|Not Stated|           1|     clear|Not Stated|                      1|            ORA|               12|         39|  Not Stated|     Not Stated|     9.671| intersection|                5|     northbound|       1|                pain|             0|              2|          2|    vehicle code viol...|        Not Stated|  traffic signals a...|        21453|                       A|not hit and run|       Not Stated|        other motor vehicle|no pedestrian inv...|         dry|          normal|      Not Stated|            daylight|   functioning|            0|                   0|                0|                   0|              0|               0|                  passenger car|                       01|                  0|                         0|                             2|                      0|                       0|                     0|                      0|                        0|                         0|    2008-01-01|      12:40:00|\n",
       "|        9450|        1|         9|                2000|                0|        1|         state route|        Not Stated|     chp other|        012|            RT 99|       AVENUE 24 1/2|   550.0|     north|           0|    cloudy|Not Stated|                      1|            MAD|                6|         99|  Not Stated|     Not Stated|     24.53|      highway|       Not Stated|     northbound|       1|property damage only|             0|              0|          1|       other than driver|        Not Stated|  other than driver...|   Not Stated|              Not Stated|not hit and run|       hit object|               other object|no pedestrian inv...|         wet|          normal|      Not Stated|            daylight|          none|            1|                   0|                0|                   0|              0|               0|                     Not Stated|               Not Stated|                  0|                         0|                             0|                      0|                       0|                     0|                      0|                        0|                         0|    2008-01-04|      09:21:00|\n",
       "|        9580|        1|         7|                1942|                0|        1|          us highway|        Not Stated|     chp other|        102|           RT 101|          HASKELL AV|   215.0|     north|           0|     clear|Not Stated|                      1|             LA|                7|        101|  Not Stated|     Not Stated|    17.535|         ramp|                3|     northbound|       1|                pain|             0|              1|          1|    vehicle code viol...|        Not Stated|              speeding|        22350|              Not Stated|not hit and run|       hit object|               fixed object|no pedestrian inv...|         dry|          normal|      Not Stated|            daylight|          none|            1|                   0|                0|                   0|              0|               0|           pickup or panel t...|                       22|                  0|                         0|                             1|                      0|                       0|                     0|                      0|                        0|                         0|    2008-01-02|      12:35:00|\n",
       "|        9865|        4|         9|                3600|                0|        1|         state route|        Not Stated|   chp primary|        011|            RT 18|             PINE AV|   528.0|     south|           0|     clear|Not Stated|                      1|            SBD|                8|         18|  Not Stated|     Not Stated|     22.73|      highway|       Not Stated|     northbound|       0|property damage only|             0|              0|          2|    vehicle code viol...|        Not Stated|  unsafe starting o...|        22106|              Not Stated|    misdemeanor|            other|       parked motor vehicle|no pedestrian inv...|         dry|          normal|      Not Stated|dark with no stre...|          none|            0|                   0|                0|                   0|              0|               0|                     Not Stated|               Not Stated|                  0|                         0|                             0|                      0|                       0|                     0|                      0|                        0|                         0|    2008-01-01|    Not Stated|\n",
       "|        9335|        1|         7|                3801|                0|        1|          interstate|        Not Stated|     chp other|        022|           RT 280|           GENEVA AV|   500.0|     south|           0|   raining|Not Stated|                      1|             SF|                4|        280|  Not Stated|              R|      1.47|      highway|       Not Stated|     northbound|       1|                pain|             0|              2|          4|    vehicle code viol...|        Not Stated|              speeding|        22350|              Not Stated|not hit and run|        sideswipe|        other motor vehicle|no pedestrian inv...|         wet|          normal|      Not Stated|            daylight|          none|            1|                   0|                0|                   0|              0|               0|                  passenger car|                       01|                  0|                         0|                             2|                      0|                       0|                     0|                      0|                        0|                         0|    2008-01-04|      10:20:00|\n",
       "|        9266|        1|         9|                3900|                0|        1|          interstate|        Not Stated|     chp other|        014|           RT 205| MOUNTAIN HOUSE PKWY|  2640.0|      west|           0|    cloudy|   raining|                      1|             SJ|               10|        205|  Not Stated|     Not Stated|      0.88|      highway|       Not Stated|      eastbound|       0|property damage only|             0|              0|          1|    vehicle code viol...|        Not Stated|              speeding|        22350|              Not Stated|not hit and run|       hit object|               fixed object|no pedestrian inv...|         wet|          normal|      Not Stated|            daylight|          none|            1|                   0|                0|                   0|              0|               0|           pickup or panel t...|                       22|                  0|                         0|                             0|                      0|                       0|                     0|                      0|                        0|                         0|    2008-01-04|      12:05:00|\n",
       "|        9420|        2|         9|                1500|                0|        3|    county road area|        Not Stated|     chp other|        040|ROUND MOUNTAIN RD|    CHINA GRADE LOOP|  4752.0|      east|           0|    cloudy|Not Stated|                      0|     Not Stated|       Not Stated| Not Stated|  Not Stated|     Not Stated|Not Stated|   Not Stated|       Not Stated|     Not Stated|       1|property damage only|             0|              0|          1|    vehicle code viol...|        Not Stated|      improper turning|        22107|              Not Stated|not hit and run|       hit object|               fixed object|no pedestrian inv...|         wet|          normal|      Not Stated|dark with no stre...|          none|            0|                   0|                0|                   0|              0|               0|                  passenger car|                       01|                  0|                         0|                             0|                      0|                       0|                     0|                      0|                        0|                         0|    2008-01-04|      20:55:00|\n",
       "|        3401|        5|         5|                3401|                0|        0|             not chp|        Not Stated|       not chp|        004|   CLARKSVILLE RD|           WALDEN DR|    18.0|     north|           0|     clear|Not Stated|                      0|     Not Stated|       Not Stated| Not Stated|  Not Stated|     Not Stated|Not Stated|   Not Stated|       Not Stated|     Not Stated|       1|property damage only|             0|              0|          1|    vehicle code viol...|        Not Stated|      improper turning|        22107|              Not Stated|not hit and run|       hit object|               fixed object|no pedestrian inv...|         dry|          normal|      Not Stated|            daylight|          none|            0|                   0|                0|                   0|              0|               0|                  passenger car|                       01|                  0|                         0|                             0|                      0|                       0|                     0|                      0|                        0|                         0|    2008-01-06|      12:31:00|\n",
       "|        9540|        1|         7|                1942|                0|        1|          interstate|        Not Stated|   chp primary|        503|             RT 5|               RT 14|  1200.0|     south|           0|     clear|Not Stated|                      1|             LA|                7|          5|  Not Stated|              R|     45.35|      highway|       Not Stated|     southbound|       0|property damage only|             0|              0|          2|    vehicle code viol...|        Not Stated|  following too clo...|        21703|              Not Stated|not hit and run|         rear end|        other motor vehicle|no pedestrian inv...|         wet|          normal|      Not Stated|            daylight|          none|            1|                   0|                0|                   0|              0|               0|                  passenger car|                       01|                  0|                         0|                             0|                      0|                       0|                     0|                      0|                        0|                         0|    2008-01-07|      06:40:00|\n",
       "|        9245|        2|         9|                0900|                0|        2|    county road line|        Not Stated|     chp other|        011|  GREEN VALLEY RD|            LOTUS RD|  2640.0|      east|           0|    cloudy|   raining|                      0|     Not Stated|       Not Stated| Not Stated|  Not Stated|     Not Stated|Not Stated|   Not Stated|       Not Stated|     Not Stated|       1|                pain|             0|              1|          1|    vehicle code viol...|        Not Stated|              speeding|        22350|              Not Stated|not hit and run|       overturned|              non-collision|no pedestrian inv...|         wet|          normal|      Not Stated|dark with no stre...|          none|            0|                   0|                0|                   0|              0|               0|           pickup or panel t...|                       22|                  0|                         0|                             1|                      0|                       0|                     0|                      0|                        0|                         0|    2008-01-04|      21:00:00|\n",
       "|         107|        5|         5|                0107|                0|        0|             not chp|        Not Stated|       not chp|        M63|    INDUSTRIAL WY|          PRESTON AV|     0.0|Not Stated|           1|    cloudy|   raining|                      0|     Not Stated|       Not Stated| Not Stated|  Not Stated|     Not Stated|Not Stated|   Not Stated|       Not Stated|     Not Stated|       0|property damage only|             0|              0|          2|    vehicle code viol...|        Not Stated|              speeding|        22350|              Not Stated|not hit and run|        sideswipe|        other motor vehicle|no pedestrian inv...|         wet|          normal|      Not Stated|            daylight|          none|            0|                   0|                0|                   0|              0|               0|                  passenger car|                       01|                  0|                         0|                             0|                      0|                       0|                     0|                      0|                        0|                         0|    2008-01-03|      15:21:00|\n",
       "|        9420|        1|         6|                1502|                1|        4|safety services p...|        Not Stated|     chp other|        901|         OLIVE DR|         CALLOWAY DR|    60.0|      east|           0|     clear|Not Stated|                      0|     Not Stated|       Not Stated| Not Stated|  Not Stated|     Not Stated|Not Stated|   Not Stated|       Not Stated|     Not Stated|       0|property damage only|             0|              0|          2|    vehicle code viol...|        Not Stated|              speeding|        22350|              Not Stated|not hit and run|        sideswipe|        other motor vehicle|no pedestrian inv...|         dry|          normal|      Not Stated|            daylight|   functioning|            0|                   0|                0|                   0|              0|               0|                      schoolbus|                       13|                  0|                         0|                             0|                      0|                       0|                     0|                      0|                        0|                         0|    2008-01-16|      13:40:00|\n",
       "|        9340|        1|         7|                4313|                0|        1|          interstate|        Not Stated|     chp other|        281|           RT 280|              3RD ST|   473.0|     south|           0|    cloudy|   raining|                      1|            SCL|                4|        280|  Not Stated|              R|       1.7|      highway|       Not Stated|     northbound|       1|        other injury|             0|              3|          3|    vehicle code viol...|        Not Stated|      improper turning|        22107|              Not Stated|not hit and run|         rear end|        other motor vehicle|no pedestrian inv...|         wet|          normal|      Not Stated|            daylight|          none|            1|                   0|                0|                   0|              0|               0|                  passenger car|                       01|                  0|                         1|                             2|                      0|                       0|                     0|                      0|                        0|                         0|    2008-01-05|      13:04:00|\n",
       "|        9340|        2|         7|                4313|                0|        1|          us highway|        Not Stated|     chp other|        110|           RT 101|            MCKEE RD|  2000.0|     north|           0|    cloudy|   raining|                      1|            SCL|                4|        101|  Not Stated|     Not Stated|     36.52|      highway|       Not Stated|     southbound|       0|property damage only|             0|              0|          2|    vehicle code viol...|        Not Stated|              speeding|        22350|              Not Stated|not hit and run|         rear end|        other motor vehicle|no pedestrian inv...|         wet|          normal|      Not Stated|            daylight|          none|            1|                   0|                0|                   0|              0|               0|                  passenger car|                       01|                  0|                         0|                             0|                      0|                       0|                     0|                      0|                        0|                         0|    2008-01-05|      14:15:00|\n",
       "|        9345|        1|         4|                0108|                0|        1|         state route|        Not Stated|   chp primary|        184|            RT 84|SAN MATEO COUNTY ...|   200.0|     north|           0|    cloudy|      wind|                      1|            ALA|                4|         84|  Not Stated|              R|      0.04|      highway|       Not Stated|     southbound|       1|property damage only|             0|              0|          3|    vehicle code viol...|        Not Stated|    unsafe lane change|        21658|                       A|not hit and run|        sideswipe|        other motor vehicle|no pedestrian inv...|         dry|          normal|      Not Stated|            daylight|          none|            4|                   0|                0|                   0|              0|               0|                  passenger car|                       01|                  0|                         0|                             0|                      0|                       0|                     0|                      0|                        0|                         0|    2008-01-08|      09:55:00|\n",
       "|        5600|        5|         6|                5607|                0|        0|             not chp|        Not Stated|       not chp| Not Stated|         OLSEN RD|     SUNSET HILLS BL|    75.0|      west|           0|   raining|Not Stated|                      0|     Not Stated|       Not Stated| Not Stated|  Not Stated|     Not Stated|Not Stated|   Not Stated|       Not Stated|     Not Stated|       1|property damage only|             0|              0|          1|    vehicle code viol...|        Not Stated|              speeding|        22350|              Not Stated|not hit and run|       hit object|               fixed object|no pedestrian inv...|         wet|          normal|      Not Stated|            daylight|   functioning|            0|                   0|                0|                   0|              0|               0|                  passenger car|                       01|                  0|                         0|                             0|                      0|                       0|                     0|                      0|                        0|                         0|    2008-01-04|      15:07:00|\n",
       "+------------+---------+----------+--------------------+-----------------+---------+--------------------+------------------+--------------+-----------+-----------------+--------------------+--------+----------+------------+----------+----------+-----------------------+---------------+-----------------+-----------+------------+---------------+----------+-------------+-----------------+---------------+--------+--------------------+--------------+---------------+-----------+------------------------+------------------+----------------------+-------------+------------------------+---------------+-----------------+---------------------------+--------------------+------------+----------------+----------------+--------------------+--------------+-------------+--------------------+-----------------+--------------------+---------------+----------------+-------------------------------+-------------------------+-------------------+--------------------------+------------------------------+-----------------------+------------------------+----------------------+-----------------------+-------------------------+--------------------------+--------------+--------------+\n",
       "only showing top 20 rows"
      ]
     },
     "execution_count": 6,
     "metadata": {},
     "output_type": "execute_result"
    }
   ],
   "source": [
    "df.limit(30)"
   ]
  },
  {
   "cell_type": "markdown",
   "id": "conceptual-bride",
   "metadata": {},
   "source": [
    "Split train and test sets."
   ]
  },
  {
   "cell_type": "code",
   "execution_count": 7,
   "id": "mediterranean-matthew",
   "metadata": {},
   "outputs": [
    {
     "data": {
      "text/plain": [
       "[75790, 25418]"
      ]
     },
     "execution_count": 7,
     "metadata": {},
     "output_type": "execute_result"
    }
   ],
   "source": [
    "df_test, df_train = df.randomSplit([0.25,0.75], seed=42)\n",
    "[df_train.count(), df_test.count()]"
   ]
  },
  {
   "cell_type": "code",
   "execution_count": 8,
   "id": "homeless-following",
   "metadata": {},
   "outputs": [
    {
     "data": {
      "text/html": [
       "<table border='1'>\n",
       "<tr><th>jurisdiction</th><th>chp_shift</th><th>population</th><th>county_city_location</th><th>special_condition</th><th>beat_type</th><th>chp_beat_type</th><th>city_division_lapd</th><th>chp_beat_class</th><th>beat_number</th><th>primary_road</th><th>secondary_road</th><th>distance</th><th>direction</th><th>intersection</th><th>weather_1</th><th>weather_2</th><th>state_highway_indicator</th><th>caltrans_county</th><th>caltrans_district</th><th>state_route</th><th>route_suffix</th><th>postmile_prefix</th><th>postmile</th><th>location_type</th><th>ramp_intersection</th><th>side_of_highway</th><th>tow_away</th><th>collision_severity</th><th>killed_victims</th><th>injured_victims</th><th>party_count</th><th>primary_collision_factor</th><th>pcf_violation_code</th><th>pcf_violation_category</th><th>pcf_violation</th><th>pcf_violation_subsection</th><th>hit_and_run</th><th>type_of_collision</th><th>motor_vehicle_involved_with</th><th>pedestrian_action</th><th>road_surface</th><th>road_condition_1</th><th>road_condition_2</th><th>lighting</th><th>control_device</th><th>chp_road_type</th><th>pedestrian_collision</th><th>bicycle_collision</th><th>motorcycle_collision</th><th>truck_collision</th><th>alcohol_involved</th><th>statewide_vehicle_type_at_fault</th><th>chp_vehicle_type_at_fault</th><th>severe_injury_count</th><th>other_visible_injury_count</th><th>complaint_of_pain_injury_count</th><th>pedestrian_killed_count</th><th>pedestrian_injured_count</th><th>bicyclist_killed_count</th><th>bicyclist_injured_count</th><th>motorcyclist_killed_count</th><th>motorcyclist_injured_count</th><th>collision_date</th><th>collision_time</th></tr>\n",
       "<tr><td>100</td><td>5</td><td>4</td><td>0198</td><td>0</td><td>0</td><td>not chp</td><td>Not Stated</td><td>not chp</td><td>2074</td><td>DUBLIN BL</td><td>CAMP PARKS BL</td><td>0.0</td><td>Not Stated</td><td>1</td><td>clear</td><td>Not Stated</td><td>0</td><td>Not Stated</td><td>Not Stated</td><td>Not Stated</td><td>Not Stated</td><td>Not Stated</td><td>Not Stated</td><td>Not Stated</td><td>Not Stated</td><td>Not Stated</td><td>0</td><td>pain</td><td>0</td><td>1</td><td>2</td><td>vehicle code viol...</td><td>Not Stated</td><td>automobile right ...</td><td>21453</td><td>C</td><td>not hit and run</td><td>broadside</td><td>bicycle</td><td>no pedestrian inv...</td><td>dry</td><td>normal</td><td>Not Stated</td><td>daylight</td><td>functioning</td><td>0</td><td>0</td><td>1</td><td>0</td><td>0</td><td>0</td><td>Not Stated</td><td>Not Stated</td><td>0</td><td>0</td><td>1</td><td>0</td><td>0</td><td>0</td><td>1</td><td>0</td><td>0</td><td>2004-06-08</td><td>16:25:00</td></tr>\n",
       "<tr><td>100</td><td>5</td><td>4</td><td>0198</td><td>0</td><td>0</td><td>not chp</td><td>Not Stated</td><td>not chp</td><td>DPS</td><td>BLOOMINGTON WY</td><td>BLOOMINGTON WY 11478</td><td>0.0</td><td>Not Stated</td><td>2</td><td>clear</td><td>Not Stated</td><td>0</td><td>Not Stated</td><td>Not Stated</td><td>Not Stated</td><td>Not Stated</td><td>Not Stated</td><td>Not Stated</td><td>Not Stated</td><td>Not Stated</td><td>Not Stated</td><td>0</td><td>severe injury</td><td>0</td><td>1</td><td>2</td><td>vehicle code viol...</td><td>Not Stated</td><td>improper turning</td><td>22103</td><td>Not Stated</td><td>not hit and run</td><td>broadside</td><td>other motor vehicle</td><td>no pedestrian inv...</td><td>dry</td><td>normal</td><td>Not Stated</td><td>daylight</td><td>none</td><td>0</td><td>0</td><td>0</td><td>1</td><td>0</td><td>0</td><td>passenger car</td><td>Not Stated</td><td>1</td><td>0</td><td>0</td><td>0</td><td>0</td><td>0</td><td>0</td><td>0</td><td>1</td><td>2003-05-11</td><td>11:30:00</td></tr>\n",
       "<tr><td>100</td><td>5</td><td>4</td><td>0198</td><td>0</td><td>0</td><td>not chp</td><td>Not Stated</td><td>not chp</td><td>DUBLIN</td><td>DUBLIN BL</td><td>AMADOR PLAZA RD</td><td>400.0</td><td>east</td><td>0</td><td>clear</td><td>Not Stated</td><td>0</td><td>Not Stated</td><td>Not Stated</td><td>Not Stated</td><td>Not Stated</td><td>Not Stated</td><td>Not Stated</td><td>Not Stated</td><td>Not Stated</td><td>Not Stated</td><td>0</td><td>property damage only</td><td>0</td><td>0</td><td>2</td><td>unknown</td><td>Not Stated</td><td>unknown</td><td>Not Stated</td><td>Not Stated</td><td>misdemeanor</td><td>rear end</td><td>other motor vehicle</td><td>no pedestrian inv...</td><td>dry</td><td>normal</td><td>Not Stated</td><td>daylight</td><td>none</td><td>0</td><td>0</td><td>0</td><td>0</td><td>0</td><td>0</td><td>Not Stated</td><td>Not Stated</td><td>0</td><td>0</td><td>0</td><td>0</td><td>0</td><td>0</td><td>0</td><td>0</td><td>0</td><td>2007-10-18</td><td>14:10:00</td></tr>\n",
       "<tr><td>100</td><td>5</td><td>4</td><td>0198</td><td>0</td><td>0</td><td>not chp</td><td>Not Stated</td><td>not chp</td><td>NOVALU</td><td>DUBLIN BL</td><td>INSPIRATION DR</td><td>5.0</td><td>west</td><td>0</td><td>clear</td><td>Not Stated</td><td>0</td><td>Not Stated</td><td>Not Stated</td><td>Not Stated</td><td>Not Stated</td><td>Not Stated</td><td>Not Stated</td><td>Not Stated</td><td>Not Stated</td><td>Not Stated</td><td>1</td><td>property damage only</td><td>0</td><td>0</td><td>2</td><td>vehicle code viol...</td><td>Not Stated</td><td>speeding</td><td>22350</td><td>Not Stated</td><td>not hit and run</td><td>rear end</td><td>other motor vehicle</td><td>no pedestrian inv...</td><td>dry</td><td>normal</td><td>Not Stated</td><td>daylight</td><td>functioning</td><td>0</td><td>0</td><td>0</td><td>0</td><td>0</td><td>0</td><td>passenger car</td><td>01</td><td>0</td><td>0</td><td>0</td><td>0</td><td>0</td><td>0</td><td>0</td><td>0</td><td>0</td><td>2019-03-17</td><td>07:44:00</td></tr>\n",
       "<tr><td>100</td><td>5</td><td>4</td><td>0198</td><td>0</td><td>0</td><td>not chp</td><td>Not Stated</td><td>not chp</td><td>Not Stated</td><td>AMADOR PLAZA BL</td><td>DUBLIN BL</td><td>245.0</td><td>north</td><td>0</td><td>cloudy</td><td>Not Stated</td><td>0</td><td>Not Stated</td><td>Not Stated</td><td>Not Stated</td><td>Not Stated</td><td>Not Stated</td><td>Not Stated</td><td>Not Stated</td><td>Not Stated</td><td>Not Stated</td><td>1</td><td>property damage only</td><td>0</td><td>0</td><td>2</td><td>vehicle code viol...</td><td>Not Stated</td><td>automobile right ...</td><td>21804</td><td>A</td><td>not hit and run</td><td>broadside</td><td>other motor vehicle</td><td>no pedestrian inv...</td><td>dry</td><td>Not Stated</td><td>Not Stated</td><td>daylight</td><td>none</td><td>0</td><td>0</td><td>0</td><td>0</td><td>0</td><td>0</td><td>passenger car wit...</td><td>01</td><td>0</td><td>0</td><td>0</td><td>0</td><td>0</td><td>0</td><td>0</td><td>0</td><td>0</td><td>2012-03-25</td><td>13:33:00</td></tr>\n",
       "<tr><td>100</td><td>5</td><td>4</td><td>0198</td><td>0</td><td>0</td><td>not chp</td><td>Not Stated</td><td>not chp</td><td>Not Stated</td><td>BETLEN DR</td><td>PROW WY</td><td>32.0</td><td>south</td><td>0</td><td>clear</td><td>Not Stated</td><td>0</td><td>Not Stated</td><td>Not Stated</td><td>Not Stated</td><td>Not Stated</td><td>Not Stated</td><td>Not Stated</td><td>Not Stated</td><td>Not Stated</td><td>Not Stated</td><td>1</td><td>property damage only</td><td>0</td><td>0</td><td>1</td><td>vehicle code viol...</td><td>Not Stated</td><td>improper turning</td><td>22107</td><td>Not Stated</td><td>not hit and run</td><td>hit object</td><td>fixed object</td><td>no pedestrian inv...</td><td>dry</td><td>normal</td><td>Not Stated</td><td>daylight</td><td>none</td><td>0</td><td>0</td><td>0</td><td>0</td><td>0</td><td>0</td><td>passenger car</td><td>01</td><td>0</td><td>0</td><td>0</td><td>0</td><td>0</td><td>0</td><td>0</td><td>0</td><td>0</td><td>2016-08-02</td><td>10:58:00</td></tr>\n",
       "<tr><td>100</td><td>5</td><td>4</td><td>0198</td><td>0</td><td>0</td><td>not chp</td><td>Not Stated</td><td>not chp</td><td>Not Stated</td><td>DOUGHERTY RD</td><td>AMADOR VALLEY BL</td><td>161.0</td><td>south</td><td>0</td><td>clear</td><td>Not Stated</td><td>0</td><td>Not Stated</td><td>Not Stated</td><td>Not Stated</td><td>Not Stated</td><td>Not Stated</td><td>Not Stated</td><td>Not Stated</td><td>Not Stated</td><td>Not Stated</td><td>1</td><td>pain</td><td>0</td><td>1</td><td>2</td><td>vehicle code viol...</td><td>Not Stated</td><td>speeding</td><td>22350</td><td>Not Stated</td><td>not hit and run</td><td>rear end</td><td>other motor vehicle</td><td>no pedestrian inv...</td><td>dry</td><td>normal</td><td>Not Stated</td><td>daylight</td><td>none</td><td>0</td><td>0</td><td>0</td><td>0</td><td>0</td><td>0</td><td>passenger car</td><td>01</td><td>0</td><td>0</td><td>1</td><td>0</td><td>0</td><td>0</td><td>0</td><td>0</td><td>0</td><td>2016-10-31</td><td>11:37:00</td></tr>\n",
       "<tr><td>100</td><td>5</td><td>4</td><td>0198</td><td>0</td><td>0</td><td>not chp</td><td>Not Stated</td><td>not chp</td><td>Not Stated</td><td>DUBLIN BL</td><td>AMADOR PLAZA RD</td><td>130.0</td><td>west</td><td>0</td><td>cloudy</td><td>Not Stated</td><td>0</td><td>Not Stated</td><td>Not Stated</td><td>Not Stated</td><td>Not Stated</td><td>Not Stated</td><td>Not Stated</td><td>Not Stated</td><td>Not Stated</td><td>Not Stated</td><td>0</td><td>pain</td><td>0</td><td>1</td><td>2</td><td>vehicle code viol...</td><td>Not Stated</td><td>unsafe starting o...</td><td>22106</td><td>Not Stated</td><td>not hit and run</td><td>rear end</td><td>other motor vehicle</td><td>no pedestrian inv...</td><td>dry</td><td>normal</td><td>Not Stated</td><td>daylight</td><td>functioning</td><td>0</td><td>0</td><td>0</td><td>0</td><td>0</td><td>0</td><td>passenger car</td><td>07</td><td>0</td><td>0</td><td>1</td><td>0</td><td>0</td><td>0</td><td>0</td><td>0</td><td>0</td><td>2010-05-21</td><td>12:00:00</td></tr>\n",
       "<tr><td>100</td><td>5</td><td>4</td><td>0198</td><td>0</td><td>0</td><td>not chp</td><td>Not Stated</td><td>not chp</td><td>Not Stated</td><td>DUBLIN BL</td><td>SAN RAMON RD</td><td>18.0</td><td>east</td><td>0</td><td>clear</td><td>Not Stated</td><td>0</td><td>Not Stated</td><td>Not Stated</td><td>Not Stated</td><td>Not Stated</td><td>Not Stated</td><td>Not Stated</td><td>Not Stated</td><td>Not Stated</td><td>Not Stated</td><td>0</td><td>property damage only</td><td>0</td><td>0</td><td>1</td><td>vehicle code viol...</td><td>Not Stated</td><td>speeding</td><td>22350</td><td>Not Stated</td><td>not hit and run</td><td>hit object</td><td>fixed object</td><td>no pedestrian inv...</td><td>dry</td><td>normal</td><td>Not Stated</td><td>daylight</td><td>functioning</td><td>0</td><td>0</td><td>0</td><td>0</td><td>0</td><td>0</td><td>passenger car</td><td>01</td><td>0</td><td>0</td><td>0</td><td>0</td><td>0</td><td>0</td><td>0</td><td>0</td><td>0</td><td>2018-07-17</td><td>15:02:00</td></tr>\n",
       "<tr><td>100</td><td>5</td><td>4</td><td>0198</td><td>0</td><td>0</td><td>not chp</td><td>Not Stated</td><td>not chp</td><td>Not Stated</td><td>DUBLIN BL</td><td>SCARLETT CT</td><td>47.0</td><td>east</td><td>0</td><td>clear</td><td>Not Stated</td><td>0</td><td>Not Stated</td><td>Not Stated</td><td>Not Stated</td><td>Not Stated</td><td>Not Stated</td><td>Not Stated</td><td>Not Stated</td><td>Not Stated</td><td>Not Stated</td><td>0</td><td>pain</td><td>0</td><td>3</td><td>2</td><td>vehicle code viol...</td><td>Not Stated</td><td>unsafe starting o...</td><td>22106</td><td>Not Stated</td><td>not hit and run</td><td>rear end</td><td>other motor vehicle</td><td>no pedestrian inv...</td><td>dry</td><td>normal</td><td>Not Stated</td><td>daylight</td><td>functioning</td><td>0</td><td>0</td><td>0</td><td>0</td><td>0</td><td>0</td><td>passenger car</td><td>01</td><td>0</td><td>0</td><td>3</td><td>0</td><td>0</td><td>0</td><td>0</td><td>0</td><td>0</td><td>2018-07-23</td><td>14:20:00</td></tr>\n",
       "<tr><td>100</td><td>5</td><td>4</td><td>0198</td><td>0</td><td>0</td><td>not chp</td><td>Not Stated</td><td>not chp</td><td>Not Stated</td><td>LUCANIA ST</td><td>DAVONA DR</td><td>110.0</td><td>south</td><td>0</td><td>clear</td><td>Not Stated</td><td>0</td><td>Not Stated</td><td>Not Stated</td><td>Not Stated</td><td>Not Stated</td><td>Not Stated</td><td>Not Stated</td><td>Not Stated</td><td>Not Stated</td><td>Not Stated</td><td>0</td><td>property damage only</td><td>0</td><td>0</td><td>2</td><td>other improper dr...</td><td>Not Stated</td><td>other improper dr...</td><td>Not Stated</td><td>Not Stated</td><td>misdemeanor</td><td>sideswipe</td><td>parked motor vehicle</td><td>no pedestrian inv...</td><td>dry</td><td>normal</td><td>Not Stated</td><td>daylight</td><td>none</td><td>0</td><td>0</td><td>0</td><td>0</td><td>0</td><td>0</td><td>pickup or panel t...</td><td>22</td><td>0</td><td>0</td><td>0</td><td>0</td><td>0</td><td>0</td><td>0</td><td>0</td><td>0</td><td>2016-05-12</td><td>17:16:00</td></tr>\n",
       "<tr><td>100</td><td>5</td><td>4</td><td>0198</td><td>Not Stated</td><td>0</td><td>not chp</td><td>Not Stated</td><td>not chp</td><td>071</td><td>DONOHUE DR</td><td>HILL ROSE DR</td><td>69.0</td><td>south</td><td>0</td><td>clear</td><td>Not Stated</td><td>0</td><td>Not Stated</td><td>0</td><td>0</td><td>Not Stated</td><td>Not Stated</td><td>0.0</td><td>Not Stated</td><td>8</td><td>Not Stated</td><td>0</td><td>property damage only</td><td>0</td><td>0</td><td>1</td><td>vehicle code viol...</td><td>vehicle</td><td>improper turning</td><td>22107</td><td>Not Stated</td><td>not hit and run</td><td>hit object</td><td>other object</td><td>no pedestrian inv...</td><td>dry</td><td>normal</td><td>Not Stated</td><td>daylight</td><td>none</td><td>0</td><td>0</td><td>0</td><td>0</td><td>0</td><td>0</td><td>emergency vehicle</td><td>00</td><td>0</td><td>0</td><td>0</td><td>0</td><td>0</td><td>0</td><td>0</td><td>0</td><td>0</td><td>2001-04-22</td><td>17:05:00</td></tr>\n",
       "<tr><td>1000</td><td>5</td><td>2</td><td>1009</td><td>0</td><td>0</td><td>not chp</td><td>Not Stated</td><td>not chp</td><td>2015</td><td>ALY N LOLITA ST</td><td>6TH ST</td><td>168.0</td><td>west</td><td>0</td><td>clear</td><td>Not Stated</td><td>0</td><td>Not Stated</td><td>Not Stated</td><td>Not Stated</td><td>Not Stated</td><td>Not Stated</td><td>Not Stated</td><td>Not Stated</td><td>Not Stated</td><td>Not Stated</td><td>1</td><td>property damage only</td><td>0</td><td>0</td><td>1</td><td>vehicle code viol...</td><td>Not Stated</td><td>Not Stated</td><td>Not Stated</td><td>Not Stated</td><td>misdemeanor</td><td>hit object</td><td>fixed object</td><td>no pedestrian inv...</td><td>dry</td><td>loose material</td><td>Not Stated</td><td>dark with no stre...</td><td>none</td><td>0</td><td>0</td><td>0</td><td>0</td><td>0</td><td>0</td><td>passenger car</td><td>01</td><td>0</td><td>0</td><td>0</td><td>0</td><td>0</td><td>0</td><td>0</td><td>0</td><td>0</td><td>2007-09-01</td><td>07:21:00</td></tr>\n",
       "<tr><td>1000</td><td>5</td><td>2</td><td>1009</td><td>0</td><td>0</td><td>not chp</td><td>Not Stated</td><td>not chp</td><td>2015</td><td>JENNINGS CIR</td><td>JENNINGS ST</td><td>10.0</td><td>north</td><td>0</td><td>clear</td><td>Not Stated</td><td>0</td><td>Not Stated</td><td>Not Stated</td><td>Not Stated</td><td>Not Stated</td><td>Not Stated</td><td>Not Stated</td><td>Not Stated</td><td>Not Stated</td><td>Not Stated</td><td>0</td><td>property damage only</td><td>0</td><td>0</td><td>2</td><td>vehicle code viol...</td><td>Not Stated</td><td>unsafe starting o...</td><td>22106</td><td>Not Stated</td><td>not hit and run</td><td>broadside</td><td>other motor vehicle</td><td>no pedestrian inv...</td><td>dry</td><td>normal</td><td>Not Stated</td><td>dusk or dawn</td><td>none</td><td>0</td><td>0</td><td>0</td><td>0</td><td>0</td><td>0</td><td>Not Stated</td><td>Not Stated</td><td>0</td><td>0</td><td>0</td><td>0</td><td>0</td><td>0</td><td>0</td><td>0</td><td>0</td><td>2008-09-12</td><td>19:16:00</td></tr>\n",
       "<tr><td>1000</td><td>5</td><td>2</td><td>1009</td><td>0</td><td>0</td><td>not chp</td><td>Not Stated</td><td>not chp</td><td>2015</td><td>OLLER ST</td><td>OLLER ST</td><td>0.0</td><td>Not Stated</td><td>2</td><td>clear</td><td>Not Stated</td><td>0</td><td>Not Stated</td><td>Not Stated</td><td>Not Stated</td><td>Not Stated</td><td>Not Stated</td><td>Not Stated</td><td>Not Stated</td><td>Not Stated</td><td>Not Stated</td><td>0</td><td>property damage only</td><td>0</td><td>0</td><td>2</td><td>other improper dr...</td><td>Not Stated</td><td>other improper dr...</td><td>Not Stated</td><td>Not Stated</td><td>misdemeanor</td><td>sideswipe</td><td>parked motor vehicle</td><td>no pedestrian inv...</td><td>dry</td><td>normal</td><td>Not Stated</td><td>dark with street ...</td><td>none</td><td>0</td><td>0</td><td>0</td><td>0</td><td>0</td><td>0</td><td>Not Stated</td><td>Not Stated</td><td>0</td><td>0</td><td>0</td><td>0</td><td>0</td><td>0</td><td>0</td><td>0</td><td>0</td><td>2009-05-12</td><td>23:30:00</td></tr>\n",
       "<tr><td>1001</td><td>5</td><td>5</td><td>1001</td><td>0</td><td>0</td><td>not chp</td><td>Not Stated</td><td>not chp</td><td>001</td><td>GETTYSBURG AV</td><td>VILLA AV</td><td>0.0</td><td>Not Stated</td><td>1</td><td>clear</td><td>Not Stated</td><td>0</td><td>Not Stated</td><td>Not Stated</td><td>Not Stated</td><td>Not Stated</td><td>Not Stated</td><td>Not Stated</td><td>Not Stated</td><td>Not Stated</td><td>Not Stated</td><td>1</td><td>pain</td><td>0</td><td>2</td><td>2</td><td>vehicle code viol...</td><td>Not Stated</td><td>traffic signals a...</td><td>22450</td><td>A</td><td>not hit and run</td><td>broadside</td><td>other motor vehicle</td><td>no pedestrian inv...</td><td>dry</td><td>normal</td><td>Not Stated</td><td>daylight</td><td>functioning</td><td>0</td><td>0</td><td>0</td><td>0</td><td>0</td><td>0</td><td>Not Stated</td><td>Not Stated</td><td>0</td><td>0</td><td>2</td><td>0</td><td>0</td><td>0</td><td>0</td><td>0</td><td>0</td><td>2004-05-16</td><td>17:42:00</td></tr>\n",
       "<tr><td>1001</td><td>5</td><td>5</td><td>1001</td><td>0</td><td>0</td><td>not chp</td><td>Not Stated</td><td>not chp</td><td>001</td><td>W INDIANAPOLIS AV</td><td>PEACH AV</td><td>55.0</td><td>east</td><td>0</td><td>clear</td><td>Not Stated</td><td>0</td><td>Not Stated</td><td>Not Stated</td><td>Not Stated</td><td>Not Stated</td><td>Not Stated</td><td>Not Stated</td><td>Not Stated</td><td>Not Stated</td><td>Not Stated</td><td>0</td><td>property damage only</td><td>0</td><td>0</td><td>2</td><td>vehicle code viol...</td><td>Not Stated</td><td>improper turning</td><td>22107</td><td>Not Stated</td><td>misdemeanor</td><td>sideswipe</td><td>parked motor vehicle</td><td>no pedestrian inv...</td><td>wet</td><td>normal</td><td>Not Stated</td><td>dark with street ...</td><td>none</td><td>0</td><td>0</td><td>0</td><td>0</td><td>0</td><td>0</td><td>pickup or panel t...</td><td>Not Stated</td><td>0</td><td>0</td><td>0</td><td>0</td><td>0</td><td>0</td><td>0</td><td>0</td><td>0</td><td>2004-01-16</td><td>20:31:00</td></tr>\n",
       "<tr><td>1001</td><td>5</td><td>5</td><td>1001</td><td>0</td><td>0</td><td>not chp</td><td>Not Stated</td><td>not chp</td><td>001</td><td>W RIALTO AV</td><td>WINERY AV</td><td>387.0</td><td>east</td><td>0</td><td>Not Stated</td><td>Not Stated</td><td>0</td><td>Not Stated</td><td>Not Stated</td><td>Not Stated</td><td>Not Stated</td><td>Not Stated</td><td>Not Stated</td><td>Not Stated</td><td>Not Stated</td><td>Not Stated</td><td>0</td><td>property damage only</td><td>0</td><td>0</td><td>2</td><td>vehicle code viol...</td><td>Not Stated</td><td>wrong side of road</td><td>21650</td><td>Not Stated</td><td>not hit and run</td><td>sideswipe</td><td>parked motor vehicle</td><td>no pedestrian inv...</td><td>Not Stated</td><td>Not Stated</td><td>Not Stated</td><td>Not Stated</td><td>none</td><td>0</td><td>0</td><td>0</td><td>0</td><td>0</td><td>0</td><td>Not Stated</td><td>Not Stated</td><td>0</td><td>0</td><td>0</td><td>0</td><td>0</td><td>0</td><td>0</td><td>0</td><td>0</td><td>2003-09-08</td><td>05:46:00</td></tr>\n",
       "<tr><td>1001</td><td>5</td><td>5</td><td>1001</td><td>0</td><td>0</td><td>not chp</td><td>Not Stated</td><td>not chp</td><td>002</td><td>BARSTOW AV</td><td>POLLASKY AV</td><td>36.0</td><td>east</td><td>0</td><td>cloudy</td><td>Not Stated</td><td>0</td><td>Not Stated</td><td>Not Stated</td><td>Not Stated</td><td>Not Stated</td><td>Not Stated</td><td>Not Stated</td><td>Not Stated</td><td>Not Stated</td><td>Not Stated</td><td>1</td><td>property damage only</td><td>0</td><td>0</td><td>3</td><td>vehicle code viol...</td><td>Not Stated</td><td>speeding</td><td>22350</td><td>Not Stated</td><td>not hit and run</td><td>rear end</td><td>other motor vehicle</td><td>no pedestrian inv...</td><td>dry</td><td>normal</td><td>Not Stated</td><td>daylight</td><td>none</td><td>0</td><td>0</td><td>0</td><td>0</td><td>0</td><td>0</td><td>passenger car</td><td>01</td><td>0</td><td>0</td><td>0</td><td>0</td><td>0</td><td>0</td><td>0</td><td>0</td><td>0</td><td>2009-12-22</td><td>15:23:00</td></tr>\n",
       "<tr><td>1001</td><td>5</td><td>5</td><td>1001</td><td>0</td><td>0</td><td>not chp</td><td>Not Stated</td><td>not chp</td><td>002</td><td>FOWLER AV</td><td>GETTYSBURG AV</td><td>0.0</td><td>Not Stated</td><td>1</td><td>raining</td><td>Not Stated</td><td>0</td><td>Not Stated</td><td>Not Stated</td><td>Not Stated</td><td>Not Stated</td><td>Not Stated</td><td>Not Stated</td><td>Not Stated</td><td>Not Stated</td><td>Not Stated</td><td>0</td><td>property damage only</td><td>0</td><td>0</td><td>2</td><td>vehicle code viol...</td><td>Not Stated</td><td>automobile right ...</td><td>21802</td><td>A</td><td>not hit and run</td><td>broadside</td><td>bicycle</td><td>no pedestrian inv...</td><td>dry</td><td>normal</td><td>Not Stated</td><td>daylight</td><td>functioning</td><td>0</td><td>0</td><td>1</td><td>0</td><td>0</td><td>1</td><td>passenger car</td><td>01</td><td>0</td><td>0</td><td>0</td><td>0</td><td>0</td><td>0</td><td>0</td><td>0</td><td>0</td><td>2013-07-17</td><td>21:14:00</td></tr>\n",
       "</table>\n",
       "only showing top 20 rows\n"
      ],
      "text/plain": [
       "+------------+---------+----------+--------------------+-----------------+---------+-------------+------------------+--------------+-----------+-----------------+--------------------+--------+----------+------------+----------+----------+-----------------------+---------------+-----------------+-----------+------------+---------------+----------+-------------+-----------------+---------------+--------+--------------------+--------------+---------------+-----------+------------------------+------------------+----------------------+-------------+------------------------+---------------+-----------------+---------------------------+--------------------+------------+----------------+----------------+--------------------+--------------+-------------+--------------------+-----------------+--------------------+---------------+----------------+-------------------------------+-------------------------+-------------------+--------------------------+------------------------------+-----------------------+------------------------+----------------------+-----------------------+-------------------------+--------------------------+--------------+--------------+\n",
       "|jurisdiction|chp_shift|population|county_city_location|special_condition|beat_type|chp_beat_type|city_division_lapd|chp_beat_class|beat_number|     primary_road|      secondary_road|distance| direction|intersection| weather_1| weather_2|state_highway_indicator|caltrans_county|caltrans_district|state_route|route_suffix|postmile_prefix|  postmile|location_type|ramp_intersection|side_of_highway|tow_away|  collision_severity|killed_victims|injured_victims|party_count|primary_collision_factor|pcf_violation_code|pcf_violation_category|pcf_violation|pcf_violation_subsection|    hit_and_run|type_of_collision|motor_vehicle_involved_with|   pedestrian_action|road_surface|road_condition_1|road_condition_2|            lighting|control_device|chp_road_type|pedestrian_collision|bicycle_collision|motorcycle_collision|truck_collision|alcohol_involved|statewide_vehicle_type_at_fault|chp_vehicle_type_at_fault|severe_injury_count|other_visible_injury_count|complaint_of_pain_injury_count|pedestrian_killed_count|pedestrian_injured_count|bicyclist_killed_count|bicyclist_injured_count|motorcyclist_killed_count|motorcyclist_injured_count|collision_date|collision_time|\n",
       "+------------+---------+----------+--------------------+-----------------+---------+-------------+------------------+--------------+-----------+-----------------+--------------------+--------+----------+------------+----------+----------+-----------------------+---------------+-----------------+-----------+------------+---------------+----------+-------------+-----------------+---------------+--------+--------------------+--------------+---------------+-----------+------------------------+------------------+----------------------+-------------+------------------------+---------------+-----------------+---------------------------+--------------------+------------+----------------+----------------+--------------------+--------------+-------------+--------------------+-----------------+--------------------+---------------+----------------+-------------------------------+-------------------------+-------------------+--------------------------+------------------------------+-----------------------+------------------------+----------------------+-----------------------+-------------------------+--------------------------+--------------+--------------+\n",
       "|         100|        5|         4|                0198|                0|        0|      not chp|        Not Stated|       not chp|       2074|        DUBLIN BL|       CAMP PARKS BL|     0.0|Not Stated|           1|     clear|Not Stated|                      0|     Not Stated|       Not Stated| Not Stated|  Not Stated|     Not Stated|Not Stated|   Not Stated|       Not Stated|     Not Stated|       0|                pain|             0|              1|          2|    vehicle code viol...|        Not Stated|  automobile right ...|        21453|                       C|not hit and run|        broadside|                    bicycle|no pedestrian inv...|         dry|          normal|      Not Stated|            daylight|   functioning|            0|                   0|                1|                   0|              0|               0|                     Not Stated|               Not Stated|                  0|                         0|                             1|                      0|                       0|                     0|                      1|                        0|                         0|    2004-06-08|      16:25:00|\n",
       "|         100|        5|         4|                0198|                0|        0|      not chp|        Not Stated|       not chp|        DPS|   BLOOMINGTON WY|BLOOMINGTON WY 11478|     0.0|Not Stated|           2|     clear|Not Stated|                      0|     Not Stated|       Not Stated| Not Stated|  Not Stated|     Not Stated|Not Stated|   Not Stated|       Not Stated|     Not Stated|       0|       severe injury|             0|              1|          2|    vehicle code viol...|        Not Stated|      improper turning|        22103|              Not Stated|not hit and run|        broadside|        other motor vehicle|no pedestrian inv...|         dry|          normal|      Not Stated|            daylight|          none|            0|                   0|                0|                   1|              0|               0|                  passenger car|               Not Stated|                  1|                         0|                             0|                      0|                       0|                     0|                      0|                        0|                         1|    2003-05-11|      11:30:00|\n",
       "|         100|        5|         4|                0198|                0|        0|      not chp|        Not Stated|       not chp|     DUBLIN|        DUBLIN BL|     AMADOR PLAZA RD|   400.0|      east|           0|     clear|Not Stated|                      0|     Not Stated|       Not Stated| Not Stated|  Not Stated|     Not Stated|Not Stated|   Not Stated|       Not Stated|     Not Stated|       0|property damage only|             0|              0|          2|                 unknown|        Not Stated|               unknown|   Not Stated|              Not Stated|    misdemeanor|         rear end|        other motor vehicle|no pedestrian inv...|         dry|          normal|      Not Stated|            daylight|          none|            0|                   0|                0|                   0|              0|               0|                     Not Stated|               Not Stated|                  0|                         0|                             0|                      0|                       0|                     0|                      0|                        0|                         0|    2007-10-18|      14:10:00|\n",
       "|         100|        5|         4|                0198|                0|        0|      not chp|        Not Stated|       not chp|     NOVALU|        DUBLIN BL|      INSPIRATION DR|     5.0|      west|           0|     clear|Not Stated|                      0|     Not Stated|       Not Stated| Not Stated|  Not Stated|     Not Stated|Not Stated|   Not Stated|       Not Stated|     Not Stated|       1|property damage only|             0|              0|          2|    vehicle code viol...|        Not Stated|              speeding|        22350|              Not Stated|not hit and run|         rear end|        other motor vehicle|no pedestrian inv...|         dry|          normal|      Not Stated|            daylight|   functioning|            0|                   0|                0|                   0|              0|               0|                  passenger car|                       01|                  0|                         0|                             0|                      0|                       0|                     0|                      0|                        0|                         0|    2019-03-17|      07:44:00|\n",
       "|         100|        5|         4|                0198|                0|        0|      not chp|        Not Stated|       not chp| Not Stated|  AMADOR PLAZA BL|           DUBLIN BL|   245.0|     north|           0|    cloudy|Not Stated|                      0|     Not Stated|       Not Stated| Not Stated|  Not Stated|     Not Stated|Not Stated|   Not Stated|       Not Stated|     Not Stated|       1|property damage only|             0|              0|          2|    vehicle code viol...|        Not Stated|  automobile right ...|        21804|                       A|not hit and run|        broadside|        other motor vehicle|no pedestrian inv...|         dry|      Not Stated|      Not Stated|            daylight|          none|            0|                   0|                0|                   0|              0|               0|           passenger car wit...|                       01|                  0|                         0|                             0|                      0|                       0|                     0|                      0|                        0|                         0|    2012-03-25|      13:33:00|\n",
       "|         100|        5|         4|                0198|                0|        0|      not chp|        Not Stated|       not chp| Not Stated|        BETLEN DR|             PROW WY|    32.0|     south|           0|     clear|Not Stated|                      0|     Not Stated|       Not Stated| Not Stated|  Not Stated|     Not Stated|Not Stated|   Not Stated|       Not Stated|     Not Stated|       1|property damage only|             0|              0|          1|    vehicle code viol...|        Not Stated|      improper turning|        22107|              Not Stated|not hit and run|       hit object|               fixed object|no pedestrian inv...|         dry|          normal|      Not Stated|            daylight|          none|            0|                   0|                0|                   0|              0|               0|                  passenger car|                       01|                  0|                         0|                             0|                      0|                       0|                     0|                      0|                        0|                         0|    2016-08-02|      10:58:00|\n",
       "|         100|        5|         4|                0198|                0|        0|      not chp|        Not Stated|       not chp| Not Stated|     DOUGHERTY RD|    AMADOR VALLEY BL|   161.0|     south|           0|     clear|Not Stated|                      0|     Not Stated|       Not Stated| Not Stated|  Not Stated|     Not Stated|Not Stated|   Not Stated|       Not Stated|     Not Stated|       1|                pain|             0|              1|          2|    vehicle code viol...|        Not Stated|              speeding|        22350|              Not Stated|not hit and run|         rear end|        other motor vehicle|no pedestrian inv...|         dry|          normal|      Not Stated|            daylight|          none|            0|                   0|                0|                   0|              0|               0|                  passenger car|                       01|                  0|                         0|                             1|                      0|                       0|                     0|                      0|                        0|                         0|    2016-10-31|      11:37:00|\n",
       "|         100|        5|         4|                0198|                0|        0|      not chp|        Not Stated|       not chp| Not Stated|        DUBLIN BL|     AMADOR PLAZA RD|   130.0|      west|           0|    cloudy|Not Stated|                      0|     Not Stated|       Not Stated| Not Stated|  Not Stated|     Not Stated|Not Stated|   Not Stated|       Not Stated|     Not Stated|       0|                pain|             0|              1|          2|    vehicle code viol...|        Not Stated|  unsafe starting o...|        22106|              Not Stated|not hit and run|         rear end|        other motor vehicle|no pedestrian inv...|         dry|          normal|      Not Stated|            daylight|   functioning|            0|                   0|                0|                   0|              0|               0|                  passenger car|                       07|                  0|                         0|                             1|                      0|                       0|                     0|                      0|                        0|                         0|    2010-05-21|      12:00:00|\n",
       "|         100|        5|         4|                0198|                0|        0|      not chp|        Not Stated|       not chp| Not Stated|        DUBLIN BL|        SAN RAMON RD|    18.0|      east|           0|     clear|Not Stated|                      0|     Not Stated|       Not Stated| Not Stated|  Not Stated|     Not Stated|Not Stated|   Not Stated|       Not Stated|     Not Stated|       0|property damage only|             0|              0|          1|    vehicle code viol...|        Not Stated|              speeding|        22350|              Not Stated|not hit and run|       hit object|               fixed object|no pedestrian inv...|         dry|          normal|      Not Stated|            daylight|   functioning|            0|                   0|                0|                   0|              0|               0|                  passenger car|                       01|                  0|                         0|                             0|                      0|                       0|                     0|                      0|                        0|                         0|    2018-07-17|      15:02:00|\n",
       "|         100|        5|         4|                0198|                0|        0|      not chp|        Not Stated|       not chp| Not Stated|        DUBLIN BL|         SCARLETT CT|    47.0|      east|           0|     clear|Not Stated|                      0|     Not Stated|       Not Stated| Not Stated|  Not Stated|     Not Stated|Not Stated|   Not Stated|       Not Stated|     Not Stated|       0|                pain|             0|              3|          2|    vehicle code viol...|        Not Stated|  unsafe starting o...|        22106|              Not Stated|not hit and run|         rear end|        other motor vehicle|no pedestrian inv...|         dry|          normal|      Not Stated|            daylight|   functioning|            0|                   0|                0|                   0|              0|               0|                  passenger car|                       01|                  0|                         0|                             3|                      0|                       0|                     0|                      0|                        0|                         0|    2018-07-23|      14:20:00|\n",
       "|         100|        5|         4|                0198|                0|        0|      not chp|        Not Stated|       not chp| Not Stated|       LUCANIA ST|           DAVONA DR|   110.0|     south|           0|     clear|Not Stated|                      0|     Not Stated|       Not Stated| Not Stated|  Not Stated|     Not Stated|Not Stated|   Not Stated|       Not Stated|     Not Stated|       0|property damage only|             0|              0|          2|    other improper dr...|        Not Stated|  other improper dr...|   Not Stated|              Not Stated|    misdemeanor|        sideswipe|       parked motor vehicle|no pedestrian inv...|         dry|          normal|      Not Stated|            daylight|          none|            0|                   0|                0|                   0|              0|               0|           pickup or panel t...|                       22|                  0|                         0|                             0|                      0|                       0|                     0|                      0|                        0|                         0|    2016-05-12|      17:16:00|\n",
       "|         100|        5|         4|                0198|       Not Stated|        0|      not chp|        Not Stated|       not chp|        071|       DONOHUE DR|        HILL ROSE DR|    69.0|     south|           0|     clear|Not Stated|                      0|     Not Stated|                0|          0|  Not Stated|     Not Stated|       0.0|   Not Stated|                8|     Not Stated|       0|property damage only|             0|              0|          1|    vehicle code viol...|           vehicle|      improper turning|        22107|              Not Stated|not hit and run|       hit object|               other object|no pedestrian inv...|         dry|          normal|      Not Stated|            daylight|          none|            0|                   0|                0|                   0|              0|               0|              emergency vehicle|                       00|                  0|                         0|                             0|                      0|                       0|                     0|                      0|                        0|                         0|    2001-04-22|      17:05:00|\n",
       "|        1000|        5|         2|                1009|                0|        0|      not chp|        Not Stated|       not chp|       2015|  ALY N LOLITA ST|              6TH ST|   168.0|      west|           0|     clear|Not Stated|                      0|     Not Stated|       Not Stated| Not Stated|  Not Stated|     Not Stated|Not Stated|   Not Stated|       Not Stated|     Not Stated|       1|property damage only|             0|              0|          1|    vehicle code viol...|        Not Stated|            Not Stated|   Not Stated|              Not Stated|    misdemeanor|       hit object|               fixed object|no pedestrian inv...|         dry|  loose material|      Not Stated|dark with no stre...|          none|            0|                   0|                0|                   0|              0|               0|                  passenger car|                       01|                  0|                         0|                             0|                      0|                       0|                     0|                      0|                        0|                         0|    2007-09-01|      07:21:00|\n",
       "|        1000|        5|         2|                1009|                0|        0|      not chp|        Not Stated|       not chp|       2015|     JENNINGS CIR|         JENNINGS ST|    10.0|     north|           0|     clear|Not Stated|                      0|     Not Stated|       Not Stated| Not Stated|  Not Stated|     Not Stated|Not Stated|   Not Stated|       Not Stated|     Not Stated|       0|property damage only|             0|              0|          2|    vehicle code viol...|        Not Stated|  unsafe starting o...|        22106|              Not Stated|not hit and run|        broadside|        other motor vehicle|no pedestrian inv...|         dry|          normal|      Not Stated|        dusk or dawn|          none|            0|                   0|                0|                   0|              0|               0|                     Not Stated|               Not Stated|                  0|                         0|                             0|                      0|                       0|                     0|                      0|                        0|                         0|    2008-09-12|      19:16:00|\n",
       "|        1000|        5|         2|                1009|                0|        0|      not chp|        Not Stated|       not chp|       2015|         OLLER ST|            OLLER ST|     0.0|Not Stated|           2|     clear|Not Stated|                      0|     Not Stated|       Not Stated| Not Stated|  Not Stated|     Not Stated|Not Stated|   Not Stated|       Not Stated|     Not Stated|       0|property damage only|             0|              0|          2|    other improper dr...|        Not Stated|  other improper dr...|   Not Stated|              Not Stated|    misdemeanor|        sideswipe|       parked motor vehicle|no pedestrian inv...|         dry|          normal|      Not Stated|dark with street ...|          none|            0|                   0|                0|                   0|              0|               0|                     Not Stated|               Not Stated|                  0|                         0|                             0|                      0|                       0|                     0|                      0|                        0|                         0|    2009-05-12|      23:30:00|\n",
       "|        1001|        5|         5|                1001|                0|        0|      not chp|        Not Stated|       not chp|        001|    GETTYSBURG AV|            VILLA AV|     0.0|Not Stated|           1|     clear|Not Stated|                      0|     Not Stated|       Not Stated| Not Stated|  Not Stated|     Not Stated|Not Stated|   Not Stated|       Not Stated|     Not Stated|       1|                pain|             0|              2|          2|    vehicle code viol...|        Not Stated|  traffic signals a...|        22450|                       A|not hit and run|        broadside|        other motor vehicle|no pedestrian inv...|         dry|          normal|      Not Stated|            daylight|   functioning|            0|                   0|                0|                   0|              0|               0|                     Not Stated|               Not Stated|                  0|                         0|                             2|                      0|                       0|                     0|                      0|                        0|                         0|    2004-05-16|      17:42:00|\n",
       "|        1001|        5|         5|                1001|                0|        0|      not chp|        Not Stated|       not chp|        001|W INDIANAPOLIS AV|            PEACH AV|    55.0|      east|           0|     clear|Not Stated|                      0|     Not Stated|       Not Stated| Not Stated|  Not Stated|     Not Stated|Not Stated|   Not Stated|       Not Stated|     Not Stated|       0|property damage only|             0|              0|          2|    vehicle code viol...|        Not Stated|      improper turning|        22107|              Not Stated|    misdemeanor|        sideswipe|       parked motor vehicle|no pedestrian inv...|         wet|          normal|      Not Stated|dark with street ...|          none|            0|                   0|                0|                   0|              0|               0|           pickup or panel t...|               Not Stated|                  0|                         0|                             0|                      0|                       0|                     0|                      0|                        0|                         0|    2004-01-16|      20:31:00|\n",
       "|        1001|        5|         5|                1001|                0|        0|      not chp|        Not Stated|       not chp|        001|      W RIALTO AV|           WINERY AV|   387.0|      east|           0|Not Stated|Not Stated|                      0|     Not Stated|       Not Stated| Not Stated|  Not Stated|     Not Stated|Not Stated|   Not Stated|       Not Stated|     Not Stated|       0|property damage only|             0|              0|          2|    vehicle code viol...|        Not Stated|    wrong side of road|        21650|              Not Stated|not hit and run|        sideswipe|       parked motor vehicle|no pedestrian inv...|  Not Stated|      Not Stated|      Not Stated|          Not Stated|          none|            0|                   0|                0|                   0|              0|               0|                     Not Stated|               Not Stated|                  0|                         0|                             0|                      0|                       0|                     0|                      0|                        0|                         0|    2003-09-08|      05:46:00|\n",
       "|        1001|        5|         5|                1001|                0|        0|      not chp|        Not Stated|       not chp|        002|       BARSTOW AV|         POLLASKY AV|    36.0|      east|           0|    cloudy|Not Stated|                      0|     Not Stated|       Not Stated| Not Stated|  Not Stated|     Not Stated|Not Stated|   Not Stated|       Not Stated|     Not Stated|       1|property damage only|             0|              0|          3|    vehicle code viol...|        Not Stated|              speeding|        22350|              Not Stated|not hit and run|         rear end|        other motor vehicle|no pedestrian inv...|         dry|          normal|      Not Stated|            daylight|          none|            0|                   0|                0|                   0|              0|               0|                  passenger car|                       01|                  0|                         0|                             0|                      0|                       0|                     0|                      0|                        0|                         0|    2009-12-22|      15:23:00|\n",
       "|        1001|        5|         5|                1001|                0|        0|      not chp|        Not Stated|       not chp|        002|        FOWLER AV|       GETTYSBURG AV|     0.0|Not Stated|           1|   raining|Not Stated|                      0|     Not Stated|       Not Stated| Not Stated|  Not Stated|     Not Stated|Not Stated|   Not Stated|       Not Stated|     Not Stated|       0|property damage only|             0|              0|          2|    vehicle code viol...|        Not Stated|  automobile right ...|        21802|                       A|not hit and run|        broadside|                    bicycle|no pedestrian inv...|         dry|          normal|      Not Stated|            daylight|   functioning|            0|                   0|                1|                   0|              0|               1|                  passenger car|                       01|                  0|                         0|                             0|                      0|                       0|                     0|                      0|                        0|                         0|    2013-07-17|      21:14:00|\n",
       "+------------+---------+----------+--------------------+-----------------+---------+-------------+------------------+--------------+-----------+-----------------+--------------------+--------+----------+------------+----------+----------+-----------------------+---------------+-----------------+-----------+------------+---------------+----------+-------------+-----------------+---------------+--------+--------------------+--------------+---------------+-----------+------------------------+------------------+----------------------+-------------+------------------------+---------------+-----------------+---------------------------+--------------------+------------+----------------+----------------+--------------------+--------------+-------------+--------------------+-----------------+--------------------+---------------+----------------+-------------------------------+-------------------------+-------------------+--------------------------+------------------------------+-----------------------+------------------------+----------------------+-----------------------+-------------------------+--------------------------+--------------+--------------+\n",
       "only showing top 20 rows"
      ]
     },
     "execution_count": 8,
     "metadata": {},
     "output_type": "execute_result"
    }
   ],
   "source": [
    "df_train.cache()\n",
    "df_test.cache()"
   ]
  },
  {
   "cell_type": "markdown",
   "id": "emotional-semiconductor",
   "metadata": {},
   "source": [
    "Vectorize all features. But for categorical features, we start by indexing them."
   ]
  },
  {
   "cell_type": "code",
   "execution_count": 9,
   "id": "elegant-affairs",
   "metadata": {},
   "outputs": [],
   "source": [
    "\n",
    "target_var = \"collision_severity\"\n",
    "target_var_index = target_var+\"_index\"\n",
    "\n",
    "# categorical feature with too many different values\n",
    "exclude_categories = [\"primary_road\", \"secondary_road\", \"collision_date\", \"postmile\", \n",
    "                      \"beat_number\", \"collision_time\",\"county_city_location\", \n",
    "                      \"jurisdiction\", \"state_route\", \"pcf_violation\"]\n",
    "\n",
    "cols = df.columns\n",
    "if target_var in cols:\n",
    "    cols.remove(target_var)\n",
    "\n",
    "col_names_categorical = [col for (col, dataType) in df.dtypes if dataType == 'string' and col != target_var and col not in exclude_categories]\n",
    "    \n",
    "indexOutputCols = [col+\"_index\" for col in col_names_categorical]\n",
    "stringIndexer = StringIndexer(inputCols=col_names_categorical+[target_var], outputCols=indexOutputCols+[target_var_index], handleInvalid=\"skip\")\n",
    "\n",
    "col_names_numerical = [col for col in cols if col not in col_names_categorical and col not in exclude_categories] \n",
    "assembler = VectorAssembler(inputCols=indexOutputCols+col_names_numerical, outputCol=\"features\")\n"
   ]
  },
  {
   "cell_type": "markdown",
   "id": "former-share",
   "metadata": {},
   "source": [
    "Create the decision tree model from the train test set. Create the pipeline."
   ]
  },
  {
   "cell_type": "code",
   "execution_count": 11,
   "id": "classified-appearance",
   "metadata": {},
   "outputs": [],
   "source": [
    "# Train a DecisionTree model.\n",
    "dt = DecisionTreeClassifier(labelCol=target_var_index, featuresCol=\"features\", minInfoGain=0.05, maxBins=80)\n",
    "\n",
    "pipeline = Pipeline(stages=[stringIndexer, assembler, dt])\n",
    "\n",
    "# Fit the pipeline to training documents.\n",
    "ctModel = pipeline.fit(df_train)"
   ]
  },
  {
   "cell_type": "markdown",
   "id": "heavy-jacob",
   "metadata": {},
   "source": [
    "Take a look at our indexed target classes."
   ]
  },
  {
   "cell_type": "code",
   "execution_count": 13,
   "id": "billion-radiation",
   "metadata": {},
   "outputs": [
    {
     "data": {
      "text/html": [
       "<div>\n",
       "<style scoped>\n",
       "    .dataframe tbody tr th:only-of-type {\n",
       "        vertical-align: middle;\n",
       "    }\n",
       "\n",
       "    .dataframe tbody tr th {\n",
       "        vertical-align: top;\n",
       "    }\n",
       "\n",
       "    .dataframe thead th {\n",
       "        text-align: right;\n",
       "    }\n",
       "</style>\n",
       "<table border=\"1\" class=\"dataframe\">\n",
       "  <thead>\n",
       "    <tr style=\"text-align: right;\">\n",
       "      <th></th>\n",
       "      <th>collision_severity</th>\n",
       "      <th>count</th>\n",
       "    </tr>\n",
       "  </thead>\n",
       "  <tbody>\n",
       "    <tr>\n",
       "      <th>0</th>\n",
       "      <td>property damage only</td>\n",
       "      <td>46007</td>\n",
       "    </tr>\n",
       "    <tr>\n",
       "      <th>1</th>\n",
       "      <td>pain</td>\n",
       "      <td>18391</td>\n",
       "    </tr>\n",
       "    <tr>\n",
       "      <th>2</th>\n",
       "      <td>other injury</td>\n",
       "      <td>9206</td>\n",
       "    </tr>\n",
       "    <tr>\n",
       "      <th>3</th>\n",
       "      <td>fatal</td>\n",
       "      <td>496</td>\n",
       "    </tr>\n",
       "    <tr>\n",
       "      <th>4</th>\n",
       "      <td>severe injury</td>\n",
       "      <td>1690</td>\n",
       "    </tr>\n",
       "  </tbody>\n",
       "</table>\n",
       "</div>"
      ],
      "text/plain": [
       "     collision_severity  count\n",
       "0  property damage only  46007\n",
       "1                  pain  18391\n",
       "2          other injury   9206\n",
       "3                 fatal    496\n",
       "4         severe injury   1690"
      ]
     },
     "execution_count": 13,
     "metadata": {},
     "output_type": "execute_result"
    }
   ],
   "source": [
    "dist_coll_sev = df_train.groupBy(\"collision_severity\").count().toPandas()\n",
    "dist_coll_sev"
   ]
  },
  {
   "cell_type": "markdown",
   "id": "afraid-married",
   "metadata": {},
   "source": [
    "Store default proportion (majority class frequency), for performance comparison later on."
   ]
  },
  {
   "cell_type": "code",
   "execution_count": 15,
   "id": "comparable-camcorder",
   "metadata": {},
   "outputs": [
    {
     "data": {
      "text/plain": [
       "0.6070325900514579"
      ]
     },
     "execution_count": 15,
     "metadata": {},
     "output_type": "execute_result"
    }
   ],
   "source": [
    "default_p = dist_coll_sev.sort_values([\"count\"], ascending=False).iloc[0,1] / sum(dist_coll_sev[\"count\"])\n",
    "default_p"
   ]
  },
  {
   "cell_type": "markdown",
   "id": "twenty-presence",
   "metadata": {},
   "source": [
    "The performance on the training set."
   ]
  },
  {
   "cell_type": "code",
   "execution_count": 21,
   "id": "blocked-deviation",
   "metadata": {},
   "outputs": [
    {
     "name": "stdout",
     "output_type": "stream",
     "text": [
      "DecisionTreeClassificationModel: uid=DecisionTreeClassifier_ce1f344574b3, depth=4, numNodes=13, numClasses=5, numFeatures=54\n",
      "  If (feature 38 <= 0.5)\n",
      "   Predict: 0.0\n",
      "  Else (feature 38 > 0.5)\n",
      "   If (feature 46 <= 0.5)\n",
      "    If (feature 45 <= 0.5)\n",
      "     Predict: 1.0\n",
      "    Else (feature 45 > 0.5)\n",
      "     If (feature 37 <= 0.5)\n",
      "      Predict: 3.0\n",
      "     Else (feature 37 > 0.5)\n",
      "      Predict: 4.0\n",
      "   Else (feature 46 > 0.5)\n",
      "    If (feature 45 <= 0.5)\n",
      "     Predict: 2.0\n",
      "    Else (feature 45 > 0.5)\n",
      "     If (feature 37 <= 0.5)\n",
      "      Predict: 3.0\n",
      "     Else (feature 37 > 0.5)\n",
      "      Predict: 4.0\n",
      "\n",
      "Accuracy: 0.9946562871091172\n",
      "Huberty Index: 0.9864016385186178\n"
     ]
    }
   ],
   "source": [
    "print(ctModel.stages[2].toDebugString)\n",
    "df_preds = ctModel.transform(df_train)\n",
    "accuracy = showPerformanceOnTest(df_preds, default_p)"
   ]
  },
  {
   "cell_type": "markdown",
   "id": "corporate-cannon",
   "metadata": {},
   "source": [
    "Variables used by the decision tree:"
   ]
  },
  {
   "cell_type": "code",
   "execution_count": 22,
   "id": "drawn-participant",
   "metadata": {},
   "outputs": [
    {
     "data": {
      "text/plain": [
       "['injured_victims',\n",
       " 'killed_victims',\n",
       " 'severe_injury_count',\n",
       " 'other_visible_injury_count']"
      ]
     },
     "execution_count": 22,
     "metadata": {},
     "output_type": "execute_result"
    }
   ],
   "source": [
    "a= indexOutputCols+col_names_numerical\n",
    "[a[38], a[37], a[45], a[46]]"
   ]
  },
  {
   "cell_type": "markdown",
   "id": "becoming-velvet",
   "metadata": {},
   "source": [
    "Have a look at the performance metrics of the model on the test set."
   ]
  },
  {
   "cell_type": "code",
   "execution_count": 25,
   "id": "polar-appearance",
   "metadata": {},
   "outputs": [
    {
     "name": "stdout",
     "output_type": "stream",
     "text": [
      "Accuracy: 0.9939012394255361\n",
      "Huberty Index: 0.9846895509845212\n"
     ]
    }
   ],
   "source": [
    "dist_coll_sev = df_test.groupBy(\"collision_severity\").count().toPandas()\n",
    "default_p = dist_coll_sev.sort_values([\"count\"], ascending=False).iloc[0,1] / sum(dist_coll_sev[\"count\"])\n",
    "df_preds = ctModel.transform(df_test)\n",
    "accuracy = showPerformanceOnTest(df_preds, default_p)"
   ]
  },
  {
   "cell_type": "code",
   "execution_count": null,
   "id": "animated-reporter",
   "metadata": {},
   "outputs": [],
   "source": [
    "# Save memory\n",
    "del df, df_test, df_train, df_preds"
   ]
  },
  {
   "cell_type": "markdown",
   "id": "fewer-token",
   "metadata": {},
   "source": [
    "Now let's try with the whole dataset."
   ]
  },
  {
   "cell_type": "code",
   "execution_count": 28,
   "id": "mexican-raleigh",
   "metadata": {},
   "outputs": [],
   "source": [
    "# read the dataset:\n",
    "df = sqlContext.read.format('jdbc').\\\n",
    "     options(url='jdbc:sqlite:switrs.sqlite',\\\n",
    "     dbtable='collisions',driver='org.sqlite.JDBC').load()"
   ]
  },
  {
   "cell_type": "markdown",
   "id": "auburn-frank",
   "metadata": {},
   "source": [
    "Let's get just 40% of the dataset, to try our model on."
   ]
  },
  {
   "cell_type": "code",
   "execution_count": 29,
   "id": "seeing-bonus",
   "metadata": {},
   "outputs": [
    {
     "data": {
      "text/plain": [
       "3671398"
      ]
     },
     "execution_count": 29,
     "metadata": {},
     "output_type": "execute_result"
    }
   ],
   "source": [
    "df_half = df.sample(0.4, 42)\n",
    "df_half.count()"
   ]
  },
  {
   "cell_type": "code",
   "execution_count": 30,
   "id": "twenty-child",
   "metadata": {},
   "outputs": [
    {
     "data": {
      "text/html": [
       "<table border='1'>\n",
       "<tr><th>case_id</th><th>jurisdiction</th><th>officer_id</th><th>reporting_district</th><th>chp_shift</th><th>population</th><th>county_city_location</th><th>special_condition</th><th>beat_type</th><th>chp_beat_type</th><th>city_division_lapd</th><th>chp_beat_class</th><th>beat_number</th><th>primary_road</th><th>secondary_road</th><th>distance</th><th>direction</th><th>intersection</th><th>weather_1</th><th>weather_2</th><th>state_highway_indicator</th><th>caltrans_county</th><th>caltrans_district</th><th>state_route</th><th>route_suffix</th><th>postmile_prefix</th><th>postmile</th><th>location_type</th><th>ramp_intersection</th><th>side_of_highway</th><th>tow_away</th><th>collision_severity</th><th>killed_victims</th><th>injured_victims</th><th>party_count</th><th>primary_collision_factor</th><th>pcf_violation_code</th><th>pcf_violation_category</th><th>pcf_violation</th><th>pcf_violation_subsection</th><th>hit_and_run</th><th>type_of_collision</th><th>motor_vehicle_involved_with</th><th>pedestrian_action</th><th>road_surface</th><th>road_condition_1</th><th>road_condition_2</th><th>lighting</th><th>control_device</th><th>chp_road_type</th><th>pedestrian_collision</th><th>bicycle_collision</th><th>motorcycle_collision</th><th>truck_collision</th><th>not_private_property</th><th>alcohol_involved</th><th>statewide_vehicle_type_at_fault</th><th>chp_vehicle_type_at_fault</th><th>severe_injury_count</th><th>other_visible_injury_count</th><th>complaint_of_pain_injury_count</th><th>pedestrian_killed_count</th><th>pedestrian_injured_count</th><th>bicyclist_killed_count</th><th>bicyclist_injured_count</th><th>motorcyclist_killed_count</th><th>motorcyclist_injured_count</th><th>primary_ramp</th><th>secondary_ramp</th><th>latitude</th><th>longitude</th><th>collision_date</th><th>collision_time</th><th>process_date</th></tr>\n",
       "<tr><td>3495044</td><td>9540</td><td>17076</td><td>null</td><td>1</td><td>9</td><td>1900</td><td>0</td><td>1</td><td>interstate</td><td>null</td><td>chp other</td><td>506</td><td>RT 5</td><td>RT 126</td><td>1000.0</td><td>south</td><td>0</td><td>clear</td><td>null</td><td>1</td><td>LA</td><td>7</td><td>5</td><td>null</td><td>R</td><td>55.29</td><td>highway</td><td>null</td><td>northbound</td><td>0</td><td>property damage only</td><td>0</td><td>0</td><td>2</td><td>vehicle code viol...</td><td>null</td><td>speeding</td><td>22350</td><td>null</td><td>not hit and run</td><td>rear end</td><td>other motor vehicle</td><td>no pedestrian inv...</td><td>dry</td><td>construction</td><td>null</td><td>daylight</td><td>none</td><td>1</td><td>null</td><td>null</td><td>null</td><td>1</td><td>1</td><td>null</td><td>truck or truck tr...</td><td>26</td><td>0</td><td>0</td><td>0</td><td>0</td><td>0</td><td>0</td><td>0</td><td>0</td><td>0</td><td>null</td><td>null</td><td>null</td><td>null</td><td>2008-01-02</td><td>11:30:00</td><td>2008-11-10</td></tr>\n",
       "<tr><td>3511130</td><td>9480</td><td>9680</td><td>null</td><td>1</td><td>9</td><td>5400</td><td>0</td><td>3</td><td>county road area</td><td>null</td><td>chp other</td><td>006</td><td>ROAD 188</td><td>AVENUE 242</td><td>1320.0</td><td>south</td><td>0</td><td>cloudy</td><td>null</td><td>0</td><td>null</td><td>null</td><td>null</td><td>null</td><td>null</td><td>null</td><td>null</td><td>null</td><td>null</td><td>1</td><td>property damage only</td><td>0</td><td>0</td><td>2</td><td>vehicle code viol...</td><td>null</td><td>improper turning</td><td>22107</td><td>null</td><td>not hit and run</td><td>broadside</td><td>other motor vehicle</td><td>no pedestrian inv...</td><td>wet</td><td>normal</td><td>null</td><td>dark with no stre...</td><td>none</td><td>0</td><td>null</td><td>null</td><td>null</td><td>1</td><td>1</td><td>null</td><td>truck or truck tr...</td><td>27</td><td>0</td><td>0</td><td>0</td><td>0</td><td>0</td><td>0</td><td>0</td><td>0</td><td>0</td><td>null</td><td>null</td><td>null</td><td>null</td><td>2008-01-09</td><td>06:30:00</td><td>2008-08-08</td></tr>\n",
       "<tr><td>3511299</td><td>109</td><td>8284</td><td>1</td><td>5</td><td>7</td><td>0109</td><td>0</td><td>0</td><td>not chp</td><td>null</td><td>not chp</td><td>06X</td><td>WEST MACARTHUR BL</td><td>MARKET ST</td><td>0.0</td><td>null</td><td>1</td><td>raining</td><td>null</td><td>0</td><td>null</td><td>null</td><td>null</td><td>null</td><td>null</td><td>null</td><td>null</td><td>null</td><td>null</td><td>1</td><td>property damage only</td><td>0</td><td>0</td><td>2</td><td>vehicle code viol...</td><td>null</td><td>automobile right ...</td><td>21800</td><td>D</td><td>not hit and run</td><td>broadside</td><td>other motor vehicle</td><td>no pedestrian inv...</td><td>wet</td><td>normal</td><td>null</td><td>daylight</td><td>not functioning</td><td>0</td><td>null</td><td>null</td><td>null</td><td>null</td><td>1</td><td>null</td><td>passenger car</td><td>01</td><td>0</td><td>0</td><td>0</td><td>0</td><td>0</td><td>0</td><td>0</td><td>0</td><td>0</td><td>null</td><td>null</td><td>null</td><td>null</td><td>2008-01-04</td><td>13:51:00</td><td>2008-08-08</td></tr>\n",
       "<tr><td>3511310</td><td>1900</td><td>489624</td><td>2611</td><td>5</td><td>6</td><td>1950</td><td>0</td><td>0</td><td>not chp</td><td>null</td><td>not chp</td><td>262T1</td><td>PALMDALE BL</td><td>RT 14</td><td>0.0</td><td>null</td><td>1</td><td>clear</td><td>null</td><td>1</td><td>LA</td><td>7</td><td>138</td><td>null</td><td>null</td><td>43.531</td><td>intersection</td><td>5</td><td>eastbound</td><td>1</td><td>other injury</td><td>0</td><td>1</td><td>2</td><td>unknown</td><td>null</td><td>unknown</td><td>null</td><td>null</td><td>not hit and run</td><td>head-on</td><td>other motor vehicle</td><td>no pedestrian inv...</td><td>dry</td><td>normal</td><td>null</td><td>daylight</td><td>functioning</td><td>0</td><td>null</td><td>null</td><td>null</td><td>1</td><td>1</td><td>null</td><td>null</td><td>null</td><td>0</td><td>1</td><td>0</td><td>0</td><td>0</td><td>0</td><td>0</td><td>0</td><td>0</td><td>null</td><td>NF</td><td>null</td><td>null</td><td>2008-01-14</td><td>07:30:00</td><td>2008-10-25</td></tr>\n",
       "<tr><td>3511315</td><td>9655</td><td>009175</td><td>null</td><td>1</td><td>9</td><td>3300</td><td>0</td><td>3</td><td>county road area</td><td>null</td><td>chp other</td><td>002</td><td>BONITA AV</td><td>BROADWAY ST</td><td>5.0</td><td>east</td><td>0</td><td>cloudy</td><td>null</td><td>0</td><td>null</td><td>null</td><td>null</td><td>null</td><td>null</td><td>null</td><td>null</td><td>null</td><td>null</td><td>1</td><td>property damage only</td><td>0</td><td>0</td><td>1</td><td>vehicle code viol...</td><td>null</td><td>speeding</td><td>22350</td><td>null</td><td>not hit and run</td><td>overturned</td><td>non-collision</td><td>no pedestrian inv...</td><td>dry</td><td>normal</td><td>null</td><td>daylight</td><td>none</td><td>0</td><td>null</td><td>null</td><td>null</td><td>1</td><td>1</td><td>null</td><td>truck or truck tr...</td><td>79</td><td>0</td><td>0</td><td>0</td><td>0</td><td>0</td><td>0</td><td>0</td><td>0</td><td>0</td><td>null</td><td>null</td><td>null</td><td>null</td><td>2008-01-08</td><td>08:41:00</td><td>2008-08-11</td></tr>\n",
       "<tr><td>3511330</td><td>9755</td><td>017269</td><td>null</td><td>3</td><td>9</td><td>4200</td><td>0</td><td>1</td><td>us highway</td><td>null</td><td>chp other</td><td>004</td><td>RT 101</td><td>NOJOQUI CREEK BRI...</td><td>50.0</td><td>north</td><td>0</td><td>clear</td><td>null</td><td>1</td><td>SB</td><td>5</td><td>101</td><td>null</td><td>null</td><td>56.04</td><td>highway</td><td>null</td><td>southbound</td><td>1</td><td>property damage only</td><td>0</td><td>0</td><td>1</td><td>vehicle code viol...</td><td>null</td><td>improper turning</td><td>22107</td><td>null</td><td>not hit and run</td><td>hit object</td><td>fixed object</td><td>no pedestrian inv...</td><td>dry</td><td>normal</td><td>null</td><td>dark with no stre...</td><td>none</td><td>1</td><td>null</td><td>null</td><td>null</td><td>1</td><td>1</td><td>null</td><td>truck or truck tr...</td><td>26</td><td>0</td><td>0</td><td>0</td><td>0</td><td>0</td><td>0</td><td>0</td><td>0</td><td>0</td><td>null</td><td>null</td><td>null</td><td>null</td><td>2008-01-10</td><td>00:35:00</td><td>2008-08-20</td></tr>\n",
       "<tr><td>3511331</td><td>3902</td><td>4800</td><td>null</td><td>5</td><td>5</td><td>3902</td><td>0</td><td>0</td><td>not chp</td><td>null</td><td>not chp</td><td>null</td><td>CHEROKEE LN</td><td>KETTLEMAN LN</td><td>5.0</td><td>north</td><td>0</td><td>cloudy</td><td>null</td><td>0</td><td>null</td><td>null</td><td>null</td><td>null</td><td>null</td><td>null</td><td>null</td><td>null</td><td>null</td><td>1</td><td>property damage only</td><td>0</td><td>0</td><td>2</td><td>vehicle code viol...</td><td>null</td><td>improper passing</td><td>21755</td><td>null</td><td>not hit and run</td><td>sideswipe</td><td>other motor vehicle</td><td>no pedestrian inv...</td><td>dry</td><td>normal</td><td>null</td><td>daylight</td><td>functioning</td><td>0</td><td>null</td><td>null</td><td>null</td><td>1</td><td>1</td><td>null</td><td>passenger car</td><td>null</td><td>0</td><td>0</td><td>0</td><td>0</td><td>0</td><td>0</td><td>0</td><td>0</td><td>0</td><td>null</td><td>null</td><td>null</td><td>null</td><td>2008-01-07</td><td>09:59:00</td><td>2008-08-08</td></tr>\n",
       "<tr><td>3511334</td><td>9755</td><td>13564</td><td>null</td><td>2</td><td>9</td><td>4200</td><td>0</td><td>1</td><td>us highway</td><td>null</td><td>chp other</td><td>004</td><td>RT 101</td><td>RT 154</td><td>11088.0</td><td>north</td><td>0</td><td>cloudy</td><td>null</td><td>1</td><td>SB</td><td>5</td><td>101</td><td>null</td><td>null</td><td>65.3</td><td>highway</td><td>null</td><td>northbound</td><td>1</td><td>property damage only</td><td>0</td><td>0</td><td>2</td><td>vehicle code viol...</td><td>null</td><td>unsafe lane change</td><td>21658</td><td>A</td><td>misdemeanor</td><td>sideswipe</td><td>other motor vehicle</td><td>no pedestrian inv...</td><td>wet</td><td>normal</td><td>null</td><td>dark with no stre...</td><td>none</td><td>1</td><td>null</td><td>null</td><td>null</td><td>1</td><td>1</td><td>null</td><td>truck or truck tr...</td><td>25</td><td>0</td><td>0</td><td>0</td><td>0</td><td>0</td><td>0</td><td>0</td><td>0</td><td>0</td><td>null</td><td>null</td><td>null</td><td>null</td><td>2008-01-08</td><td>18:10:00</td><td>2008-08-20</td></tr>\n",
       "<tr><td>3511354</td><td>3024</td><td>206</td><td>P08</td><td>5</td><td>5</td><td>3024</td><td>0</td><td>0</td><td>not chp</td><td>null</td><td>not chp</td><td>00A</td><td>WESTMINSTER BL</td><td>MILAN ST</td><td>0.0</td><td>null</td><td>1</td><td>clear</td><td>null</td><td>0</td><td>null</td><td>null</td><td>null</td><td>null</td><td>null</td><td>null</td><td>null</td><td>null</td><td>null</td><td>1</td><td>other injury</td><td>0</td><td>3</td><td>3</td><td>vehicle code viol...</td><td>null</td><td>automobile right ...</td><td>21801</td><td>A</td><td>not hit and run</td><td>broadside</td><td>other motor vehicle</td><td>no pedestrian inv...</td><td>dry</td><td>normal</td><td>null</td><td>daylight</td><td>functioning</td><td>0</td><td>null</td><td>null</td><td>null</td><td>null</td><td>1</td><td>null</td><td>passenger car</td><td>01</td><td>0</td><td>1</td><td>2</td><td>0</td><td>0</td><td>0</td><td>0</td><td>0</td><td>0</td><td>null</td><td>null</td><td>null</td><td>null</td><td>2008-01-11</td><td>07:58:00</td><td>2008-08-12</td></tr>\n",
       "<tr><td>3511420</td><td>1942</td><td>31000</td><td>732</td><td>5</td><td>7</td><td>1942</td><td>0</td><td>0</td><td>not chp</td><td>null</td><td>not chp</td><td>7TL23</td><td>HAUSER BL</td><td>SAN VINCENTE BL</td><td>35.0</td><td>north</td><td>0</td><td>clear</td><td>null</td><td>0</td><td>null</td><td>null</td><td>null</td><td>null</td><td>null</td><td>null</td><td>null</td><td>null</td><td>null</td><td>0</td><td>property damage only</td><td>0</td><td>0</td><td>2</td><td>vehicle code viol...</td><td>null</td><td>following too clo...</td><td>21703</td><td>null</td><td>not hit and run</td><td>rear end</td><td>other motor vehicle</td><td>no pedestrian inv...</td><td>dry</td><td>normal</td><td>null</td><td>daylight</td><td>functioning</td><td>0</td><td>null</td><td>null</td><td>null</td><td>1</td><td>1</td><td>null</td><td>truck or truck tr...</td><td>27</td><td>0</td><td>0</td><td>0</td><td>0</td><td>0</td><td>0</td><td>0</td><td>0</td><td>0</td><td>null</td><td>null</td><td>null</td><td>null</td><td>2008-01-11</td><td>08:15:00</td><td>2008-08-15</td></tr>\n",
       "<tr><td>3511428</td><td>9345</td><td>018656</td><td>null</td><td>1</td><td>6</td><td>0106</td><td>1</td><td>4</td><td>safety services p...</td><td>null</td><td>chp other</td><td>901</td><td>ORCHARD AV</td><td>SOTO RD</td><td>14.0</td><td>east</td><td>0</td><td>cloudy</td><td>raining</td><td>0</td><td>null</td><td>null</td><td>null</td><td>null</td><td>null</td><td>null</td><td>null</td><td>null</td><td>null</td><td>0</td><td>property damage only</td><td>0</td><td>0</td><td>1</td><td>vehicle code viol...</td><td>null</td><td>improper turning</td><td>22107</td><td>null</td><td>not hit and run</td><td>hit object</td><td>fixed object</td><td>no pedestrian inv...</td><td>wet</td><td>normal</td><td>null</td><td>daylight</td><td>none</td><td>0</td><td>null</td><td>null</td><td>null</td><td>null</td><td>1</td><td>null</td><td>schoolbus</td><td>13</td><td>0</td><td>0</td><td>0</td><td>0</td><td>0</td><td>0</td><td>0</td><td>0</td><td>0</td><td>null</td><td>null</td><td>null</td><td>null</td><td>2008-01-10</td><td>08:15:00</td><td>2008-08-08</td></tr>\n",
       "<tr><td>3511436</td><td>9426</td><td>016804</td><td>null</td><td>1</td><td>9</td><td>1500</td><td>0</td><td>1</td><td>state route</td><td>null</td><td>chp primary</td><td>167</td><td>RT 166</td><td>RT 5</td><td>0.0</td><td>null</td><td>1</td><td>fog</td><td>null</td><td>1</td><td>KER</td><td>6</td><td>166</td><td>null</td><td>null</td><td>22.67</td><td>highway</td><td>null</td><td>westbound</td><td>1</td><td>other injury</td><td>0</td><td>1</td><td>2</td><td>vehicle code viol...</td><td>null</td><td>speeding</td><td>22350</td><td>null</td><td>not hit and run</td><td>broadside</td><td>other motor vehicle</td><td>no pedestrian inv...</td><td>dry</td><td>normal</td><td>null</td><td>daylight</td><td>none</td><td>0</td><td>null</td><td>null</td><td>null</td><td>1</td><td>1</td><td>null</td><td>passenger car</td><td>07</td><td>0</td><td>1</td><td>0</td><td>0</td><td>0</td><td>0</td><td>0</td><td>0</td><td>0</td><td>null</td><td>null</td><td>null</td><td>null</td><td>2008-01-11</td><td>08:16:00</td><td>2008-10-23</td></tr>\n",
       "<tr><td>3512904</td><td>9130</td><td>13166</td><td>null</td><td>2</td><td>9</td><td>5200</td><td>0</td><td>1</td><td>interstate</td><td>null</td><td>chp other</td><td>051</td><td>RT 5</td><td>WILCOX RD</td><td>2640.0</td><td>north</td><td>0</td><td>cloudy</td><td>raining</td><td>1</td><td>TEH</td><td>2</td><td>5</td><td>null</td><td>null</td><td>31.54</td><td>highway</td><td>null</td><td>northbound</td><td>0</td><td>property damage only</td><td>0</td><td>0</td><td>2</td><td>vehicle code viol...</td><td>null</td><td>improper turning</td><td>22107</td><td>null</td><td>misdemeanor</td><td>sideswipe</td><td>other motor vehicle</td><td>no pedestrian inv...</td><td>wet</td><td>normal</td><td>null</td><td>daylight</td><td>none</td><td>1</td><td>null</td><td>null</td><td>null</td><td>1</td><td>1</td><td>null</td><td>passenger car</td><td>01</td><td>0</td><td>0</td><td>0</td><td>0</td><td>0</td><td>0</td><td>0</td><td>0</td><td>0</td><td>null</td><td>null</td><td>null</td><td>null</td><td>2008-01-08</td><td>15:30:00</td><td>2008-09-08</td></tr>\n",
       "<tr><td>3512912</td><td>9146</td><td>010169</td><td>null</td><td>1</td><td>9</td><td>4700</td><td>0</td><td>1</td><td>interstate</td><td>null</td><td>chp other</td><td>010</td><td>RT 5</td><td>DEETZ RD</td><td>2640.0</td><td>south</td><td>0</td><td>snowing</td><td>null</td><td>1</td><td>SIS</td><td>2</td><td>5</td><td>null</td><td>R</td><td>14.84</td><td>highway</td><td>null</td><td>northbound</td><td>1</td><td>property damage only</td><td>0</td><td>0</td><td>2</td><td>vehicle code viol...</td><td>null</td><td>speeding</td><td>22350</td><td>null</td><td>not hit and run</td><td>sideswipe</td><td>other motor vehicle</td><td>no pedestrian inv...</td><td>snowy</td><td>normal</td><td>null</td><td>daylight</td><td>none</td><td>1</td><td>null</td><td>null</td><td>null</td><td>1</td><td>1</td><td>null</td><td>passenger car</td><td>01</td><td>0</td><td>0</td><td>0</td><td>0</td><td>0</td><td>0</td><td>0</td><td>0</td><td>0</td><td>null</td><td>null</td><td>null</td><td>null</td><td>2008-01-03</td><td>12:41:00</td><td>2008-09-08</td></tr>\n",
       "<tr><td>3512928</td><td>9175</td><td>014636</td><td>null</td><td>1</td><td>9</td><td>5300</td><td>0</td><td>3</td><td>county road area</td><td>null</td><td>chp other</td><td>001</td><td>DEADWOOD RD</td><td>HATCHERY RD</td><td>5280.0</td><td>east</td><td>0</td><td>cloudy</td><td>null</td><td>0</td><td>null</td><td>null</td><td>null</td><td>null</td><td>null</td><td>null</td><td>null</td><td>null</td><td>null</td><td>1</td><td>severe injury</td><td>0</td><td>1</td><td>2</td><td>vehicle code viol...</td><td>null</td><td>automobile right ...</td><td>21661</td><td>null</td><td>not hit and run</td><td>head-on</td><td>other motor vehicle</td><td>no pedestrian inv...</td><td>snowy</td><td>normal</td><td>null</td><td>daylight</td><td>none</td><td>0</td><td>null</td><td>null</td><td>null</td><td>1</td><td>1</td><td>null</td><td>passenger car</td><td>01</td><td>1</td><td>0</td><td>0</td><td>0</td><td>0</td><td>0</td><td>0</td><td>0</td><td>0</td><td>null</td><td>null</td><td>null</td><td>null</td><td>2008-01-02</td><td>12:00:00</td><td>2008-08-14</td></tr>\n",
       "<tr><td>3512944</td><td>9730</td><td>017580</td><td>null</td><td>1</td><td>9</td><td>2700</td><td>0</td><td>1</td><td>us highway</td><td>null</td><td>chp primary</td><td>030</td><td>RT 101</td><td>GLORIA RD</td><td>528.0</td><td>north</td><td>0</td><td>clear</td><td>null</td><td>1</td><td>MON</td><td>5</td><td>101</td><td>null</td><td>null</td><td>69.47</td><td>highway</td><td>null</td><td>southbound</td><td>0</td><td>pain</td><td>0</td><td>1</td><td>2</td><td>vehicle code viol...</td><td>null</td><td>speeding</td><td>22350</td><td>null</td><td>not hit and run</td><td>rear end</td><td>other motor vehicle</td><td>no pedestrian inv...</td><td>wet</td><td>normal</td><td>null</td><td>daylight</td><td>none</td><td>1</td><td>null</td><td>null</td><td>null</td><td>1</td><td>1</td><td>null</td><td>truck or truck tr...</td><td>25</td><td>0</td><td>0</td><td>1</td><td>0</td><td>0</td><td>0</td><td>0</td><td>0</td><td>0</td><td>null</td><td>null</td><td>null</td><td>null</td><td>2008-01-07</td><td>07:14:00</td><td>2008-11-06</td></tr>\n",
       "<tr><td>3512977</td><td>9250</td><td>010245</td><td>null</td><td>1</td><td>9</td><td>3400</td><td>0</td><td>1</td><td>interstate</td><td>null</td><td>chp other</td><td>106</td><td>RT 5</td><td>RT 99</td><td>2112.0</td><td>north</td><td>0</td><td>raining</td><td>other</td><td>1</td><td>SAC</td><td>3</td><td>5</td><td>null</td><td>null</td><td>30.31</td><td>highway</td><td>null</td><td>southbound</td><td>1</td><td>property damage only</td><td>0</td><td>0</td><td>1</td><td>other than driver</td><td>null</td><td>other than driver...</td><td>null</td><td>null</td><td>not hit and run</td><td>overturned</td><td>non-collision</td><td>no pedestrian inv...</td><td>wet</td><td>normal</td><td>null</td><td>daylight</td><td>none</td><td>1</td><td>null</td><td>null</td><td>null</td><td>1</td><td>1</td><td>null</td><td>null</td><td>null</td><td>0</td><td>0</td><td>0</td><td>0</td><td>0</td><td>0</td><td>0</td><td>0</td><td>0</td><td>null</td><td>null</td><td>null</td><td>null</td><td>2008-01-04</td><td>07:40:00</td><td>2008-09-10</td></tr>\n",
       "<tr><td>3512985</td><td>9250</td><td>014515</td><td>null</td><td>1</td><td>9</td><td>3400</td><td>0</td><td>3</td><td>county road area</td><td>null</td><td>chp other</td><td>050</td><td>WALNUT AV</td><td>ROSE CT</td><td>0.0</td><td>null</td><td>1</td><td>cloudy</td><td>null</td><td>0</td><td>null</td><td>null</td><td>null</td><td>null</td><td>null</td><td>null</td><td>null</td><td>null</td><td>null</td><td>1</td><td>property damage only</td><td>0</td><td>0</td><td>2</td><td>vehicle code viol...</td><td>null</td><td>improper passing</td><td>21755</td><td>null</td><td>not hit and run</td><td>sideswipe</td><td>other motor vehicle</td><td>no pedestrian inv...</td><td>dry</td><td>normal</td><td>null</td><td>daylight</td><td>none</td><td>0</td><td>null</td><td>null</td><td>null</td><td>1</td><td>1</td><td>null</td><td>passenger car</td><td>07</td><td>0</td><td>0</td><td>0</td><td>0</td><td>0</td><td>0</td><td>0</td><td>0</td><td>0</td><td>null</td><td>null</td><td>null</td><td>null</td><td>2008-01-03</td><td>12:20:00</td><td>2008-08-14</td></tr>\n",
       "<tr><td>3512989</td><td>9250</td><td>017763</td><td>null</td><td>2</td><td>7</td><td>3404</td><td>0</td><td>1</td><td>state route</td><td>null</td><td>chp other</td><td>151</td><td>RT 51</td><td>RT 160</td><td>50.0</td><td>south</td><td>0</td><td>cloudy</td><td>raining</td><td>1</td><td>SAC</td><td>3</td><td>51</td><td>null</td><td>null</td><td>3.68</td><td>highway</td><td>null</td><td>northbound</td><td>0</td><td>property damage only</td><td>0</td><td>0</td><td>2</td><td>vehicle code viol...</td><td>null</td><td>unsafe lane change</td><td>21658</td><td>A</td><td>not hit and run</td><td>sideswipe</td><td>other motor vehicle</td><td>no pedestrian inv...</td><td>wet</td><td>normal</td><td>null</td><td>daylight</td><td>none</td><td>1</td><td>null</td><td>null</td><td>null</td><td>1</td><td>1</td><td>null</td><td>passenger car</td><td>01</td><td>0</td><td>0</td><td>0</td><td>0</td><td>0</td><td>0</td><td>0</td><td>0</td><td>0</td><td>null</td><td>null</td><td>null</td><td>null</td><td>2008-01-03</td><td>15:50:00</td><td>2008-10-01</td></tr>\n",
       "<tr><td>3512993</td><td>9481</td><td>017280</td><td>null</td><td>2</td><td>9</td><td>5400</td><td>0</td><td>3</td><td>county road area</td><td>null</td><td>chp other</td><td>020</td><td>ROAD 238</td><td>AVENUE 181</td><td>15.0</td><td>north</td><td>0</td><td>clear</td><td>null</td><td>0</td><td>null</td><td>null</td><td>null</td><td>null</td><td>null</td><td>null</td><td>null</td><td>null</td><td>null</td><td>0</td><td>property damage only</td><td>0</td><td>0</td><td>1</td><td>vehicle code viol...</td><td>null</td><td>unsafe starting o...</td><td>22106</td><td>null</td><td>not hit and run</td><td>hit object</td><td>fixed object</td><td>no pedestrian inv...</td><td>dry</td><td>normal</td><td>null</td><td>dark with no stre...</td><td>none</td><td>0</td><td>null</td><td>null</td><td>null</td><td>1</td><td>1</td><td>null</td><td>truck or truck tr...</td><td>25</td><td>0</td><td>0</td><td>0</td><td>0</td><td>0</td><td>0</td><td>0</td><td>0</td><td>0</td><td>null</td><td>null</td><td>null</td><td>null</td><td>2008-01-07</td><td>19:28:00</td><td>2008-08-08</td></tr>\n",
       "</table>\n",
       "only showing top 20 rows\n"
      ],
      "text/plain": [
       "+-------+------------+----------+------------------+---------+----------+--------------------+-----------------+---------+--------------------+------------------+--------------+-----------+-----------------+--------------------+--------+---------+------------+---------+---------+-----------------------+---------------+-----------------+-----------+------------+---------------+--------+-------------+-----------------+---------------+--------+--------------------+--------------+---------------+-----------+------------------------+------------------+----------------------+-------------+------------------------+---------------+-----------------+---------------------------+--------------------+------------+----------------+----------------+--------------------+---------------+-------------+--------------------+-----------------+--------------------+---------------+--------------------+----------------+-------------------------------+-------------------------+-------------------+--------------------------+------------------------------+-----------------------+------------------------+----------------------+-----------------------+-------------------------+--------------------------+------------+--------------+--------+---------+--------------+--------------+------------+\n",
       "|case_id|jurisdiction|officer_id|reporting_district|chp_shift|population|county_city_location|special_condition|beat_type|       chp_beat_type|city_division_lapd|chp_beat_class|beat_number|     primary_road|      secondary_road|distance|direction|intersection|weather_1|weather_2|state_highway_indicator|caltrans_county|caltrans_district|state_route|route_suffix|postmile_prefix|postmile|location_type|ramp_intersection|side_of_highway|tow_away|  collision_severity|killed_victims|injured_victims|party_count|primary_collision_factor|pcf_violation_code|pcf_violation_category|pcf_violation|pcf_violation_subsection|    hit_and_run|type_of_collision|motor_vehicle_involved_with|   pedestrian_action|road_surface|road_condition_1|road_condition_2|            lighting| control_device|chp_road_type|pedestrian_collision|bicycle_collision|motorcycle_collision|truck_collision|not_private_property|alcohol_involved|statewide_vehicle_type_at_fault|chp_vehicle_type_at_fault|severe_injury_count|other_visible_injury_count|complaint_of_pain_injury_count|pedestrian_killed_count|pedestrian_injured_count|bicyclist_killed_count|bicyclist_injured_count|motorcyclist_killed_count|motorcyclist_injured_count|primary_ramp|secondary_ramp|latitude|longitude|collision_date|collision_time|process_date|\n",
       "+-------+------------+----------+------------------+---------+----------+--------------------+-----------------+---------+--------------------+------------------+--------------+-----------+-----------------+--------------------+--------+---------+------------+---------+---------+-----------------------+---------------+-----------------+-----------+------------+---------------+--------+-------------+-----------------+---------------+--------+--------------------+--------------+---------------+-----------+------------------------+------------------+----------------------+-------------+------------------------+---------------+-----------------+---------------------------+--------------------+------------+----------------+----------------+--------------------+---------------+-------------+--------------------+-----------------+--------------------+---------------+--------------------+----------------+-------------------------------+-------------------------+-------------------+--------------------------+------------------------------+-----------------------+------------------------+----------------------+-----------------------+-------------------------+--------------------------+------------+--------------+--------+---------+--------------+--------------+------------+\n",
       "|3495044|        9540|     17076|              null|        1|         9|                1900|                0|        1|          interstate|              null|     chp other|        506|             RT 5|              RT 126|  1000.0|    south|           0|    clear|     null|                      1|             LA|                7|          5|        null|              R|   55.29|      highway|             null|     northbound|       0|property damage only|             0|              0|          2|    vehicle code viol...|              null|              speeding|        22350|                    null|not hit and run|         rear end|        other motor vehicle|no pedestrian inv...|         dry|    construction|            null|            daylight|           none|            1|                null|             null|                null|              1|                   1|            null|           truck or truck tr...|                       26|                  0|                         0|                             0|                      0|                       0|                     0|                      0|                        0|                         0|        null|          null|    null|     null|    2008-01-02|      11:30:00|  2008-11-10|\n",
       "|3511130|        9480|      9680|              null|        1|         9|                5400|                0|        3|    county road area|              null|     chp other|        006|         ROAD 188|          AVENUE 242|  1320.0|    south|           0|   cloudy|     null|                      0|           null|             null|       null|        null|           null|    null|         null|             null|           null|       1|property damage only|             0|              0|          2|    vehicle code viol...|              null|      improper turning|        22107|                    null|not hit and run|        broadside|        other motor vehicle|no pedestrian inv...|         wet|          normal|            null|dark with no stre...|           none|            0|                null|             null|                null|              1|                   1|            null|           truck or truck tr...|                       27|                  0|                         0|                             0|                      0|                       0|                     0|                      0|                        0|                         0|        null|          null|    null|     null|    2008-01-09|      06:30:00|  2008-08-08|\n",
       "|3511299|         109|      8284|                 1|        5|         7|                0109|                0|        0|             not chp|              null|       not chp|        06X|WEST MACARTHUR BL|           MARKET ST|     0.0|     null|           1|  raining|     null|                      0|           null|             null|       null|        null|           null|    null|         null|             null|           null|       1|property damage only|             0|              0|          2|    vehicle code viol...|              null|  automobile right ...|        21800|                       D|not hit and run|        broadside|        other motor vehicle|no pedestrian inv...|         wet|          normal|            null|            daylight|not functioning|            0|                null|             null|                null|           null|                   1|            null|                  passenger car|                       01|                  0|                         0|                             0|                      0|                       0|                     0|                      0|                        0|                         0|        null|          null|    null|     null|    2008-01-04|      13:51:00|  2008-08-08|\n",
       "|3511310|        1900|    489624|              2611|        5|         6|                1950|                0|        0|             not chp|              null|       not chp|      262T1|      PALMDALE BL|               RT 14|     0.0|     null|           1|    clear|     null|                      1|             LA|                7|        138|        null|           null|  43.531| intersection|                5|      eastbound|       1|        other injury|             0|              1|          2|                 unknown|              null|               unknown|         null|                    null|not hit and run|          head-on|        other motor vehicle|no pedestrian inv...|         dry|          normal|            null|            daylight|    functioning|            0|                null|             null|                null|              1|                   1|            null|                           null|                     null|                  0|                         1|                             0|                      0|                       0|                     0|                      0|                        0|                         0|        null|            NF|    null|     null|    2008-01-14|      07:30:00|  2008-10-25|\n",
       "|3511315|        9655|    009175|              null|        1|         9|                3300|                0|        3|    county road area|              null|     chp other|        002|        BONITA AV|         BROADWAY ST|     5.0|     east|           0|   cloudy|     null|                      0|           null|             null|       null|        null|           null|    null|         null|             null|           null|       1|property damage only|             0|              0|          1|    vehicle code viol...|              null|              speeding|        22350|                    null|not hit and run|       overturned|              non-collision|no pedestrian inv...|         dry|          normal|            null|            daylight|           none|            0|                null|             null|                null|              1|                   1|            null|           truck or truck tr...|                       79|                  0|                         0|                             0|                      0|                       0|                     0|                      0|                        0|                         0|        null|          null|    null|     null|    2008-01-08|      08:41:00|  2008-08-11|\n",
       "|3511330|        9755|    017269|              null|        3|         9|                4200|                0|        1|          us highway|              null|     chp other|        004|           RT 101|NOJOQUI CREEK BRI...|    50.0|    north|           0|    clear|     null|                      1|             SB|                5|        101|        null|           null|   56.04|      highway|             null|     southbound|       1|property damage only|             0|              0|          1|    vehicle code viol...|              null|      improper turning|        22107|                    null|not hit and run|       hit object|               fixed object|no pedestrian inv...|         dry|          normal|            null|dark with no stre...|           none|            1|                null|             null|                null|              1|                   1|            null|           truck or truck tr...|                       26|                  0|                         0|                             0|                      0|                       0|                     0|                      0|                        0|                         0|        null|          null|    null|     null|    2008-01-10|      00:35:00|  2008-08-20|\n",
       "|3511331|        3902|      4800|              null|        5|         5|                3902|                0|        0|             not chp|              null|       not chp|       null|      CHEROKEE LN|        KETTLEMAN LN|     5.0|    north|           0|   cloudy|     null|                      0|           null|             null|       null|        null|           null|    null|         null|             null|           null|       1|property damage only|             0|              0|          2|    vehicle code viol...|              null|      improper passing|        21755|                    null|not hit and run|        sideswipe|        other motor vehicle|no pedestrian inv...|         dry|          normal|            null|            daylight|    functioning|            0|                null|             null|                null|              1|                   1|            null|                  passenger car|                     null|                  0|                         0|                             0|                      0|                       0|                     0|                      0|                        0|                         0|        null|          null|    null|     null|    2008-01-07|      09:59:00|  2008-08-08|\n",
       "|3511334|        9755|     13564|              null|        2|         9|                4200|                0|        1|          us highway|              null|     chp other|        004|           RT 101|              RT 154| 11088.0|    north|           0|   cloudy|     null|                      1|             SB|                5|        101|        null|           null|    65.3|      highway|             null|     northbound|       1|property damage only|             0|              0|          2|    vehicle code viol...|              null|    unsafe lane change|        21658|                       A|    misdemeanor|        sideswipe|        other motor vehicle|no pedestrian inv...|         wet|          normal|            null|dark with no stre...|           none|            1|                null|             null|                null|              1|                   1|            null|           truck or truck tr...|                       25|                  0|                         0|                             0|                      0|                       0|                     0|                      0|                        0|                         0|        null|          null|    null|     null|    2008-01-08|      18:10:00|  2008-08-20|\n",
       "|3511354|        3024|       206|               P08|        5|         5|                3024|                0|        0|             not chp|              null|       not chp|        00A|   WESTMINSTER BL|            MILAN ST|     0.0|     null|           1|    clear|     null|                      0|           null|             null|       null|        null|           null|    null|         null|             null|           null|       1|        other injury|             0|              3|          3|    vehicle code viol...|              null|  automobile right ...|        21801|                       A|not hit and run|        broadside|        other motor vehicle|no pedestrian inv...|         dry|          normal|            null|            daylight|    functioning|            0|                null|             null|                null|           null|                   1|            null|                  passenger car|                       01|                  0|                         1|                             2|                      0|                       0|                     0|                      0|                        0|                         0|        null|          null|    null|     null|    2008-01-11|      07:58:00|  2008-08-12|\n",
       "|3511420|        1942|     31000|               732|        5|         7|                1942|                0|        0|             not chp|              null|       not chp|      7TL23|        HAUSER BL|     SAN VINCENTE BL|    35.0|    north|           0|    clear|     null|                      0|           null|             null|       null|        null|           null|    null|         null|             null|           null|       0|property damage only|             0|              0|          2|    vehicle code viol...|              null|  following too clo...|        21703|                    null|not hit and run|         rear end|        other motor vehicle|no pedestrian inv...|         dry|          normal|            null|            daylight|    functioning|            0|                null|             null|                null|              1|                   1|            null|           truck or truck tr...|                       27|                  0|                         0|                             0|                      0|                       0|                     0|                      0|                        0|                         0|        null|          null|    null|     null|    2008-01-11|      08:15:00|  2008-08-15|\n",
       "|3511428|        9345|    018656|              null|        1|         6|                0106|                1|        4|safety services p...|              null|     chp other|        901|       ORCHARD AV|             SOTO RD|    14.0|     east|           0|   cloudy|  raining|                      0|           null|             null|       null|        null|           null|    null|         null|             null|           null|       0|property damage only|             0|              0|          1|    vehicle code viol...|              null|      improper turning|        22107|                    null|not hit and run|       hit object|               fixed object|no pedestrian inv...|         wet|          normal|            null|            daylight|           none|            0|                null|             null|                null|           null|                   1|            null|                      schoolbus|                       13|                  0|                         0|                             0|                      0|                       0|                     0|                      0|                        0|                         0|        null|          null|    null|     null|    2008-01-10|      08:15:00|  2008-08-08|\n",
       "|3511436|        9426|    016804|              null|        1|         9|                1500|                0|        1|         state route|              null|   chp primary|        167|           RT 166|                RT 5|     0.0|     null|           1|      fog|     null|                      1|            KER|                6|        166|        null|           null|   22.67|      highway|             null|      westbound|       1|        other injury|             0|              1|          2|    vehicle code viol...|              null|              speeding|        22350|                    null|not hit and run|        broadside|        other motor vehicle|no pedestrian inv...|         dry|          normal|            null|            daylight|           none|            0|                null|             null|                null|              1|                   1|            null|                  passenger car|                       07|                  0|                         1|                             0|                      0|                       0|                     0|                      0|                        0|                         0|        null|          null|    null|     null|    2008-01-11|      08:16:00|  2008-10-23|\n",
       "|3512904|        9130|     13166|              null|        2|         9|                5200|                0|        1|          interstate|              null|     chp other|        051|             RT 5|           WILCOX RD|  2640.0|    north|           0|   cloudy|  raining|                      1|            TEH|                2|          5|        null|           null|   31.54|      highway|             null|     northbound|       0|property damage only|             0|              0|          2|    vehicle code viol...|              null|      improper turning|        22107|                    null|    misdemeanor|        sideswipe|        other motor vehicle|no pedestrian inv...|         wet|          normal|            null|            daylight|           none|            1|                null|             null|                null|              1|                   1|            null|                  passenger car|                       01|                  0|                         0|                             0|                      0|                       0|                     0|                      0|                        0|                         0|        null|          null|    null|     null|    2008-01-08|      15:30:00|  2008-09-08|\n",
       "|3512912|        9146|    010169|              null|        1|         9|                4700|                0|        1|          interstate|              null|     chp other|        010|             RT 5|            DEETZ RD|  2640.0|    south|           0|  snowing|     null|                      1|            SIS|                2|          5|        null|              R|   14.84|      highway|             null|     northbound|       1|property damage only|             0|              0|          2|    vehicle code viol...|              null|              speeding|        22350|                    null|not hit and run|        sideswipe|        other motor vehicle|no pedestrian inv...|       snowy|          normal|            null|            daylight|           none|            1|                null|             null|                null|              1|                   1|            null|                  passenger car|                       01|                  0|                         0|                             0|                      0|                       0|                     0|                      0|                        0|                         0|        null|          null|    null|     null|    2008-01-03|      12:41:00|  2008-09-08|\n",
       "|3512928|        9175|    014636|              null|        1|         9|                5300|                0|        3|    county road area|              null|     chp other|        001|      DEADWOOD RD|         HATCHERY RD|  5280.0|     east|           0|   cloudy|     null|                      0|           null|             null|       null|        null|           null|    null|         null|             null|           null|       1|       severe injury|             0|              1|          2|    vehicle code viol...|              null|  automobile right ...|        21661|                    null|not hit and run|          head-on|        other motor vehicle|no pedestrian inv...|       snowy|          normal|            null|            daylight|           none|            0|                null|             null|                null|              1|                   1|            null|                  passenger car|                       01|                  1|                         0|                             0|                      0|                       0|                     0|                      0|                        0|                         0|        null|          null|    null|     null|    2008-01-02|      12:00:00|  2008-08-14|\n",
       "|3512944|        9730|    017580|              null|        1|         9|                2700|                0|        1|          us highway|              null|   chp primary|        030|           RT 101|           GLORIA RD|   528.0|    north|           0|    clear|     null|                      1|            MON|                5|        101|        null|           null|   69.47|      highway|             null|     southbound|       0|                pain|             0|              1|          2|    vehicle code viol...|              null|              speeding|        22350|                    null|not hit and run|         rear end|        other motor vehicle|no pedestrian inv...|         wet|          normal|            null|            daylight|           none|            1|                null|             null|                null|              1|                   1|            null|           truck or truck tr...|                       25|                  0|                         0|                             1|                      0|                       0|                     0|                      0|                        0|                         0|        null|          null|    null|     null|    2008-01-07|      07:14:00|  2008-11-06|\n",
       "|3512977|        9250|    010245|              null|        1|         9|                3400|                0|        1|          interstate|              null|     chp other|        106|             RT 5|               RT 99|  2112.0|    north|           0|  raining|    other|                      1|            SAC|                3|          5|        null|           null|   30.31|      highway|             null|     southbound|       1|property damage only|             0|              0|          1|       other than driver|              null|  other than driver...|         null|                    null|not hit and run|       overturned|              non-collision|no pedestrian inv...|         wet|          normal|            null|            daylight|           none|            1|                null|             null|                null|              1|                   1|            null|                           null|                     null|                  0|                         0|                             0|                      0|                       0|                     0|                      0|                        0|                         0|        null|          null|    null|     null|    2008-01-04|      07:40:00|  2008-09-10|\n",
       "|3512985|        9250|    014515|              null|        1|         9|                3400|                0|        3|    county road area|              null|     chp other|        050|        WALNUT AV|             ROSE CT|     0.0|     null|           1|   cloudy|     null|                      0|           null|             null|       null|        null|           null|    null|         null|             null|           null|       1|property damage only|             0|              0|          2|    vehicle code viol...|              null|      improper passing|        21755|                    null|not hit and run|        sideswipe|        other motor vehicle|no pedestrian inv...|         dry|          normal|            null|            daylight|           none|            0|                null|             null|                null|              1|                   1|            null|                  passenger car|                       07|                  0|                         0|                             0|                      0|                       0|                     0|                      0|                        0|                         0|        null|          null|    null|     null|    2008-01-03|      12:20:00|  2008-08-14|\n",
       "|3512989|        9250|    017763|              null|        2|         7|                3404|                0|        1|         state route|              null|     chp other|        151|            RT 51|              RT 160|    50.0|    south|           0|   cloudy|  raining|                      1|            SAC|                3|         51|        null|           null|    3.68|      highway|             null|     northbound|       0|property damage only|             0|              0|          2|    vehicle code viol...|              null|    unsafe lane change|        21658|                       A|not hit and run|        sideswipe|        other motor vehicle|no pedestrian inv...|         wet|          normal|            null|            daylight|           none|            1|                null|             null|                null|              1|                   1|            null|                  passenger car|                       01|                  0|                         0|                             0|                      0|                       0|                     0|                      0|                        0|                         0|        null|          null|    null|     null|    2008-01-03|      15:50:00|  2008-10-01|\n",
       "|3512993|        9481|    017280|              null|        2|         9|                5400|                0|        3|    county road area|              null|     chp other|        020|         ROAD 238|          AVENUE 181|    15.0|    north|           0|    clear|     null|                      0|           null|             null|       null|        null|           null|    null|         null|             null|           null|       0|property damage only|             0|              0|          1|    vehicle code viol...|              null|  unsafe starting o...|        22106|                    null|not hit and run|       hit object|               fixed object|no pedestrian inv...|         dry|          normal|            null|dark with no stre...|           none|            0|                null|             null|                null|              1|                   1|            null|           truck or truck tr...|                       25|                  0|                         0|                             0|                      0|                       0|                     0|                      0|                        0|                         0|        null|          null|    null|     null|    2008-01-07|      19:28:00|  2008-08-08|\n",
       "+-------+------------+----------+------------------+---------+----------+--------------------+-----------------+---------+--------------------+------------------+--------------+-----------+-----------------+--------------------+--------+---------+------------+---------+---------+-----------------------+---------------+-----------------+-----------+------------+---------------+--------+-------------+-----------------+---------------+--------+--------------------+--------------+---------------+-----------+------------------------+------------------+----------------------+-------------+------------------------+---------------+-----------------+---------------------------+--------------------+------------+----------------+----------------+--------------------+---------------+-------------+--------------------+-----------------+--------------------+---------------+--------------------+----------------+-------------------------------+-------------------------+-------------------+--------------------------+------------------------------+-----------------------+------------------------+----------------------+-----------------------+-------------------------+--------------------------+------------+--------------+--------+---------+--------------+--------------+------------+\n",
       "only showing top 20 rows"
      ]
     },
     "execution_count": 30,
     "metadata": {},
     "output_type": "execute_result"
    }
   ],
   "source": [
    "df = df_half\n",
    "del df_half\n",
    "df.cache()"
   ]
  },
  {
   "cell_type": "markdown",
   "id": "indonesian-bolivia",
   "metadata": {},
   "source": [
    "Clean up the dataset."
   ]
  },
  {
   "cell_type": "code",
   "execution_count": 31,
   "id": "verbal-eight",
   "metadata": {},
   "outputs": [],
   "source": [
    "# clean dataset\n",
    "col_names = df.columns\n",
    "col_names_categorical = [col for (col, dataType) in df.dtypes if dataType == 'string']\n",
    "col_names_numeric = [col for col in col_names if col not in col_names_categorical]   \n",
    "\n",
    "# remove columns that have no interesting information for our purpose\n",
    "remove_cols = [\"case_id\", \"process_date\", \"officer_id\"]\n",
    "   \n",
    "# Columns to eliminate because they containvery few rows with data\n",
    "remove_cols += [\"secondary_ramp\", \"primary_ramp\", \"latitude\", \"longitude\", \"reporting_district\"]\n",
    "\n",
    "# categorical feature with too many different values\n",
    "remove_cols += [\"primary_road\", \"secondary_road\", \"collision_date\", \"postmile\", \n",
    "                      \"beat_number\", \"collision_time\",\"county_city_location\", \n",
    "                      \"jurisdiction\", \"state_route\", \"pcf_violation\"]\n",
    "# no variability column\n",
    "remove_cols += [\"not_private_property\"]\n",
    "\n",
    "for col in remove_cols:\n",
    "    if col in col_names_categorical: \n",
    "        col_names_categorical.remove(col)\n",
    "    elif col in col_names_numeric:\n",
    "        col_names_numeric.remove(col)\n",
    "    if col in col_names:\n",
    "        col_names.remove(col)\n",
    "    df = df.drop(col)\n",
    "\n",
    "from pyspark.sql.types import StringType\n",
    "# Numerical variables that should be categorical\n",
    "#   jurisdiction\n",
    "#   caltrans_district\n",
    "#   ramp_intersection\n",
    "#   state_route\n",
    "#   pcf_violation\n",
    "#   postmile\n",
    "df = df.withColumn(\"caltrans_district\", df['caltrans_district'].cast(StringType()))\\\n",
    "    .withColumn(\"ramp_intersection\", df['ramp_intersection'].cast(StringType()))\n",
    "\n",
    "if \"caltrans_district\" not in col_names_categorical:\n",
    "    col_names_categorical.append(\"caltrans_district\")\n",
    "    col_names_numeric.remove(\"caltrans_district\")\n",
    "if \"ramp_intersection\" not in col_names_categorical:\n",
    "    col_names_categorical.append(\"ramp_intersection\")\n",
    "    col_names_numeric.remove(\"ramp_intersection\")\n",
    "\n",
    "# for these columns, missings are 0 (they only have 1s)\n",
    "col_names_na_to_zero = [\"pedestrian_collision\", \"bicycle_collision\", \"motorcycle_collision\", \"truck_collision\", \"alcohol_involved\"]\n",
    "df = df.fillna(0, subset=col_names_na_to_zero)\n",
    "# set missing to mode (zero)\n",
    "df = df.fillna(0, subset=\"killed_victims\")\n",
    "df = df.fillna(0, subset=\"injured_victims\")\n",
    "# set missing to a special category '2'\n",
    "missing_binary_cols = [\"intersection\", \"state_highway_indicator\", \"tow_away\"]\n",
    "df = df.fillna(2, subset=missing_binary_cols)\n",
    "\n",
    "# \"Not Stated\" for other categorical columns\n",
    "df = df.fillna(\"Not Stated\", subset=col_names_categorical)"
   ]
  },
  {
   "cell_type": "markdown",
   "id": "enabling-coupon",
   "metadata": {},
   "source": [
    "Looking if any missing values persist. We drop missing values' rows if they are not more then 0.5% of total rows."
   ]
  },
  {
   "cell_type": "code",
   "execution_count": 32,
   "id": "narrative-detail",
   "metadata": {},
   "outputs": [],
   "source": [
    "if ((df.count() - df.dropna().count()) / df.count()) > 0.005:\n",
    "    raise Exception(\"More then 0.5% of missing values. Algorithm stops here\")\n",
    "else:\n",
    "    df = df.dropna()"
   ]
  },
  {
   "cell_type": "markdown",
   "id": "industrial-control",
   "metadata": {},
   "source": [
    "Take a look at our indexed target classes."
   ]
  },
  {
   "cell_type": "code",
   "execution_count": 33,
   "id": "bacterial-richmond",
   "metadata": {},
   "outputs": [
    {
     "data": {
      "text/html": [
       "<div>\n",
       "<style scoped>\n",
       "    .dataframe tbody tr th:only-of-type {\n",
       "        vertical-align: middle;\n",
       "    }\n",
       "\n",
       "    .dataframe tbody tr th {\n",
       "        vertical-align: top;\n",
       "    }\n",
       "\n",
       "    .dataframe thead th {\n",
       "        text-align: right;\n",
       "    }\n",
       "</style>\n",
       "<table border=\"1\" class=\"dataframe\">\n",
       "  <thead>\n",
       "    <tr style=\"text-align: right;\">\n",
       "      <th></th>\n",
       "      <th>collision_severity</th>\n",
       "      <th>count</th>\n",
       "    </tr>\n",
       "  </thead>\n",
       "  <tbody>\n",
       "    <tr>\n",
       "      <th>0</th>\n",
       "      <td>property damage only</td>\n",
       "      <td>2223554</td>\n",
       "    </tr>\n",
       "    <tr>\n",
       "      <th>1</th>\n",
       "      <td>M</td>\n",
       "      <td>1</td>\n",
       "    </tr>\n",
       "    <tr>\n",
       "      <th>2</th>\n",
       "      <td>pain</td>\n",
       "      <td>885900</td>\n",
       "    </tr>\n",
       "    <tr>\n",
       "      <th>3</th>\n",
       "      <td>other injury</td>\n",
       "      <td>451189</td>\n",
       "    </tr>\n",
       "    <tr>\n",
       "      <th>4</th>\n",
       "      <td>fatal</td>\n",
       "      <td>25550</td>\n",
       "    </tr>\n",
       "    <tr>\n",
       "      <th>5</th>\n",
       "      <td>Not Stated</td>\n",
       "      <td>9</td>\n",
       "    </tr>\n",
       "    <tr>\n",
       "      <th>6</th>\n",
       "      <td>severe injury</td>\n",
       "      <td>85192</td>\n",
       "    </tr>\n",
       "  </tbody>\n",
       "</table>\n",
       "</div>"
      ],
      "text/plain": [
       "     collision_severity    count\n",
       "0  property damage only  2223554\n",
       "1                     M        1\n",
       "2                  pain   885900\n",
       "3          other injury   451189\n",
       "4                 fatal    25550\n",
       "5            Not Stated        9\n",
       "6         severe injury    85192"
      ]
     },
     "execution_count": 33,
     "metadata": {},
     "output_type": "execute_result"
    }
   ],
   "source": [
    "dist_coll_sev = df.groupBy(\"collision_severity\").count().toPandas()\n",
    "dist_coll_sev"
   ]
  },
  {
   "cell_type": "markdown",
   "id": "equal-oxford",
   "metadata": {},
   "source": [
    "We calculate the default proportion (majority class frequency) to later calculate the Huberty Index."
   ]
  },
  {
   "cell_type": "code",
   "execution_count": 34,
   "id": "computational-tobacco",
   "metadata": {},
   "outputs": [
    {
     "data": {
      "text/plain": [
       "0.6056428142436322"
      ]
     },
     "execution_count": 34,
     "metadata": {},
     "output_type": "execute_result"
    }
   ],
   "source": [
    "# store default proportion (majority class frequency)\n",
    "line_total = sum(dist_coll_sev[\"count\"])\n",
    "default_p = dist_coll_sev.sort_values([\"count\"], ascending=False).iloc[0,1] / line_total\n",
    "default_p"
   ]
  },
  {
   "cell_type": "markdown",
   "id": "musical-jersey",
   "metadata": {},
   "source": [
    "Lets build the features and apply the model."
   ]
  },
  {
   "cell_type": "code",
   "execution_count": 36,
   "id": "russian-china",
   "metadata": {},
   "outputs": [],
   "source": [
    "# Now apply the model\n",
    "df_preds = ctModel.transform(df)"
   ]
  },
  {
   "cell_type": "code",
   "execution_count": 37,
   "id": "waiting-presentation",
   "metadata": {},
   "outputs": [
    {
     "name": "stderr",
     "output_type": "stream",
     "text": [
      "ERROR:root:Exception while sending command.\n",
      "Traceback (most recent call last):\n",
      "  File \"/opt/spark/python/lib/py4j-0.10.9-src.zip/py4j/java_gateway.py\", line 1207, in send_command\n",
      "    raise Py4JNetworkError(\"Answer from Java side is empty\")\n",
      "py4j.protocol.Py4JNetworkError: Answer from Java side is empty\n",
      "\n",
      "During handling of the above exception, another exception occurred:\n",
      "\n",
      "Traceback (most recent call last):\n",
      "  File \"/opt/spark/python/lib/py4j-0.10.9-src.zip/py4j/java_gateway.py\", line 1033, in send_command\n",
      "    response = connection.send_command(command)\n",
      "  File \"/opt/spark/python/lib/py4j-0.10.9-src.zip/py4j/java_gateway.py\", line 1211, in send_command\n",
      "    raise Py4JNetworkError(\n",
      "py4j.protocol.Py4JNetworkError: Error while receiving\n"
     ]
    },
    {
     "ename": "Py4JError",
     "evalue": "An error occurred while calling o605.count",
     "output_type": "error",
     "traceback": [
      "\u001b[0;31m---------------------------------------------------------------------------\u001b[0m",
      "\u001b[0;31mPy4JError\u001b[0m                                 Traceback (most recent call last)",
      "\u001b[0;32m<ipython-input-37-3ee71d1ef350>\u001b[0m in \u001b[0;36m<module>\u001b[0;34m\u001b[0m\n\u001b[0;32m----> 1\u001b[0;31m \u001b[0maccuracy\u001b[0m \u001b[0;34m=\u001b[0m \u001b[0mshowPerformanceOnTest\u001b[0m\u001b[0;34m(\u001b[0m\u001b[0mdf_preds\u001b[0m\u001b[0;34m,\u001b[0m \u001b[0mdefault_p\u001b[0m\u001b[0;34m,\u001b[0m \u001b[0mline_total\u001b[0m\u001b[0;34m)\u001b[0m\u001b[0;34m\u001b[0m\u001b[0;34m\u001b[0m\u001b[0m\n\u001b[0m",
      "\u001b[0;32m<ipython-input-2-6ee01eab3ae2>\u001b[0m in \u001b[0;36mshowPerformanceOnTest\u001b[0;34m(df_pred, default_prop, ln_count)\u001b[0m\n\u001b[1;32m      4\u001b[0m         \u001b[0mln_count\u001b[0m \u001b[0;34m=\u001b[0m \u001b[0mdf_pred\u001b[0m\u001b[0;34m.\u001b[0m\u001b[0mcount\u001b[0m\u001b[0;34m(\u001b[0m\u001b[0;34m)\u001b[0m\u001b[0;34m\u001b[0m\u001b[0;34m\u001b[0m\u001b[0m\n\u001b[1;32m      5\u001b[0m     \u001b[0mdf_tmp\u001b[0m \u001b[0;34m=\u001b[0m \u001b[0mdf_pred\u001b[0m\u001b[0;34m.\u001b[0m\u001b[0mfilter\u001b[0m\u001b[0;34m(\u001b[0m\u001b[0;34m'prediction == collision_severity_index'\u001b[0m\u001b[0;34m)\u001b[0m\u001b[0;34m\u001b[0m\u001b[0;34m\u001b[0m\u001b[0m\n\u001b[0;32m----> 6\u001b[0;31m     \u001b[0macc\u001b[0m \u001b[0;34m=\u001b[0m \u001b[0mdf_tmp\u001b[0m\u001b[0;34m.\u001b[0m\u001b[0mcount\u001b[0m\u001b[0;34m(\u001b[0m\u001b[0;34m)\u001b[0m\u001b[0;34m\u001b[0m\u001b[0;34m\u001b[0m\u001b[0m\n\u001b[0m\u001b[1;32m      7\u001b[0m     \u001b[0macc\u001b[0m \u001b[0;34m=\u001b[0m \u001b[0macc\u001b[0m \u001b[0;34m/\u001b[0m \u001b[0mln_count\u001b[0m\u001b[0;34m\u001b[0m\u001b[0;34m\u001b[0m\u001b[0m\n\u001b[1;32m      8\u001b[0m     \u001b[0mprint\u001b[0m\u001b[0;34m(\u001b[0m\u001b[0;34m\"Accuracy:\"\u001b[0m\u001b[0;34m,\u001b[0m \u001b[0macc\u001b[0m\u001b[0;34m)\u001b[0m\u001b[0;34m\u001b[0m\u001b[0;34m\u001b[0m\u001b[0m\n",
      "\u001b[0;32m/opt/spark/python/pyspark/sql/dataframe.py\u001b[0m in \u001b[0;36mcount\u001b[0;34m(self)\u001b[0m\n\u001b[1;32m    583\u001b[0m         \u001b[0;36m2\u001b[0m\u001b[0;34m\u001b[0m\u001b[0;34m\u001b[0m\u001b[0m\n\u001b[1;32m    584\u001b[0m         \"\"\"\n\u001b[0;32m--> 585\u001b[0;31m         \u001b[0;32mreturn\u001b[0m \u001b[0mint\u001b[0m\u001b[0;34m(\u001b[0m\u001b[0mself\u001b[0m\u001b[0;34m.\u001b[0m\u001b[0m_jdf\u001b[0m\u001b[0;34m.\u001b[0m\u001b[0mcount\u001b[0m\u001b[0;34m(\u001b[0m\u001b[0;34m)\u001b[0m\u001b[0;34m)\u001b[0m\u001b[0;34m\u001b[0m\u001b[0;34m\u001b[0m\u001b[0m\n\u001b[0m\u001b[1;32m    586\u001b[0m \u001b[0;34m\u001b[0m\u001b[0m\n\u001b[1;32m    587\u001b[0m     \u001b[0;34m@\u001b[0m\u001b[0mignore_unicode_prefix\u001b[0m\u001b[0;34m\u001b[0m\u001b[0;34m\u001b[0m\u001b[0m\n",
      "\u001b[0;32m/opt/spark/python/lib/py4j-0.10.9-src.zip/py4j/java_gateway.py\u001b[0m in \u001b[0;36m__call__\u001b[0;34m(self, *args)\u001b[0m\n\u001b[1;32m   1302\u001b[0m \u001b[0;34m\u001b[0m\u001b[0m\n\u001b[1;32m   1303\u001b[0m         \u001b[0manswer\u001b[0m \u001b[0;34m=\u001b[0m \u001b[0mself\u001b[0m\u001b[0;34m.\u001b[0m\u001b[0mgateway_client\u001b[0m\u001b[0;34m.\u001b[0m\u001b[0msend_command\u001b[0m\u001b[0;34m(\u001b[0m\u001b[0mcommand\u001b[0m\u001b[0;34m)\u001b[0m\u001b[0;34m\u001b[0m\u001b[0;34m\u001b[0m\u001b[0m\n\u001b[0;32m-> 1304\u001b[0;31m         return_value = get_return_value(\n\u001b[0m\u001b[1;32m   1305\u001b[0m             answer, self.gateway_client, self.target_id, self.name)\n\u001b[1;32m   1306\u001b[0m \u001b[0;34m\u001b[0m\u001b[0m\n",
      "\u001b[0;32m/opt/spark/python/pyspark/sql/utils.py\u001b[0m in \u001b[0;36mdeco\u001b[0;34m(*a, **kw)\u001b[0m\n\u001b[1;32m    126\u001b[0m     \u001b[0;32mdef\u001b[0m \u001b[0mdeco\u001b[0m\u001b[0;34m(\u001b[0m\u001b[0;34m*\u001b[0m\u001b[0ma\u001b[0m\u001b[0;34m,\u001b[0m \u001b[0;34m**\u001b[0m\u001b[0mkw\u001b[0m\u001b[0;34m)\u001b[0m\u001b[0;34m:\u001b[0m\u001b[0;34m\u001b[0m\u001b[0;34m\u001b[0m\u001b[0m\n\u001b[1;32m    127\u001b[0m         \u001b[0;32mtry\u001b[0m\u001b[0;34m:\u001b[0m\u001b[0;34m\u001b[0m\u001b[0;34m\u001b[0m\u001b[0m\n\u001b[0;32m--> 128\u001b[0;31m             \u001b[0;32mreturn\u001b[0m \u001b[0mf\u001b[0m\u001b[0;34m(\u001b[0m\u001b[0;34m*\u001b[0m\u001b[0ma\u001b[0m\u001b[0;34m,\u001b[0m \u001b[0;34m**\u001b[0m\u001b[0mkw\u001b[0m\u001b[0;34m)\u001b[0m\u001b[0;34m\u001b[0m\u001b[0;34m\u001b[0m\u001b[0m\n\u001b[0m\u001b[1;32m    129\u001b[0m         \u001b[0;32mexcept\u001b[0m \u001b[0mpy4j\u001b[0m\u001b[0;34m.\u001b[0m\u001b[0mprotocol\u001b[0m\u001b[0;34m.\u001b[0m\u001b[0mPy4JJavaError\u001b[0m \u001b[0;32mas\u001b[0m \u001b[0me\u001b[0m\u001b[0;34m:\u001b[0m\u001b[0;34m\u001b[0m\u001b[0;34m\u001b[0m\u001b[0m\n\u001b[1;32m    130\u001b[0m             \u001b[0mconverted\u001b[0m \u001b[0;34m=\u001b[0m \u001b[0mconvert_exception\u001b[0m\u001b[0;34m(\u001b[0m\u001b[0me\u001b[0m\u001b[0;34m.\u001b[0m\u001b[0mjava_exception\u001b[0m\u001b[0;34m)\u001b[0m\u001b[0;34m\u001b[0m\u001b[0;34m\u001b[0m\u001b[0m\n",
      "\u001b[0;32m/opt/spark/python/lib/py4j-0.10.9-src.zip/py4j/protocol.py\u001b[0m in \u001b[0;36mget_return_value\u001b[0;34m(answer, gateway_client, target_id, name)\u001b[0m\n\u001b[1;32m    332\u001b[0m                     format(target_id, \".\", name, value))\n\u001b[1;32m    333\u001b[0m         \u001b[0;32melse\u001b[0m\u001b[0;34m:\u001b[0m\u001b[0;34m\u001b[0m\u001b[0;34m\u001b[0m\u001b[0m\n\u001b[0;32m--> 334\u001b[0;31m             raise Py4JError(\n\u001b[0m\u001b[1;32m    335\u001b[0m                 \u001b[0;34m\"An error occurred while calling {0}{1}{2}\"\u001b[0m\u001b[0;34m.\u001b[0m\u001b[0;34m\u001b[0m\u001b[0;34m\u001b[0m\u001b[0m\n\u001b[1;32m    336\u001b[0m                 format(target_id, \".\", name))\n",
      "\u001b[0;31mPy4JError\u001b[0m: An error occurred while calling o605.count"
     ]
    }
   ],
   "source": [
    "accuracy = showPerformanceOnTest(df_preds, default_p, line_total)\n",
    "accuracy"
   ]
  }
 ],
 "metadata": {
  "kernelspec": {
   "display_name": "PySpark",
   "language": "python",
   "name": "pyspark"
  },
  "language_info": {
   "codemirror_mode": {
    "name": "ipython",
    "version": 3
   },
   "file_extension": ".py",
   "mimetype": "text/x-python",
   "name": "python",
   "nbconvert_exporter": "python",
   "pygments_lexer": "ipython3",
   "version": "3.8.5"
  }
 },
 "nbformat": 4,
 "nbformat_minor": 5
}
