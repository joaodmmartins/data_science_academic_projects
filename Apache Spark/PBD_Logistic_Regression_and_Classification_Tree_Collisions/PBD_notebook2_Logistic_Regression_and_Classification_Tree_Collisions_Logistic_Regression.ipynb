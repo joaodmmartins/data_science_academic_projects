{
 "cells": [
  {
   "cell_type": "markdown",
   "id": "wound-champagne",
   "metadata": {},
   "source": [
    "# Group Assignment PBD PL1 - Multinomial Logistic Regression & Decision Tree Classifier\n",
    "## Book 2 of 3: Multinomial Logistic Regression\n"
   ]
  },
  {
   "cell_type": "markdown",
   "id": "narrative-defeat",
   "metadata": {},
   "source": [
    "Authors:\n",
    "\n",
    "Catarina Castanheira Nº 92478\n",
    "\n",
    "João Martins Nº 93259\n",
    "\n",
    "Joel Paula Nº 93392\n"
   ]
  },
  {
   "cell_type": "markdown",
   "id": "hired-dragon",
   "metadata": {},
   "source": [
    "\n",
    "Read small dataset from parquet filet."
   ]
  },
  {
   "cell_type": "code",
   "execution_count": 1,
   "id": "typical-soundtrack",
   "metadata": {},
   "outputs": [],
   "source": [
    "spark.conf.set(\"spark.sql.repl.eagerEval.enabled\",True) # pretty print tables\n",
    "df = spark.read.format(\"parquet\").load(\"collisions_clean\")"
   ]
  },
  {
   "cell_type": "code",
   "execution_count": 2,
   "id": "aquatic-toyota",
   "metadata": {},
   "outputs": [
    {
     "name": "stdout",
     "output_type": "stream",
     "text": [
      "root\n",
      " |-- jurisdiction: string (nullable = true)\n",
      " |-- chp_shift: string (nullable = true)\n",
      " |-- population: string (nullable = true)\n",
      " |-- county_city_location: string (nullable = true)\n",
      " |-- special_condition: string (nullable = true)\n",
      " |-- beat_type: string (nullable = true)\n",
      " |-- chp_beat_type: string (nullable = true)\n",
      " |-- city_division_lapd: string (nullable = true)\n",
      " |-- chp_beat_class: string (nullable = true)\n",
      " |-- beat_number: string (nullable = true)\n",
      " |-- primary_road: string (nullable = true)\n",
      " |-- secondary_road: string (nullable = true)\n",
      " |-- distance: double (nullable = true)\n",
      " |-- direction: string (nullable = true)\n",
      " |-- intersection: long (nullable = true)\n",
      " |-- weather_1: string (nullable = true)\n",
      " |-- weather_2: string (nullable = true)\n",
      " |-- state_highway_indicator: long (nullable = true)\n",
      " |-- caltrans_county: string (nullable = true)\n",
      " |-- caltrans_district: string (nullable = true)\n",
      " |-- state_route: string (nullable = true)\n",
      " |-- route_suffix: string (nullable = true)\n",
      " |-- postmile_prefix: string (nullable = true)\n",
      " |-- postmile: string (nullable = true)\n",
      " |-- location_type: string (nullable = true)\n",
      " |-- ramp_intersection: string (nullable = true)\n",
      " |-- side_of_highway: string (nullable = true)\n",
      " |-- tow_away: long (nullable = true)\n",
      " |-- collision_severity: string (nullable = true)\n",
      " |-- killed_victims: long (nullable = true)\n",
      " |-- injured_victims: long (nullable = true)\n",
      " |-- party_count: long (nullable = true)\n",
      " |-- primary_collision_factor: string (nullable = true)\n",
      " |-- pcf_violation_code: string (nullable = true)\n",
      " |-- pcf_violation_category: string (nullable = true)\n",
      " |-- pcf_violation: string (nullable = true)\n",
      " |-- pcf_violation_subsection: string (nullable = true)\n",
      " |-- hit_and_run: string (nullable = true)\n",
      " |-- type_of_collision: string (nullable = true)\n",
      " |-- motor_vehicle_involved_with: string (nullable = true)\n",
      " |-- pedestrian_action: string (nullable = true)\n",
      " |-- road_surface: string (nullable = true)\n",
      " |-- road_condition_1: string (nullable = true)\n",
      " |-- road_condition_2: string (nullable = true)\n",
      " |-- lighting: string (nullable = true)\n",
      " |-- control_device: string (nullable = true)\n",
      " |-- chp_road_type: string (nullable = true)\n",
      " |-- pedestrian_collision: long (nullable = true)\n",
      " |-- bicycle_collision: long (nullable = true)\n",
      " |-- motorcycle_collision: long (nullable = true)\n",
      " |-- truck_collision: long (nullable = true)\n",
      " |-- alcohol_involved: long (nullable = true)\n",
      " |-- statewide_vehicle_type_at_fault: string (nullable = true)\n",
      " |-- chp_vehicle_type_at_fault: string (nullable = true)\n",
      " |-- severe_injury_count: long (nullable = true)\n",
      " |-- other_visible_injury_count: long (nullable = true)\n",
      " |-- complaint_of_pain_injury_count: long (nullable = true)\n",
      " |-- pedestrian_killed_count: long (nullable = true)\n",
      " |-- pedestrian_injured_count: long (nullable = true)\n",
      " |-- bicyclist_killed_count: long (nullable = true)\n",
      " |-- bicyclist_injured_count: long (nullable = true)\n",
      " |-- motorcyclist_killed_count: long (nullable = true)\n",
      " |-- motorcyclist_injured_count: long (nullable = true)\n",
      " |-- collision_date: string (nullable = true)\n",
      " |-- collision_time: string (nullable = true)\n",
      "\n"
     ]
    }
   ],
   "source": [
    "df.printSchema()"
   ]
  },
  {
   "cell_type": "code",
   "execution_count": 3,
   "id": "scientific-municipality",
   "metadata": {},
   "outputs": [
    {
     "data": {
      "text/html": [
       "<table border='1'>\n",
       "<tr><th>jurisdiction</th><th>chp_shift</th><th>population</th><th>county_city_location</th><th>special_condition</th><th>beat_type</th><th>chp_beat_type</th><th>city_division_lapd</th><th>chp_beat_class</th><th>beat_number</th><th>primary_road</th><th>secondary_road</th><th>distance</th><th>direction</th><th>intersection</th><th>weather_1</th><th>weather_2</th><th>state_highway_indicator</th><th>caltrans_county</th><th>caltrans_district</th><th>state_route</th><th>route_suffix</th><th>postmile_prefix</th><th>postmile</th><th>location_type</th><th>ramp_intersection</th><th>side_of_highway</th><th>tow_away</th><th>collision_severity</th><th>killed_victims</th><th>injured_victims</th><th>party_count</th><th>primary_collision_factor</th><th>pcf_violation_code</th><th>pcf_violation_category</th><th>pcf_violation</th><th>pcf_violation_subsection</th><th>hit_and_run</th><th>type_of_collision</th><th>motor_vehicle_involved_with</th><th>pedestrian_action</th><th>road_surface</th><th>road_condition_1</th><th>road_condition_2</th><th>lighting</th><th>control_device</th><th>chp_road_type</th><th>pedestrian_collision</th><th>bicycle_collision</th><th>motorcycle_collision</th><th>truck_collision</th><th>alcohol_involved</th><th>statewide_vehicle_type_at_fault</th><th>chp_vehicle_type_at_fault</th><th>severe_injury_count</th><th>other_visible_injury_count</th><th>complaint_of_pain_injury_count</th><th>pedestrian_killed_count</th><th>pedestrian_injured_count</th><th>bicyclist_killed_count</th><th>bicyclist_injured_count</th><th>motorcyclist_killed_count</th><th>motorcyclist_injured_count</th><th>collision_date</th><th>collision_time</th></tr>\n",
       "<tr><td>9495</td><td>1</td><td>9</td><td>1600</td><td>0</td><td>1</td><td>interstate</td><td>Not Stated</td><td>chp other</td><td>004</td><td>RT 5</td><td>RT 41</td><td>2640.0</td><td>south</td><td>0</td><td>cloudy</td><td>Not Stated</td><td>1</td><td>KIN</td><td>6</td><td>5</td><td>Not Stated</td><td>Not Stated</td><td>16.07</td><td>highway</td><td>Not Stated</td><td>northbound</td><td>1</td><td>property damage only</td><td>0</td><td>0</td><td>2</td><td>vehicle code viol...</td><td>Not Stated</td><td>improper turning</td><td>22107</td><td>Not Stated</td><td>not hit and run</td><td>sideswipe</td><td>other motor vehicle</td><td>no pedestrian inv...</td><td>dry</td><td>normal</td><td>Not Stated</td><td>daylight</td><td>none</td><td>1</td><td>0</td><td>0</td><td>0</td><td>1</td><td>0</td><td>passenger car</td><td>07</td><td>0</td><td>0</td><td>0</td><td>0</td><td>0</td><td>0</td><td>0</td><td>0</td><td>0</td><td>2008-01-07</td><td>11:04:00</td></tr>\n",
       "<tr><td>9265</td><td>1</td><td>9</td><td>3900</td><td>1</td><td>3</td><td>county road area</td><td>Not Stated</td><td>chp other</td><td>010</td><td>KAISER RD</td><td>MARIPOSA RD</td><td>1584.0</td><td>north</td><td>0</td><td>clear</td><td>Not Stated</td><td>0</td><td>Not Stated</td><td>Not Stated</td><td>Not Stated</td><td>Not Stated</td><td>Not Stated</td><td>Not Stated</td><td>Not Stated</td><td>Not Stated</td><td>Not Stated</td><td>0</td><td>property damage only</td><td>0</td><td>0</td><td>1</td><td>other than driver</td><td>Not Stated</td><td>other than driver...</td><td>Not Stated</td><td>Not Stated</td><td>not hit and run</td><td>hit object</td><td>other object</td><td>no pedestrian inv...</td><td>wet</td><td>other</td><td>Not Stated</td><td>dark with no stre...</td><td>none</td><td>0</td><td>0</td><td>0</td><td>0</td><td>0</td><td>0</td><td>Not Stated</td><td>Not Stated</td><td>0</td><td>0</td><td>0</td><td>0</td><td>0</td><td>0</td><td>0</td><td>0</td><td>0</td><td>2008-01-07</td><td>06:50:00</td></tr>\n",
       "<tr><td>4807</td><td>5</td><td>6</td><td>4807</td><td>0</td><td>0</td><td>not chp</td><td>Not Stated</td><td>not chp</td><td>006</td><td>MISSISSIPPI ST</td><td>SACRAMENTO ST</td><td>114.0</td><td>east</td><td>0</td><td>clear</td><td>Not Stated</td><td>0</td><td>Not Stated</td><td>Not Stated</td><td>Not Stated</td><td>Not Stated</td><td>Not Stated</td><td>Not Stated</td><td>Not Stated</td><td>Not Stated</td><td>Not Stated</td><td>0</td><td>property damage only</td><td>0</td><td>0</td><td>2</td><td>vehicle code viol...</td><td>Not Stated</td><td>dui</td><td>23152</td><td>A</td><td>not hit and run</td><td>sideswipe</td><td>parked motor vehicle</td><td>no pedestrian inv...</td><td>dry</td><td>normal</td><td>Not Stated</td><td>dark with street ...</td><td>none</td><td>0</td><td>0</td><td>0</td><td>0</td><td>0</td><td>0</td><td>Not Stated</td><td>Not Stated</td><td>0</td><td>0</td><td>0</td><td>0</td><td>0</td><td>0</td><td>0</td><td>0</td><td>0</td><td>2008-01-15</td><td>23:30:00</td></tr>\n",
       "<tr><td>9725</td><td>2</td><td>9</td><td>4300</td><td>0</td><td>1</td><td>state route</td><td>Not Stated</td><td>chp primary</td><td>160</td><td>RT 152</td><td>FERGUSON RD</td><td>280.0</td><td>west</td><td>0</td><td>Not Stated</td><td>Not Stated</td><td>1</td><td>SCL</td><td>4</td><td>152</td><td>Not Stated</td><td>Not Stated</td><td>12.76</td><td>highway</td><td>Not Stated</td><td>westbound</td><td>0</td><td>property damage only</td><td>0</td><td>0</td><td>2</td><td>vehicle code viol...</td><td>Not Stated</td><td>improper turning</td><td>22107</td><td>Not Stated</td><td>not hit and run</td><td>broadside</td><td>other motor vehicle</td><td>no pedestrian inv...</td><td>Not Stated</td><td>Not Stated</td><td>Not Stated</td><td>Not Stated</td><td>functioning</td><td>0</td><td>0</td><td>0</td><td>0</td><td>1</td><td>0</td><td>Not Stated</td><td>Not Stated</td><td>0</td><td>0</td><td>0</td><td>0</td><td>0</td><td>0</td><td>0</td><td>0</td><td>0</td><td>2008-01-04</td><td>14:45:00</td></tr>\n",
       "<tr><td>3000</td><td>5</td><td>4</td><td>3021</td><td>0</td><td>0</td><td>not chp</td><td>Not Stated</td><td>not chp</td><td>023</td><td>BEACH BL</td><td>CHAPMAN</td><td>0.0</td><td>Not Stated</td><td>1</td><td>clear</td><td>Not Stated</td><td>1</td><td>ORA</td><td>12</td><td>39</td><td>Not Stated</td><td>Not Stated</td><td>9.671</td><td>intersection</td><td>5</td><td>northbound</td><td>1</td><td>pain</td><td>0</td><td>2</td><td>2</td><td>vehicle code viol...</td><td>Not Stated</td><td>traffic signals a...</td><td>21453</td><td>A</td><td>not hit and run</td><td>Not Stated</td><td>other motor vehicle</td><td>no pedestrian inv...</td><td>dry</td><td>normal</td><td>Not Stated</td><td>daylight</td><td>functioning</td><td>0</td><td>0</td><td>0</td><td>0</td><td>0</td><td>0</td><td>passenger car</td><td>01</td><td>0</td><td>0</td><td>2</td><td>0</td><td>0</td><td>0</td><td>0</td><td>0</td><td>0</td><td>2008-01-01</td><td>12:40:00</td></tr>\n",
       "<tr><td>9450</td><td>1</td><td>9</td><td>2000</td><td>0</td><td>1</td><td>state route</td><td>Not Stated</td><td>chp other</td><td>012</td><td>RT 99</td><td>AVENUE 24 1/2</td><td>550.0</td><td>north</td><td>0</td><td>cloudy</td><td>Not Stated</td><td>1</td><td>MAD</td><td>6</td><td>99</td><td>Not Stated</td><td>Not Stated</td><td>24.53</td><td>highway</td><td>Not Stated</td><td>northbound</td><td>1</td><td>property damage only</td><td>0</td><td>0</td><td>1</td><td>other than driver</td><td>Not Stated</td><td>other than driver...</td><td>Not Stated</td><td>Not Stated</td><td>not hit and run</td><td>hit object</td><td>other object</td><td>no pedestrian inv...</td><td>wet</td><td>normal</td><td>Not Stated</td><td>daylight</td><td>none</td><td>1</td><td>0</td><td>0</td><td>0</td><td>0</td><td>0</td><td>Not Stated</td><td>Not Stated</td><td>0</td><td>0</td><td>0</td><td>0</td><td>0</td><td>0</td><td>0</td><td>0</td><td>0</td><td>2008-01-04</td><td>09:21:00</td></tr>\n",
       "<tr><td>9580</td><td>1</td><td>7</td><td>1942</td><td>0</td><td>1</td><td>us highway</td><td>Not Stated</td><td>chp other</td><td>102</td><td>RT 101</td><td>HASKELL AV</td><td>215.0</td><td>north</td><td>0</td><td>clear</td><td>Not Stated</td><td>1</td><td>LA</td><td>7</td><td>101</td><td>Not Stated</td><td>Not Stated</td><td>17.535</td><td>ramp</td><td>3</td><td>northbound</td><td>1</td><td>pain</td><td>0</td><td>1</td><td>1</td><td>vehicle code viol...</td><td>Not Stated</td><td>speeding</td><td>22350</td><td>Not Stated</td><td>not hit and run</td><td>hit object</td><td>fixed object</td><td>no pedestrian inv...</td><td>dry</td><td>normal</td><td>Not Stated</td><td>daylight</td><td>none</td><td>1</td><td>0</td><td>0</td><td>0</td><td>0</td><td>0</td><td>pickup or panel t...</td><td>22</td><td>0</td><td>0</td><td>1</td><td>0</td><td>0</td><td>0</td><td>0</td><td>0</td><td>0</td><td>2008-01-02</td><td>12:35:00</td></tr>\n",
       "<tr><td>9865</td><td>4</td><td>9</td><td>3600</td><td>0</td><td>1</td><td>state route</td><td>Not Stated</td><td>chp primary</td><td>011</td><td>RT 18</td><td>PINE AV</td><td>528.0</td><td>south</td><td>0</td><td>clear</td><td>Not Stated</td><td>1</td><td>SBD</td><td>8</td><td>18</td><td>Not Stated</td><td>Not Stated</td><td>22.73</td><td>highway</td><td>Not Stated</td><td>northbound</td><td>0</td><td>property damage only</td><td>0</td><td>0</td><td>2</td><td>vehicle code viol...</td><td>Not Stated</td><td>unsafe starting o...</td><td>22106</td><td>Not Stated</td><td>misdemeanor</td><td>other</td><td>parked motor vehicle</td><td>no pedestrian inv...</td><td>dry</td><td>normal</td><td>Not Stated</td><td>dark with no stre...</td><td>none</td><td>0</td><td>0</td><td>0</td><td>0</td><td>0</td><td>0</td><td>Not Stated</td><td>Not Stated</td><td>0</td><td>0</td><td>0</td><td>0</td><td>0</td><td>0</td><td>0</td><td>0</td><td>0</td><td>2008-01-01</td><td>Not Stated</td></tr>\n",
       "<tr><td>9335</td><td>1</td><td>7</td><td>3801</td><td>0</td><td>1</td><td>interstate</td><td>Not Stated</td><td>chp other</td><td>022</td><td>RT 280</td><td>GENEVA AV</td><td>500.0</td><td>south</td><td>0</td><td>raining</td><td>Not Stated</td><td>1</td><td>SF</td><td>4</td><td>280</td><td>Not Stated</td><td>R</td><td>1.47</td><td>highway</td><td>Not Stated</td><td>northbound</td><td>1</td><td>pain</td><td>0</td><td>2</td><td>4</td><td>vehicle code viol...</td><td>Not Stated</td><td>speeding</td><td>22350</td><td>Not Stated</td><td>not hit and run</td><td>sideswipe</td><td>other motor vehicle</td><td>no pedestrian inv...</td><td>wet</td><td>normal</td><td>Not Stated</td><td>daylight</td><td>none</td><td>1</td><td>0</td><td>0</td><td>0</td><td>0</td><td>0</td><td>passenger car</td><td>01</td><td>0</td><td>0</td><td>2</td><td>0</td><td>0</td><td>0</td><td>0</td><td>0</td><td>0</td><td>2008-01-04</td><td>10:20:00</td></tr>\n",
       "<tr><td>9266</td><td>1</td><td>9</td><td>3900</td><td>0</td><td>1</td><td>interstate</td><td>Not Stated</td><td>chp other</td><td>014</td><td>RT 205</td><td>MOUNTAIN HOUSE PKWY</td><td>2640.0</td><td>west</td><td>0</td><td>cloudy</td><td>raining</td><td>1</td><td>SJ</td><td>10</td><td>205</td><td>Not Stated</td><td>Not Stated</td><td>0.88</td><td>highway</td><td>Not Stated</td><td>eastbound</td><td>0</td><td>property damage only</td><td>0</td><td>0</td><td>1</td><td>vehicle code viol...</td><td>Not Stated</td><td>speeding</td><td>22350</td><td>Not Stated</td><td>not hit and run</td><td>hit object</td><td>fixed object</td><td>no pedestrian inv...</td><td>wet</td><td>normal</td><td>Not Stated</td><td>daylight</td><td>none</td><td>1</td><td>0</td><td>0</td><td>0</td><td>0</td><td>0</td><td>pickup or panel t...</td><td>22</td><td>0</td><td>0</td><td>0</td><td>0</td><td>0</td><td>0</td><td>0</td><td>0</td><td>0</td><td>2008-01-04</td><td>12:05:00</td></tr>\n",
       "<tr><td>9420</td><td>2</td><td>9</td><td>1500</td><td>0</td><td>3</td><td>county road area</td><td>Not Stated</td><td>chp other</td><td>040</td><td>ROUND MOUNTAIN RD</td><td>CHINA GRADE LOOP</td><td>4752.0</td><td>east</td><td>0</td><td>cloudy</td><td>Not Stated</td><td>0</td><td>Not Stated</td><td>Not Stated</td><td>Not Stated</td><td>Not Stated</td><td>Not Stated</td><td>Not Stated</td><td>Not Stated</td><td>Not Stated</td><td>Not Stated</td><td>1</td><td>property damage only</td><td>0</td><td>0</td><td>1</td><td>vehicle code viol...</td><td>Not Stated</td><td>improper turning</td><td>22107</td><td>Not Stated</td><td>not hit and run</td><td>hit object</td><td>fixed object</td><td>no pedestrian inv...</td><td>wet</td><td>normal</td><td>Not Stated</td><td>dark with no stre...</td><td>none</td><td>0</td><td>0</td><td>0</td><td>0</td><td>0</td><td>0</td><td>passenger car</td><td>01</td><td>0</td><td>0</td><td>0</td><td>0</td><td>0</td><td>0</td><td>0</td><td>0</td><td>0</td><td>2008-01-04</td><td>20:55:00</td></tr>\n",
       "<tr><td>3401</td><td>5</td><td>5</td><td>3401</td><td>0</td><td>0</td><td>not chp</td><td>Not Stated</td><td>not chp</td><td>004</td><td>CLARKSVILLE RD</td><td>WALDEN DR</td><td>18.0</td><td>north</td><td>0</td><td>clear</td><td>Not Stated</td><td>0</td><td>Not Stated</td><td>Not Stated</td><td>Not Stated</td><td>Not Stated</td><td>Not Stated</td><td>Not Stated</td><td>Not Stated</td><td>Not Stated</td><td>Not Stated</td><td>1</td><td>property damage only</td><td>0</td><td>0</td><td>1</td><td>vehicle code viol...</td><td>Not Stated</td><td>improper turning</td><td>22107</td><td>Not Stated</td><td>not hit and run</td><td>hit object</td><td>fixed object</td><td>no pedestrian inv...</td><td>dry</td><td>normal</td><td>Not Stated</td><td>daylight</td><td>none</td><td>0</td><td>0</td><td>0</td><td>0</td><td>0</td><td>0</td><td>passenger car</td><td>01</td><td>0</td><td>0</td><td>0</td><td>0</td><td>0</td><td>0</td><td>0</td><td>0</td><td>0</td><td>2008-01-06</td><td>12:31:00</td></tr>\n",
       "<tr><td>9540</td><td>1</td><td>7</td><td>1942</td><td>0</td><td>1</td><td>interstate</td><td>Not Stated</td><td>chp primary</td><td>503</td><td>RT 5</td><td>RT 14</td><td>1200.0</td><td>south</td><td>0</td><td>clear</td><td>Not Stated</td><td>1</td><td>LA</td><td>7</td><td>5</td><td>Not Stated</td><td>R</td><td>45.35</td><td>highway</td><td>Not Stated</td><td>southbound</td><td>0</td><td>property damage only</td><td>0</td><td>0</td><td>2</td><td>vehicle code viol...</td><td>Not Stated</td><td>following too clo...</td><td>21703</td><td>Not Stated</td><td>not hit and run</td><td>rear end</td><td>other motor vehicle</td><td>no pedestrian inv...</td><td>wet</td><td>normal</td><td>Not Stated</td><td>daylight</td><td>none</td><td>1</td><td>0</td><td>0</td><td>0</td><td>0</td><td>0</td><td>passenger car</td><td>01</td><td>0</td><td>0</td><td>0</td><td>0</td><td>0</td><td>0</td><td>0</td><td>0</td><td>0</td><td>2008-01-07</td><td>06:40:00</td></tr>\n",
       "<tr><td>9245</td><td>2</td><td>9</td><td>0900</td><td>0</td><td>2</td><td>county road line</td><td>Not Stated</td><td>chp other</td><td>011</td><td>GREEN VALLEY RD</td><td>LOTUS RD</td><td>2640.0</td><td>east</td><td>0</td><td>cloudy</td><td>raining</td><td>0</td><td>Not Stated</td><td>Not Stated</td><td>Not Stated</td><td>Not Stated</td><td>Not Stated</td><td>Not Stated</td><td>Not Stated</td><td>Not Stated</td><td>Not Stated</td><td>1</td><td>pain</td><td>0</td><td>1</td><td>1</td><td>vehicle code viol...</td><td>Not Stated</td><td>speeding</td><td>22350</td><td>Not Stated</td><td>not hit and run</td><td>overturned</td><td>non-collision</td><td>no pedestrian inv...</td><td>wet</td><td>normal</td><td>Not Stated</td><td>dark with no stre...</td><td>none</td><td>0</td><td>0</td><td>0</td><td>0</td><td>0</td><td>0</td><td>pickup or panel t...</td><td>22</td><td>0</td><td>0</td><td>1</td><td>0</td><td>0</td><td>0</td><td>0</td><td>0</td><td>0</td><td>2008-01-04</td><td>21:00:00</td></tr>\n",
       "<tr><td>107</td><td>5</td><td>5</td><td>0107</td><td>0</td><td>0</td><td>not chp</td><td>Not Stated</td><td>not chp</td><td>M63</td><td>INDUSTRIAL WY</td><td>PRESTON AV</td><td>0.0</td><td>Not Stated</td><td>1</td><td>cloudy</td><td>raining</td><td>0</td><td>Not Stated</td><td>Not Stated</td><td>Not Stated</td><td>Not Stated</td><td>Not Stated</td><td>Not Stated</td><td>Not Stated</td><td>Not Stated</td><td>Not Stated</td><td>0</td><td>property damage only</td><td>0</td><td>0</td><td>2</td><td>vehicle code viol...</td><td>Not Stated</td><td>speeding</td><td>22350</td><td>Not Stated</td><td>not hit and run</td><td>sideswipe</td><td>other motor vehicle</td><td>no pedestrian inv...</td><td>wet</td><td>normal</td><td>Not Stated</td><td>daylight</td><td>none</td><td>0</td><td>0</td><td>0</td><td>0</td><td>0</td><td>0</td><td>passenger car</td><td>01</td><td>0</td><td>0</td><td>0</td><td>0</td><td>0</td><td>0</td><td>0</td><td>0</td><td>0</td><td>2008-01-03</td><td>15:21:00</td></tr>\n",
       "<tr><td>9420</td><td>1</td><td>6</td><td>1502</td><td>1</td><td>4</td><td>safety services p...</td><td>Not Stated</td><td>chp other</td><td>901</td><td>OLIVE DR</td><td>CALLOWAY DR</td><td>60.0</td><td>east</td><td>0</td><td>clear</td><td>Not Stated</td><td>0</td><td>Not Stated</td><td>Not Stated</td><td>Not Stated</td><td>Not Stated</td><td>Not Stated</td><td>Not Stated</td><td>Not Stated</td><td>Not Stated</td><td>Not Stated</td><td>0</td><td>property damage only</td><td>0</td><td>0</td><td>2</td><td>vehicle code viol...</td><td>Not Stated</td><td>speeding</td><td>22350</td><td>Not Stated</td><td>not hit and run</td><td>sideswipe</td><td>other motor vehicle</td><td>no pedestrian inv...</td><td>dry</td><td>normal</td><td>Not Stated</td><td>daylight</td><td>functioning</td><td>0</td><td>0</td><td>0</td><td>0</td><td>0</td><td>0</td><td>schoolbus</td><td>13</td><td>0</td><td>0</td><td>0</td><td>0</td><td>0</td><td>0</td><td>0</td><td>0</td><td>0</td><td>2008-01-16</td><td>13:40:00</td></tr>\n",
       "<tr><td>9340</td><td>1</td><td>7</td><td>4313</td><td>0</td><td>1</td><td>interstate</td><td>Not Stated</td><td>chp other</td><td>281</td><td>RT 280</td><td>3RD ST</td><td>473.0</td><td>south</td><td>0</td><td>cloudy</td><td>raining</td><td>1</td><td>SCL</td><td>4</td><td>280</td><td>Not Stated</td><td>R</td><td>1.7</td><td>highway</td><td>Not Stated</td><td>northbound</td><td>1</td><td>other injury</td><td>0</td><td>3</td><td>3</td><td>vehicle code viol...</td><td>Not Stated</td><td>improper turning</td><td>22107</td><td>Not Stated</td><td>not hit and run</td><td>rear end</td><td>other motor vehicle</td><td>no pedestrian inv...</td><td>wet</td><td>normal</td><td>Not Stated</td><td>daylight</td><td>none</td><td>1</td><td>0</td><td>0</td><td>0</td><td>0</td><td>0</td><td>passenger car</td><td>01</td><td>0</td><td>1</td><td>2</td><td>0</td><td>0</td><td>0</td><td>0</td><td>0</td><td>0</td><td>2008-01-05</td><td>13:04:00</td></tr>\n",
       "<tr><td>9340</td><td>2</td><td>7</td><td>4313</td><td>0</td><td>1</td><td>us highway</td><td>Not Stated</td><td>chp other</td><td>110</td><td>RT 101</td><td>MCKEE RD</td><td>2000.0</td><td>north</td><td>0</td><td>cloudy</td><td>raining</td><td>1</td><td>SCL</td><td>4</td><td>101</td><td>Not Stated</td><td>Not Stated</td><td>36.52</td><td>highway</td><td>Not Stated</td><td>southbound</td><td>0</td><td>property damage only</td><td>0</td><td>0</td><td>2</td><td>vehicle code viol...</td><td>Not Stated</td><td>speeding</td><td>22350</td><td>Not Stated</td><td>not hit and run</td><td>rear end</td><td>other motor vehicle</td><td>no pedestrian inv...</td><td>wet</td><td>normal</td><td>Not Stated</td><td>daylight</td><td>none</td><td>1</td><td>0</td><td>0</td><td>0</td><td>0</td><td>0</td><td>passenger car</td><td>01</td><td>0</td><td>0</td><td>0</td><td>0</td><td>0</td><td>0</td><td>0</td><td>0</td><td>0</td><td>2008-01-05</td><td>14:15:00</td></tr>\n",
       "<tr><td>9345</td><td>1</td><td>4</td><td>0108</td><td>0</td><td>1</td><td>state route</td><td>Not Stated</td><td>chp primary</td><td>184</td><td>RT 84</td><td>SAN MATEO COUNTY ...</td><td>200.0</td><td>north</td><td>0</td><td>cloudy</td><td>wind</td><td>1</td><td>ALA</td><td>4</td><td>84</td><td>Not Stated</td><td>R</td><td>0.04</td><td>highway</td><td>Not Stated</td><td>southbound</td><td>1</td><td>property damage only</td><td>0</td><td>0</td><td>3</td><td>vehicle code viol...</td><td>Not Stated</td><td>unsafe lane change</td><td>21658</td><td>A</td><td>not hit and run</td><td>sideswipe</td><td>other motor vehicle</td><td>no pedestrian inv...</td><td>dry</td><td>normal</td><td>Not Stated</td><td>daylight</td><td>none</td><td>4</td><td>0</td><td>0</td><td>0</td><td>0</td><td>0</td><td>passenger car</td><td>01</td><td>0</td><td>0</td><td>0</td><td>0</td><td>0</td><td>0</td><td>0</td><td>0</td><td>0</td><td>2008-01-08</td><td>09:55:00</td></tr>\n",
       "<tr><td>5600</td><td>5</td><td>6</td><td>5607</td><td>0</td><td>0</td><td>not chp</td><td>Not Stated</td><td>not chp</td><td>Not Stated</td><td>OLSEN RD</td><td>SUNSET HILLS BL</td><td>75.0</td><td>west</td><td>0</td><td>raining</td><td>Not Stated</td><td>0</td><td>Not Stated</td><td>Not Stated</td><td>Not Stated</td><td>Not Stated</td><td>Not Stated</td><td>Not Stated</td><td>Not Stated</td><td>Not Stated</td><td>Not Stated</td><td>1</td><td>property damage only</td><td>0</td><td>0</td><td>1</td><td>vehicle code viol...</td><td>Not Stated</td><td>speeding</td><td>22350</td><td>Not Stated</td><td>not hit and run</td><td>hit object</td><td>fixed object</td><td>no pedestrian inv...</td><td>wet</td><td>normal</td><td>Not Stated</td><td>daylight</td><td>functioning</td><td>0</td><td>0</td><td>0</td><td>0</td><td>0</td><td>0</td><td>passenger car</td><td>01</td><td>0</td><td>0</td><td>0</td><td>0</td><td>0</td><td>0</td><td>0</td><td>0</td><td>0</td><td>2008-01-04</td><td>15:07:00</td></tr>\n",
       "</table>\n",
       "only showing top 20 rows\n"
      ],
      "text/plain": [
       "+------------+---------+----------+--------------------+-----------------+---------+--------------------+------------------+--------------+-----------+-----------------+--------------------+--------+----------+------------+----------+----------+-----------------------+---------------+-----------------+-----------+------------+---------------+----------+-------------+-----------------+---------------+--------+--------------------+--------------+---------------+-----------+------------------------+------------------+----------------------+-------------+------------------------+---------------+-----------------+---------------------------+--------------------+------------+----------------+----------------+--------------------+--------------+-------------+--------------------+-----------------+--------------------+---------------+----------------+-------------------------------+-------------------------+-------------------+--------------------------+------------------------------+-----------------------+------------------------+----------------------+-----------------------+-------------------------+--------------------------+--------------+--------------+\n",
       "|jurisdiction|chp_shift|population|county_city_location|special_condition|beat_type|       chp_beat_type|city_division_lapd|chp_beat_class|beat_number|     primary_road|      secondary_road|distance| direction|intersection| weather_1| weather_2|state_highway_indicator|caltrans_county|caltrans_district|state_route|route_suffix|postmile_prefix|  postmile|location_type|ramp_intersection|side_of_highway|tow_away|  collision_severity|killed_victims|injured_victims|party_count|primary_collision_factor|pcf_violation_code|pcf_violation_category|pcf_violation|pcf_violation_subsection|    hit_and_run|type_of_collision|motor_vehicle_involved_with|   pedestrian_action|road_surface|road_condition_1|road_condition_2|            lighting|control_device|chp_road_type|pedestrian_collision|bicycle_collision|motorcycle_collision|truck_collision|alcohol_involved|statewide_vehicle_type_at_fault|chp_vehicle_type_at_fault|severe_injury_count|other_visible_injury_count|complaint_of_pain_injury_count|pedestrian_killed_count|pedestrian_injured_count|bicyclist_killed_count|bicyclist_injured_count|motorcyclist_killed_count|motorcyclist_injured_count|collision_date|collision_time|\n",
       "+------------+---------+----------+--------------------+-----------------+---------+--------------------+------------------+--------------+-----------+-----------------+--------------------+--------+----------+------------+----------+----------+-----------------------+---------------+-----------------+-----------+------------+---------------+----------+-------------+-----------------+---------------+--------+--------------------+--------------+---------------+-----------+------------------------+------------------+----------------------+-------------+------------------------+---------------+-----------------+---------------------------+--------------------+------------+----------------+----------------+--------------------+--------------+-------------+--------------------+-----------------+--------------------+---------------+----------------+-------------------------------+-------------------------+-------------------+--------------------------+------------------------------+-----------------------+------------------------+----------------------+-----------------------+-------------------------+--------------------------+--------------+--------------+\n",
       "|        9495|        1|         9|                1600|                0|        1|          interstate|        Not Stated|     chp other|        004|             RT 5|               RT 41|  2640.0|     south|           0|    cloudy|Not Stated|                      1|            KIN|                6|          5|  Not Stated|     Not Stated|     16.07|      highway|       Not Stated|     northbound|       1|property damage only|             0|              0|          2|    vehicle code viol...|        Not Stated|      improper turning|        22107|              Not Stated|not hit and run|        sideswipe|        other motor vehicle|no pedestrian inv...|         dry|          normal|      Not Stated|            daylight|          none|            1|                   0|                0|                   0|              1|               0|                  passenger car|                       07|                  0|                         0|                             0|                      0|                       0|                     0|                      0|                        0|                         0|    2008-01-07|      11:04:00|\n",
       "|        9265|        1|         9|                3900|                1|        3|    county road area|        Not Stated|     chp other|        010|        KAISER RD|         MARIPOSA RD|  1584.0|     north|           0|     clear|Not Stated|                      0|     Not Stated|       Not Stated| Not Stated|  Not Stated|     Not Stated|Not Stated|   Not Stated|       Not Stated|     Not Stated|       0|property damage only|             0|              0|          1|       other than driver|        Not Stated|  other than driver...|   Not Stated|              Not Stated|not hit and run|       hit object|               other object|no pedestrian inv...|         wet|           other|      Not Stated|dark with no stre...|          none|            0|                   0|                0|                   0|              0|               0|                     Not Stated|               Not Stated|                  0|                         0|                             0|                      0|                       0|                     0|                      0|                        0|                         0|    2008-01-07|      06:50:00|\n",
       "|        4807|        5|         6|                4807|                0|        0|             not chp|        Not Stated|       not chp|        006|   MISSISSIPPI ST|       SACRAMENTO ST|   114.0|      east|           0|     clear|Not Stated|                      0|     Not Stated|       Not Stated| Not Stated|  Not Stated|     Not Stated|Not Stated|   Not Stated|       Not Stated|     Not Stated|       0|property damage only|             0|              0|          2|    vehicle code viol...|        Not Stated|                   dui|        23152|                       A|not hit and run|        sideswipe|       parked motor vehicle|no pedestrian inv...|         dry|          normal|      Not Stated|dark with street ...|          none|            0|                   0|                0|                   0|              0|               0|                     Not Stated|               Not Stated|                  0|                         0|                             0|                      0|                       0|                     0|                      0|                        0|                         0|    2008-01-15|      23:30:00|\n",
       "|        9725|        2|         9|                4300|                0|        1|         state route|        Not Stated|   chp primary|        160|           RT 152|         FERGUSON RD|   280.0|      west|           0|Not Stated|Not Stated|                      1|            SCL|                4|        152|  Not Stated|     Not Stated|     12.76|      highway|       Not Stated|      westbound|       0|property damage only|             0|              0|          2|    vehicle code viol...|        Not Stated|      improper turning|        22107|              Not Stated|not hit and run|        broadside|        other motor vehicle|no pedestrian inv...|  Not Stated|      Not Stated|      Not Stated|          Not Stated|   functioning|            0|                   0|                0|                   0|              1|               0|                     Not Stated|               Not Stated|                  0|                         0|                             0|                      0|                       0|                     0|                      0|                        0|                         0|    2008-01-04|      14:45:00|\n",
       "|        3000|        5|         4|                3021|                0|        0|             not chp|        Not Stated|       not chp|        023|         BEACH BL|             CHAPMAN|     0.0|Not Stated|           1|     clear|Not Stated|                      1|            ORA|               12|         39|  Not Stated|     Not Stated|     9.671| intersection|                5|     northbound|       1|                pain|             0|              2|          2|    vehicle code viol...|        Not Stated|  traffic signals a...|        21453|                       A|not hit and run|       Not Stated|        other motor vehicle|no pedestrian inv...|         dry|          normal|      Not Stated|            daylight|   functioning|            0|                   0|                0|                   0|              0|               0|                  passenger car|                       01|                  0|                         0|                             2|                      0|                       0|                     0|                      0|                        0|                         0|    2008-01-01|      12:40:00|\n",
       "|        9450|        1|         9|                2000|                0|        1|         state route|        Not Stated|     chp other|        012|            RT 99|       AVENUE 24 1/2|   550.0|     north|           0|    cloudy|Not Stated|                      1|            MAD|                6|         99|  Not Stated|     Not Stated|     24.53|      highway|       Not Stated|     northbound|       1|property damage only|             0|              0|          1|       other than driver|        Not Stated|  other than driver...|   Not Stated|              Not Stated|not hit and run|       hit object|               other object|no pedestrian inv...|         wet|          normal|      Not Stated|            daylight|          none|            1|                   0|                0|                   0|              0|               0|                     Not Stated|               Not Stated|                  0|                         0|                             0|                      0|                       0|                     0|                      0|                        0|                         0|    2008-01-04|      09:21:00|\n",
       "|        9580|        1|         7|                1942|                0|        1|          us highway|        Not Stated|     chp other|        102|           RT 101|          HASKELL AV|   215.0|     north|           0|     clear|Not Stated|                      1|             LA|                7|        101|  Not Stated|     Not Stated|    17.535|         ramp|                3|     northbound|       1|                pain|             0|              1|          1|    vehicle code viol...|        Not Stated|              speeding|        22350|              Not Stated|not hit and run|       hit object|               fixed object|no pedestrian inv...|         dry|          normal|      Not Stated|            daylight|          none|            1|                   0|                0|                   0|              0|               0|           pickup or panel t...|                       22|                  0|                         0|                             1|                      0|                       0|                     0|                      0|                        0|                         0|    2008-01-02|      12:35:00|\n",
       "|        9865|        4|         9|                3600|                0|        1|         state route|        Not Stated|   chp primary|        011|            RT 18|             PINE AV|   528.0|     south|           0|     clear|Not Stated|                      1|            SBD|                8|         18|  Not Stated|     Not Stated|     22.73|      highway|       Not Stated|     northbound|       0|property damage only|             0|              0|          2|    vehicle code viol...|        Not Stated|  unsafe starting o...|        22106|              Not Stated|    misdemeanor|            other|       parked motor vehicle|no pedestrian inv...|         dry|          normal|      Not Stated|dark with no stre...|          none|            0|                   0|                0|                   0|              0|               0|                     Not Stated|               Not Stated|                  0|                         0|                             0|                      0|                       0|                     0|                      0|                        0|                         0|    2008-01-01|    Not Stated|\n",
       "|        9335|        1|         7|                3801|                0|        1|          interstate|        Not Stated|     chp other|        022|           RT 280|           GENEVA AV|   500.0|     south|           0|   raining|Not Stated|                      1|             SF|                4|        280|  Not Stated|              R|      1.47|      highway|       Not Stated|     northbound|       1|                pain|             0|              2|          4|    vehicle code viol...|        Not Stated|              speeding|        22350|              Not Stated|not hit and run|        sideswipe|        other motor vehicle|no pedestrian inv...|         wet|          normal|      Not Stated|            daylight|          none|            1|                   0|                0|                   0|              0|               0|                  passenger car|                       01|                  0|                         0|                             2|                      0|                       0|                     0|                      0|                        0|                         0|    2008-01-04|      10:20:00|\n",
       "|        9266|        1|         9|                3900|                0|        1|          interstate|        Not Stated|     chp other|        014|           RT 205| MOUNTAIN HOUSE PKWY|  2640.0|      west|           0|    cloudy|   raining|                      1|             SJ|               10|        205|  Not Stated|     Not Stated|      0.88|      highway|       Not Stated|      eastbound|       0|property damage only|             0|              0|          1|    vehicle code viol...|        Not Stated|              speeding|        22350|              Not Stated|not hit and run|       hit object|               fixed object|no pedestrian inv...|         wet|          normal|      Not Stated|            daylight|          none|            1|                   0|                0|                   0|              0|               0|           pickup or panel t...|                       22|                  0|                         0|                             0|                      0|                       0|                     0|                      0|                        0|                         0|    2008-01-04|      12:05:00|\n",
       "|        9420|        2|         9|                1500|                0|        3|    county road area|        Not Stated|     chp other|        040|ROUND MOUNTAIN RD|    CHINA GRADE LOOP|  4752.0|      east|           0|    cloudy|Not Stated|                      0|     Not Stated|       Not Stated| Not Stated|  Not Stated|     Not Stated|Not Stated|   Not Stated|       Not Stated|     Not Stated|       1|property damage only|             0|              0|          1|    vehicle code viol...|        Not Stated|      improper turning|        22107|              Not Stated|not hit and run|       hit object|               fixed object|no pedestrian inv...|         wet|          normal|      Not Stated|dark with no stre...|          none|            0|                   0|                0|                   0|              0|               0|                  passenger car|                       01|                  0|                         0|                             0|                      0|                       0|                     0|                      0|                        0|                         0|    2008-01-04|      20:55:00|\n",
       "|        3401|        5|         5|                3401|                0|        0|             not chp|        Not Stated|       not chp|        004|   CLARKSVILLE RD|           WALDEN DR|    18.0|     north|           0|     clear|Not Stated|                      0|     Not Stated|       Not Stated| Not Stated|  Not Stated|     Not Stated|Not Stated|   Not Stated|       Not Stated|     Not Stated|       1|property damage only|             0|              0|          1|    vehicle code viol...|        Not Stated|      improper turning|        22107|              Not Stated|not hit and run|       hit object|               fixed object|no pedestrian inv...|         dry|          normal|      Not Stated|            daylight|          none|            0|                   0|                0|                   0|              0|               0|                  passenger car|                       01|                  0|                         0|                             0|                      0|                       0|                     0|                      0|                        0|                         0|    2008-01-06|      12:31:00|\n",
       "|        9540|        1|         7|                1942|                0|        1|          interstate|        Not Stated|   chp primary|        503|             RT 5|               RT 14|  1200.0|     south|           0|     clear|Not Stated|                      1|             LA|                7|          5|  Not Stated|              R|     45.35|      highway|       Not Stated|     southbound|       0|property damage only|             0|              0|          2|    vehicle code viol...|        Not Stated|  following too clo...|        21703|              Not Stated|not hit and run|         rear end|        other motor vehicle|no pedestrian inv...|         wet|          normal|      Not Stated|            daylight|          none|            1|                   0|                0|                   0|              0|               0|                  passenger car|                       01|                  0|                         0|                             0|                      0|                       0|                     0|                      0|                        0|                         0|    2008-01-07|      06:40:00|\n",
       "|        9245|        2|         9|                0900|                0|        2|    county road line|        Not Stated|     chp other|        011|  GREEN VALLEY RD|            LOTUS RD|  2640.0|      east|           0|    cloudy|   raining|                      0|     Not Stated|       Not Stated| Not Stated|  Not Stated|     Not Stated|Not Stated|   Not Stated|       Not Stated|     Not Stated|       1|                pain|             0|              1|          1|    vehicle code viol...|        Not Stated|              speeding|        22350|              Not Stated|not hit and run|       overturned|              non-collision|no pedestrian inv...|         wet|          normal|      Not Stated|dark with no stre...|          none|            0|                   0|                0|                   0|              0|               0|           pickup or panel t...|                       22|                  0|                         0|                             1|                      0|                       0|                     0|                      0|                        0|                         0|    2008-01-04|      21:00:00|\n",
       "|         107|        5|         5|                0107|                0|        0|             not chp|        Not Stated|       not chp|        M63|    INDUSTRIAL WY|          PRESTON AV|     0.0|Not Stated|           1|    cloudy|   raining|                      0|     Not Stated|       Not Stated| Not Stated|  Not Stated|     Not Stated|Not Stated|   Not Stated|       Not Stated|     Not Stated|       0|property damage only|             0|              0|          2|    vehicle code viol...|        Not Stated|              speeding|        22350|              Not Stated|not hit and run|        sideswipe|        other motor vehicle|no pedestrian inv...|         wet|          normal|      Not Stated|            daylight|          none|            0|                   0|                0|                   0|              0|               0|                  passenger car|                       01|                  0|                         0|                             0|                      0|                       0|                     0|                      0|                        0|                         0|    2008-01-03|      15:21:00|\n",
       "|        9420|        1|         6|                1502|                1|        4|safety services p...|        Not Stated|     chp other|        901|         OLIVE DR|         CALLOWAY DR|    60.0|      east|           0|     clear|Not Stated|                      0|     Not Stated|       Not Stated| Not Stated|  Not Stated|     Not Stated|Not Stated|   Not Stated|       Not Stated|     Not Stated|       0|property damage only|             0|              0|          2|    vehicle code viol...|        Not Stated|              speeding|        22350|              Not Stated|not hit and run|        sideswipe|        other motor vehicle|no pedestrian inv...|         dry|          normal|      Not Stated|            daylight|   functioning|            0|                   0|                0|                   0|              0|               0|                      schoolbus|                       13|                  0|                         0|                             0|                      0|                       0|                     0|                      0|                        0|                         0|    2008-01-16|      13:40:00|\n",
       "|        9340|        1|         7|                4313|                0|        1|          interstate|        Not Stated|     chp other|        281|           RT 280|              3RD ST|   473.0|     south|           0|    cloudy|   raining|                      1|            SCL|                4|        280|  Not Stated|              R|       1.7|      highway|       Not Stated|     northbound|       1|        other injury|             0|              3|          3|    vehicle code viol...|        Not Stated|      improper turning|        22107|              Not Stated|not hit and run|         rear end|        other motor vehicle|no pedestrian inv...|         wet|          normal|      Not Stated|            daylight|          none|            1|                   0|                0|                   0|              0|               0|                  passenger car|                       01|                  0|                         1|                             2|                      0|                       0|                     0|                      0|                        0|                         0|    2008-01-05|      13:04:00|\n",
       "|        9340|        2|         7|                4313|                0|        1|          us highway|        Not Stated|     chp other|        110|           RT 101|            MCKEE RD|  2000.0|     north|           0|    cloudy|   raining|                      1|            SCL|                4|        101|  Not Stated|     Not Stated|     36.52|      highway|       Not Stated|     southbound|       0|property damage only|             0|              0|          2|    vehicle code viol...|        Not Stated|              speeding|        22350|              Not Stated|not hit and run|         rear end|        other motor vehicle|no pedestrian inv...|         wet|          normal|      Not Stated|            daylight|          none|            1|                   0|                0|                   0|              0|               0|                  passenger car|                       01|                  0|                         0|                             0|                      0|                       0|                     0|                      0|                        0|                         0|    2008-01-05|      14:15:00|\n",
       "|        9345|        1|         4|                0108|                0|        1|         state route|        Not Stated|   chp primary|        184|            RT 84|SAN MATEO COUNTY ...|   200.0|     north|           0|    cloudy|      wind|                      1|            ALA|                4|         84|  Not Stated|              R|      0.04|      highway|       Not Stated|     southbound|       1|property damage only|             0|              0|          3|    vehicle code viol...|        Not Stated|    unsafe lane change|        21658|                       A|not hit and run|        sideswipe|        other motor vehicle|no pedestrian inv...|         dry|          normal|      Not Stated|            daylight|          none|            4|                   0|                0|                   0|              0|               0|                  passenger car|                       01|                  0|                         0|                             0|                      0|                       0|                     0|                      0|                        0|                         0|    2008-01-08|      09:55:00|\n",
       "|        5600|        5|         6|                5607|                0|        0|             not chp|        Not Stated|       not chp| Not Stated|         OLSEN RD|     SUNSET HILLS BL|    75.0|      west|           0|   raining|Not Stated|                      0|     Not Stated|       Not Stated| Not Stated|  Not Stated|     Not Stated|Not Stated|   Not Stated|       Not Stated|     Not Stated|       1|property damage only|             0|              0|          1|    vehicle code viol...|        Not Stated|              speeding|        22350|              Not Stated|not hit and run|       hit object|               fixed object|no pedestrian inv...|         wet|          normal|      Not Stated|            daylight|   functioning|            0|                   0|                0|                   0|              0|               0|                  passenger car|                       01|                  0|                         0|                             0|                      0|                       0|                     0|                      0|                        0|                         0|    2008-01-04|      15:07:00|\n",
       "+------------+---------+----------+--------------------+-----------------+---------+--------------------+------------------+--------------+-----------+-----------------+--------------------+--------+----------+------------+----------+----------+-----------------------+---------------+-----------------+-----------+------------+---------------+----------+-------------+-----------------+---------------+--------+--------------------+--------------+---------------+-----------+------------------------+------------------+----------------------+-------------+------------------------+---------------+-----------------+---------------------------+--------------------+------------+----------------+----------------+--------------------+--------------+-------------+--------------------+-----------------+--------------------+---------------+----------------+-------------------------------+-------------------------+-------------------+--------------------------+------------------------------+-----------------------+------------------------+----------------------+-----------------------+-------------------------+--------------------------+--------------+--------------+\n",
       "only showing top 20 rows"
      ]
     },
     "execution_count": 3,
     "metadata": {},
     "output_type": "execute_result"
    }
   ],
   "source": [
    "df.limit(30)"
   ]
  },
  {
   "cell_type": "markdown",
   "id": "asian-luxembourg",
   "metadata": {},
   "source": [
    "Imports we will need for our work."
   ]
  },
  {
   "cell_type": "code",
   "execution_count": 3,
   "id": "close-adoption",
   "metadata": {},
   "outputs": [],
   "source": [
    "from pyspark.ml.feature import VectorAssembler, OneHotEncoder, StringIndexer\n",
    "from pyspark.ml.classification import LogisticRegression\n",
    "from pyspark.ml.evaluation import MulticlassClassificationEvaluator\n",
    "from pyspark.ml.feature import StandardScaler\n",
    "from pyspark.ml import Pipeline"
   ]
  },
  {
   "cell_type": "markdown",
   "id": "immune-convert",
   "metadata": {},
   "source": [
    "Functions we will use for every model."
   ]
  },
  {
   "cell_type": "code",
   "execution_count": 4,
   "id": "sublime-classification",
   "metadata": {},
   "outputs": [],
   "source": [
    "def showModelSummary(trainingSummary):\n",
    "    accuracy = trainingSummary.accuracy\n",
    "    falsePositiveRate = trainingSummary.weightedFalsePositiveRate\n",
    "    truePositiveRate = trainingSummary.weightedTruePositiveRate\n",
    "    fMeasure = trainingSummary.weightedFMeasure()\n",
    "    precision = trainingSummary.weightedPrecision\n",
    "    recall = trainingSummary.weightedRecall\n",
    "    print(\"Accuracy: %s\\nFPR: %s\\nTPR: %s\\nF-measure: %s\\nPrecision: %s\\nRecall: %s\"\n",
    "          % (accuracy, falsePositiveRate, truePositiveRate, fMeasure, precision, recall))\n",
    "\n",
    "def showPerformanceOnTest(df_pred, default_prop):\n",
    "    evaluator = MulticlassClassificationEvaluator(predictionCol=\"prediction\", labelCol=target_var_index)\n",
    "    acc = evaluator.evaluate(df_pred, {evaluator.metricName: \"accuracy\", })\n",
    "    print(\"Accuracy on test set: \", acc)\n",
    "    # Huberty Index\n",
    "    hix = (acc - default_prop)/(1 - default_prop)\n",
    "    print(\"Huberty Index:\", hix)\n",
    "    return acc\n",
    "    # (subsetAccuracy|accuracy|hammingLoss|precision|recall|f1Measure|precisionByLabel|recallByLabel|f1MeasureByLabel|microPrecision|microRecall|microF1Measure)"
   ]
  },
  {
   "cell_type": "markdown",
   "id": "assured-sapphire",
   "metadata": {},
   "source": [
    "Vectorize all features. But for categorical features, we start by indexing them."
   ]
  },
  {
   "cell_type": "code",
   "execution_count": 5,
   "id": "lined-china",
   "metadata": {},
   "outputs": [],
   "source": [
    "target_var = \"collision_severity\"\n",
    "target_var_index = target_var+\"_index\"\n",
    "target_var_ohe = target_var+\"_ohe\"\n",
    "cols = df.columns\n",
    "if target_var in cols:\n",
    "    cols.remove(target_var)\n",
    "\n",
    "col_names_categorical = [col for (col, dataType) in df.dtypes if dataType == 'string' and col != target_var]\n",
    "indexOutputCols = [col+\"_index\" for col in col_names_categorical]\n",
    "oheOutputCols = [x + \"OHE\" for x in col_names_categorical]\n",
    "stringIndexer = StringIndexer(inputCols=col_names_categorical+[target_var], outputCols=indexOutputCols+[target_var_index], handleInvalid=\"skip\")\n",
    "oheEncoder = OneHotEncoder(inputCols=indexOutputCols, outputCols=oheOutputCols)\n",
    "\n",
    "col_names_numerical = [col for col in cols if col not in col_names_categorical] \n",
    "assembler = VectorAssembler(inputCols=oheOutputCols+col_names_numerical, outputCol=\"features\")\n"
   ]
  },
  {
   "cell_type": "markdown",
   "id": "bright-basin",
   "metadata": {},
   "source": [
    "Split train and test sets."
   ]
  },
  {
   "cell_type": "code",
   "execution_count": 6,
   "id": "temporal-spouse",
   "metadata": {},
   "outputs": [
    {
     "data": {
      "text/plain": [
       "[75790, 25418]"
      ]
     },
     "execution_count": 6,
     "metadata": {},
     "output_type": "execute_result"
    }
   ],
   "source": [
    "df_test, df_train = df.randomSplit([0.25,0.75], seed=42)\n",
    "[df_train.count(), df_test.count()]"
   ]
  },
  {
   "cell_type": "code",
   "execution_count": 8,
   "id": "pacific-sally",
   "metadata": {},
   "outputs": [
    {
     "data": {
      "text/html": [
       "<table border='1'>\n",
       "<tr><th>jurisdiction</th><th>chp_shift</th><th>population</th><th>county_city_location</th><th>special_condition</th><th>beat_type</th><th>chp_beat_type</th><th>city_division_lapd</th><th>chp_beat_class</th><th>beat_number</th><th>primary_road</th><th>secondary_road</th><th>distance</th><th>direction</th><th>intersection</th><th>weather_1</th><th>weather_2</th><th>state_highway_indicator</th><th>caltrans_county</th><th>caltrans_district</th><th>state_route</th><th>route_suffix</th><th>postmile_prefix</th><th>postmile</th><th>location_type</th><th>ramp_intersection</th><th>side_of_highway</th><th>tow_away</th><th>collision_severity</th><th>killed_victims</th><th>injured_victims</th><th>party_count</th><th>primary_collision_factor</th><th>pcf_violation_code</th><th>pcf_violation_category</th><th>pcf_violation</th><th>pcf_violation_subsection</th><th>hit_and_run</th><th>type_of_collision</th><th>motor_vehicle_involved_with</th><th>pedestrian_action</th><th>road_surface</th><th>road_condition_1</th><th>road_condition_2</th><th>lighting</th><th>control_device</th><th>chp_road_type</th><th>pedestrian_collision</th><th>bicycle_collision</th><th>motorcycle_collision</th><th>truck_collision</th><th>alcohol_involved</th><th>statewide_vehicle_type_at_fault</th><th>chp_vehicle_type_at_fault</th><th>severe_injury_count</th><th>other_visible_injury_count</th><th>complaint_of_pain_injury_count</th><th>pedestrian_killed_count</th><th>pedestrian_injured_count</th><th>bicyclist_killed_count</th><th>bicyclist_injured_count</th><th>motorcyclist_killed_count</th><th>motorcyclist_injured_count</th><th>collision_date</th><th>collision_time</th></tr>\n",
       "<tr><td>100</td><td>5</td><td>4</td><td>0198</td><td>0</td><td>0</td><td>not chp</td><td>Not Stated</td><td>not chp</td><td>2074</td><td>DUBLIN BL</td><td>CAMP PARKS BL</td><td>0.0</td><td>Not Stated</td><td>1</td><td>clear</td><td>Not Stated</td><td>0</td><td>Not Stated</td><td>Not Stated</td><td>Not Stated</td><td>Not Stated</td><td>Not Stated</td><td>Not Stated</td><td>Not Stated</td><td>Not Stated</td><td>Not Stated</td><td>0</td><td>pain</td><td>0</td><td>1</td><td>2</td><td>vehicle code viol...</td><td>Not Stated</td><td>automobile right ...</td><td>21453</td><td>C</td><td>not hit and run</td><td>broadside</td><td>bicycle</td><td>no pedestrian inv...</td><td>dry</td><td>normal</td><td>Not Stated</td><td>daylight</td><td>functioning</td><td>0</td><td>0</td><td>1</td><td>0</td><td>0</td><td>0</td><td>Not Stated</td><td>Not Stated</td><td>0</td><td>0</td><td>1</td><td>0</td><td>0</td><td>0</td><td>1</td><td>0</td><td>0</td><td>2004-06-08</td><td>16:25:00</td></tr>\n",
       "<tr><td>100</td><td>5</td><td>4</td><td>0198</td><td>0</td><td>0</td><td>not chp</td><td>Not Stated</td><td>not chp</td><td>DPS</td><td>BLOOMINGTON WY</td><td>BLOOMINGTON WY 11478</td><td>0.0</td><td>Not Stated</td><td>2</td><td>clear</td><td>Not Stated</td><td>0</td><td>Not Stated</td><td>Not Stated</td><td>Not Stated</td><td>Not Stated</td><td>Not Stated</td><td>Not Stated</td><td>Not Stated</td><td>Not Stated</td><td>Not Stated</td><td>0</td><td>severe injury</td><td>0</td><td>1</td><td>2</td><td>vehicle code viol...</td><td>Not Stated</td><td>improper turning</td><td>22103</td><td>Not Stated</td><td>not hit and run</td><td>broadside</td><td>other motor vehicle</td><td>no pedestrian inv...</td><td>dry</td><td>normal</td><td>Not Stated</td><td>daylight</td><td>none</td><td>0</td><td>0</td><td>0</td><td>1</td><td>0</td><td>0</td><td>passenger car</td><td>Not Stated</td><td>1</td><td>0</td><td>0</td><td>0</td><td>0</td><td>0</td><td>0</td><td>0</td><td>1</td><td>2003-05-11</td><td>11:30:00</td></tr>\n",
       "<tr><td>100</td><td>5</td><td>4</td><td>0198</td><td>0</td><td>0</td><td>not chp</td><td>Not Stated</td><td>not chp</td><td>DUBLIN</td><td>DUBLIN BL</td><td>AMADOR PLAZA RD</td><td>400.0</td><td>east</td><td>0</td><td>clear</td><td>Not Stated</td><td>0</td><td>Not Stated</td><td>Not Stated</td><td>Not Stated</td><td>Not Stated</td><td>Not Stated</td><td>Not Stated</td><td>Not Stated</td><td>Not Stated</td><td>Not Stated</td><td>0</td><td>property damage only</td><td>0</td><td>0</td><td>2</td><td>unknown</td><td>Not Stated</td><td>unknown</td><td>Not Stated</td><td>Not Stated</td><td>misdemeanor</td><td>rear end</td><td>other motor vehicle</td><td>no pedestrian inv...</td><td>dry</td><td>normal</td><td>Not Stated</td><td>daylight</td><td>none</td><td>0</td><td>0</td><td>0</td><td>0</td><td>0</td><td>0</td><td>Not Stated</td><td>Not Stated</td><td>0</td><td>0</td><td>0</td><td>0</td><td>0</td><td>0</td><td>0</td><td>0</td><td>0</td><td>2007-10-18</td><td>14:10:00</td></tr>\n",
       "<tr><td>100</td><td>5</td><td>4</td><td>0198</td><td>0</td><td>0</td><td>not chp</td><td>Not Stated</td><td>not chp</td><td>NOVALU</td><td>DUBLIN BL</td><td>INSPIRATION DR</td><td>5.0</td><td>west</td><td>0</td><td>clear</td><td>Not Stated</td><td>0</td><td>Not Stated</td><td>Not Stated</td><td>Not Stated</td><td>Not Stated</td><td>Not Stated</td><td>Not Stated</td><td>Not Stated</td><td>Not Stated</td><td>Not Stated</td><td>1</td><td>property damage only</td><td>0</td><td>0</td><td>2</td><td>vehicle code viol...</td><td>Not Stated</td><td>speeding</td><td>22350</td><td>Not Stated</td><td>not hit and run</td><td>rear end</td><td>other motor vehicle</td><td>no pedestrian inv...</td><td>dry</td><td>normal</td><td>Not Stated</td><td>daylight</td><td>functioning</td><td>0</td><td>0</td><td>0</td><td>0</td><td>0</td><td>0</td><td>passenger car</td><td>01</td><td>0</td><td>0</td><td>0</td><td>0</td><td>0</td><td>0</td><td>0</td><td>0</td><td>0</td><td>2019-03-17</td><td>07:44:00</td></tr>\n",
       "<tr><td>100</td><td>5</td><td>4</td><td>0198</td><td>0</td><td>0</td><td>not chp</td><td>Not Stated</td><td>not chp</td><td>Not Stated</td><td>AMADOR PLAZA BL</td><td>DUBLIN BL</td><td>245.0</td><td>north</td><td>0</td><td>cloudy</td><td>Not Stated</td><td>0</td><td>Not Stated</td><td>Not Stated</td><td>Not Stated</td><td>Not Stated</td><td>Not Stated</td><td>Not Stated</td><td>Not Stated</td><td>Not Stated</td><td>Not Stated</td><td>1</td><td>property damage only</td><td>0</td><td>0</td><td>2</td><td>vehicle code viol...</td><td>Not Stated</td><td>automobile right ...</td><td>21804</td><td>A</td><td>not hit and run</td><td>broadside</td><td>other motor vehicle</td><td>no pedestrian inv...</td><td>dry</td><td>Not Stated</td><td>Not Stated</td><td>daylight</td><td>none</td><td>0</td><td>0</td><td>0</td><td>0</td><td>0</td><td>0</td><td>passenger car wit...</td><td>01</td><td>0</td><td>0</td><td>0</td><td>0</td><td>0</td><td>0</td><td>0</td><td>0</td><td>0</td><td>2012-03-25</td><td>13:33:00</td></tr>\n",
       "<tr><td>100</td><td>5</td><td>4</td><td>0198</td><td>0</td><td>0</td><td>not chp</td><td>Not Stated</td><td>not chp</td><td>Not Stated</td><td>BETLEN DR</td><td>PROW WY</td><td>32.0</td><td>south</td><td>0</td><td>clear</td><td>Not Stated</td><td>0</td><td>Not Stated</td><td>Not Stated</td><td>Not Stated</td><td>Not Stated</td><td>Not Stated</td><td>Not Stated</td><td>Not Stated</td><td>Not Stated</td><td>Not Stated</td><td>1</td><td>property damage only</td><td>0</td><td>0</td><td>1</td><td>vehicle code viol...</td><td>Not Stated</td><td>improper turning</td><td>22107</td><td>Not Stated</td><td>not hit and run</td><td>hit object</td><td>fixed object</td><td>no pedestrian inv...</td><td>dry</td><td>normal</td><td>Not Stated</td><td>daylight</td><td>none</td><td>0</td><td>0</td><td>0</td><td>0</td><td>0</td><td>0</td><td>passenger car</td><td>01</td><td>0</td><td>0</td><td>0</td><td>0</td><td>0</td><td>0</td><td>0</td><td>0</td><td>0</td><td>2016-08-02</td><td>10:58:00</td></tr>\n",
       "<tr><td>100</td><td>5</td><td>4</td><td>0198</td><td>0</td><td>0</td><td>not chp</td><td>Not Stated</td><td>not chp</td><td>Not Stated</td><td>DOUGHERTY RD</td><td>AMADOR VALLEY BL</td><td>161.0</td><td>south</td><td>0</td><td>clear</td><td>Not Stated</td><td>0</td><td>Not Stated</td><td>Not Stated</td><td>Not Stated</td><td>Not Stated</td><td>Not Stated</td><td>Not Stated</td><td>Not Stated</td><td>Not Stated</td><td>Not Stated</td><td>1</td><td>pain</td><td>0</td><td>1</td><td>2</td><td>vehicle code viol...</td><td>Not Stated</td><td>speeding</td><td>22350</td><td>Not Stated</td><td>not hit and run</td><td>rear end</td><td>other motor vehicle</td><td>no pedestrian inv...</td><td>dry</td><td>normal</td><td>Not Stated</td><td>daylight</td><td>none</td><td>0</td><td>0</td><td>0</td><td>0</td><td>0</td><td>0</td><td>passenger car</td><td>01</td><td>0</td><td>0</td><td>1</td><td>0</td><td>0</td><td>0</td><td>0</td><td>0</td><td>0</td><td>2016-10-31</td><td>11:37:00</td></tr>\n",
       "<tr><td>100</td><td>5</td><td>4</td><td>0198</td><td>0</td><td>0</td><td>not chp</td><td>Not Stated</td><td>not chp</td><td>Not Stated</td><td>DUBLIN BL</td><td>AMADOR PLAZA RD</td><td>130.0</td><td>west</td><td>0</td><td>cloudy</td><td>Not Stated</td><td>0</td><td>Not Stated</td><td>Not Stated</td><td>Not Stated</td><td>Not Stated</td><td>Not Stated</td><td>Not Stated</td><td>Not Stated</td><td>Not Stated</td><td>Not Stated</td><td>0</td><td>pain</td><td>0</td><td>1</td><td>2</td><td>vehicle code viol...</td><td>Not Stated</td><td>unsafe starting o...</td><td>22106</td><td>Not Stated</td><td>not hit and run</td><td>rear end</td><td>other motor vehicle</td><td>no pedestrian inv...</td><td>dry</td><td>normal</td><td>Not Stated</td><td>daylight</td><td>functioning</td><td>0</td><td>0</td><td>0</td><td>0</td><td>0</td><td>0</td><td>passenger car</td><td>07</td><td>0</td><td>0</td><td>1</td><td>0</td><td>0</td><td>0</td><td>0</td><td>0</td><td>0</td><td>2010-05-21</td><td>12:00:00</td></tr>\n",
       "<tr><td>100</td><td>5</td><td>4</td><td>0198</td><td>0</td><td>0</td><td>not chp</td><td>Not Stated</td><td>not chp</td><td>Not Stated</td><td>DUBLIN BL</td><td>SAN RAMON RD</td><td>18.0</td><td>east</td><td>0</td><td>clear</td><td>Not Stated</td><td>0</td><td>Not Stated</td><td>Not Stated</td><td>Not Stated</td><td>Not Stated</td><td>Not Stated</td><td>Not Stated</td><td>Not Stated</td><td>Not Stated</td><td>Not Stated</td><td>0</td><td>property damage only</td><td>0</td><td>0</td><td>1</td><td>vehicle code viol...</td><td>Not Stated</td><td>speeding</td><td>22350</td><td>Not Stated</td><td>not hit and run</td><td>hit object</td><td>fixed object</td><td>no pedestrian inv...</td><td>dry</td><td>normal</td><td>Not Stated</td><td>daylight</td><td>functioning</td><td>0</td><td>0</td><td>0</td><td>0</td><td>0</td><td>0</td><td>passenger car</td><td>01</td><td>0</td><td>0</td><td>0</td><td>0</td><td>0</td><td>0</td><td>0</td><td>0</td><td>0</td><td>2018-07-17</td><td>15:02:00</td></tr>\n",
       "<tr><td>100</td><td>5</td><td>4</td><td>0198</td><td>0</td><td>0</td><td>not chp</td><td>Not Stated</td><td>not chp</td><td>Not Stated</td><td>DUBLIN BL</td><td>SCARLETT CT</td><td>47.0</td><td>east</td><td>0</td><td>clear</td><td>Not Stated</td><td>0</td><td>Not Stated</td><td>Not Stated</td><td>Not Stated</td><td>Not Stated</td><td>Not Stated</td><td>Not Stated</td><td>Not Stated</td><td>Not Stated</td><td>Not Stated</td><td>0</td><td>pain</td><td>0</td><td>3</td><td>2</td><td>vehicle code viol...</td><td>Not Stated</td><td>unsafe starting o...</td><td>22106</td><td>Not Stated</td><td>not hit and run</td><td>rear end</td><td>other motor vehicle</td><td>no pedestrian inv...</td><td>dry</td><td>normal</td><td>Not Stated</td><td>daylight</td><td>functioning</td><td>0</td><td>0</td><td>0</td><td>0</td><td>0</td><td>0</td><td>passenger car</td><td>01</td><td>0</td><td>0</td><td>3</td><td>0</td><td>0</td><td>0</td><td>0</td><td>0</td><td>0</td><td>2018-07-23</td><td>14:20:00</td></tr>\n",
       "<tr><td>100</td><td>5</td><td>4</td><td>0198</td><td>0</td><td>0</td><td>not chp</td><td>Not Stated</td><td>not chp</td><td>Not Stated</td><td>LUCANIA ST</td><td>DAVONA DR</td><td>110.0</td><td>south</td><td>0</td><td>clear</td><td>Not Stated</td><td>0</td><td>Not Stated</td><td>Not Stated</td><td>Not Stated</td><td>Not Stated</td><td>Not Stated</td><td>Not Stated</td><td>Not Stated</td><td>Not Stated</td><td>Not Stated</td><td>0</td><td>property damage only</td><td>0</td><td>0</td><td>2</td><td>other improper dr...</td><td>Not Stated</td><td>other improper dr...</td><td>Not Stated</td><td>Not Stated</td><td>misdemeanor</td><td>sideswipe</td><td>parked motor vehicle</td><td>no pedestrian inv...</td><td>dry</td><td>normal</td><td>Not Stated</td><td>daylight</td><td>none</td><td>0</td><td>0</td><td>0</td><td>0</td><td>0</td><td>0</td><td>pickup or panel t...</td><td>22</td><td>0</td><td>0</td><td>0</td><td>0</td><td>0</td><td>0</td><td>0</td><td>0</td><td>0</td><td>2016-05-12</td><td>17:16:00</td></tr>\n",
       "<tr><td>100</td><td>5</td><td>4</td><td>0198</td><td>Not Stated</td><td>0</td><td>not chp</td><td>Not Stated</td><td>not chp</td><td>071</td><td>DONOHUE DR</td><td>HILL ROSE DR</td><td>69.0</td><td>south</td><td>0</td><td>clear</td><td>Not Stated</td><td>0</td><td>Not Stated</td><td>0</td><td>0</td><td>Not Stated</td><td>Not Stated</td><td>0.0</td><td>Not Stated</td><td>8</td><td>Not Stated</td><td>0</td><td>property damage only</td><td>0</td><td>0</td><td>1</td><td>vehicle code viol...</td><td>vehicle</td><td>improper turning</td><td>22107</td><td>Not Stated</td><td>not hit and run</td><td>hit object</td><td>other object</td><td>no pedestrian inv...</td><td>dry</td><td>normal</td><td>Not Stated</td><td>daylight</td><td>none</td><td>0</td><td>0</td><td>0</td><td>0</td><td>0</td><td>0</td><td>emergency vehicle</td><td>00</td><td>0</td><td>0</td><td>0</td><td>0</td><td>0</td><td>0</td><td>0</td><td>0</td><td>0</td><td>2001-04-22</td><td>17:05:00</td></tr>\n",
       "<tr><td>1000</td><td>5</td><td>2</td><td>1009</td><td>0</td><td>0</td><td>not chp</td><td>Not Stated</td><td>not chp</td><td>2015</td><td>ALY N LOLITA ST</td><td>6TH ST</td><td>168.0</td><td>west</td><td>0</td><td>clear</td><td>Not Stated</td><td>0</td><td>Not Stated</td><td>Not Stated</td><td>Not Stated</td><td>Not Stated</td><td>Not Stated</td><td>Not Stated</td><td>Not Stated</td><td>Not Stated</td><td>Not Stated</td><td>1</td><td>property damage only</td><td>0</td><td>0</td><td>1</td><td>vehicle code viol...</td><td>Not Stated</td><td>Not Stated</td><td>Not Stated</td><td>Not Stated</td><td>misdemeanor</td><td>hit object</td><td>fixed object</td><td>no pedestrian inv...</td><td>dry</td><td>loose material</td><td>Not Stated</td><td>dark with no stre...</td><td>none</td><td>0</td><td>0</td><td>0</td><td>0</td><td>0</td><td>0</td><td>passenger car</td><td>01</td><td>0</td><td>0</td><td>0</td><td>0</td><td>0</td><td>0</td><td>0</td><td>0</td><td>0</td><td>2007-09-01</td><td>07:21:00</td></tr>\n",
       "<tr><td>1000</td><td>5</td><td>2</td><td>1009</td><td>0</td><td>0</td><td>not chp</td><td>Not Stated</td><td>not chp</td><td>2015</td><td>JENNINGS CIR</td><td>JENNINGS ST</td><td>10.0</td><td>north</td><td>0</td><td>clear</td><td>Not Stated</td><td>0</td><td>Not Stated</td><td>Not Stated</td><td>Not Stated</td><td>Not Stated</td><td>Not Stated</td><td>Not Stated</td><td>Not Stated</td><td>Not Stated</td><td>Not Stated</td><td>0</td><td>property damage only</td><td>0</td><td>0</td><td>2</td><td>vehicle code viol...</td><td>Not Stated</td><td>unsafe starting o...</td><td>22106</td><td>Not Stated</td><td>not hit and run</td><td>broadside</td><td>other motor vehicle</td><td>no pedestrian inv...</td><td>dry</td><td>normal</td><td>Not Stated</td><td>dusk or dawn</td><td>none</td><td>0</td><td>0</td><td>0</td><td>0</td><td>0</td><td>0</td><td>Not Stated</td><td>Not Stated</td><td>0</td><td>0</td><td>0</td><td>0</td><td>0</td><td>0</td><td>0</td><td>0</td><td>0</td><td>2008-09-12</td><td>19:16:00</td></tr>\n",
       "<tr><td>1000</td><td>5</td><td>2</td><td>1009</td><td>0</td><td>0</td><td>not chp</td><td>Not Stated</td><td>not chp</td><td>2015</td><td>OLLER ST</td><td>OLLER ST</td><td>0.0</td><td>Not Stated</td><td>2</td><td>clear</td><td>Not Stated</td><td>0</td><td>Not Stated</td><td>Not Stated</td><td>Not Stated</td><td>Not Stated</td><td>Not Stated</td><td>Not Stated</td><td>Not Stated</td><td>Not Stated</td><td>Not Stated</td><td>0</td><td>property damage only</td><td>0</td><td>0</td><td>2</td><td>other improper dr...</td><td>Not Stated</td><td>other improper dr...</td><td>Not Stated</td><td>Not Stated</td><td>misdemeanor</td><td>sideswipe</td><td>parked motor vehicle</td><td>no pedestrian inv...</td><td>dry</td><td>normal</td><td>Not Stated</td><td>dark with street ...</td><td>none</td><td>0</td><td>0</td><td>0</td><td>0</td><td>0</td><td>0</td><td>Not Stated</td><td>Not Stated</td><td>0</td><td>0</td><td>0</td><td>0</td><td>0</td><td>0</td><td>0</td><td>0</td><td>0</td><td>2009-05-12</td><td>23:30:00</td></tr>\n",
       "<tr><td>1001</td><td>5</td><td>5</td><td>1001</td><td>0</td><td>0</td><td>not chp</td><td>Not Stated</td><td>not chp</td><td>001</td><td>GETTYSBURG AV</td><td>VILLA AV</td><td>0.0</td><td>Not Stated</td><td>1</td><td>clear</td><td>Not Stated</td><td>0</td><td>Not Stated</td><td>Not Stated</td><td>Not Stated</td><td>Not Stated</td><td>Not Stated</td><td>Not Stated</td><td>Not Stated</td><td>Not Stated</td><td>Not Stated</td><td>1</td><td>pain</td><td>0</td><td>2</td><td>2</td><td>vehicle code viol...</td><td>Not Stated</td><td>traffic signals a...</td><td>22450</td><td>A</td><td>not hit and run</td><td>broadside</td><td>other motor vehicle</td><td>no pedestrian inv...</td><td>dry</td><td>normal</td><td>Not Stated</td><td>daylight</td><td>functioning</td><td>0</td><td>0</td><td>0</td><td>0</td><td>0</td><td>0</td><td>Not Stated</td><td>Not Stated</td><td>0</td><td>0</td><td>2</td><td>0</td><td>0</td><td>0</td><td>0</td><td>0</td><td>0</td><td>2004-05-16</td><td>17:42:00</td></tr>\n",
       "<tr><td>1001</td><td>5</td><td>5</td><td>1001</td><td>0</td><td>0</td><td>not chp</td><td>Not Stated</td><td>not chp</td><td>001</td><td>W INDIANAPOLIS AV</td><td>PEACH AV</td><td>55.0</td><td>east</td><td>0</td><td>clear</td><td>Not Stated</td><td>0</td><td>Not Stated</td><td>Not Stated</td><td>Not Stated</td><td>Not Stated</td><td>Not Stated</td><td>Not Stated</td><td>Not Stated</td><td>Not Stated</td><td>Not Stated</td><td>0</td><td>property damage only</td><td>0</td><td>0</td><td>2</td><td>vehicle code viol...</td><td>Not Stated</td><td>improper turning</td><td>22107</td><td>Not Stated</td><td>misdemeanor</td><td>sideswipe</td><td>parked motor vehicle</td><td>no pedestrian inv...</td><td>wet</td><td>normal</td><td>Not Stated</td><td>dark with street ...</td><td>none</td><td>0</td><td>0</td><td>0</td><td>0</td><td>0</td><td>0</td><td>pickup or panel t...</td><td>Not Stated</td><td>0</td><td>0</td><td>0</td><td>0</td><td>0</td><td>0</td><td>0</td><td>0</td><td>0</td><td>2004-01-16</td><td>20:31:00</td></tr>\n",
       "<tr><td>1001</td><td>5</td><td>5</td><td>1001</td><td>0</td><td>0</td><td>not chp</td><td>Not Stated</td><td>not chp</td><td>001</td><td>W RIALTO AV</td><td>WINERY AV</td><td>387.0</td><td>east</td><td>0</td><td>Not Stated</td><td>Not Stated</td><td>0</td><td>Not Stated</td><td>Not Stated</td><td>Not Stated</td><td>Not Stated</td><td>Not Stated</td><td>Not Stated</td><td>Not Stated</td><td>Not Stated</td><td>Not Stated</td><td>0</td><td>property damage only</td><td>0</td><td>0</td><td>2</td><td>vehicle code viol...</td><td>Not Stated</td><td>wrong side of road</td><td>21650</td><td>Not Stated</td><td>not hit and run</td><td>sideswipe</td><td>parked motor vehicle</td><td>no pedestrian inv...</td><td>Not Stated</td><td>Not Stated</td><td>Not Stated</td><td>Not Stated</td><td>none</td><td>0</td><td>0</td><td>0</td><td>0</td><td>0</td><td>0</td><td>Not Stated</td><td>Not Stated</td><td>0</td><td>0</td><td>0</td><td>0</td><td>0</td><td>0</td><td>0</td><td>0</td><td>0</td><td>2003-09-08</td><td>05:46:00</td></tr>\n",
       "<tr><td>1001</td><td>5</td><td>5</td><td>1001</td><td>0</td><td>0</td><td>not chp</td><td>Not Stated</td><td>not chp</td><td>002</td><td>BARSTOW AV</td><td>POLLASKY AV</td><td>36.0</td><td>east</td><td>0</td><td>cloudy</td><td>Not Stated</td><td>0</td><td>Not Stated</td><td>Not Stated</td><td>Not Stated</td><td>Not Stated</td><td>Not Stated</td><td>Not Stated</td><td>Not Stated</td><td>Not Stated</td><td>Not Stated</td><td>1</td><td>property damage only</td><td>0</td><td>0</td><td>3</td><td>vehicle code viol...</td><td>Not Stated</td><td>speeding</td><td>22350</td><td>Not Stated</td><td>not hit and run</td><td>rear end</td><td>other motor vehicle</td><td>no pedestrian inv...</td><td>dry</td><td>normal</td><td>Not Stated</td><td>daylight</td><td>none</td><td>0</td><td>0</td><td>0</td><td>0</td><td>0</td><td>0</td><td>passenger car</td><td>01</td><td>0</td><td>0</td><td>0</td><td>0</td><td>0</td><td>0</td><td>0</td><td>0</td><td>0</td><td>2009-12-22</td><td>15:23:00</td></tr>\n",
       "<tr><td>1001</td><td>5</td><td>5</td><td>1001</td><td>0</td><td>0</td><td>not chp</td><td>Not Stated</td><td>not chp</td><td>002</td><td>FOWLER AV</td><td>GETTYSBURG AV</td><td>0.0</td><td>Not Stated</td><td>1</td><td>raining</td><td>Not Stated</td><td>0</td><td>Not Stated</td><td>Not Stated</td><td>Not Stated</td><td>Not Stated</td><td>Not Stated</td><td>Not Stated</td><td>Not Stated</td><td>Not Stated</td><td>Not Stated</td><td>0</td><td>property damage only</td><td>0</td><td>0</td><td>2</td><td>vehicle code viol...</td><td>Not Stated</td><td>automobile right ...</td><td>21802</td><td>A</td><td>not hit and run</td><td>broadside</td><td>bicycle</td><td>no pedestrian inv...</td><td>dry</td><td>normal</td><td>Not Stated</td><td>daylight</td><td>functioning</td><td>0</td><td>0</td><td>1</td><td>0</td><td>0</td><td>1</td><td>passenger car</td><td>01</td><td>0</td><td>0</td><td>0</td><td>0</td><td>0</td><td>0</td><td>0</td><td>0</td><td>0</td><td>2013-07-17</td><td>21:14:00</td></tr>\n",
       "</table>\n",
       "only showing top 20 rows\n"
      ],
      "text/plain": [
       "+------------+---------+----------+--------------------+-----------------+---------+-------------+------------------+--------------+-----------+-----------------+--------------------+--------+----------+------------+----------+----------+-----------------------+---------------+-----------------+-----------+------------+---------------+----------+-------------+-----------------+---------------+--------+--------------------+--------------+---------------+-----------+------------------------+------------------+----------------------+-------------+------------------------+---------------+-----------------+---------------------------+--------------------+------------+----------------+----------------+--------------------+--------------+-------------+--------------------+-----------------+--------------------+---------------+----------------+-------------------------------+-------------------------+-------------------+--------------------------+------------------------------+-----------------------+------------------------+----------------------+-----------------------+-------------------------+--------------------------+--------------+--------------+\n",
       "|jurisdiction|chp_shift|population|county_city_location|special_condition|beat_type|chp_beat_type|city_division_lapd|chp_beat_class|beat_number|     primary_road|      secondary_road|distance| direction|intersection| weather_1| weather_2|state_highway_indicator|caltrans_county|caltrans_district|state_route|route_suffix|postmile_prefix|  postmile|location_type|ramp_intersection|side_of_highway|tow_away|  collision_severity|killed_victims|injured_victims|party_count|primary_collision_factor|pcf_violation_code|pcf_violation_category|pcf_violation|pcf_violation_subsection|    hit_and_run|type_of_collision|motor_vehicle_involved_with|   pedestrian_action|road_surface|road_condition_1|road_condition_2|            lighting|control_device|chp_road_type|pedestrian_collision|bicycle_collision|motorcycle_collision|truck_collision|alcohol_involved|statewide_vehicle_type_at_fault|chp_vehicle_type_at_fault|severe_injury_count|other_visible_injury_count|complaint_of_pain_injury_count|pedestrian_killed_count|pedestrian_injured_count|bicyclist_killed_count|bicyclist_injured_count|motorcyclist_killed_count|motorcyclist_injured_count|collision_date|collision_time|\n",
       "+------------+---------+----------+--------------------+-----------------+---------+-------------+------------------+--------------+-----------+-----------------+--------------------+--------+----------+------------+----------+----------+-----------------------+---------------+-----------------+-----------+------------+---------------+----------+-------------+-----------------+---------------+--------+--------------------+--------------+---------------+-----------+------------------------+------------------+----------------------+-------------+------------------------+---------------+-----------------+---------------------------+--------------------+------------+----------------+----------------+--------------------+--------------+-------------+--------------------+-----------------+--------------------+---------------+----------------+-------------------------------+-------------------------+-------------------+--------------------------+------------------------------+-----------------------+------------------------+----------------------+-----------------------+-------------------------+--------------------------+--------------+--------------+\n",
       "|         100|        5|         4|                0198|                0|        0|      not chp|        Not Stated|       not chp|       2074|        DUBLIN BL|       CAMP PARKS BL|     0.0|Not Stated|           1|     clear|Not Stated|                      0|     Not Stated|       Not Stated| Not Stated|  Not Stated|     Not Stated|Not Stated|   Not Stated|       Not Stated|     Not Stated|       0|                pain|             0|              1|          2|    vehicle code viol...|        Not Stated|  automobile right ...|        21453|                       C|not hit and run|        broadside|                    bicycle|no pedestrian inv...|         dry|          normal|      Not Stated|            daylight|   functioning|            0|                   0|                1|                   0|              0|               0|                     Not Stated|               Not Stated|                  0|                         0|                             1|                      0|                       0|                     0|                      1|                        0|                         0|    2004-06-08|      16:25:00|\n",
       "|         100|        5|         4|                0198|                0|        0|      not chp|        Not Stated|       not chp|        DPS|   BLOOMINGTON WY|BLOOMINGTON WY 11478|     0.0|Not Stated|           2|     clear|Not Stated|                      0|     Not Stated|       Not Stated| Not Stated|  Not Stated|     Not Stated|Not Stated|   Not Stated|       Not Stated|     Not Stated|       0|       severe injury|             0|              1|          2|    vehicle code viol...|        Not Stated|      improper turning|        22103|              Not Stated|not hit and run|        broadside|        other motor vehicle|no pedestrian inv...|         dry|          normal|      Not Stated|            daylight|          none|            0|                   0|                0|                   1|              0|               0|                  passenger car|               Not Stated|                  1|                         0|                             0|                      0|                       0|                     0|                      0|                        0|                         1|    2003-05-11|      11:30:00|\n",
       "|         100|        5|         4|                0198|                0|        0|      not chp|        Not Stated|       not chp|     DUBLIN|        DUBLIN BL|     AMADOR PLAZA RD|   400.0|      east|           0|     clear|Not Stated|                      0|     Not Stated|       Not Stated| Not Stated|  Not Stated|     Not Stated|Not Stated|   Not Stated|       Not Stated|     Not Stated|       0|property damage only|             0|              0|          2|                 unknown|        Not Stated|               unknown|   Not Stated|              Not Stated|    misdemeanor|         rear end|        other motor vehicle|no pedestrian inv...|         dry|          normal|      Not Stated|            daylight|          none|            0|                   0|                0|                   0|              0|               0|                     Not Stated|               Not Stated|                  0|                         0|                             0|                      0|                       0|                     0|                      0|                        0|                         0|    2007-10-18|      14:10:00|\n",
       "|         100|        5|         4|                0198|                0|        0|      not chp|        Not Stated|       not chp|     NOVALU|        DUBLIN BL|      INSPIRATION DR|     5.0|      west|           0|     clear|Not Stated|                      0|     Not Stated|       Not Stated| Not Stated|  Not Stated|     Not Stated|Not Stated|   Not Stated|       Not Stated|     Not Stated|       1|property damage only|             0|              0|          2|    vehicle code viol...|        Not Stated|              speeding|        22350|              Not Stated|not hit and run|         rear end|        other motor vehicle|no pedestrian inv...|         dry|          normal|      Not Stated|            daylight|   functioning|            0|                   0|                0|                   0|              0|               0|                  passenger car|                       01|                  0|                         0|                             0|                      0|                       0|                     0|                      0|                        0|                         0|    2019-03-17|      07:44:00|\n",
       "|         100|        5|         4|                0198|                0|        0|      not chp|        Not Stated|       not chp| Not Stated|  AMADOR PLAZA BL|           DUBLIN BL|   245.0|     north|           0|    cloudy|Not Stated|                      0|     Not Stated|       Not Stated| Not Stated|  Not Stated|     Not Stated|Not Stated|   Not Stated|       Not Stated|     Not Stated|       1|property damage only|             0|              0|          2|    vehicle code viol...|        Not Stated|  automobile right ...|        21804|                       A|not hit and run|        broadside|        other motor vehicle|no pedestrian inv...|         dry|      Not Stated|      Not Stated|            daylight|          none|            0|                   0|                0|                   0|              0|               0|           passenger car wit...|                       01|                  0|                         0|                             0|                      0|                       0|                     0|                      0|                        0|                         0|    2012-03-25|      13:33:00|\n",
       "|         100|        5|         4|                0198|                0|        0|      not chp|        Not Stated|       not chp| Not Stated|        BETLEN DR|             PROW WY|    32.0|     south|           0|     clear|Not Stated|                      0|     Not Stated|       Not Stated| Not Stated|  Not Stated|     Not Stated|Not Stated|   Not Stated|       Not Stated|     Not Stated|       1|property damage only|             0|              0|          1|    vehicle code viol...|        Not Stated|      improper turning|        22107|              Not Stated|not hit and run|       hit object|               fixed object|no pedestrian inv...|         dry|          normal|      Not Stated|            daylight|          none|            0|                   0|                0|                   0|              0|               0|                  passenger car|                       01|                  0|                         0|                             0|                      0|                       0|                     0|                      0|                        0|                         0|    2016-08-02|      10:58:00|\n",
       "|         100|        5|         4|                0198|                0|        0|      not chp|        Not Stated|       not chp| Not Stated|     DOUGHERTY RD|    AMADOR VALLEY BL|   161.0|     south|           0|     clear|Not Stated|                      0|     Not Stated|       Not Stated| Not Stated|  Not Stated|     Not Stated|Not Stated|   Not Stated|       Not Stated|     Not Stated|       1|                pain|             0|              1|          2|    vehicle code viol...|        Not Stated|              speeding|        22350|              Not Stated|not hit and run|         rear end|        other motor vehicle|no pedestrian inv...|         dry|          normal|      Not Stated|            daylight|          none|            0|                   0|                0|                   0|              0|               0|                  passenger car|                       01|                  0|                         0|                             1|                      0|                       0|                     0|                      0|                        0|                         0|    2016-10-31|      11:37:00|\n",
       "|         100|        5|         4|                0198|                0|        0|      not chp|        Not Stated|       not chp| Not Stated|        DUBLIN BL|     AMADOR PLAZA RD|   130.0|      west|           0|    cloudy|Not Stated|                      0|     Not Stated|       Not Stated| Not Stated|  Not Stated|     Not Stated|Not Stated|   Not Stated|       Not Stated|     Not Stated|       0|                pain|             0|              1|          2|    vehicle code viol...|        Not Stated|  unsafe starting o...|        22106|              Not Stated|not hit and run|         rear end|        other motor vehicle|no pedestrian inv...|         dry|          normal|      Not Stated|            daylight|   functioning|            0|                   0|                0|                   0|              0|               0|                  passenger car|                       07|                  0|                         0|                             1|                      0|                       0|                     0|                      0|                        0|                         0|    2010-05-21|      12:00:00|\n",
       "|         100|        5|         4|                0198|                0|        0|      not chp|        Not Stated|       not chp| Not Stated|        DUBLIN BL|        SAN RAMON RD|    18.0|      east|           0|     clear|Not Stated|                      0|     Not Stated|       Not Stated| Not Stated|  Not Stated|     Not Stated|Not Stated|   Not Stated|       Not Stated|     Not Stated|       0|property damage only|             0|              0|          1|    vehicle code viol...|        Not Stated|              speeding|        22350|              Not Stated|not hit and run|       hit object|               fixed object|no pedestrian inv...|         dry|          normal|      Not Stated|            daylight|   functioning|            0|                   0|                0|                   0|              0|               0|                  passenger car|                       01|                  0|                         0|                             0|                      0|                       0|                     0|                      0|                        0|                         0|    2018-07-17|      15:02:00|\n",
       "|         100|        5|         4|                0198|                0|        0|      not chp|        Not Stated|       not chp| Not Stated|        DUBLIN BL|         SCARLETT CT|    47.0|      east|           0|     clear|Not Stated|                      0|     Not Stated|       Not Stated| Not Stated|  Not Stated|     Not Stated|Not Stated|   Not Stated|       Not Stated|     Not Stated|       0|                pain|             0|              3|          2|    vehicle code viol...|        Not Stated|  unsafe starting o...|        22106|              Not Stated|not hit and run|         rear end|        other motor vehicle|no pedestrian inv...|         dry|          normal|      Not Stated|            daylight|   functioning|            0|                   0|                0|                   0|              0|               0|                  passenger car|                       01|                  0|                         0|                             3|                      0|                       0|                     0|                      0|                        0|                         0|    2018-07-23|      14:20:00|\n",
       "|         100|        5|         4|                0198|                0|        0|      not chp|        Not Stated|       not chp| Not Stated|       LUCANIA ST|           DAVONA DR|   110.0|     south|           0|     clear|Not Stated|                      0|     Not Stated|       Not Stated| Not Stated|  Not Stated|     Not Stated|Not Stated|   Not Stated|       Not Stated|     Not Stated|       0|property damage only|             0|              0|          2|    other improper dr...|        Not Stated|  other improper dr...|   Not Stated|              Not Stated|    misdemeanor|        sideswipe|       parked motor vehicle|no pedestrian inv...|         dry|          normal|      Not Stated|            daylight|          none|            0|                   0|                0|                   0|              0|               0|           pickup or panel t...|                       22|                  0|                         0|                             0|                      0|                       0|                     0|                      0|                        0|                         0|    2016-05-12|      17:16:00|\n",
       "|         100|        5|         4|                0198|       Not Stated|        0|      not chp|        Not Stated|       not chp|        071|       DONOHUE DR|        HILL ROSE DR|    69.0|     south|           0|     clear|Not Stated|                      0|     Not Stated|                0|          0|  Not Stated|     Not Stated|       0.0|   Not Stated|                8|     Not Stated|       0|property damage only|             0|              0|          1|    vehicle code viol...|           vehicle|      improper turning|        22107|              Not Stated|not hit and run|       hit object|               other object|no pedestrian inv...|         dry|          normal|      Not Stated|            daylight|          none|            0|                   0|                0|                   0|              0|               0|              emergency vehicle|                       00|                  0|                         0|                             0|                      0|                       0|                     0|                      0|                        0|                         0|    2001-04-22|      17:05:00|\n",
       "|        1000|        5|         2|                1009|                0|        0|      not chp|        Not Stated|       not chp|       2015|  ALY N LOLITA ST|              6TH ST|   168.0|      west|           0|     clear|Not Stated|                      0|     Not Stated|       Not Stated| Not Stated|  Not Stated|     Not Stated|Not Stated|   Not Stated|       Not Stated|     Not Stated|       1|property damage only|             0|              0|          1|    vehicle code viol...|        Not Stated|            Not Stated|   Not Stated|              Not Stated|    misdemeanor|       hit object|               fixed object|no pedestrian inv...|         dry|  loose material|      Not Stated|dark with no stre...|          none|            0|                   0|                0|                   0|              0|               0|                  passenger car|                       01|                  0|                         0|                             0|                      0|                       0|                     0|                      0|                        0|                         0|    2007-09-01|      07:21:00|\n",
       "|        1000|        5|         2|                1009|                0|        0|      not chp|        Not Stated|       not chp|       2015|     JENNINGS CIR|         JENNINGS ST|    10.0|     north|           0|     clear|Not Stated|                      0|     Not Stated|       Not Stated| Not Stated|  Not Stated|     Not Stated|Not Stated|   Not Stated|       Not Stated|     Not Stated|       0|property damage only|             0|              0|          2|    vehicle code viol...|        Not Stated|  unsafe starting o...|        22106|              Not Stated|not hit and run|        broadside|        other motor vehicle|no pedestrian inv...|         dry|          normal|      Not Stated|        dusk or dawn|          none|            0|                   0|                0|                   0|              0|               0|                     Not Stated|               Not Stated|                  0|                         0|                             0|                      0|                       0|                     0|                      0|                        0|                         0|    2008-09-12|      19:16:00|\n",
       "|        1000|        5|         2|                1009|                0|        0|      not chp|        Not Stated|       not chp|       2015|         OLLER ST|            OLLER ST|     0.0|Not Stated|           2|     clear|Not Stated|                      0|     Not Stated|       Not Stated| Not Stated|  Not Stated|     Not Stated|Not Stated|   Not Stated|       Not Stated|     Not Stated|       0|property damage only|             0|              0|          2|    other improper dr...|        Not Stated|  other improper dr...|   Not Stated|              Not Stated|    misdemeanor|        sideswipe|       parked motor vehicle|no pedestrian inv...|         dry|          normal|      Not Stated|dark with street ...|          none|            0|                   0|                0|                   0|              0|               0|                     Not Stated|               Not Stated|                  0|                         0|                             0|                      0|                       0|                     0|                      0|                        0|                         0|    2009-05-12|      23:30:00|\n",
       "|        1001|        5|         5|                1001|                0|        0|      not chp|        Not Stated|       not chp|        001|    GETTYSBURG AV|            VILLA AV|     0.0|Not Stated|           1|     clear|Not Stated|                      0|     Not Stated|       Not Stated| Not Stated|  Not Stated|     Not Stated|Not Stated|   Not Stated|       Not Stated|     Not Stated|       1|                pain|             0|              2|          2|    vehicle code viol...|        Not Stated|  traffic signals a...|        22450|                       A|not hit and run|        broadside|        other motor vehicle|no pedestrian inv...|         dry|          normal|      Not Stated|            daylight|   functioning|            0|                   0|                0|                   0|              0|               0|                     Not Stated|               Not Stated|                  0|                         0|                             2|                      0|                       0|                     0|                      0|                        0|                         0|    2004-05-16|      17:42:00|\n",
       "|        1001|        5|         5|                1001|                0|        0|      not chp|        Not Stated|       not chp|        001|W INDIANAPOLIS AV|            PEACH AV|    55.0|      east|           0|     clear|Not Stated|                      0|     Not Stated|       Not Stated| Not Stated|  Not Stated|     Not Stated|Not Stated|   Not Stated|       Not Stated|     Not Stated|       0|property damage only|             0|              0|          2|    vehicle code viol...|        Not Stated|      improper turning|        22107|              Not Stated|    misdemeanor|        sideswipe|       parked motor vehicle|no pedestrian inv...|         wet|          normal|      Not Stated|dark with street ...|          none|            0|                   0|                0|                   0|              0|               0|           pickup or panel t...|               Not Stated|                  0|                         0|                             0|                      0|                       0|                     0|                      0|                        0|                         0|    2004-01-16|      20:31:00|\n",
       "|        1001|        5|         5|                1001|                0|        0|      not chp|        Not Stated|       not chp|        001|      W RIALTO AV|           WINERY AV|   387.0|      east|           0|Not Stated|Not Stated|                      0|     Not Stated|       Not Stated| Not Stated|  Not Stated|     Not Stated|Not Stated|   Not Stated|       Not Stated|     Not Stated|       0|property damage only|             0|              0|          2|    vehicle code viol...|        Not Stated|    wrong side of road|        21650|              Not Stated|not hit and run|        sideswipe|       parked motor vehicle|no pedestrian inv...|  Not Stated|      Not Stated|      Not Stated|          Not Stated|          none|            0|                   0|                0|                   0|              0|               0|                     Not Stated|               Not Stated|                  0|                         0|                             0|                      0|                       0|                     0|                      0|                        0|                         0|    2003-09-08|      05:46:00|\n",
       "|        1001|        5|         5|                1001|                0|        0|      not chp|        Not Stated|       not chp|        002|       BARSTOW AV|         POLLASKY AV|    36.0|      east|           0|    cloudy|Not Stated|                      0|     Not Stated|       Not Stated| Not Stated|  Not Stated|     Not Stated|Not Stated|   Not Stated|       Not Stated|     Not Stated|       1|property damage only|             0|              0|          3|    vehicle code viol...|        Not Stated|              speeding|        22350|              Not Stated|not hit and run|         rear end|        other motor vehicle|no pedestrian inv...|         dry|          normal|      Not Stated|            daylight|          none|            0|                   0|                0|                   0|              0|               0|                  passenger car|                       01|                  0|                         0|                             0|                      0|                       0|                     0|                      0|                        0|                         0|    2009-12-22|      15:23:00|\n",
       "|        1001|        5|         5|                1001|                0|        0|      not chp|        Not Stated|       not chp|        002|        FOWLER AV|       GETTYSBURG AV|     0.0|Not Stated|           1|   raining|Not Stated|                      0|     Not Stated|       Not Stated| Not Stated|  Not Stated|     Not Stated|Not Stated|   Not Stated|       Not Stated|     Not Stated|       0|property damage only|             0|              0|          2|    vehicle code viol...|        Not Stated|  automobile right ...|        21802|                       A|not hit and run|        broadside|                    bicycle|no pedestrian inv...|         dry|          normal|      Not Stated|            daylight|   functioning|            0|                   0|                1|                   0|              0|               1|                  passenger car|                       01|                  0|                         0|                             0|                      0|                       0|                     0|                      0|                        0|                         0|    2013-07-17|      21:14:00|\n",
       "+------------+---------+----------+--------------------+-----------------+---------+-------------+------------------+--------------+-----------+-----------------+--------------------+--------+----------+------------+----------+----------+-----------------------+---------------+-----------------+-----------+------------+---------------+----------+-------------+-----------------+---------------+--------+--------------------+--------------+---------------+-----------+------------------------+------------------+----------------------+-------------+------------------------+---------------+-----------------+---------------------------+--------------------+------------+----------------+----------------+--------------------+--------------+-------------+--------------------+-----------------+--------------------+---------------+----------------+-------------------------------+-------------------------+-------------------+--------------------------+------------------------------+-----------------------+------------------------+----------------------+-----------------------+-------------------------+--------------------------+--------------+--------------+\n",
       "only showing top 20 rows"
      ]
     },
     "execution_count": 8,
     "metadata": {},
     "output_type": "execute_result"
    }
   ],
   "source": [
    "df_train.cache()\n",
    "df_test.cache()"
   ]
  },
  {
   "cell_type": "markdown",
   "id": "inappropriate-hybrid",
   "metadata": {},
   "source": [
    "Take a look at our indexed target classes."
   ]
  },
  {
   "cell_type": "code",
   "execution_count": 7,
   "id": "honey-delicious",
   "metadata": {},
   "outputs": [
    {
     "data": {
      "text/html": [
       "<div>\n",
       "<style scoped>\n",
       "    .dataframe tbody tr th:only-of-type {\n",
       "        vertical-align: middle;\n",
       "    }\n",
       "\n",
       "    .dataframe tbody tr th {\n",
       "        vertical-align: top;\n",
       "    }\n",
       "\n",
       "    .dataframe thead th {\n",
       "        text-align: right;\n",
       "    }\n",
       "</style>\n",
       "<table border=\"1\" class=\"dataframe\">\n",
       "  <thead>\n",
       "    <tr style=\"text-align: right;\">\n",
       "      <th></th>\n",
       "      <th>collision_severity</th>\n",
       "      <th>count</th>\n",
       "    </tr>\n",
       "  </thead>\n",
       "  <tbody>\n",
       "    <tr>\n",
       "      <th>0</th>\n",
       "      <td>property damage only</td>\n",
       "      <td>15293</td>\n",
       "    </tr>\n",
       "    <tr>\n",
       "      <th>1</th>\n",
       "      <td>pain</td>\n",
       "      <td>6205</td>\n",
       "    </tr>\n",
       "    <tr>\n",
       "      <th>2</th>\n",
       "      <td>other injury</td>\n",
       "      <td>3171</td>\n",
       "    </tr>\n",
       "    <tr>\n",
       "      <th>3</th>\n",
       "      <td>fatal</td>\n",
       "      <td>192</td>\n",
       "    </tr>\n",
       "    <tr>\n",
       "      <th>4</th>\n",
       "      <td>severe injury</td>\n",
       "      <td>557</td>\n",
       "    </tr>\n",
       "  </tbody>\n",
       "</table>\n",
       "</div>"
      ],
      "text/plain": [
       "     collision_severity  count\n",
       "0  property damage only  15293\n",
       "1                  pain   6205\n",
       "2          other injury   3171\n",
       "3                 fatal    192\n",
       "4         severe injury    557"
      ]
     },
     "execution_count": 7,
     "metadata": {},
     "output_type": "execute_result"
    }
   ],
   "source": [
    "dist_coll_sev = df_test.groupBy(\"collision_severity\").count().toPandas()\n",
    "dist_coll_sev"
   ]
  },
  {
   "cell_type": "markdown",
   "id": "consistent-prerequisite",
   "metadata": {},
   "source": [
    "Store default proportion (majority class frequency) for model evaluation later on."
   ]
  },
  {
   "cell_type": "code",
   "execution_count": 8,
   "id": "harmful-navigator",
   "metadata": {},
   "outputs": [],
   "source": [
    "default_p = dist_coll_sev.sort_values([\"count\"], ascending=False).iloc[0,1] / sum(dist_coll_sev[\"count\"])"
   ]
  },
  {
   "cell_type": "markdown",
   "id": "warming-metabolism",
   "metadata": {},
   "source": [
    "Create the Logistic regression model from the train test set. Create the pipeline."
   ]
  },
  {
   "cell_type": "code",
   "execution_count": 11,
   "id": "sought-sender",
   "metadata": {},
   "outputs": [],
   "source": [
    "lr = LogisticRegression(featuresCol='features', labelCol=target_var_index, family=\"multinomial\", maxIter=10, regParam=0.3, elasticNetParam=0.8)\n",
    "\n",
    "pipeline = Pipeline(stages=[stringIndexer, oheEncoder, assembler, lr])\n",
    "\n",
    "# Fit the pipeline to training documents.\n",
    "lrModel = pipeline.fit(df_train)"
   ]
  },
  {
   "cell_type": "markdown",
   "id": "lightweight-mining",
   "metadata": {},
   "source": [
    "Have a look at the performance metrics of the model. Then, apply it to the test set and evaluate again."
   ]
  },
  {
   "cell_type": "code",
   "execution_count": 12,
   "id": "wooden-patrick",
   "metadata": {},
   "outputs": [
    {
     "name": "stdout",
     "output_type": "stream",
     "text": [
      "Accuracy: 0.6273782820952633\n",
      "FPR: 0.5562992517625379\n",
      "TPR: 0.6273782820952631\n",
      "F-measure: 0.5054799152270376\n",
      "Precision: 0.6039998876492404\n",
      "Recall: 0.6273782820952631\n",
      "Accuracy on test set:  0.6212919138724085\n",
      "Huberty Index: 0.04928373993174094\n"
     ]
    }
   ],
   "source": [
    "showModelSummary(lrModel.stages[3].summary)\n",
    "df_preds = lrModel.transform(df_test)\n",
    "accuracy = showPerformanceOnTest(df_preds, default_p)"
   ]
  },
  {
   "cell_type": "markdown",
   "id": "ambient-irish",
   "metadata": {},
   "source": [
    "Let's try a model with only the most promising features (those who have a correlation higher than 0.20 with our target)."
   ]
  },
  {
   "cell_type": "code",
   "execution_count": 9,
   "id": "dramatic-sweet",
   "metadata": {},
   "outputs": [
    {
     "name": "stdout",
     "output_type": "stream",
     "text": [
      "Accuracy: 0.6273123103311783\n",
      "FPR: 0.5568299913634116\n",
      "TPR: 0.6273123103311782\n",
      "F-measure: 0.5052913597018264\n",
      "Precision: 0.6192845099032884\n",
      "Recall: 0.6273123103311782\n",
      "Accuracy on test set:  0.6223935793532143\n",
      "Huberty Index: 0.0520493827160493\n"
     ]
    }
   ],
   "source": [
    "most_promising_features = [\"injured_victims\", \"other_visible_injury_count\", \n",
    "                           \"severe_injury_count\", \"killed_victims\", \"pedestrian_collision\", \n",
    "                           \"tow_away\", \"motorcyclist_injured_count\"]\n",
    "stringIndexer = StringIndexer(inputCols=[target_var], outputCols=[target_var_index], handleInvalid=\"skip\")\n",
    "assembler = VectorAssembler(inputCols=most_promising_features, outputCol=\"mp2_features\")\n",
    "\n",
    "lr = LogisticRegression(featuresCol='mp2_features', labelCol=target_var_index, family=\"multinomial\", maxIter=10, regParam=0.3, elasticNetParam=0.8)\n",
    "\n",
    "pipeline = Pipeline(stages=[stringIndexer, assembler, lr])\n",
    "\n",
    "# Fit the pipeline to training documents.\n",
    "lrModel2 = pipeline.fit(df_train)\n",
    "\n",
    "showModelSummary(lrModel2.stages[2].summary)\n",
    "df_pred = lrModel2.transform(df_test)\n",
    "accuracy = showPerformanceOnTest(df_pred, default_p)"
   ]
  },
  {
   "cell_type": "markdown",
   "id": "third-declaration",
   "metadata": {},
   "source": [
    "We achieved no Accuracy improvement with less variables. \n",
    "\n",
    "Let's try only with variables that have a high correlation with the target variable."
   ]
  },
  {
   "cell_type": "code",
   "execution_count": 10,
   "id": "constitutional-turkey",
   "metadata": {},
   "outputs": [
    {
     "name": "stdout",
     "output_type": "stream",
     "text": [
      "Accuracy: 0.6273123103311783\n",
      "FPR: 0.5568299913634116\n",
      "TPR: 0.6273123103311782\n",
      "F-measure: 0.5052913597018264\n",
      "Precision: 0.6192845099032884\n",
      "Recall: 0.6273123103311782\n",
      "Accuracy on test set:  0.6223935793532143\n",
      "Huberty Index: 0.0520493827160493\n"
     ]
    }
   ],
   "source": [
    "most_promising_features = [\"injured_victims\", \"other_visible_injury_count\", \"severe_injury_count\"]\n",
    "stringIndexer = StringIndexer(inputCols=[target_var], outputCols=[target_var_index], handleInvalid=\"skip\")\n",
    "assembler = VectorAssembler(inputCols=most_promising_features, outputCol=\"mp3_features\")\n",
    "\n",
    "lr = LogisticRegression(featuresCol='mp3_features', labelCol=target_var_index, family=\"multinomial\", maxIter=10, regParam=0.3, elasticNetParam=0.8)\n",
    "\n",
    "\n",
    "pipeline = Pipeline(stages=[stringIndexer, assembler, lr])\n",
    "\n",
    "# Fit the pipeline to training documents.\n",
    "lrModel3 = pipeline.fit(df_train)\n",
    "\n",
    "showModelSummary(lrModel3.stages[2].summary)\n",
    "df_pred = lrModel3.transform(df_test)\n",
    "accuracy = showPerformanceOnTest(df_pred, default_p)"
   ]
  },
  {
   "cell_type": "markdown",
   "id": "sunset-secretary",
   "metadata": {},
   "source": [
    "No improvement achieved."
   ]
  },
  {
   "cell_type": "markdown",
   "id": "serious-addiction",
   "metadata": {},
   "source": [
    "Our prediction model has around 4% improvement over just picking the most common class. Which means it's not a great model."
   ]
  }
 ],
 "metadata": {
  "kernelspec": {
   "display_name": "PySpark",
   "language": "python",
   "name": "pyspark"
  },
  "language_info": {
   "codemirror_mode": {
    "name": "ipython",
    "version": 3
   },
   "file_extension": ".py",
   "mimetype": "text/x-python",
   "name": "python",
   "nbconvert_exporter": "python",
   "pygments_lexer": "ipython3",
   "version": "3.8.5"
  }
 },
 "nbformat": 4,
 "nbformat_minor": 5
}
